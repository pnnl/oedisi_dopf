{
 "cells": [
  {
   "cell_type": "code",
   "execution_count": null,
   "id": "e24a8679-c910-4ce8-bd8d-42d07132e090",
   "metadata": {},
   "outputs": [],
   "source": [
    "# OEDISI: Model Profiling"
   ]
  },
  {
   "cell_type": "code",
   "execution_count": null,
   "id": "88a47f4e-d426-410b-ba74-ff9d8b973afd",
   "metadata": {},
   "outputs": [],
   "source": [
    "import tsgm\n",
    "\n",
    "# ... Define hyperparameters ...\n",
    "# dataset is a tensor of shape n_samples x seq_len x feature_dim\n",
    "dataset = get_energy_data()\n",
    "\n",
    "# Zoo contains several prebuilt architectures: we choose a conditional GAN architecture\n",
    "architecture = tsgm.models.architectures.zoo[\"cgan_base_c4_l1\"](\n",
    "    seq_len=seq_len, feat_dim=feature_dim,\n",
    "    latent_dim=latent_dim, output_dim=0)\n",
    "discriminator, generator = architecture.discriminator, architecture.generator\n",
    "\n",
    "# Initialize GAN object with selected discriminator and generator\n",
    "gan = tsgm.models.cgan.GAN(\n",
    "    discriminator=discriminator, generator=generator, latent_dim=latent_dim\n",
    ")\n",
    "gan.compile(\n",
    "    d_optimizer=keras.optimizers.Adam(learning_rate=0.0003),\n",
    "    g_optimizer=keras.optimizers.Adam(learning_rate=0.0003),\n",
    "    loss_fn=keras.losses.BinaryCrossentropy(from_logits=True),\n",
    ")\n",
    "gan.fit(dataset, epochs=1)\n",
    "\n",
    "# Generate 10 synthetic samples\n",
    "result = gan.generate(10)"
   ]
  }
 ],
 "metadata": {
  "kernelspec": {
   "display_name": "Python 3 (ipykernel)",
   "language": "python",
   "name": "python3"
  },
  "language_info": {
   "codemirror_mode": {
    "name": "ipython",
    "version": 3
   },
   "file_extension": ".py",
   "mimetype": "text/x-python",
   "name": "python",
   "nbconvert_exporter": "python",
   "pygments_lexer": "ipython3",
   "version": "3.12.3"
  }
 },
 "nbformat": 4,
 "nbformat_minor": 5
}
