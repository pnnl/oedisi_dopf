{
 "cells": [
  {
   "cell_type": "markdown",
   "id": "1f3d612b-e411-4ac3-a5e5-eb7e49b46c01",
   "metadata": {},
   "source": [
    "# Linearized Distribution Flow (LinDistFlow) for PV control "
   ]
  },
  {
   "cell_type": "code",
   "execution_count": 209,
   "id": "58855b1c-bb15-473a-9844-449af185a388",
   "metadata": {
    "ExecuteTime": {
     "end_time": "2024-09-12T20:44:59.647931Z",
     "start_time": "2024-09-12T20:44:58.235065Z"
    }
   },
   "outputs": [],
   "source": [
    "import os\n",
    "import json\n",
    "import math\n",
    "from oedisi.types.data_types import MeasurementArray, AdmittanceMatrix, Topology\n",
    "import pyarrow.feather as feather\n",
    "import numpy as np\n",
    "import datetime as dt\n",
    "import matplotlib.pyplot as plt\n",
    "import pandas as pd\n",
    "from pathlib import Path\n",
    "import plotly.express as px\n",
    "import plotly.graph_objects as go\n",
    "from plotly.subplots import make_subplots\n",
    "import glob\n",
    "\n",
    "ROOT = os.getcwd()\n",
    "OUTPUTS = f\"{ROOT}/outputs\"\n",
    "BUILDS = f\"{ROOT}/builds\"\n",
    "SCENARIOS = f\"{ROOT}/scenarios\""
   ]
  },
  {
   "cell_type": "markdown",
   "id": "3d845732-e22e-463a-8979-701c9f9c38c1",
   "metadata": {},
   "source": [
    "## Run OEDISI\n",
    "Each scenario is defined in the following folder structure:\n",
    "- algorithm / model / pv-level / es-level\n",
    "\n",
    "The following shows which scenarios have been generated using one of the algorithm generation scripts"
   ]
  },
  {
   "cell_type": "code",
   "execution_count": 210,
   "id": "d28a2fb5-b7ab-4678-a360-24e76e1e4c3e",
   "metadata": {
    "ExecuteTime": {
     "end_time": "2024-09-12T20:44:59.678661Z",
     "start_time": "2024-09-12T20:44:59.672491Z"
    }
   },
   "outputs": [
    {
     "name": "stdout",
     "output_type": "stream",
     "text": [
      "0 /home/tylor/dev/oedisi_dopf/scenarios/lindistflow/SFO/P6U/extreme/\n",
      "1 /home/tylor/dev/oedisi_dopf/scenarios/lindistflow/SFO/P6U/low/\n",
      "2 /home/tylor/dev/oedisi_dopf/scenarios/lindistflow/SFO/P6U/high/\n",
      "3 /home/tylor/dev/oedisi_dopf/scenarios/lindistflow/SFO/P6U/medium/\n",
      "4 /home/tylor/dev/oedisi_dopf/scenarios/lindistflow/SFO/P9U/extreme/\n",
      "5 /home/tylor/dev/oedisi_dopf/scenarios/lindistflow/SFO/P9U/low/\n",
      "6 /home/tylor/dev/oedisi_dopf/scenarios/lindistflow/SFO/P9U/high/\n",
      "7 /home/tylor/dev/oedisi_dopf/scenarios/lindistflow/SFO/P9U/medium/\n",
      "8 /home/tylor/dev/oedisi_dopf/scenarios/lindistflow/SFO/P1U/extreme/\n",
      "9 /home/tylor/dev/oedisi_dopf/scenarios/lindistflow/SFO/P1U/low/\n",
      "10 /home/tylor/dev/oedisi_dopf/scenarios/lindistflow/SFO/P1U/high/\n",
      "11 /home/tylor/dev/oedisi_dopf/scenarios/lindistflow/SFO/P1U/medium/\n",
      "12 /home/tylor/dev/oedisi_dopf/scenarios/lindistflow/ieee123/\n"
     ]
    }
   ],
   "source": [
    "dir = []\n",
    "def list_files_scandir(path=\".\"):\n",
    "    with os.scandir(path) as entries:\n",
    "        for entry in entries:\n",
    "            if entry.is_file():\n",
    "                if \"system.json\" in entry.path:\n",
    "                    path, _ = entry.path.split(\"system.json\", 1)\n",
    "                    dir.append(path)\n",
    "            elif entry.is_dir():\n",
    "                list_files_scandir(entry.path)\n",
    "\n",
    "\n",
    "# Specify the directory path you want to start from\n",
    "directory_path = f\"{SCENARIOS}/lindistflow\"\n",
    "list_files_scandir(directory_path)\n",
    "for i, d in enumerate(dir):\n",
    "    print(i, d)"
   ]
  },
  {
   "cell_type": "code",
   "execution_count": 211,
   "id": "fc1e6b02-6fcb-4418-87f6-df0545c64093",
   "metadata": {
    "ExecuteTime": {
     "end_time": "2024-09-12T20:44:59.887329Z",
     "start_time": "2024-09-12T20:44:59.884702Z"
    }
   },
   "outputs": [
    {
     "name": "stdout",
     "output_type": "stream",
     "text": [
      "Loading the components defined in /home/tylor/dev/oedisi_dopf/scenarios/lindistflow/SFO/P1U/extreme/components.json\n",
      "Loading system json /home/tylor/dev/oedisi_dopf/scenarios/lindistflow/SFO/P1U/extreme/system.json\n",
      "Building system in /home/tylor/dev/oedisi_dopf/builds/lindistflow/SFO/P1U/extreme/\n"
     ]
    },
    {
     "data": {
      "text/plain": [
       "0"
      ]
     },
     "execution_count": 211,
     "metadata": {},
     "output_type": "execute_result"
    }
   ],
   "source": [
    "index = 8\n",
    "path = dir[index]\n",
    "_, scenario = path.split(SCENARIOS, 1)\n",
    "build = f\"{BUILDS}{scenario}\"\n",
    "output = f\"{OUTPUTS}{scenario}\"\n",
    "os.system(\n",
    "    f\"oedisi build --system {path}system.json --component-dict {path}components.json --target-directory {build}\"\n",
    ")"
   ]
  },
  {
   "cell_type": "code",
   "execution_count": 212,
   "id": "c08366e8-7bce-4329-8119-947ae5363ba8",
   "metadata": {
    "ExecuteTime": {
     "end_time": "2024-09-12T20:44:59.991024Z",
     "start_time": "2024-09-12T20:44:59.987874Z"
    }
   },
   "outputs": [
    {
     "name": "stdout",
     "output_type": "stream",
     "text": [
      "[warn] helics-cli's web interface is not installed. You may want to run `pip install \"helics[cli]\"`.\n",
      "[warn] helics-cli's observer functionality is not installed. You may want to run `pip install \"helics[cli]\"`.\n",
      "[info] Running federation: lindistflow_SFO/P1U\n",
      "[info] Running federate feeder as a background process\n",
      "[info] Running federate lindistflow as a background process\n",
      "[info] Running federate recorder_voltage_real as a background process\n",
      "[info] Running federate recorder_voltage_imag as a background process\n",
      "[info] Running federate recorder_power_real as a background process\n",
      "[info] Running federate recorder_power_imag as a background process\n",
      "[info] Running federate recorder_voltage_mag as a background process\n",
      "[info] Running federate recorder_voltage_angle as a background process\n",
      "[info] Running federate recorder_power_mag as a background process\n",
      "[info] Running federate recorder_power_angle as a background process\n",
      "[info] Running federate recorder_solver_stats as a background process\n",
      "[info] Running federate recorder_estimated_power as a background process\n",
      "[info] Running federate recorder_available_power as a background process\n",
      "[info] Running federate broker as a background process\n",
      "[info] Waiting for 14 processes to finish ...\n",
      "[info] Done.\n"
     ]
    },
    {
     "data": {
      "text/plain": [
       "0"
      ]
     },
     "execution_count": 212,
     "metadata": {},
     "output_type": "execute_result"
    }
   ],
   "source": [
    "os.system(\"pkill -9 helics_broker\")\n",
    "os.system(f\"oedisi run --runner {build}system_runner.json\")"
   ]
  },
  {
   "cell_type": "markdown",
   "id": "3b21cdc3-2ba4-4236-bcdf-0853d4c9be06",
   "metadata": {},
   "source": [
    "## Load Data"
   ]
  },
  {
   "cell_type": "code",
   "execution_count": 213,
   "id": "01e8545a-8584-4eff-83b6-c03c40694f96",
   "metadata": {},
   "outputs": [],
   "source": [
    "topology = Topology.parse_file(f\"{output}/topology.json\")\n",
    "base_voltage_df = pd.DataFrame(\n",
    "    {\n",
    "        \"id\": topology.base_voltage_magnitudes.ids,\n",
    "        \"value\": topology.base_voltage_magnitudes.values,\n",
    "    }\n",
    ")\n",
    "base_voltage_df.set_index(\"id\", inplace=True)\n",
    "base_voltages = base_voltage_df[\"value\"]"
   ]
  },
  {
   "cell_type": "code",
   "execution_count": 214,
   "id": "7ff13bdc-9cfa-40a0-aa4d-7b0b52ca6473",
   "metadata": {
    "ExecuteTime": {
     "end_time": "2024-09-12T20:45:00.242505Z",
     "start_time": "2024-09-12T20:45:00.043967Z"
    }
   },
   "outputs": [],
   "source": [
    "# read data\n",
    "v_real = feather.read_feather(f\"{output}/voltage_real.feather\")\n",
    "v_imag = feather.read_feather(f\"{output}/voltage_imag.feather\")\n",
    "\n",
    "# converter to complex\n",
    "true_voltages = v_real.drop(\"time\", axis=1).abs() + 1j * v_imag.drop(\"time\", axis=1)\n",
    "true_voltages[\"time\"] = pd.to_datetime(v_real[\"time\"], format=\"%Y-%m-%d %H:%M:%S\")\n",
    "true_voltages.set_index(\"time\", inplace=True)"
   ]
  },
  {
   "cell_type": "code",
   "execution_count": 215,
   "id": "03a396a8-0f46-4402-a32e-1449079aeb4c",
   "metadata": {},
   "outputs": [],
   "source": [
    "# read data\n",
    "v_mag = feather.read_feather(f\"{output}/voltage_mag.feather\")\n",
    "v_angle = feather.read_feather(f\"{output}/voltage_angle.feather\")\n",
    "\n",
    "# filter missing nodes\n",
    "common_columns = set(v_mag.columns).intersection(v_angle.columns)\n",
    "v_mag = v_mag.filter(common_columns)\n",
    "v_angle = v_angle.filter(common_columns)\n",
    "\n",
    "# convert to complex\n",
    "v_rad = np.radians(v_angle.drop(\"time\", axis=1).to_numpy())\n",
    "est_voltages = v_mag.drop(\"time\", axis=1) * np.exp(1j * v_rad)\n",
    "est_voltages[\"time\"] = pd.to_datetime(v_mag[\"time\"], format=\"%Y-%m-%d %H:%M:%S\")\n",
    "est_voltages.set_index(\"time\", inplace=True)"
   ]
  },
  {
   "cell_type": "code",
   "execution_count": 216,
   "id": "ae6c2ed7-90dd-4448-853d-103deb56906c",
   "metadata": {},
   "outputs": [],
   "source": [
    "# read data\n",
    "p_real = feather.read_feather(f\"{output}/power_real.feather\")\n",
    "p_imag = feather.read_feather(f\"{output}/power_imag.feather\")\n",
    "\n",
    "# filter missing nodes\n",
    "common_columns = set(p_real.columns).intersection(p_imag.columns)\n",
    "p_real = p_real.filter(common_columns)\n",
    "p_imag = p_imag.filter(common_columns)\n",
    "\n",
    "# convert to complex\n",
    "true_powers = p_real.drop(\"time\", axis=1) + 1j * p_imag.drop(\"time\", axis=1)\n",
    "true_powers[\"time\"] = pd.to_datetime(p_real[\"time\"], format=\"%Y-%m-%d %H:%M:%S\")\n",
    "true_powers.set_index(\"time\", inplace=True)"
   ]
  },
  {
   "cell_type": "code",
   "execution_count": 217,
   "id": "2843c053-5ece-4a72-952f-766894643b14",
   "metadata": {},
   "outputs": [],
   "source": [
    "# read data\n",
    "p_mag = feather.read_feather(f\"{output}/power_mag.feather\")\n",
    "p_angle = feather.read_feather(f\"{output}/power_angle.feather\")\n",
    "\n",
    "# filter missing nodes\n",
    "common_columns = set(p_mag.columns).intersection(p_angle.columns)\n",
    "p_mag = p_mag.filter(common_columns)\n",
    "p_angle = p_angle.filter(common_columns)\n",
    "\n",
    "# convert to complex\n",
    "est_powers = p_mag.drop(\"time\", axis=1) * np.exp(1j * p_angle.drop(\"time\", axis=1))\n",
    "est_powers[\"time\"] = pd.to_datetime(p_mag[\"time\"], format=\"%Y-%m-%d %H:%M:%S\")\n",
    "est_powers.set_index(\"time\", inplace=True)"
   ]
  },
  {
   "cell_type": "code",
   "execution_count": 218,
   "id": "7465223f-918e-4ae5-8c35-e84189e8feb6",
   "metadata": {},
   "outputs": [],
   "source": [
    "# read data\n",
    "pv_true = feather.read_feather(f\"{output}/available_power.feather\")\n",
    "pv_true[\"time\"] = pd.to_datetime(pv_true[\"time\"], format=\"%Y-%m-%d %H:%M:%S\")\n",
    "pv_true.set_index(\"time\", inplace=True)"
   ]
  },
  {
   "cell_type": "code",
   "execution_count": 219,
   "id": "d9365e24-72e9-4d67-9b03-22b5e3bff8e3",
   "metadata": {},
   "outputs": [],
   "source": [
    "# read data\n",
    "pv_est = feather.read_feather(f\"{output}/estimated_power.feather\")\n",
    "pv_est[\"time\"] = pd.to_datetime(pv_est[\"time\"], format=\"%Y-%m-%d %H:%M:%S\")\n",
    "pv_est.set_index(\"time\", inplace=True)"
   ]
  },
  {
   "cell_type": "code",
   "execution_count": 220,
   "id": "839e1621-c5fb-4db5-8764-48245c1501ac",
   "metadata": {},
   "outputs": [],
   "source": [
    "# read data\n",
    "stats = feather.read_feather(f\"{output}/solver_stats.feather\")\n",
    "stats[\"time\"] = pd.to_datetime(stats[\"time\"], format=\"%Y-%m-%d %H:%M:%S\")\n",
    "stats.set_index(\"time\", inplace=True)"
   ]
  },
  {
   "cell_type": "markdown",
   "id": "6ff3015f-3f30-49e5-942d-e62b0633731c",
   "metadata": {},
   "source": [
    "## Process Data"
   ]
  },
  {
   "cell_type": "code",
   "execution_count": 221,
   "id": "66cbb764-c18a-4fe1-af44-ec8e68201f83",
   "metadata": {},
   "outputs": [
    {
     "data": {
      "application/vnd.plotly.v1+json": {
       "config": {
        "plotlyServerURL": "https://plot.ly"
       },
       "data": [
        {
         "mode": "markers",
         "name": "base",
         "type": "scatter",
         "x": [
          "P1UDT942-P1UHS0_1247X.1",
          "P1UDT942-P1UHS0_1247X.2",
          "P1UDT942-P1UHS0_1247X.3",
          "P1UDT882LV.1",
          "P1UDT882LV.2",
          "P1ULV4109.1",
          "P1ULV4109.2",
          "P1UDM3853.1",
          "P1UDM3853.2",
          "P1ULV4110.1",
          "P1ULV4110.2",
          "P1UDT883LV.1",
          "P1UDT883LV.2",
          "P1UDM3854.1",
          "P1UDM3854.2",
          "P1ULV4111.1",
          "P1ULV4111.2",
          "P1UDT884LV.1",
          "P1UDT884LV.2",
          "P1ULV4112.1",
          "P1ULV4112.2",
          "P1UDM3856.1",
          "P1UDM3856.2",
          "P1ULV4113.1",
          "P1ULV4113.2",
          "P1UDT893LV.1",
          "P1UDT893LV.2",
          "P1ULV4136.1",
          "P1ULV4136.2",
          "P1UDM3883.1",
          "P1UDM3883.2",
          "P1ULV4137.1",
          "P1ULV4137.2",
          "P1UDT894LV.1",
          "P1UDT894LV.2",
          "P1UDM3884.1",
          "P1UDM3884.2",
          "P1ULV4138.1",
          "P1ULV4138.2",
          "P1UDT895LV.1",
          "P1UDT895LV.2",
          "P1ULV7543.1",
          "P1ULV7543.2",
          "P1UDM3885.1",
          "P1UDM3885.2",
          "P1ULV4139.1",
          "P1ULV4139.2",
          "P1UDM3887.1",
          "P1UDM3887.2",
          "P1ULV4140.1",
          "P1ULV4140.2",
          "P1UDM3889.1",
          "P1UDM3889.2",
          "P1ULV7633.1",
          "P1ULV7633.2",
          "P1UDT896LV.1",
          "P1UDT896LV.2",
          "P1UDM3888.1",
          "P1UDM3888.2",
          "P1ULV4197.1",
          "P1ULV4197.2",
          "P1UDT909LV.1",
          "P1UDT909LV.2",
          "P1ULV4155.1",
          "P1ULV4155.2",
          "P1UDT942LV.1",
          "P1UDT942LV.2",
          "P1ULV4193.1",
          "P1ULV4193.2",
          "P1UDT943LV.1",
          "P1UDT943LV.2",
          "P1ULV4196.1",
          "P1ULV4196.2",
          "P1UDT1431LV.1",
          "P1UDT1431LV.2",
          "P1ULV7544.1",
          "P1ULV7544.2",
          "P1UDT1432LV.1",
          "P1UDT1432LV.2",
          "P1ULV7546.1",
          "P1ULV7546.2",
          "P1UDT1433LV.1",
          "P1UDT1433LV.2",
          "P1ULV7547.1",
          "P1ULV7547.2",
          "P1UDT908-P1UDT909X.2",
          "P1UDT909.2",
          "P1UDT1433-P1UDT882X.3",
          "P1UDT882.3",
          "P1UDT1432-P1UDT881X.2",
          "P1UDT1432.2",
          "P1UDT896-P1UDT938X.3",
          "P1UDT896.3",
          "P1UDT942.1",
          "P1UDT942.2",
          "P1UDT942.3",
          "P1UDT907LV.1",
          "P1UDT907LV.2",
          "P1UDT907LV.3",
          "P1ULV4153.1",
          "P1ULV4153.2",
          "P1ULV4153.3",
          "P1UDT908LV.1",
          "P1UDT908LV.2",
          "P1UDT908LV.3",
          "P1ULV4154.1",
          "P1ULV4154.2",
          "P1ULV4154.3",
          "P1UDT907.1",
          "P1UDT907.2",
          "P1UDT907.3",
          "P1UDT908.1",
          "P1UDT908.2",
          "P1UDT908.3",
          "P1UDT893.1",
          "P1UDT893.2",
          "P1UDT893.3",
          "P1UDT894.1",
          "P1UDT894.2",
          "P1UDT894.3",
          "P1UDT1425LV.1",
          "P1UDT1425LV.2",
          "P1UDT1425LV.3",
          "P1ULV7531.1",
          "P1ULV7531.2",
          "P1ULV7531.3",
          "P1UDT881LV.1",
          "P1UDT881LV.2",
          "P1UDT881LV.3",
          "P1ULV4108.1",
          "P1ULV4108.2",
          "P1ULV4108.3",
          "P1UDT1425-P1UDT881X.1",
          "P1UDT1425-P1UDT881X.2",
          "P1UDT1425-P1UDT881X.3",
          "P1UDT881.1",
          "P1UDT881.2",
          "P1UDT881.3",
          "P1UDT1433.1",
          "P1UDT1433.2",
          "P1UDT1433.3",
          "P1UDT1425.1",
          "P1UDT1425.2",
          "P1UDT1425.3",
          "P1UDT883.1",
          "P1UDT883.2",
          "P1UDT883.3",
          "P1UDT884.1",
          "P1UDT884.2",
          "P1UDT884.3",
          "P1UDT1431.1",
          "P1UDT1431.2",
          "P1UDT1431.3",
          "P1UDT1431-P1UDT895X.1",
          "P1UDT1431-P1UDT895X.2",
          "P1UDT1431-P1UDT895X.3",
          "P1UDT894-P1UDT895X.1",
          "P1UDT894-P1UDT895X.2",
          "P1UDT894-P1UDT895X.3",
          "P1UDT895.1",
          "P1UDT895.2",
          "P1UDT895.3",
          "P1UDT894-P1UDT942X.1",
          "P1UDT894-P1UDT942X.2",
          "P1UDT894-P1UDT942X.3",
          "P1UDT939LV.1",
          "P1UDT939LV.2",
          "P1UDT939LV.3",
          "P1ULV4189.1",
          "P1ULV4189.2",
          "P1ULV4189.3",
          "P1UDT938LV.1",
          "P1UDT938LV.2",
          "P1UDT938LV.3",
          "P1ULV4188.1",
          "P1ULV4188.2",
          "P1ULV4188.3",
          "P1UDT892LV.1",
          "P1UDT892LV.2",
          "P1UDT892LV.3",
          "P1ULV4132.1",
          "P1ULV4132.2",
          "P1ULV4132.3",
          "P1UDT938.1",
          "P1UDT938.2",
          "P1UDT938.3",
          "P1UDT892.1",
          "P1UDT892.2",
          "P1UDT892.3",
          "P1UDT943.1",
          "P1UDT943.2",
          "P1UDT943.3",
          "P1UDT939.1",
          "P1UDT939.2",
          "P1UDT939.3"
         ],
         "xaxis": "x",
         "y": [
          1.0300000046532098,
          1.0299999965563416,
          1.0300000079292182,
          1.0169718693585956,
          1.0225045679175013,
          1.031670671461189,
          1.0370961760662463,
          1.047076793509222,
          1.051122226734694,
          1.0523412115709039,
          1.0563695047151112,
          1.030456465701833,
          1.0345575461736924,
          1.0388553988467855,
          1.0428513820428744,
          1.0437028494855418,
          1.0476394440395285,
          1.0278047851890837,
          1.0327971672551837,
          1.0322858862618347,
          1.0372409486907515,
          1.0406906930478974,
          1.0455730409349322,
          1.0490815858016673,
          1.0538939998784316,
          1.027400010683841,
          1.0275579774715211,
          1.0266217693116118,
          1.026780500637132,
          1.0363789717796945,
          1.041250451216672,
          1.0397211484816589,
          1.0445674286493556,
          1.0281678775531073,
          1.0331022687559737,
          1.0354258372826148,
          1.0402876335902846,
          1.0411931805670605,
          1.0459982982331113,
          1.0332638373929006,
          1.0334686959578445,
          1.037593590489765,
          1.0377899437807263,
          1.0324831751306462,
          1.032685041134076,
          1.0314991823885535,
          1.031697276008132,
          1.0498578839856096,
          1.0530734560052357,
          1.0503894718389177,
          1.053575125840032,
          1.0911361852553247,
          1.0942383701310952,
          1.0979048585645481,
          1.100995123990006,
          1.0266851667323889,
          1.0300545225121043,
          1.0273490503696923,
          1.030718178056372,
          1.0276869913092221,
          1.031056005969719,
          1.027552551209943,
          1.0276984916244387,
          1.0266751288239528,
          1.0268218800852358,
          1.0370044894315096,
          1.0372061318172834,
          1.0438760382997037,
          1.0440588364879244,
          1.0278677433176946,
          1.0282539339626078,
          1.0278799026824492,
          1.0282668889667177,
          1.0299437552047848,
          1.031969712078303,
          1.0381852659775668,
          1.0401815158663952,
          1.027645498802308,
          1.0298091891015422,
          1.0307043501569257,
          1.0328586152496284,
          1.0391565479551093,
          1.039207482770269,
          1.053055136406399,
          1.053072634844941,
          1.029962453892403,
          1.0299604370334419,
          1.0292406696709504,
          1.029397033585358,
          1.0297983477845796,
          1.0298458032278537,
          1.0299573408714064,
          1.0299755509137274,
          1.02995127165531,
          1.0300198732593047,
          1.0299557878956171,
          1.0217671488003868,
          1.0218115400437486,
          1.0216230928278265,
          1.0214579385321538,
          1.0215020950350155,
          1.021313790029545,
          1.0220311452774062,
          1.022074329140187,
          1.021888379740742,
          1.021768860885653,
          1.0218118410219157,
          1.0216261078561268,
          1.0299220290370967,
          1.0299660765345187,
          1.0297790981206785,
          1.0299195950413575,
          1.0299624540056596,
          1.029777917042348,
          1.029927468540032,
          1.0299729814988834,
          1.029782993793495,
          1.0299688464762369,
          1.0300047265258454,
          1.029807235910307,
          1.018323111442402,
          1.018056282262891,
          1.0174112605896222,
          1.0172000543375979,
          1.016931326759562,
          1.016286750889727,
          1.0235827068073093,
          1.0233050880230954,
          1.02262871910333,
          1.0232126742108305,
          1.0229343459556846,
          1.0222581620478255,
          1.0300772345211873,
          1.0298139553664374,
          1.0291761129424468,
          1.0300742193082215,
          1.0297983473884729,
          1.02912622693185,
          1.0301117503707224,
          1.029856162860406,
          1.0292406691053333,
          1.0300777755818737,
          1.0298141004976613,
          1.0291766545007706,
          1.0301719624257921,
          1.0298682025519175,
          1.029334291909355,
          1.0301840215230917,
          1.0298973242453078,
          1.0293540787010216,
          1.0301594170581927,
          1.0299288198649459,
          1.0294411297434998,
          1.030044757165367,
          1.0299679462084852,
          1.0297188422352033,
          1.0299700781286751,
          1.0300051758324085,
          1.0298061881418428,
          1.0300443544522087,
          1.0299674967070678,
          1.029719890373651,
          1.029951272405206,
          1.0300198732344732,
          1.0299557876194725,
          1.024997309044458,
          1.025165151919207,
          1.0250741803965022,
          1.0247949306997226,
          1.0249626822551912,
          1.0248718099068788,
          1.0268425156052292,
          1.027033741132097,
          1.0269362989047224,
          1.0267286029016656,
          1.0269197766633167,
          1.026822408488335,
          1.0239390702099902,
          1.0241308426519287,
          1.0240331220537775,
          1.023669338678719,
          1.0238609841249866,
          1.023763419549868,
          1.0298638135166684,
          1.0300545160187842,
          1.0299573402799729,
          1.0298625284085139,
          1.030053230839197,
          1.0299560553666032,
          1.0298691362657801,
          1.0300513670722788,
          1.0299567390830788,
          1.0298790784698597,
          1.0300461569062447,
          1.0299555996822043
         ],
         "yaxis": "y"
        },
        {
         "mode": "markers",
         "name": "opt",
         "type": "scatter",
         "x": [
          "P1UDM3853.1",
          "P1UDM3853.2",
          "P1UDM3854.1",
          "P1UDM3854.2",
          "P1UDM3856.1",
          "P1UDM3856.2",
          "P1UDM3883.1",
          "P1UDM3883.2",
          "P1UDM3884.1",
          "P1UDM3884.2",
          "P1UDM3885.1",
          "P1UDM3885.2",
          "P1UDM3887.1",
          "P1UDM3887.2",
          "P1UDM3888.1",
          "P1UDM3888.2",
          "P1UDM3889.1",
          "P1UDM3889.2",
          "P1UDT1425-P1UDT881X.1",
          "P1UDT1425-P1UDT881X.2",
          "P1UDT1425-P1UDT881X.3",
          "P1UDT1425.1",
          "P1UDT1425.2",
          "P1UDT1425.3",
          "P1UDT1425LV.1",
          "P1UDT1425LV.2",
          "P1UDT1425LV.3",
          "P1UDT1431-P1UDT895X.1",
          "P1UDT1431-P1UDT895X.2",
          "P1UDT1431-P1UDT895X.3",
          "P1UDT1431.1",
          "P1UDT1431.2",
          "P1UDT1431.3",
          "P1UDT1431LV.1",
          "P1UDT1431LV.2",
          "P1UDT1432-P1UDT881X.2",
          "P1UDT1432.2",
          "P1UDT1432LV.1",
          "P1UDT1432LV.2",
          "P1UDT1433-P1UDT882X.3",
          "P1UDT1433.1",
          "P1UDT1433.2",
          "P1UDT1433.3",
          "P1UDT1433LV.1",
          "P1UDT1433LV.2",
          "P1UDT881.1",
          "P1UDT881.2",
          "P1UDT881.3",
          "P1UDT881LV.1",
          "P1UDT881LV.2",
          "P1UDT881LV.3",
          "P1UDT882.3",
          "P1UDT882LV.1",
          "P1UDT882LV.2",
          "P1UDT883.1",
          "P1UDT883.2",
          "P1UDT883.3",
          "P1UDT883LV.1",
          "P1UDT883LV.2",
          "P1UDT884.1",
          "P1UDT884.2",
          "P1UDT884.3",
          "P1UDT884LV.1",
          "P1UDT884LV.2",
          "P1UDT892.1",
          "P1UDT892.2",
          "P1UDT892.3",
          "P1UDT892LV.1",
          "P1UDT892LV.2",
          "P1UDT892LV.3",
          "P1UDT893.1",
          "P1UDT893.2",
          "P1UDT893.3",
          "P1UDT893LV.1",
          "P1UDT893LV.2",
          "P1UDT894-P1UDT895X.1",
          "P1UDT894-P1UDT895X.2",
          "P1UDT894-P1UDT895X.3",
          "P1UDT894-P1UDT942X.1",
          "P1UDT894-P1UDT942X.2",
          "P1UDT894-P1UDT942X.3",
          "P1UDT894.1",
          "P1UDT894.2",
          "P1UDT894.3",
          "P1UDT894LV.1",
          "P1UDT894LV.2",
          "P1UDT895.1",
          "P1UDT895.2",
          "P1UDT895.3",
          "P1UDT895LV.1",
          "P1UDT895LV.2",
          "P1UDT896-P1UDT938X.3",
          "P1UDT896.3",
          "P1UDT896LV.1",
          "P1UDT896LV.2",
          "P1UDT907.1",
          "P1UDT907.2",
          "P1UDT907.3",
          "P1UDT907LV.1",
          "P1UDT907LV.2",
          "P1UDT907LV.3",
          "P1UDT908-P1UDT909X.2",
          "P1UDT908.1",
          "P1UDT908.2",
          "P1UDT908.3",
          "P1UDT908LV.1",
          "P1UDT908LV.2",
          "P1UDT908LV.3",
          "P1UDT909.2",
          "P1UDT909LV.1",
          "P1UDT909LV.2",
          "P1UDT938.1",
          "P1UDT938.2",
          "P1UDT938.3",
          "P1UDT938LV.1",
          "P1UDT938LV.2",
          "P1UDT938LV.3",
          "P1UDT939.1",
          "P1UDT939.2",
          "P1UDT939.3",
          "P1UDT939LV.1",
          "P1UDT939LV.2",
          "P1UDT939LV.3",
          "P1UDT942-P1UHS0_1247X.1",
          "P1UDT942-P1UHS0_1247X.2",
          "P1UDT942-P1UHS0_1247X.3",
          "P1UDT942.1",
          "P1UDT942.2",
          "P1UDT942.3",
          "P1UDT942LV.1",
          "P1UDT942LV.2",
          "P1UDT943.1",
          "P1UDT943.2",
          "P1UDT943.3",
          "P1UDT943LV.1",
          "P1UDT943LV.2",
          "P1ULV4108.1",
          "P1ULV4108.2",
          "P1ULV4108.3",
          "P1ULV4109.1",
          "P1ULV4109.2",
          "P1ULV4110.1",
          "P1ULV4110.2",
          "P1ULV4111.1",
          "P1ULV4111.2",
          "P1ULV4112.1",
          "P1ULV4112.2",
          "P1ULV4113.1",
          "P1ULV4113.2",
          "P1ULV4132.1",
          "P1ULV4132.2",
          "P1ULV4132.3",
          "P1ULV4136.1",
          "P1ULV4136.2",
          "P1ULV4137.1",
          "P1ULV4137.2",
          "P1ULV4138.1",
          "P1ULV4138.2",
          "P1ULV4139.1",
          "P1ULV4139.2",
          "P1ULV4140.1",
          "P1ULV4140.2",
          "P1ULV4153.1",
          "P1ULV4153.2",
          "P1ULV4153.3",
          "P1ULV4154.1",
          "P1ULV4154.2",
          "P1ULV4154.3",
          "P1ULV4155.1",
          "P1ULV4155.2",
          "P1ULV4188.1",
          "P1ULV4188.2",
          "P1ULV4188.3",
          "P1ULV4189.1",
          "P1ULV4189.2",
          "P1ULV4189.3",
          "P1ULV4193.1",
          "P1ULV4193.2",
          "P1ULV4196.1",
          "P1ULV4196.2",
          "P1ULV4197.1",
          "P1ULV4197.2",
          "P1ULV7531.1",
          "P1ULV7531.2",
          "P1ULV7531.3",
          "P1ULV7543.1",
          "P1ULV7543.2",
          "P1ULV7544.1",
          "P1ULV7544.2",
          "P1ULV7546.1",
          "P1ULV7546.2",
          "P1ULV7547.1",
          "P1ULV7547.2",
          "P1ULV7633.1",
          "P1ULV7633.2"
         ],
         "xaxis": "x",
         "y": [
          1.026492683938728,
          1.024443019916191,
          1.026492683938728,
          1.024443019916191,
          1.026647158549805,
          1.0247494956431873,
          1.0283637506850007,
          1.0274391403291991,
          1.0283637506850007,
          1.027439140329199,
          1.0280006845134584,
          1.0268100661096877,
          1.0291264471472066,
          1.0286817450254138,
          1.0291264471472064,
          1.028681745025414,
          1.0291264471472064,
          1.0286817450254135,
          1.0260048119264082,
          1.0238726403981826,
          1.0290360549673432,
          1.0260066658300238,
          1.0238735938445662,
          1.029037898212324,
          1.0260066658299762,
          1.0238735938445198,
          1.0290378982122492,
          1.0279923060338096,
          1.0268029876702272,
          1.0296679656487835,
          1.0270047878467827,
          1.0253298627610232,
          1.029472139143839,
          1.0270047878467827,
          1.0253298627610228,
          1.023820573421425,
          1.0238500328752678,
          1.0259009612312509,
          1.0238500328752678,
          1.0292303304329862,
          1.0261288013008238,
          1.0239487970434502,
          1.0292303308038555,
          1.026128801300824,
          1.0239487970434498,
          1.0259009612312509,
          1.0238205732735264,
          1.0288976433047907,
          1.0259009612312149,
          1.0238205732734915,
          1.0288976433047268,
          1.0291697214587776,
          1.0261288013008238,
          1.02394879704345,
          1.0264926839387278,
          1.024443019916191,
          1.0293700486465194,
          1.026492683938728,
          1.024443019916191,
          1.026647158549805,
          1.0247494956431875,
          1.0293993058415298,
          1.0266471585498051,
          1.0247494956431873,
          1.0291251952709919,
          1.0286804926080089,
          1.0299913696231966,
          1.0291251952709803,
          1.028680492607997,
          1.029991369623185,
          1.0282315572959897,
          1.0273380049887693,
          1.029524114624125,
          1.02823155729599,
          1.0273380049887695,
          1.0283556279228983,
          1.02743124584018,
          1.0297131777823345,
          1.0293682285428807,
          1.0290210495550187,
          1.0299273562575217,
          1.0283637506850007,
          1.027439140329199,
          1.0297177784514175,
          1.028363750685001,
          1.027439140329199,
          1.0280006845134584,
          1.0268100661096875,
          1.0296725665199014,
          1.0280006845134582,
          1.0268100661096877,
          1.029992620268752,
          1.0299882295711966,
          1.0291264471472064,
          1.0286817450254138,
          1.0282095175566253,
          1.0273184780341158,
          1.0294893141668988,
          1.028209517556609,
          1.0273184780340994,
          1.0294893141668817,
          1.0273045693993705,
          1.02819360072247,
          1.0273045695101397,
          1.0294631725265075,
          1.028193600722328,
          1.0273045695099998,
          1.0294631725263008,
          1.0273025977319616,
          1.0281936007224697,
          1.0273025977319614,
          1.0291264471472064,
          1.0286817450254138,
          1.0299926204466407,
          1.0291264471472001,
          1.0286817450254075,
          1.0299926204466345,
          1.0291707102442385,
          1.0287440121719302,
          1.0299788484339696,
          1.0291707102442291,
          1.0287440121719207,
          1.0299788484339596,
          1.030000007929218,
          1.030000007929218,
          1.030000007929218,
          1.0293682397226573,
          1.029021060416382,
          1.0299273629241692,
          1.0293682397226576,
          1.029021060416382,
          1.029141458877929,
          1.028702502759531,
          1.0299879979887052,
          1.0291414588779293,
          1.0287025027595311,
          1.0259009612312147,
          1.0238205732734915,
          1.0288976433047268,
          1.026128801300824,
          1.02394879704345,
          1.026492683938728,
          1.024443019916191,
          1.026492683938728,
          1.0244430199161907,
          1.026647158549805,
          1.0247494956431873,
          1.026647158549805,
          1.0247494956431873,
          1.0291251952709806,
          1.028680492607997,
          1.0299913696231848,
          1.0282315572959897,
          1.0273380049887695,
          1.0283637506850007,
          1.027439140329199,
          1.0283637506850007,
          1.0274391403291991,
          1.0280006845134582,
          1.0268100661096877,
          1.0291264471472064,
          1.0286817450254135,
          1.028209517556609,
          1.0273184780340994,
          1.0294893141668817,
          1.0281936007223278,
          1.0273045695099998,
          1.0294631725263004,
          1.02819360072247,
          1.0273025977319616,
          1.0291264471472001,
          1.0286817450254078,
          1.0299926204466345,
          1.0291707102442291,
          1.0287440121719205,
          1.0299788484339596,
          1.0293682397226573,
          1.0290210604163819,
          1.0291414588779293,
          1.0287025027595311,
          1.0291264471472064,
          1.0286817450254138,
          1.0260066658299762,
          1.0238735938445198,
          1.0290378982122486,
          1.0280006845134584,
          1.0268100661096875,
          1.027004787846783,
          1.0253298627610232,
          1.0259009612312509,
          1.0238500328752678,
          1.0261288013008238,
          1.02394879704345,
          1.0291264471472064,
          1.0286817450254138
         ],
         "yaxis": "y"
        },
        {
         "mode": "markers",
         "name": "diff",
         "type": "scatter",
         "x": [
          "P1UDM3853.1",
          "P1UDM3853.2",
          "P1UDM3854.1",
          "P1UDM3854.2",
          "P1UDM3856.1",
          "P1UDM3856.2",
          "P1UDM3883.1",
          "P1UDM3883.2",
          "P1UDM3884.1",
          "P1UDM3884.2",
          "P1UDM3885.1",
          "P1UDM3885.2",
          "P1UDM3887.1",
          "P1UDM3887.2",
          "P1UDM3888.1",
          "P1UDM3888.2",
          "P1UDM3889.1",
          "P1UDM3889.2",
          "P1UDT1425-P1UDT881X.1",
          "P1UDT1425-P1UDT881X.2",
          "P1UDT1425-P1UDT881X.3",
          "P1UDT1425.1",
          "P1UDT1425.2",
          "P1UDT1425.3",
          "P1UDT1425LV.1",
          "P1UDT1425LV.2",
          "P1UDT1425LV.3",
          "P1UDT1431-P1UDT895X.1",
          "P1UDT1431-P1UDT895X.2",
          "P1UDT1431-P1UDT895X.3",
          "P1UDT1431.1",
          "P1UDT1431.2",
          "P1UDT1431.3",
          "P1UDT1431LV.1",
          "P1UDT1431LV.2",
          "P1UDT1432-P1UDT881X.2",
          "P1UDT1432.2",
          "P1UDT1432LV.1",
          "P1UDT1432LV.2",
          "P1UDT1433-P1UDT882X.3",
          "P1UDT1433.1",
          "P1UDT1433.2",
          "P1UDT1433.3",
          "P1UDT1433LV.1",
          "P1UDT1433LV.2",
          "P1UDT881.1",
          "P1UDT881.2",
          "P1UDT881.3",
          "P1UDT881LV.1",
          "P1UDT881LV.2",
          "P1UDT881LV.3",
          "P1UDT882.3",
          "P1UDT882LV.1",
          "P1UDT882LV.2",
          "P1UDT883.1",
          "P1UDT883.2",
          "P1UDT883.3",
          "P1UDT883LV.1",
          "P1UDT883LV.2",
          "P1UDT884.1",
          "P1UDT884.2",
          "P1UDT884.3",
          "P1UDT884LV.1",
          "P1UDT884LV.2",
          "P1UDT892.1",
          "P1UDT892.2",
          "P1UDT892.3",
          "P1UDT892LV.1",
          "P1UDT892LV.2",
          "P1UDT892LV.3",
          "P1UDT893.1",
          "P1UDT893.2",
          "P1UDT893.3",
          "P1UDT893LV.1",
          "P1UDT893LV.2",
          "P1UDT894-P1UDT895X.1",
          "P1UDT894-P1UDT895X.2",
          "P1UDT894-P1UDT895X.3",
          "P1UDT894-P1UDT942X.1",
          "P1UDT894-P1UDT942X.2",
          "P1UDT894-P1UDT942X.3",
          "P1UDT894.1",
          "P1UDT894.2",
          "P1UDT894.3",
          "P1UDT894LV.1",
          "P1UDT894LV.2",
          "P1UDT895.1",
          "P1UDT895.2",
          "P1UDT895.3",
          "P1UDT895LV.1",
          "P1UDT895LV.2",
          "P1UDT896-P1UDT938X.3",
          "P1UDT896.3",
          "P1UDT896LV.1",
          "P1UDT896LV.2",
          "P1UDT907.1",
          "P1UDT907.2",
          "P1UDT907.3",
          "P1UDT907LV.1",
          "P1UDT907LV.2",
          "P1UDT907LV.3",
          "P1UDT908-P1UDT909X.2",
          "P1UDT908.1",
          "P1UDT908.2",
          "P1UDT908.3",
          "P1UDT908LV.1",
          "P1UDT908LV.2",
          "P1UDT908LV.3",
          "P1UDT909.2",
          "P1UDT909LV.1",
          "P1UDT909LV.2",
          "P1UDT938.1",
          "P1UDT938.2",
          "P1UDT938.3",
          "P1UDT938LV.1",
          "P1UDT938LV.2",
          "P1UDT938LV.3",
          "P1UDT939.1",
          "P1UDT939.2",
          "P1UDT939.3",
          "P1UDT939LV.1",
          "P1UDT939LV.2",
          "P1UDT939LV.3",
          "P1UDT942-P1UHS0_1247X.1",
          "P1UDT942-P1UHS0_1247X.2",
          "P1UDT942-P1UHS0_1247X.3",
          "P1UDT942.1",
          "P1UDT942.2",
          "P1UDT942.3",
          "P1UDT942LV.1",
          "P1UDT942LV.2",
          "P1UDT943.1",
          "P1UDT943.2",
          "P1UDT943.3",
          "P1UDT943LV.1",
          "P1UDT943LV.2",
          "P1ULV4108.1",
          "P1ULV4108.2",
          "P1ULV4108.3",
          "P1ULV4109.1",
          "P1ULV4109.2",
          "P1ULV4110.1",
          "P1ULV4110.2",
          "P1ULV4111.1",
          "P1ULV4111.2",
          "P1ULV4112.1",
          "P1ULV4112.2",
          "P1ULV4113.1",
          "P1ULV4113.2",
          "P1ULV4132.1",
          "P1ULV4132.2",
          "P1ULV4132.3",
          "P1ULV4136.1",
          "P1ULV4136.2",
          "P1ULV4137.1",
          "P1ULV4137.2",
          "P1ULV4138.1",
          "P1ULV4138.2",
          "P1ULV4139.1",
          "P1ULV4139.2",
          "P1ULV4140.1",
          "P1ULV4140.2",
          "P1ULV4153.1",
          "P1ULV4153.2",
          "P1ULV4153.3",
          "P1ULV4154.1",
          "P1ULV4154.2",
          "P1ULV4154.3",
          "P1ULV4155.1",
          "P1ULV4155.2",
          "P1ULV4188.1",
          "P1ULV4188.2",
          "P1ULV4188.3",
          "P1ULV4189.1",
          "P1ULV4189.2",
          "P1ULV4189.3",
          "P1ULV4193.1",
          "P1ULV4193.2",
          "P1ULV4196.1",
          "P1ULV4196.2",
          "P1ULV4197.1",
          "P1ULV4197.2",
          "P1ULV7531.1",
          "P1ULV7531.2",
          "P1ULV7531.3",
          "P1ULV7543.1",
          "P1ULV7543.2",
          "P1ULV7544.1",
          "P1ULV7544.2",
          "P1ULV7546.1",
          "P1ULV7546.2",
          "P1ULV7547.1",
          "P1ULV7547.2",
          "P1ULV7633.1",
          "P1ULV7633.2"
         ],
         "xaxis": "x2",
         "y": [
          0.020584109570493947,
          0.02667920681850311,
          0.012362714908057404,
          0.01840836212668351,
          0.01404353449809248,
          0.020823545291744905,
          0.00801522109469377,
          0.013811310887472894,
          0.007062086597614092,
          0.012848493261085725,
          0.004482490617187862,
          0.005874975024388274,
          0.02073143683840306,
          0.024391710979821957,
          0.0017773967775140953,
          0.002036433030957907,
          0.062009738108118384,
          0.06555662510568161,
          0.004072422594779024,
          0.005941314968254785,
          0.0001400579751036357,
          0.004071109751849988,
          0.00594050665309509,
          0.00013875628844650656,
          0.007683554387574176,
          0.005817311581628903,
          0.011626637622627056,
          0.002052451131557387,
          0.0031649585382580447,
          5.08765864197791e-05,
          0.003154629211409965,
          0.004598957103922663,
          3.100940033928801e-05,
          0.0029389673580020315,
          0.006639849317280122,
          0.005977774363154609,
          0.005995770352585916,
          0.001744537571057192,
          0.005959156226274409,
          1.0339237964229753e-05,
          0.0039829490698986,
          0.005907365816955723,
          1.0338301477785805e-05,
          0.013027746654285188,
          0.015258685726819321,
          0.004173258076970665,
          0.005977774114946488,
          0.0002285836270592423,
          0.0023182544239055414,
          0.0005154852503961305,
          0.006268924201396686,
          0.00022731212658033684,
          0.00915693194222822,
          0.0014442291259486595,
          0.003679278487064286,
          0.005425182635726555,
          3.575673716427197e-05,
          0.003963781763104857,
          0.010114526257501533,
          0.003536862973286814,
          0.0051478286021202635,
          4.522714050825272e-05,
          0.0011576266392785417,
          0.008047671611996376,
          0.0007373331375220005,
          0.0013727382311881087,
          3.531425659342169e-05,
          0.005186125060990143,
          0.004549649956068436,
          0.005958247569407549,
          0.0016959112440422253,
          0.0026349765101141287,
          0.00025887916937006317,
          0.0008315466121489035,
          0.00021997248275162917,
          0.001614450205776885,
          0.0025739299922284964,
          9.301035950826098e-05,
          0.0005830438623253276,
          0.0009988236794544747,
          2.8431361950742584e-05,
          0.001605095791236133,
          0.0025655861966464855,
          8.945745888944145e-05,
          0.0001958731318936202,
          0.005663128426774744,
          0.00204366993875027,
          0.003157430597380273,
          4.7323853749725586e-05,
          0.0052631528794424565,
          0.006658629848156794,
          3.5279397345489016e-05,
          1.2678657469233912e-05,
          0.002441280414817504,
          0.001372777486690513,
          0.001712511480471468,
          0.002647598500402859,
          0.00028978395377965427,
          0.006442368756222283,
          0.005506937990350735,
          0.007866221339055235,
          0.002657884493032503,
          0.001725994318887647,
          0.0026578844955198466,
          0.00031474451584045937,
          0.006162455444921777,
          0.005230240369812789,
          0.007574792785558726,
          0.002657839301480225,
          0.0006410495125266369,
          0.0003958938924772948,
          0.0007373663694620891,
          0.001372770993370409,
          3.528016666787259e-05,
          0.0022839315419709294,
          0.0016480038933106567,
          0.0030563215419121548,
          0.0007083682256212587,
          0.0013021447343144477,
          2.3248751765292397e-05,
          0.004173401199771165,
          0.0035788602527135893,
          0.0049046680374573715,
          3.2760081314364697e-09,
          1.1372876418391797e-08,
          2.220446049250313e-16,
          0.0005830319326527444,
          0.0009988128429225807,
          2.8424971447948977e-05,
          0.0076362497088520165,
          0.0081850714009013,
          0.0007276773878510667,
          0.0013488643127479438,
          3.125890562638567e-05,
          0.0012737155602347006,
          0.00044856879692334317,
          0.0026882870203841502,
          0.0008862273178069646,
          0.006639481256901281,
          0.005541870160364892,
          0.01314737902279628,
          0.02584852763217582,
          0.03192648479892024,
          0.01721016554681376,
          0.023196424123337778,
          0.0056387277120297785,
          0.01249145304756416,
          0.0224344272518624,
          0.029144504235244284,
          0.005455856592261554,
          0.004819508483010493,
          0.00622795007331689,
          0.0016097879843779417,
          0.0005575043516374834,
          0.01135739779665812,
          0.01712828832015667,
          0.012829429882059706,
          0.01855915790391216,
          0.0034984978750953744,
          0.004887209898444267,
          0.021263024691711374,
          0.02489338081461856,
          0.006751579024455223,
          0.0058163829990838245,
          0.008175524137336687,
          0.006424739836674798,
          0.005492728488084131,
          0.007837064670173532,
          0.0015184718985170598,
          0.0004807176467258589,
          0.002397844245534575,
          0.001761968362091082,
          0.0031702119582994737,
          0.0043757795445065195,
          0.0037813299167293035,
          0.005107038527080832,
          0.014507798577046316,
          0.015037776071542552,
          0.0012615561954800736,
          0.0004356137928134274,
          0.001439455837984216,
          0.002374260944305151,
          0.00880661149237838,
          0.0069422670849577095,
          0.012751147322521472,
          0.009592905976306687,
          0.010979877671038807,
          0.011180478130783822,
          0.014851653105371954,
          0.00480338892567489,
          0.00900858237436064,
          0.026926335105575072,
          0.02912383780149108,
          0.06877841141734176,
          0.07231337896459222
         ],
         "yaxis": "y2"
        }
       ],
       "layout": {
        "autosize": true,
        "template": {
         "data": {
          "bar": [
           {
            "error_x": {
             "color": "#2a3f5f"
            },
            "error_y": {
             "color": "#2a3f5f"
            },
            "marker": {
             "line": {
              "color": "white",
              "width": 0.5
             },
             "pattern": {
              "fillmode": "overlay",
              "size": 10,
              "solidity": 0.2
             }
            },
            "type": "bar"
           }
          ],
          "barpolar": [
           {
            "marker": {
             "line": {
              "color": "white",
              "width": 0.5
             },
             "pattern": {
              "fillmode": "overlay",
              "size": 10,
              "solidity": 0.2
             }
            },
            "type": "barpolar"
           }
          ],
          "carpet": [
           {
            "aaxis": {
             "endlinecolor": "#2a3f5f",
             "gridcolor": "#C8D4E3",
             "linecolor": "#C8D4E3",
             "minorgridcolor": "#C8D4E3",
             "startlinecolor": "#2a3f5f"
            },
            "baxis": {
             "endlinecolor": "#2a3f5f",
             "gridcolor": "#C8D4E3",
             "linecolor": "#C8D4E3",
             "minorgridcolor": "#C8D4E3",
             "startlinecolor": "#2a3f5f"
            },
            "type": "carpet"
           }
          ],
          "choropleth": [
           {
            "colorbar": {
             "outlinewidth": 0,
             "ticks": ""
            },
            "type": "choropleth"
           }
          ],
          "contour": [
           {
            "colorbar": {
             "outlinewidth": 0,
             "ticks": ""
            },
            "colorscale": [
             [
              0,
              "#0d0887"
             ],
             [
              0.1111111111111111,
              "#46039f"
             ],
             [
              0.2222222222222222,
              "#7201a8"
             ],
             [
              0.3333333333333333,
              "#9c179e"
             ],
             [
              0.4444444444444444,
              "#bd3786"
             ],
             [
              0.5555555555555556,
              "#d8576b"
             ],
             [
              0.6666666666666666,
              "#ed7953"
             ],
             [
              0.7777777777777778,
              "#fb9f3a"
             ],
             [
              0.8888888888888888,
              "#fdca26"
             ],
             [
              1,
              "#f0f921"
             ]
            ],
            "type": "contour"
           }
          ],
          "contourcarpet": [
           {
            "colorbar": {
             "outlinewidth": 0,
             "ticks": ""
            },
            "type": "contourcarpet"
           }
          ],
          "heatmap": [
           {
            "colorbar": {
             "outlinewidth": 0,
             "ticks": ""
            },
            "colorscale": [
             [
              0,
              "#0d0887"
             ],
             [
              0.1111111111111111,
              "#46039f"
             ],
             [
              0.2222222222222222,
              "#7201a8"
             ],
             [
              0.3333333333333333,
              "#9c179e"
             ],
             [
              0.4444444444444444,
              "#bd3786"
             ],
             [
              0.5555555555555556,
              "#d8576b"
             ],
             [
              0.6666666666666666,
              "#ed7953"
             ],
             [
              0.7777777777777778,
              "#fb9f3a"
             ],
             [
              0.8888888888888888,
              "#fdca26"
             ],
             [
              1,
              "#f0f921"
             ]
            ],
            "type": "heatmap"
           }
          ],
          "heatmapgl": [
           {
            "colorbar": {
             "outlinewidth": 0,
             "ticks": ""
            },
            "colorscale": [
             [
              0,
              "#0d0887"
             ],
             [
              0.1111111111111111,
              "#46039f"
             ],
             [
              0.2222222222222222,
              "#7201a8"
             ],
             [
              0.3333333333333333,
              "#9c179e"
             ],
             [
              0.4444444444444444,
              "#bd3786"
             ],
             [
              0.5555555555555556,
              "#d8576b"
             ],
             [
              0.6666666666666666,
              "#ed7953"
             ],
             [
              0.7777777777777778,
              "#fb9f3a"
             ],
             [
              0.8888888888888888,
              "#fdca26"
             ],
             [
              1,
              "#f0f921"
             ]
            ],
            "type": "heatmapgl"
           }
          ],
          "histogram": [
           {
            "marker": {
             "pattern": {
              "fillmode": "overlay",
              "size": 10,
              "solidity": 0.2
             }
            },
            "type": "histogram"
           }
          ],
          "histogram2d": [
           {
            "colorbar": {
             "outlinewidth": 0,
             "ticks": ""
            },
            "colorscale": [
             [
              0,
              "#0d0887"
             ],
             [
              0.1111111111111111,
              "#46039f"
             ],
             [
              0.2222222222222222,
              "#7201a8"
             ],
             [
              0.3333333333333333,
              "#9c179e"
             ],
             [
              0.4444444444444444,
              "#bd3786"
             ],
             [
              0.5555555555555556,
              "#d8576b"
             ],
             [
              0.6666666666666666,
              "#ed7953"
             ],
             [
              0.7777777777777778,
              "#fb9f3a"
             ],
             [
              0.8888888888888888,
              "#fdca26"
             ],
             [
              1,
              "#f0f921"
             ]
            ],
            "type": "histogram2d"
           }
          ],
          "histogram2dcontour": [
           {
            "colorbar": {
             "outlinewidth": 0,
             "ticks": ""
            },
            "colorscale": [
             [
              0,
              "#0d0887"
             ],
             [
              0.1111111111111111,
              "#46039f"
             ],
             [
              0.2222222222222222,
              "#7201a8"
             ],
             [
              0.3333333333333333,
              "#9c179e"
             ],
             [
              0.4444444444444444,
              "#bd3786"
             ],
             [
              0.5555555555555556,
              "#d8576b"
             ],
             [
              0.6666666666666666,
              "#ed7953"
             ],
             [
              0.7777777777777778,
              "#fb9f3a"
             ],
             [
              0.8888888888888888,
              "#fdca26"
             ],
             [
              1,
              "#f0f921"
             ]
            ],
            "type": "histogram2dcontour"
           }
          ],
          "mesh3d": [
           {
            "colorbar": {
             "outlinewidth": 0,
             "ticks": ""
            },
            "type": "mesh3d"
           }
          ],
          "parcoords": [
           {
            "line": {
             "colorbar": {
              "outlinewidth": 0,
              "ticks": ""
             }
            },
            "type": "parcoords"
           }
          ],
          "pie": [
           {
            "automargin": true,
            "type": "pie"
           }
          ],
          "scatter": [
           {
            "fillpattern": {
             "fillmode": "overlay",
             "size": 10,
             "solidity": 0.2
            },
            "type": "scatter"
           }
          ],
          "scatter3d": [
           {
            "line": {
             "colorbar": {
              "outlinewidth": 0,
              "ticks": ""
             }
            },
            "marker": {
             "colorbar": {
              "outlinewidth": 0,
              "ticks": ""
             }
            },
            "type": "scatter3d"
           }
          ],
          "scattercarpet": [
           {
            "marker": {
             "colorbar": {
              "outlinewidth": 0,
              "ticks": ""
             }
            },
            "type": "scattercarpet"
           }
          ],
          "scattergeo": [
           {
            "marker": {
             "colorbar": {
              "outlinewidth": 0,
              "ticks": ""
             }
            },
            "type": "scattergeo"
           }
          ],
          "scattergl": [
           {
            "marker": {
             "colorbar": {
              "outlinewidth": 0,
              "ticks": ""
             }
            },
            "type": "scattergl"
           }
          ],
          "scattermapbox": [
           {
            "marker": {
             "colorbar": {
              "outlinewidth": 0,
              "ticks": ""
             }
            },
            "type": "scattermapbox"
           }
          ],
          "scatterpolar": [
           {
            "marker": {
             "colorbar": {
              "outlinewidth": 0,
              "ticks": ""
             }
            },
            "type": "scatterpolar"
           }
          ],
          "scatterpolargl": [
           {
            "marker": {
             "colorbar": {
              "outlinewidth": 0,
              "ticks": ""
             }
            },
            "type": "scatterpolargl"
           }
          ],
          "scatterternary": [
           {
            "marker": {
             "colorbar": {
              "outlinewidth": 0,
              "ticks": ""
             }
            },
            "type": "scatterternary"
           }
          ],
          "surface": [
           {
            "colorbar": {
             "outlinewidth": 0,
             "ticks": ""
            },
            "colorscale": [
             [
              0,
              "#0d0887"
             ],
             [
              0.1111111111111111,
              "#46039f"
             ],
             [
              0.2222222222222222,
              "#7201a8"
             ],
             [
              0.3333333333333333,
              "#9c179e"
             ],
             [
              0.4444444444444444,
              "#bd3786"
             ],
             [
              0.5555555555555556,
              "#d8576b"
             ],
             [
              0.6666666666666666,
              "#ed7953"
             ],
             [
              0.7777777777777778,
              "#fb9f3a"
             ],
             [
              0.8888888888888888,
              "#fdca26"
             ],
             [
              1,
              "#f0f921"
             ]
            ],
            "type": "surface"
           }
          ],
          "table": [
           {
            "cells": {
             "fill": {
              "color": "#EBF0F8"
             },
             "line": {
              "color": "white"
             }
            },
            "header": {
             "fill": {
              "color": "#C8D4E3"
             },
             "line": {
              "color": "white"
             }
            },
            "type": "table"
           }
          ]
         },
         "layout": {
          "annotationdefaults": {
           "arrowcolor": "#2a3f5f",
           "arrowhead": 0,
           "arrowwidth": 1
          },
          "autotypenumbers": "strict",
          "coloraxis": {
           "colorbar": {
            "outlinewidth": 0,
            "ticks": ""
           }
          },
          "colorscale": {
           "diverging": [
            [
             0,
             "#8e0152"
            ],
            [
             0.1,
             "#c51b7d"
            ],
            [
             0.2,
             "#de77ae"
            ],
            [
             0.3,
             "#f1b6da"
            ],
            [
             0.4,
             "#fde0ef"
            ],
            [
             0.5,
             "#f7f7f7"
            ],
            [
             0.6,
             "#e6f5d0"
            ],
            [
             0.7,
             "#b8e186"
            ],
            [
             0.8,
             "#7fbc41"
            ],
            [
             0.9,
             "#4d9221"
            ],
            [
             1,
             "#276419"
            ]
           ],
           "sequential": [
            [
             0,
             "#0d0887"
            ],
            [
             0.1111111111111111,
             "#46039f"
            ],
            [
             0.2222222222222222,
             "#7201a8"
            ],
            [
             0.3333333333333333,
             "#9c179e"
            ],
            [
             0.4444444444444444,
             "#bd3786"
            ],
            [
             0.5555555555555556,
             "#d8576b"
            ],
            [
             0.6666666666666666,
             "#ed7953"
            ],
            [
             0.7777777777777778,
             "#fb9f3a"
            ],
            [
             0.8888888888888888,
             "#fdca26"
            ],
            [
             1,
             "#f0f921"
            ]
           ],
           "sequentialminus": [
            [
             0,
             "#0d0887"
            ],
            [
             0.1111111111111111,
             "#46039f"
            ],
            [
             0.2222222222222222,
             "#7201a8"
            ],
            [
             0.3333333333333333,
             "#9c179e"
            ],
            [
             0.4444444444444444,
             "#bd3786"
            ],
            [
             0.5555555555555556,
             "#d8576b"
            ],
            [
             0.6666666666666666,
             "#ed7953"
            ],
            [
             0.7777777777777778,
             "#fb9f3a"
            ],
            [
             0.8888888888888888,
             "#fdca26"
            ],
            [
             1,
             "#f0f921"
            ]
           ]
          },
          "colorway": [
           "#636efa",
           "#EF553B",
           "#00cc96",
           "#ab63fa",
           "#FFA15A",
           "#19d3f3",
           "#FF6692",
           "#B6E880",
           "#FF97FF",
           "#FECB52"
          ],
          "font": {
           "color": "#2a3f5f"
          },
          "geo": {
           "bgcolor": "white",
           "lakecolor": "white",
           "landcolor": "white",
           "showlakes": true,
           "showland": true,
           "subunitcolor": "#C8D4E3"
          },
          "hoverlabel": {
           "align": "left"
          },
          "hovermode": "closest",
          "mapbox": {
           "style": "light"
          },
          "paper_bgcolor": "white",
          "plot_bgcolor": "white",
          "polar": {
           "angularaxis": {
            "gridcolor": "#EBF0F8",
            "linecolor": "#EBF0F8",
            "ticks": ""
           },
           "bgcolor": "white",
           "radialaxis": {
            "gridcolor": "#EBF0F8",
            "linecolor": "#EBF0F8",
            "ticks": ""
           }
          },
          "scene": {
           "xaxis": {
            "backgroundcolor": "white",
            "gridcolor": "#DFE8F3",
            "gridwidth": 2,
            "linecolor": "#EBF0F8",
            "showbackground": true,
            "ticks": "",
            "zerolinecolor": "#EBF0F8"
           },
           "yaxis": {
            "backgroundcolor": "white",
            "gridcolor": "#DFE8F3",
            "gridwidth": 2,
            "linecolor": "#EBF0F8",
            "showbackground": true,
            "ticks": "",
            "zerolinecolor": "#EBF0F8"
           },
           "zaxis": {
            "backgroundcolor": "white",
            "gridcolor": "#DFE8F3",
            "gridwidth": 2,
            "linecolor": "#EBF0F8",
            "showbackground": true,
            "ticks": "",
            "zerolinecolor": "#EBF0F8"
           }
          },
          "shapedefaults": {
           "line": {
            "color": "#2a3f5f"
           }
          },
          "ternary": {
           "aaxis": {
            "gridcolor": "#DFE8F3",
            "linecolor": "#A2B1C6",
            "ticks": ""
           },
           "baxis": {
            "gridcolor": "#DFE8F3",
            "linecolor": "#A2B1C6",
            "ticks": ""
           },
           "bgcolor": "white",
           "caxis": {
            "gridcolor": "#DFE8F3",
            "linecolor": "#A2B1C6",
            "ticks": ""
           }
          },
          "title": {
           "x": 0.05
          },
          "xaxis": {
           "automargin": true,
           "gridcolor": "#EBF0F8",
           "linecolor": "#EBF0F8",
           "ticks": "",
           "title": {
            "standoff": 15
           },
           "zerolinecolor": "#EBF0F8",
           "zerolinewidth": 2
          },
          "yaxis": {
           "automargin": true,
           "gridcolor": "#EBF0F8",
           "linecolor": "#EBF0F8",
           "ticks": "",
           "title": {
            "standoff": 15
           },
           "zerolinecolor": "#EBF0F8",
           "zerolinewidth": 2
          }
         }
        },
        "xaxis": {
         "anchor": "y",
         "autorange": true,
         "domain": [
          0,
          0.45
         ],
         "range": [
          -14.726260257913246,
          208.72626025791325
         ],
         "type": "category"
        },
        "xaxis2": {
         "anchor": "y2",
         "autorange": true,
         "domain": [
          0.55,
          1
         ],
         "range": [
          -14.726260257913246,
          208.72626025791325
         ],
         "type": "category"
        },
        "yaxis": {
         "anchor": "x",
         "autorange": true,
         "domain": [
          0,
          1
         ],
         "range": [
          1.0047801221737933,
          1.1125017527059398
         ],
         "type": "linear"
        },
        "yaxis2": {
         "anchor": "x2",
         "autorange": true,
         "domain": [
          0,
          1
         ],
         "range": [
          -0.009822915639698691,
          0.08213629460429114
         ],
         "type": "linear"
        }
       }
      },
      "text/html": [
       "<div>                            <div id=\"4f02763d-a78f-4c5c-850e-c7de63a741d9\" class=\"plotly-graph-div\" style=\"height:525px; width:100%;\"></div>            <script type=\"text/javascript\">                require([\"plotly\"], function(Plotly) {                    window.PLOTLYENV=window.PLOTLYENV || {};                                    if (document.getElementById(\"4f02763d-a78f-4c5c-850e-c7de63a741d9\")) {                    Plotly.newPlot(                        \"4f02763d-a78f-4c5c-850e-c7de63a741d9\",                        [{\"mode\":\"markers\",\"name\":\"base\",\"x\":[\"P1UDT942-P1UHS0_1247X.1\",\"P1UDT942-P1UHS0_1247X.2\",\"P1UDT942-P1UHS0_1247X.3\",\"P1UDT882LV.1\",\"P1UDT882LV.2\",\"P1ULV4109.1\",\"P1ULV4109.2\",\"P1UDM3853.1\",\"P1UDM3853.2\",\"P1ULV4110.1\",\"P1ULV4110.2\",\"P1UDT883LV.1\",\"P1UDT883LV.2\",\"P1UDM3854.1\",\"P1UDM3854.2\",\"P1ULV4111.1\",\"P1ULV4111.2\",\"P1UDT884LV.1\",\"P1UDT884LV.2\",\"P1ULV4112.1\",\"P1ULV4112.2\",\"P1UDM3856.1\",\"P1UDM3856.2\",\"P1ULV4113.1\",\"P1ULV4113.2\",\"P1UDT893LV.1\",\"P1UDT893LV.2\",\"P1ULV4136.1\",\"P1ULV4136.2\",\"P1UDM3883.1\",\"P1UDM3883.2\",\"P1ULV4137.1\",\"P1ULV4137.2\",\"P1UDT894LV.1\",\"P1UDT894LV.2\",\"P1UDM3884.1\",\"P1UDM3884.2\",\"P1ULV4138.1\",\"P1ULV4138.2\",\"P1UDT895LV.1\",\"P1UDT895LV.2\",\"P1ULV7543.1\",\"P1ULV7543.2\",\"P1UDM3885.1\",\"P1UDM3885.2\",\"P1ULV4139.1\",\"P1ULV4139.2\",\"P1UDM3887.1\",\"P1UDM3887.2\",\"P1ULV4140.1\",\"P1ULV4140.2\",\"P1UDM3889.1\",\"P1UDM3889.2\",\"P1ULV7633.1\",\"P1ULV7633.2\",\"P1UDT896LV.1\",\"P1UDT896LV.2\",\"P1UDM3888.1\",\"P1UDM3888.2\",\"P1ULV4197.1\",\"P1ULV4197.2\",\"P1UDT909LV.1\",\"P1UDT909LV.2\",\"P1ULV4155.1\",\"P1ULV4155.2\",\"P1UDT942LV.1\",\"P1UDT942LV.2\",\"P1ULV4193.1\",\"P1ULV4193.2\",\"P1UDT943LV.1\",\"P1UDT943LV.2\",\"P1ULV4196.1\",\"P1ULV4196.2\",\"P1UDT1431LV.1\",\"P1UDT1431LV.2\",\"P1ULV7544.1\",\"P1ULV7544.2\",\"P1UDT1432LV.1\",\"P1UDT1432LV.2\",\"P1ULV7546.1\",\"P1ULV7546.2\",\"P1UDT1433LV.1\",\"P1UDT1433LV.2\",\"P1ULV7547.1\",\"P1ULV7547.2\",\"P1UDT908-P1UDT909X.2\",\"P1UDT909.2\",\"P1UDT1433-P1UDT882X.3\",\"P1UDT882.3\",\"P1UDT1432-P1UDT881X.2\",\"P1UDT1432.2\",\"P1UDT896-P1UDT938X.3\",\"P1UDT896.3\",\"P1UDT942.1\",\"P1UDT942.2\",\"P1UDT942.3\",\"P1UDT907LV.1\",\"P1UDT907LV.2\",\"P1UDT907LV.3\",\"P1ULV4153.1\",\"P1ULV4153.2\",\"P1ULV4153.3\",\"P1UDT908LV.1\",\"P1UDT908LV.2\",\"P1UDT908LV.3\",\"P1ULV4154.1\",\"P1ULV4154.2\",\"P1ULV4154.3\",\"P1UDT907.1\",\"P1UDT907.2\",\"P1UDT907.3\",\"P1UDT908.1\",\"P1UDT908.2\",\"P1UDT908.3\",\"P1UDT893.1\",\"P1UDT893.2\",\"P1UDT893.3\",\"P1UDT894.1\",\"P1UDT894.2\",\"P1UDT894.3\",\"P1UDT1425LV.1\",\"P1UDT1425LV.2\",\"P1UDT1425LV.3\",\"P1ULV7531.1\",\"P1ULV7531.2\",\"P1ULV7531.3\",\"P1UDT881LV.1\",\"P1UDT881LV.2\",\"P1UDT881LV.3\",\"P1ULV4108.1\",\"P1ULV4108.2\",\"P1ULV4108.3\",\"P1UDT1425-P1UDT881X.1\",\"P1UDT1425-P1UDT881X.2\",\"P1UDT1425-P1UDT881X.3\",\"P1UDT881.1\",\"P1UDT881.2\",\"P1UDT881.3\",\"P1UDT1433.1\",\"P1UDT1433.2\",\"P1UDT1433.3\",\"P1UDT1425.1\",\"P1UDT1425.2\",\"P1UDT1425.3\",\"P1UDT883.1\",\"P1UDT883.2\",\"P1UDT883.3\",\"P1UDT884.1\",\"P1UDT884.2\",\"P1UDT884.3\",\"P1UDT1431.1\",\"P1UDT1431.2\",\"P1UDT1431.3\",\"P1UDT1431-P1UDT895X.1\",\"P1UDT1431-P1UDT895X.2\",\"P1UDT1431-P1UDT895X.3\",\"P1UDT894-P1UDT895X.1\",\"P1UDT894-P1UDT895X.2\",\"P1UDT894-P1UDT895X.3\",\"P1UDT895.1\",\"P1UDT895.2\",\"P1UDT895.3\",\"P1UDT894-P1UDT942X.1\",\"P1UDT894-P1UDT942X.2\",\"P1UDT894-P1UDT942X.3\",\"P1UDT939LV.1\",\"P1UDT939LV.2\",\"P1UDT939LV.3\",\"P1ULV4189.1\",\"P1ULV4189.2\",\"P1ULV4189.3\",\"P1UDT938LV.1\",\"P1UDT938LV.2\",\"P1UDT938LV.3\",\"P1ULV4188.1\",\"P1ULV4188.2\",\"P1ULV4188.3\",\"P1UDT892LV.1\",\"P1UDT892LV.2\",\"P1UDT892LV.3\",\"P1ULV4132.1\",\"P1ULV4132.2\",\"P1ULV4132.3\",\"P1UDT938.1\",\"P1UDT938.2\",\"P1UDT938.3\",\"P1UDT892.1\",\"P1UDT892.2\",\"P1UDT892.3\",\"P1UDT943.1\",\"P1UDT943.2\",\"P1UDT943.3\",\"P1UDT939.1\",\"P1UDT939.2\",\"P1UDT939.3\"],\"y\":[1.0300000046532098,1.0299999965563416,1.0300000079292182,1.0169718693585956,1.0225045679175013,1.031670671461189,1.0370961760662463,1.047076793509222,1.051122226734694,1.0523412115709039,1.0563695047151112,1.030456465701833,1.0345575461736924,1.0388553988467855,1.0428513820428744,1.0437028494855418,1.0476394440395285,1.0278047851890837,1.0327971672551837,1.0322858862618347,1.0372409486907515,1.0406906930478974,1.0455730409349322,1.0490815858016673,1.0538939998784316,1.027400010683841,1.0275579774715211,1.0266217693116118,1.026780500637132,1.0363789717796945,1.041250451216672,1.0397211484816589,1.0445674286493556,1.0281678775531073,1.0331022687559737,1.0354258372826148,1.0402876335902846,1.0411931805670605,1.0459982982331113,1.0332638373929006,1.0334686959578445,1.037593590489765,1.0377899437807263,1.0324831751306462,1.032685041134076,1.0314991823885535,1.031697276008132,1.0498578839856096,1.0530734560052357,1.0503894718389177,1.053575125840032,1.0911361852553247,1.0942383701310952,1.0979048585645481,1.100995123990006,1.0266851667323889,1.0300545225121043,1.0273490503696923,1.030718178056372,1.0276869913092221,1.031056005969719,1.027552551209943,1.0276984916244387,1.0266751288239528,1.0268218800852358,1.0370044894315096,1.0372061318172834,1.0438760382997037,1.0440588364879244,1.0278677433176946,1.0282539339626078,1.0278799026824492,1.0282668889667177,1.0299437552047848,1.031969712078303,1.0381852659775668,1.0401815158663952,1.027645498802308,1.0298091891015422,1.0307043501569257,1.0328586152496284,1.0391565479551093,1.039207482770269,1.053055136406399,1.053072634844941,1.029962453892403,1.0299604370334419,1.0292406696709504,1.029397033585358,1.0297983477845796,1.0298458032278537,1.0299573408714064,1.0299755509137274,1.02995127165531,1.0300198732593047,1.0299557878956171,1.0217671488003868,1.0218115400437486,1.0216230928278265,1.0214579385321538,1.0215020950350155,1.021313790029545,1.0220311452774062,1.022074329140187,1.021888379740742,1.021768860885653,1.0218118410219157,1.0216261078561268,1.0299220290370967,1.0299660765345187,1.0297790981206785,1.0299195950413575,1.0299624540056596,1.029777917042348,1.029927468540032,1.0299729814988834,1.029782993793495,1.0299688464762369,1.0300047265258454,1.029807235910307,1.018323111442402,1.018056282262891,1.0174112605896222,1.0172000543375979,1.016931326759562,1.016286750889727,1.0235827068073093,1.0233050880230954,1.02262871910333,1.0232126742108305,1.0229343459556846,1.0222581620478255,1.0300772345211873,1.0298139553664374,1.0291761129424468,1.0300742193082215,1.0297983473884729,1.02912622693185,1.0301117503707224,1.029856162860406,1.0292406691053333,1.0300777755818737,1.0298141004976613,1.0291766545007706,1.0301719624257921,1.0298682025519175,1.029334291909355,1.0301840215230917,1.0298973242453078,1.0293540787010216,1.0301594170581927,1.0299288198649459,1.0294411297434998,1.030044757165367,1.0299679462084852,1.0297188422352033,1.0299700781286751,1.0300051758324085,1.0298061881418428,1.0300443544522087,1.0299674967070678,1.029719890373651,1.029951272405206,1.0300198732344732,1.0299557876194725,1.024997309044458,1.025165151919207,1.0250741803965022,1.0247949306997226,1.0249626822551912,1.0248718099068788,1.0268425156052292,1.027033741132097,1.0269362989047224,1.0267286029016656,1.0269197766633167,1.026822408488335,1.0239390702099902,1.0241308426519287,1.0240331220537775,1.023669338678719,1.0238609841249866,1.023763419549868,1.0298638135166684,1.0300545160187842,1.0299573402799729,1.0298625284085139,1.030053230839197,1.0299560553666032,1.0298691362657801,1.0300513670722788,1.0299567390830788,1.0298790784698597,1.0300461569062447,1.0299555996822043],\"type\":\"scatter\",\"xaxis\":\"x\",\"yaxis\":\"y\"},{\"mode\":\"markers\",\"name\":\"opt\",\"x\":[\"P1UDM3853.1\",\"P1UDM3853.2\",\"P1UDM3854.1\",\"P1UDM3854.2\",\"P1UDM3856.1\",\"P1UDM3856.2\",\"P1UDM3883.1\",\"P1UDM3883.2\",\"P1UDM3884.1\",\"P1UDM3884.2\",\"P1UDM3885.1\",\"P1UDM3885.2\",\"P1UDM3887.1\",\"P1UDM3887.2\",\"P1UDM3888.1\",\"P1UDM3888.2\",\"P1UDM3889.1\",\"P1UDM3889.2\",\"P1UDT1425-P1UDT881X.1\",\"P1UDT1425-P1UDT881X.2\",\"P1UDT1425-P1UDT881X.3\",\"P1UDT1425.1\",\"P1UDT1425.2\",\"P1UDT1425.3\",\"P1UDT1425LV.1\",\"P1UDT1425LV.2\",\"P1UDT1425LV.3\",\"P1UDT1431-P1UDT895X.1\",\"P1UDT1431-P1UDT895X.2\",\"P1UDT1431-P1UDT895X.3\",\"P1UDT1431.1\",\"P1UDT1431.2\",\"P1UDT1431.3\",\"P1UDT1431LV.1\",\"P1UDT1431LV.2\",\"P1UDT1432-P1UDT881X.2\",\"P1UDT1432.2\",\"P1UDT1432LV.1\",\"P1UDT1432LV.2\",\"P1UDT1433-P1UDT882X.3\",\"P1UDT1433.1\",\"P1UDT1433.2\",\"P1UDT1433.3\",\"P1UDT1433LV.1\",\"P1UDT1433LV.2\",\"P1UDT881.1\",\"P1UDT881.2\",\"P1UDT881.3\",\"P1UDT881LV.1\",\"P1UDT881LV.2\",\"P1UDT881LV.3\",\"P1UDT882.3\",\"P1UDT882LV.1\",\"P1UDT882LV.2\",\"P1UDT883.1\",\"P1UDT883.2\",\"P1UDT883.3\",\"P1UDT883LV.1\",\"P1UDT883LV.2\",\"P1UDT884.1\",\"P1UDT884.2\",\"P1UDT884.3\",\"P1UDT884LV.1\",\"P1UDT884LV.2\",\"P1UDT892.1\",\"P1UDT892.2\",\"P1UDT892.3\",\"P1UDT892LV.1\",\"P1UDT892LV.2\",\"P1UDT892LV.3\",\"P1UDT893.1\",\"P1UDT893.2\",\"P1UDT893.3\",\"P1UDT893LV.1\",\"P1UDT893LV.2\",\"P1UDT894-P1UDT895X.1\",\"P1UDT894-P1UDT895X.2\",\"P1UDT894-P1UDT895X.3\",\"P1UDT894-P1UDT942X.1\",\"P1UDT894-P1UDT942X.2\",\"P1UDT894-P1UDT942X.3\",\"P1UDT894.1\",\"P1UDT894.2\",\"P1UDT894.3\",\"P1UDT894LV.1\",\"P1UDT894LV.2\",\"P1UDT895.1\",\"P1UDT895.2\",\"P1UDT895.3\",\"P1UDT895LV.1\",\"P1UDT895LV.2\",\"P1UDT896-P1UDT938X.3\",\"P1UDT896.3\",\"P1UDT896LV.1\",\"P1UDT896LV.2\",\"P1UDT907.1\",\"P1UDT907.2\",\"P1UDT907.3\",\"P1UDT907LV.1\",\"P1UDT907LV.2\",\"P1UDT907LV.3\",\"P1UDT908-P1UDT909X.2\",\"P1UDT908.1\",\"P1UDT908.2\",\"P1UDT908.3\",\"P1UDT908LV.1\",\"P1UDT908LV.2\",\"P1UDT908LV.3\",\"P1UDT909.2\",\"P1UDT909LV.1\",\"P1UDT909LV.2\",\"P1UDT938.1\",\"P1UDT938.2\",\"P1UDT938.3\",\"P1UDT938LV.1\",\"P1UDT938LV.2\",\"P1UDT938LV.3\",\"P1UDT939.1\",\"P1UDT939.2\",\"P1UDT939.3\",\"P1UDT939LV.1\",\"P1UDT939LV.2\",\"P1UDT939LV.3\",\"P1UDT942-P1UHS0_1247X.1\",\"P1UDT942-P1UHS0_1247X.2\",\"P1UDT942-P1UHS0_1247X.3\",\"P1UDT942.1\",\"P1UDT942.2\",\"P1UDT942.3\",\"P1UDT942LV.1\",\"P1UDT942LV.2\",\"P1UDT943.1\",\"P1UDT943.2\",\"P1UDT943.3\",\"P1UDT943LV.1\",\"P1UDT943LV.2\",\"P1ULV4108.1\",\"P1ULV4108.2\",\"P1ULV4108.3\",\"P1ULV4109.1\",\"P1ULV4109.2\",\"P1ULV4110.1\",\"P1ULV4110.2\",\"P1ULV4111.1\",\"P1ULV4111.2\",\"P1ULV4112.1\",\"P1ULV4112.2\",\"P1ULV4113.1\",\"P1ULV4113.2\",\"P1ULV4132.1\",\"P1ULV4132.2\",\"P1ULV4132.3\",\"P1ULV4136.1\",\"P1ULV4136.2\",\"P1ULV4137.1\",\"P1ULV4137.2\",\"P1ULV4138.1\",\"P1ULV4138.2\",\"P1ULV4139.1\",\"P1ULV4139.2\",\"P1ULV4140.1\",\"P1ULV4140.2\",\"P1ULV4153.1\",\"P1ULV4153.2\",\"P1ULV4153.3\",\"P1ULV4154.1\",\"P1ULV4154.2\",\"P1ULV4154.3\",\"P1ULV4155.1\",\"P1ULV4155.2\",\"P1ULV4188.1\",\"P1ULV4188.2\",\"P1ULV4188.3\",\"P1ULV4189.1\",\"P1ULV4189.2\",\"P1ULV4189.3\",\"P1ULV4193.1\",\"P1ULV4193.2\",\"P1ULV4196.1\",\"P1ULV4196.2\",\"P1ULV4197.1\",\"P1ULV4197.2\",\"P1ULV7531.1\",\"P1ULV7531.2\",\"P1ULV7531.3\",\"P1ULV7543.1\",\"P1ULV7543.2\",\"P1ULV7544.1\",\"P1ULV7544.2\",\"P1ULV7546.1\",\"P1ULV7546.2\",\"P1ULV7547.1\",\"P1ULV7547.2\",\"P1ULV7633.1\",\"P1ULV7633.2\"],\"y\":[1.026492683938728,1.024443019916191,1.026492683938728,1.024443019916191,1.026647158549805,1.0247494956431873,1.0283637506850007,1.0274391403291991,1.0283637506850007,1.027439140329199,1.0280006845134584,1.0268100661096877,1.0291264471472066,1.0286817450254138,1.0291264471472064,1.028681745025414,1.0291264471472064,1.0286817450254135,1.0260048119264082,1.0238726403981826,1.0290360549673432,1.0260066658300238,1.0238735938445662,1.029037898212324,1.0260066658299762,1.0238735938445198,1.0290378982122492,1.0279923060338096,1.0268029876702272,1.0296679656487835,1.0270047878467827,1.0253298627610232,1.029472139143839,1.0270047878467827,1.0253298627610228,1.023820573421425,1.0238500328752678,1.0259009612312509,1.0238500328752678,1.0292303304329862,1.0261288013008238,1.0239487970434502,1.0292303308038555,1.026128801300824,1.0239487970434498,1.0259009612312509,1.0238205732735264,1.0288976433047907,1.0259009612312149,1.0238205732734915,1.0288976433047268,1.0291697214587776,1.0261288013008238,1.02394879704345,1.0264926839387278,1.024443019916191,1.0293700486465194,1.026492683938728,1.024443019916191,1.026647158549805,1.0247494956431875,1.0293993058415298,1.0266471585498051,1.0247494956431873,1.0291251952709919,1.0286804926080089,1.0299913696231966,1.0291251952709803,1.028680492607997,1.029991369623185,1.0282315572959897,1.0273380049887693,1.029524114624125,1.02823155729599,1.0273380049887695,1.0283556279228983,1.02743124584018,1.0297131777823345,1.0293682285428807,1.0290210495550187,1.0299273562575217,1.0283637506850007,1.027439140329199,1.0297177784514175,1.028363750685001,1.027439140329199,1.0280006845134584,1.0268100661096875,1.0296725665199014,1.0280006845134582,1.0268100661096877,1.029992620268752,1.0299882295711966,1.0291264471472064,1.0286817450254138,1.0282095175566253,1.0273184780341158,1.0294893141668988,1.028209517556609,1.0273184780340994,1.0294893141668817,1.0273045693993705,1.02819360072247,1.0273045695101397,1.0294631725265075,1.028193600722328,1.0273045695099998,1.0294631725263008,1.0273025977319616,1.0281936007224697,1.0273025977319614,1.0291264471472064,1.0286817450254138,1.0299926204466407,1.0291264471472001,1.0286817450254075,1.0299926204466345,1.0291707102442385,1.0287440121719302,1.0299788484339696,1.0291707102442291,1.0287440121719207,1.0299788484339596,1.030000007929218,1.030000007929218,1.030000007929218,1.0293682397226573,1.029021060416382,1.0299273629241692,1.0293682397226576,1.029021060416382,1.029141458877929,1.028702502759531,1.0299879979887052,1.0291414588779293,1.0287025027595311,1.0259009612312147,1.0238205732734915,1.0288976433047268,1.026128801300824,1.02394879704345,1.026492683938728,1.024443019916191,1.026492683938728,1.0244430199161907,1.026647158549805,1.0247494956431873,1.026647158549805,1.0247494956431873,1.0291251952709806,1.028680492607997,1.0299913696231848,1.0282315572959897,1.0273380049887695,1.0283637506850007,1.027439140329199,1.0283637506850007,1.0274391403291991,1.0280006845134582,1.0268100661096877,1.0291264471472064,1.0286817450254135,1.028209517556609,1.0273184780340994,1.0294893141668817,1.0281936007223278,1.0273045695099998,1.0294631725263004,1.02819360072247,1.0273025977319616,1.0291264471472001,1.0286817450254078,1.0299926204466345,1.0291707102442291,1.0287440121719205,1.0299788484339596,1.0293682397226573,1.0290210604163819,1.0291414588779293,1.0287025027595311,1.0291264471472064,1.0286817450254138,1.0260066658299762,1.0238735938445198,1.0290378982122486,1.0280006845134584,1.0268100661096875,1.027004787846783,1.0253298627610232,1.0259009612312509,1.0238500328752678,1.0261288013008238,1.02394879704345,1.0291264471472064,1.0286817450254138],\"type\":\"scatter\",\"xaxis\":\"x\",\"yaxis\":\"y\"},{\"mode\":\"markers\",\"name\":\"diff\",\"x\":[\"P1UDM3853.1\",\"P1UDM3853.2\",\"P1UDM3854.1\",\"P1UDM3854.2\",\"P1UDM3856.1\",\"P1UDM3856.2\",\"P1UDM3883.1\",\"P1UDM3883.2\",\"P1UDM3884.1\",\"P1UDM3884.2\",\"P1UDM3885.1\",\"P1UDM3885.2\",\"P1UDM3887.1\",\"P1UDM3887.2\",\"P1UDM3888.1\",\"P1UDM3888.2\",\"P1UDM3889.1\",\"P1UDM3889.2\",\"P1UDT1425-P1UDT881X.1\",\"P1UDT1425-P1UDT881X.2\",\"P1UDT1425-P1UDT881X.3\",\"P1UDT1425.1\",\"P1UDT1425.2\",\"P1UDT1425.3\",\"P1UDT1425LV.1\",\"P1UDT1425LV.2\",\"P1UDT1425LV.3\",\"P1UDT1431-P1UDT895X.1\",\"P1UDT1431-P1UDT895X.2\",\"P1UDT1431-P1UDT895X.3\",\"P1UDT1431.1\",\"P1UDT1431.2\",\"P1UDT1431.3\",\"P1UDT1431LV.1\",\"P1UDT1431LV.2\",\"P1UDT1432-P1UDT881X.2\",\"P1UDT1432.2\",\"P1UDT1432LV.1\",\"P1UDT1432LV.2\",\"P1UDT1433-P1UDT882X.3\",\"P1UDT1433.1\",\"P1UDT1433.2\",\"P1UDT1433.3\",\"P1UDT1433LV.1\",\"P1UDT1433LV.2\",\"P1UDT881.1\",\"P1UDT881.2\",\"P1UDT881.3\",\"P1UDT881LV.1\",\"P1UDT881LV.2\",\"P1UDT881LV.3\",\"P1UDT882.3\",\"P1UDT882LV.1\",\"P1UDT882LV.2\",\"P1UDT883.1\",\"P1UDT883.2\",\"P1UDT883.3\",\"P1UDT883LV.1\",\"P1UDT883LV.2\",\"P1UDT884.1\",\"P1UDT884.2\",\"P1UDT884.3\",\"P1UDT884LV.1\",\"P1UDT884LV.2\",\"P1UDT892.1\",\"P1UDT892.2\",\"P1UDT892.3\",\"P1UDT892LV.1\",\"P1UDT892LV.2\",\"P1UDT892LV.3\",\"P1UDT893.1\",\"P1UDT893.2\",\"P1UDT893.3\",\"P1UDT893LV.1\",\"P1UDT893LV.2\",\"P1UDT894-P1UDT895X.1\",\"P1UDT894-P1UDT895X.2\",\"P1UDT894-P1UDT895X.3\",\"P1UDT894-P1UDT942X.1\",\"P1UDT894-P1UDT942X.2\",\"P1UDT894-P1UDT942X.3\",\"P1UDT894.1\",\"P1UDT894.2\",\"P1UDT894.3\",\"P1UDT894LV.1\",\"P1UDT894LV.2\",\"P1UDT895.1\",\"P1UDT895.2\",\"P1UDT895.3\",\"P1UDT895LV.1\",\"P1UDT895LV.2\",\"P1UDT896-P1UDT938X.3\",\"P1UDT896.3\",\"P1UDT896LV.1\",\"P1UDT896LV.2\",\"P1UDT907.1\",\"P1UDT907.2\",\"P1UDT907.3\",\"P1UDT907LV.1\",\"P1UDT907LV.2\",\"P1UDT907LV.3\",\"P1UDT908-P1UDT909X.2\",\"P1UDT908.1\",\"P1UDT908.2\",\"P1UDT908.3\",\"P1UDT908LV.1\",\"P1UDT908LV.2\",\"P1UDT908LV.3\",\"P1UDT909.2\",\"P1UDT909LV.1\",\"P1UDT909LV.2\",\"P1UDT938.1\",\"P1UDT938.2\",\"P1UDT938.3\",\"P1UDT938LV.1\",\"P1UDT938LV.2\",\"P1UDT938LV.3\",\"P1UDT939.1\",\"P1UDT939.2\",\"P1UDT939.3\",\"P1UDT939LV.1\",\"P1UDT939LV.2\",\"P1UDT939LV.3\",\"P1UDT942-P1UHS0_1247X.1\",\"P1UDT942-P1UHS0_1247X.2\",\"P1UDT942-P1UHS0_1247X.3\",\"P1UDT942.1\",\"P1UDT942.2\",\"P1UDT942.3\",\"P1UDT942LV.1\",\"P1UDT942LV.2\",\"P1UDT943.1\",\"P1UDT943.2\",\"P1UDT943.3\",\"P1UDT943LV.1\",\"P1UDT943LV.2\",\"P1ULV4108.1\",\"P1ULV4108.2\",\"P1ULV4108.3\",\"P1ULV4109.1\",\"P1ULV4109.2\",\"P1ULV4110.1\",\"P1ULV4110.2\",\"P1ULV4111.1\",\"P1ULV4111.2\",\"P1ULV4112.1\",\"P1ULV4112.2\",\"P1ULV4113.1\",\"P1ULV4113.2\",\"P1ULV4132.1\",\"P1ULV4132.2\",\"P1ULV4132.3\",\"P1ULV4136.1\",\"P1ULV4136.2\",\"P1ULV4137.1\",\"P1ULV4137.2\",\"P1ULV4138.1\",\"P1ULV4138.2\",\"P1ULV4139.1\",\"P1ULV4139.2\",\"P1ULV4140.1\",\"P1ULV4140.2\",\"P1ULV4153.1\",\"P1ULV4153.2\",\"P1ULV4153.3\",\"P1ULV4154.1\",\"P1ULV4154.2\",\"P1ULV4154.3\",\"P1ULV4155.1\",\"P1ULV4155.2\",\"P1ULV4188.1\",\"P1ULV4188.2\",\"P1ULV4188.3\",\"P1ULV4189.1\",\"P1ULV4189.2\",\"P1ULV4189.3\",\"P1ULV4193.1\",\"P1ULV4193.2\",\"P1ULV4196.1\",\"P1ULV4196.2\",\"P1ULV4197.1\",\"P1ULV4197.2\",\"P1ULV7531.1\",\"P1ULV7531.2\",\"P1ULV7531.3\",\"P1ULV7543.1\",\"P1ULV7543.2\",\"P1ULV7544.1\",\"P1ULV7544.2\",\"P1ULV7546.1\",\"P1ULV7546.2\",\"P1ULV7547.1\",\"P1ULV7547.2\",\"P1ULV7633.1\",\"P1ULV7633.2\"],\"y\":[0.020584109570493947,0.02667920681850311,0.012362714908057404,0.01840836212668351,0.01404353449809248,0.020823545291744905,0.00801522109469377,0.013811310887472894,0.007062086597614092,0.012848493261085725,0.004482490617187862,0.005874975024388274,0.02073143683840306,0.024391710979821957,0.0017773967775140953,0.002036433030957907,0.062009738108118384,0.06555662510568161,0.004072422594779024,0.005941314968254785,0.0001400579751036357,0.004071109751849988,0.00594050665309509,0.00013875628844650656,0.007683554387574176,0.005817311581628903,0.011626637622627056,0.002052451131557387,0.0031649585382580447,5.08765864197791e-05,0.003154629211409965,0.004598957103922663,3.100940033928801e-05,0.0029389673580020315,0.006639849317280122,0.005977774363154609,0.005995770352585916,0.001744537571057192,0.005959156226274409,1.0339237964229753e-05,0.0039829490698986,0.005907365816955723,1.0338301477785805e-05,0.013027746654285188,0.015258685726819321,0.004173258076970665,0.005977774114946488,0.0002285836270592423,0.0023182544239055414,0.0005154852503961305,0.006268924201396686,0.00022731212658033684,0.00915693194222822,0.0014442291259486595,0.003679278487064286,0.005425182635726555,3.575673716427197e-05,0.003963781763104857,0.010114526257501533,0.003536862973286814,0.0051478286021202635,4.522714050825272e-05,0.0011576266392785417,0.008047671611996376,0.0007373331375220005,0.0013727382311881087,3.531425659342169e-05,0.005186125060990143,0.004549649956068436,0.005958247569407549,0.0016959112440422253,0.0026349765101141287,0.00025887916937006317,0.0008315466121489035,0.00021997248275162917,0.001614450205776885,0.0025739299922284964,9.301035950826098e-05,0.0005830438623253276,0.0009988236794544747,2.8431361950742584e-05,0.001605095791236133,0.0025655861966464855,8.945745888944145e-05,0.0001958731318936202,0.005663128426774744,0.00204366993875027,0.003157430597380273,4.7323853749725586e-05,0.0052631528794424565,0.006658629848156794,3.5279397345489016e-05,1.2678657469233912e-05,0.002441280414817504,0.001372777486690513,0.001712511480471468,0.002647598500402859,0.00028978395377965427,0.006442368756222283,0.005506937990350735,0.007866221339055235,0.002657884493032503,0.001725994318887647,0.0026578844955198466,0.00031474451584045937,0.006162455444921777,0.005230240369812789,0.007574792785558726,0.002657839301480225,0.0006410495125266369,0.0003958938924772948,0.0007373663694620891,0.001372770993370409,3.528016666787259e-05,0.0022839315419709294,0.0016480038933106567,0.0030563215419121548,0.0007083682256212587,0.0013021447343144477,2.3248751765292397e-05,0.004173401199771165,0.0035788602527135893,0.0049046680374573715,3.2760081314364697e-09,1.1372876418391797e-08,2.220446049250313e-16,0.0005830319326527444,0.0009988128429225807,2.8424971447948977e-05,0.0076362497088520165,0.0081850714009013,0.0007276773878510667,0.0013488643127479438,3.125890562638567e-05,0.0012737155602347006,0.00044856879692334317,0.0026882870203841502,0.0008862273178069646,0.006639481256901281,0.005541870160364892,0.01314737902279628,0.02584852763217582,0.03192648479892024,0.01721016554681376,0.023196424123337778,0.0056387277120297785,0.01249145304756416,0.0224344272518624,0.029144504235244284,0.005455856592261554,0.004819508483010493,0.00622795007331689,0.0016097879843779417,0.0005575043516374834,0.01135739779665812,0.01712828832015667,0.012829429882059706,0.01855915790391216,0.0034984978750953744,0.004887209898444267,0.021263024691711374,0.02489338081461856,0.006751579024455223,0.0058163829990838245,0.008175524137336687,0.006424739836674798,0.005492728488084131,0.007837064670173532,0.0015184718985170598,0.0004807176467258589,0.002397844245534575,0.001761968362091082,0.0031702119582994737,0.0043757795445065195,0.0037813299167293035,0.005107038527080832,0.014507798577046316,0.015037776071542552,0.0012615561954800736,0.0004356137928134274,0.001439455837984216,0.002374260944305151,0.00880661149237838,0.0069422670849577095,0.012751147322521472,0.009592905976306687,0.010979877671038807,0.011180478130783822,0.014851653105371954,0.00480338892567489,0.00900858237436064,0.026926335105575072,0.02912383780149108,0.06877841141734176,0.07231337896459222],\"type\":\"scatter\",\"xaxis\":\"x2\",\"yaxis\":\"y2\"}],                        {\"template\":{\"data\":{\"barpolar\":[{\"marker\":{\"line\":{\"color\":\"white\",\"width\":0.5},\"pattern\":{\"fillmode\":\"overlay\",\"size\":10,\"solidity\":0.2}},\"type\":\"barpolar\"}],\"bar\":[{\"error_x\":{\"color\":\"#2a3f5f\"},\"error_y\":{\"color\":\"#2a3f5f\"},\"marker\":{\"line\":{\"color\":\"white\",\"width\":0.5},\"pattern\":{\"fillmode\":\"overlay\",\"size\":10,\"solidity\":0.2}},\"type\":\"bar\"}],\"carpet\":[{\"aaxis\":{\"endlinecolor\":\"#2a3f5f\",\"gridcolor\":\"#C8D4E3\",\"linecolor\":\"#C8D4E3\",\"minorgridcolor\":\"#C8D4E3\",\"startlinecolor\":\"#2a3f5f\"},\"baxis\":{\"endlinecolor\":\"#2a3f5f\",\"gridcolor\":\"#C8D4E3\",\"linecolor\":\"#C8D4E3\",\"minorgridcolor\":\"#C8D4E3\",\"startlinecolor\":\"#2a3f5f\"},\"type\":\"carpet\"}],\"choropleth\":[{\"colorbar\":{\"outlinewidth\":0,\"ticks\":\"\"},\"type\":\"choropleth\"}],\"contourcarpet\":[{\"colorbar\":{\"outlinewidth\":0,\"ticks\":\"\"},\"type\":\"contourcarpet\"}],\"contour\":[{\"colorbar\":{\"outlinewidth\":0,\"ticks\":\"\"},\"colorscale\":[[0.0,\"#0d0887\"],[0.1111111111111111,\"#46039f\"],[0.2222222222222222,\"#7201a8\"],[0.3333333333333333,\"#9c179e\"],[0.4444444444444444,\"#bd3786\"],[0.5555555555555556,\"#d8576b\"],[0.6666666666666666,\"#ed7953\"],[0.7777777777777778,\"#fb9f3a\"],[0.8888888888888888,\"#fdca26\"],[1.0,\"#f0f921\"]],\"type\":\"contour\"}],\"heatmapgl\":[{\"colorbar\":{\"outlinewidth\":0,\"ticks\":\"\"},\"colorscale\":[[0.0,\"#0d0887\"],[0.1111111111111111,\"#46039f\"],[0.2222222222222222,\"#7201a8\"],[0.3333333333333333,\"#9c179e\"],[0.4444444444444444,\"#bd3786\"],[0.5555555555555556,\"#d8576b\"],[0.6666666666666666,\"#ed7953\"],[0.7777777777777778,\"#fb9f3a\"],[0.8888888888888888,\"#fdca26\"],[1.0,\"#f0f921\"]],\"type\":\"heatmapgl\"}],\"heatmap\":[{\"colorbar\":{\"outlinewidth\":0,\"ticks\":\"\"},\"colorscale\":[[0.0,\"#0d0887\"],[0.1111111111111111,\"#46039f\"],[0.2222222222222222,\"#7201a8\"],[0.3333333333333333,\"#9c179e\"],[0.4444444444444444,\"#bd3786\"],[0.5555555555555556,\"#d8576b\"],[0.6666666666666666,\"#ed7953\"],[0.7777777777777778,\"#fb9f3a\"],[0.8888888888888888,\"#fdca26\"],[1.0,\"#f0f921\"]],\"type\":\"heatmap\"}],\"histogram2dcontour\":[{\"colorbar\":{\"outlinewidth\":0,\"ticks\":\"\"},\"colorscale\":[[0.0,\"#0d0887\"],[0.1111111111111111,\"#46039f\"],[0.2222222222222222,\"#7201a8\"],[0.3333333333333333,\"#9c179e\"],[0.4444444444444444,\"#bd3786\"],[0.5555555555555556,\"#d8576b\"],[0.6666666666666666,\"#ed7953\"],[0.7777777777777778,\"#fb9f3a\"],[0.8888888888888888,\"#fdca26\"],[1.0,\"#f0f921\"]],\"type\":\"histogram2dcontour\"}],\"histogram2d\":[{\"colorbar\":{\"outlinewidth\":0,\"ticks\":\"\"},\"colorscale\":[[0.0,\"#0d0887\"],[0.1111111111111111,\"#46039f\"],[0.2222222222222222,\"#7201a8\"],[0.3333333333333333,\"#9c179e\"],[0.4444444444444444,\"#bd3786\"],[0.5555555555555556,\"#d8576b\"],[0.6666666666666666,\"#ed7953\"],[0.7777777777777778,\"#fb9f3a\"],[0.8888888888888888,\"#fdca26\"],[1.0,\"#f0f921\"]],\"type\":\"histogram2d\"}],\"histogram\":[{\"marker\":{\"pattern\":{\"fillmode\":\"overlay\",\"size\":10,\"solidity\":0.2}},\"type\":\"histogram\"}],\"mesh3d\":[{\"colorbar\":{\"outlinewidth\":0,\"ticks\":\"\"},\"type\":\"mesh3d\"}],\"parcoords\":[{\"line\":{\"colorbar\":{\"outlinewidth\":0,\"ticks\":\"\"}},\"type\":\"parcoords\"}],\"pie\":[{\"automargin\":true,\"type\":\"pie\"}],\"scatter3d\":[{\"line\":{\"colorbar\":{\"outlinewidth\":0,\"ticks\":\"\"}},\"marker\":{\"colorbar\":{\"outlinewidth\":0,\"ticks\":\"\"}},\"type\":\"scatter3d\"}],\"scattercarpet\":[{\"marker\":{\"colorbar\":{\"outlinewidth\":0,\"ticks\":\"\"}},\"type\":\"scattercarpet\"}],\"scattergeo\":[{\"marker\":{\"colorbar\":{\"outlinewidth\":0,\"ticks\":\"\"}},\"type\":\"scattergeo\"}],\"scattergl\":[{\"marker\":{\"colorbar\":{\"outlinewidth\":0,\"ticks\":\"\"}},\"type\":\"scattergl\"}],\"scattermapbox\":[{\"marker\":{\"colorbar\":{\"outlinewidth\":0,\"ticks\":\"\"}},\"type\":\"scattermapbox\"}],\"scatterpolargl\":[{\"marker\":{\"colorbar\":{\"outlinewidth\":0,\"ticks\":\"\"}},\"type\":\"scatterpolargl\"}],\"scatterpolar\":[{\"marker\":{\"colorbar\":{\"outlinewidth\":0,\"ticks\":\"\"}},\"type\":\"scatterpolar\"}],\"scatter\":[{\"fillpattern\":{\"fillmode\":\"overlay\",\"size\":10,\"solidity\":0.2},\"type\":\"scatter\"}],\"scatterternary\":[{\"marker\":{\"colorbar\":{\"outlinewidth\":0,\"ticks\":\"\"}},\"type\":\"scatterternary\"}],\"surface\":[{\"colorbar\":{\"outlinewidth\":0,\"ticks\":\"\"},\"colorscale\":[[0.0,\"#0d0887\"],[0.1111111111111111,\"#46039f\"],[0.2222222222222222,\"#7201a8\"],[0.3333333333333333,\"#9c179e\"],[0.4444444444444444,\"#bd3786\"],[0.5555555555555556,\"#d8576b\"],[0.6666666666666666,\"#ed7953\"],[0.7777777777777778,\"#fb9f3a\"],[0.8888888888888888,\"#fdca26\"],[1.0,\"#f0f921\"]],\"type\":\"surface\"}],\"table\":[{\"cells\":{\"fill\":{\"color\":\"#EBF0F8\"},\"line\":{\"color\":\"white\"}},\"header\":{\"fill\":{\"color\":\"#C8D4E3\"},\"line\":{\"color\":\"white\"}},\"type\":\"table\"}]},\"layout\":{\"annotationdefaults\":{\"arrowcolor\":\"#2a3f5f\",\"arrowhead\":0,\"arrowwidth\":1},\"autotypenumbers\":\"strict\",\"coloraxis\":{\"colorbar\":{\"outlinewidth\":0,\"ticks\":\"\"}},\"colorscale\":{\"diverging\":[[0,\"#8e0152\"],[0.1,\"#c51b7d\"],[0.2,\"#de77ae\"],[0.3,\"#f1b6da\"],[0.4,\"#fde0ef\"],[0.5,\"#f7f7f7\"],[0.6,\"#e6f5d0\"],[0.7,\"#b8e186\"],[0.8,\"#7fbc41\"],[0.9,\"#4d9221\"],[1,\"#276419\"]],\"sequential\":[[0.0,\"#0d0887\"],[0.1111111111111111,\"#46039f\"],[0.2222222222222222,\"#7201a8\"],[0.3333333333333333,\"#9c179e\"],[0.4444444444444444,\"#bd3786\"],[0.5555555555555556,\"#d8576b\"],[0.6666666666666666,\"#ed7953\"],[0.7777777777777778,\"#fb9f3a\"],[0.8888888888888888,\"#fdca26\"],[1.0,\"#f0f921\"]],\"sequentialminus\":[[0.0,\"#0d0887\"],[0.1111111111111111,\"#46039f\"],[0.2222222222222222,\"#7201a8\"],[0.3333333333333333,\"#9c179e\"],[0.4444444444444444,\"#bd3786\"],[0.5555555555555556,\"#d8576b\"],[0.6666666666666666,\"#ed7953\"],[0.7777777777777778,\"#fb9f3a\"],[0.8888888888888888,\"#fdca26\"],[1.0,\"#f0f921\"]]},\"colorway\":[\"#636efa\",\"#EF553B\",\"#00cc96\",\"#ab63fa\",\"#FFA15A\",\"#19d3f3\",\"#FF6692\",\"#B6E880\",\"#FF97FF\",\"#FECB52\"],\"font\":{\"color\":\"#2a3f5f\"},\"geo\":{\"bgcolor\":\"white\",\"lakecolor\":\"white\",\"landcolor\":\"white\",\"showlakes\":true,\"showland\":true,\"subunitcolor\":\"#C8D4E3\"},\"hoverlabel\":{\"align\":\"left\"},\"hovermode\":\"closest\",\"mapbox\":{\"style\":\"light\"},\"paper_bgcolor\":\"white\",\"plot_bgcolor\":\"white\",\"polar\":{\"angularaxis\":{\"gridcolor\":\"#EBF0F8\",\"linecolor\":\"#EBF0F8\",\"ticks\":\"\"},\"bgcolor\":\"white\",\"radialaxis\":{\"gridcolor\":\"#EBF0F8\",\"linecolor\":\"#EBF0F8\",\"ticks\":\"\"}},\"scene\":{\"xaxis\":{\"backgroundcolor\":\"white\",\"gridcolor\":\"#DFE8F3\",\"gridwidth\":2,\"linecolor\":\"#EBF0F8\",\"showbackground\":true,\"ticks\":\"\",\"zerolinecolor\":\"#EBF0F8\"},\"yaxis\":{\"backgroundcolor\":\"white\",\"gridcolor\":\"#DFE8F3\",\"gridwidth\":2,\"linecolor\":\"#EBF0F8\",\"showbackground\":true,\"ticks\":\"\",\"zerolinecolor\":\"#EBF0F8\"},\"zaxis\":{\"backgroundcolor\":\"white\",\"gridcolor\":\"#DFE8F3\",\"gridwidth\":2,\"linecolor\":\"#EBF0F8\",\"showbackground\":true,\"ticks\":\"\",\"zerolinecolor\":\"#EBF0F8\"}},\"shapedefaults\":{\"line\":{\"color\":\"#2a3f5f\"}},\"ternary\":{\"aaxis\":{\"gridcolor\":\"#DFE8F3\",\"linecolor\":\"#A2B1C6\",\"ticks\":\"\"},\"baxis\":{\"gridcolor\":\"#DFE8F3\",\"linecolor\":\"#A2B1C6\",\"ticks\":\"\"},\"bgcolor\":\"white\",\"caxis\":{\"gridcolor\":\"#DFE8F3\",\"linecolor\":\"#A2B1C6\",\"ticks\":\"\"}},\"title\":{\"x\":0.05},\"xaxis\":{\"automargin\":true,\"gridcolor\":\"#EBF0F8\",\"linecolor\":\"#EBF0F8\",\"ticks\":\"\",\"title\":{\"standoff\":15},\"zerolinecolor\":\"#EBF0F8\",\"zerolinewidth\":2},\"yaxis\":{\"automargin\":true,\"gridcolor\":\"#EBF0F8\",\"linecolor\":\"#EBF0F8\",\"ticks\":\"\",\"title\":{\"standoff\":15},\"zerolinecolor\":\"#EBF0F8\",\"zerolinewidth\":2}}},\"xaxis\":{\"anchor\":\"y\",\"domain\":[0.0,0.45]},\"yaxis\":{\"anchor\":\"x\",\"domain\":[0.0,1.0]},\"xaxis2\":{\"anchor\":\"y2\",\"domain\":[0.55,1.0]},\"yaxis2\":{\"anchor\":\"x2\",\"domain\":[0.0,1.0]}},                        {\"responsive\": true}                    ).then(function(){\n",
       "                            \n",
       "var gd = document.getElementById('4f02763d-a78f-4c5c-850e-c7de63a741d9');\n",
       "var x = new MutationObserver(function (mutations, observer) {{\n",
       "        var display = window.getComputedStyle(gd).display;\n",
       "        if (!display || display === 'none') {{\n",
       "            console.log([gd, 'removed!']);\n",
       "            Plotly.purge(gd);\n",
       "            observer.disconnect();\n",
       "        }}\n",
       "}});\n",
       "\n",
       "// Listen for the removal of the full notebook cells\n",
       "var notebookContainer = gd.closest('#notebook-container');\n",
       "if (notebookContainer) {{\n",
       "    x.observe(notebookContainer, {childList: true});\n",
       "}}\n",
       "\n",
       "// Listen for the clearing of the current output cell\n",
       "var outputEl = gd.closest('.output');\n",
       "if (outputEl) {{\n",
       "    x.observe(outputEl, {childList: true});\n",
       "}}\n",
       "\n",
       "                        })                };                });            </script>        </div>"
      ]
     },
     "metadata": {},
     "output_type": "display_data"
    }
   ],
   "source": [
    "ts = dt.datetime(2018, 5, 1, 12)\n",
    "true = true_voltages.loc[ts].abs() / base_voltages\n",
    "est = est_voltages.loc[ts].abs()/base_voltages\n",
    "error = (true - est).abs()\n",
    "\n",
    "fig = make_subplots(rows=1, cols=2)\n",
    "fig.add_trace(\n",
    "    go.Scatter(name=\"base\", x=true.index, y=true.values, mode=\"markers\"), row=1, col=1\n",
    ")\n",
    "fig.add_trace(\n",
    "    go.Scatter(name=\"opt\", x=est.index, y=est.values, mode=\"markers\"), row=1, col=1\n",
    ")\n",
    "fig.add_trace(\n",
    "    go.Scatter(name=\"diff\", x=error.index, y=error.values, mode=\"markers\"),\n",
    "    row=1,\n",
    "    col=2,\n",
    ")\n",
    "fig.update_layout(template=\"plotly_white\")\n",
    "fig.show()"
   ]
  },
  {
   "cell_type": "code",
   "execution_count": 222,
   "id": "f41dfbcc-9037-43c0-82b4-c57611bb1b06",
   "metadata": {},
   "outputs": [
    {
     "data": {
      "application/vnd.plotly.v1+json": {
       "config": {
        "plotlyServerURL": "https://plot.ly"
       },
       "data": [
        {
         "mode": "markers",
         "name": "base",
         "type": "scatter",
         "x": [
          "P1ULV4113.2",
          "P1UDT942.3",
          "P1UDT1433LV.1",
          "P1ULV7547.1",
          "P1UDT896LV.2",
          "P1UDM3883.1",
          "P1UDT881LV.1",
          "P1UDT939.1",
          "P1UDT896.3",
          "P1UDT884.3",
          "P1UDM3853.2",
          "P1ULV4109.1",
          "P1UDT907LV.1",
          "P1ULV4154.3",
          "P1UDT1432LV.1",
          "P1UDT1431-P1UDT895X.2",
          "P1ULV7633.1",
          "P1UDT896LV.1",
          "P1UDT908LV.3",
          "P1UDT1425LV.3",
          "P1ULV7544.1",
          "P1UDT907LV.2",
          "P1UDT893.3",
          "P1UDT893LV.2",
          "P1UDT943LV.1",
          "P1UDT1431.2",
          "P1ULV4154.2",
          "P1ULV4138.1",
          "P1UDM3885.2",
          "P1UDT882LV.1",
          "P1ULV4196.1",
          "P1ULV4155.1",
          "P1UDT942-P1UHS0_1247X.2",
          "P1UDM3854.2",
          "P1UDT907LV.3",
          "P1UDT1433.3",
          "P1ULV4188.1",
          "P1UDT909LV.1",
          "P1ULV4111.1",
          "P1ULV4153.3",
          "P1UDT881.2",
          "P1ULV4188.2",
          "P1ULV4132.2",
          "P1UDT883.1",
          "P1ULV4110.1",
          "P1UDT881LV.2",
          "P1UDT942LV.2",
          "P1UDT892LV.2",
          "P1ULV4110.2",
          "P1UDT908-P1UDT909X.2",
          "P1UDT1431-P1UDT895X.1",
          "P1ULV4153.1",
          "P1UDT895.1",
          "P1UDT883LV.1",
          "P1UDT1431LV.1",
          "P1UDT942.2",
          "P1UDT894-P1UDT895X.1",
          "P1UDM3853.1",
          "P1UDT884LV.2",
          "P1UDM3887.1",
          "P1UDM3884.1",
          "P1UDT938LV.2",
          "P1UDT1425-P1UDT881X.3",
          "P1ULV4132.3",
          "P1UDT943.2",
          "P1ULV4137.1",
          "P1UDT943LV.2",
          "P1UDT939.2",
          "P1ULV4108.1",
          "P1UDT884.1",
          "P1UDT939.3",
          "P1UDT1425.2",
          "P1UDT1431-P1UDT895X.3",
          "P1UDT1432.2",
          "P1ULV4140.2",
          "P1UDT1432-P1UDT881X.2",
          "P1UDT908.2",
          "P1ULV4136.2",
          "P1UDT1433LV.2",
          "P1UDT894-P1UDT895X.2",
          "P1UDT942-P1UHS0_1247X.1",
          "P1UDM3856.2",
          "P1ULV4113.1",
          "P1UDT907.2",
          "P1UDT1431.3",
          "P1UDT893.1",
          "P1UDT938.1",
          "P1ULV7531.1",
          "P1UDT894.1",
          "P1ULV4108.3",
          "P1ULV4193.1",
          "P1UDT1425LV.2",
          "P1ULV4153.2",
          "P1UDT894-P1UDT942X.3",
          "P1UDM3887.2",
          "P1UDT1425.3",
          "P1UDT1425-P1UDT881X.2",
          "P1UDT939LV.2",
          "P1UDT892LV.1",
          "P1UDT943.1",
          "P1ULV4197.1",
          "P1ULV4188.3",
          "P1UDT883.2",
          "P1UDT881.1",
          "P1UDT942.1",
          "P1UDT894.3",
          "P1ULV4112.1",
          "P1ULV4109.2",
          "P1UDT1433-P1UDT882X.3",
          "P1UDM3889.2",
          "P1UDT938LV.1",
          "P1ULV7546.1",
          "P1ULV4112.2",
          "P1UDT892.3",
          "P1UDT1433.1",
          "P1ULV4108.2",
          "P1ULV4189.3",
          "P1UDT893.2",
          "P1UDT908LV.2",
          "P1UDT882LV.2",
          "P1UDT893LV.1",
          "P1ULV7633.2",
          "P1UDM3854.1",
          "P1ULV7543.1",
          "P1UDT1431.1",
          "P1ULV4132.1",
          "P1UDT938.3",
          "P1UDT942-P1UHS0_1247X.3",
          "P1UDT892.1",
          "P1ULV4138.2",
          "P1ULV4139.1",
          "P1UDT943.3",
          "P1UDM3888.2",
          "P1UDT908.1",
          "P1UDT1432LV.2",
          "P1UDT892LV.3",
          "P1UDT883.3",
          "P1UDT907.3",
          "P1ULV4137.2",
          "P1ULV4155.2",
          "P1UDT894-P1UDT942X.2",
          "P1UDT939LV.1",
          "P1UDT938LV.3",
          "P1ULV4193.2",
          "P1UDT939LV.3",
          "P1ULV4111.2",
          "P1UDT884LV.1",
          "P1UDT1425.1",
          "P1UDT892.2",
          "P1UDT1425LV.1",
          "P1ULV4197.2",
          "P1ULV4139.2",
          "P1UDT895.2",
          "P1UDT895.3",
          "P1UDT1431LV.2",
          "P1UDT908.3",
          "P1UDT882.3",
          "P1UDT883LV.2",
          "P1ULV7547.2",
          "P1UDT938.2",
          "P1UDM3884.2",
          "P1UDT942LV.1",
          "P1ULV4196.2",
          "P1UDT894-P1UDT942X.1",
          "P1UDT907.1",
          "P1UDT909LV.2",
          "P1ULV4189.1",
          "P1UDM3883.2",
          "P1UDT908LV.1",
          "P1UDT884.2",
          "P1ULV7546.2",
          "P1UDM3888.1",
          "P1UDT895LV.2",
          "P1ULV4154.1",
          "P1ULV7531.3",
          "P1ULV7543.2",
          "P1ULV7544.2",
          "P1UDT881.3",
          "P1UDM3856.1",
          "P1UDT1425-P1UDT881X.1",
          "P1UDT881LV.3",
          "P1UDM3889.1",
          "P1UDT894.2",
          "P1UDT909.2",
          "P1ULV7531.2",
          "P1UDT894-P1UDT895X.3",
          "P1UDT894LV.2",
          "P1UDM3885.1",
          "P1ULV4189.2",
          "P1UDT896-P1UDT938X.3",
          "P1UDT1433.2",
          "P1UDT895LV.1",
          "P1UDT894LV.1",
          "P1ULV4140.1",
          "P1ULV4136.1"
         ],
         "xaxis": "x",
         "y": [
          -29.51464297428446,
          0,
          0,
          -25.7203356147081,
          0,
          0,
          0,
          0,
          0,
          0,
          0,
          -54.76756766758917,
          0,
          8.31321075218766,
          0,
          0,
          -25.241150201600536,
          0,
          0,
          0,
          -22.63948475551733,
          0,
          0,
          0,
          0,
          0,
          8.313210758871774,
          -24.35684464649872,
          0,
          0,
          -0.2925068838732878,
          2.5668575177433444,
          78.6655701824901,
          0,
          0,
          0,
          2.1533689684368706,
          0,
          -23.06030906285161,
          5.461363585504581,
          0,
          2.1533689696091454,
          3.7545608526083907,
          0,
          -24.009952222145618,
          0,
          0,
          0,
          -24.112895838822332,
          0,
          0,
          5.46136359015164,
          0,
          0,
          0,
          0,
          0,
          0,
          0,
          0,
          0,
          0,
          0,
          3.7545608402028865,
          0,
          -26.625619390862433,
          0,
          0,
          21.087865421866457,
          0,
          0,
          0,
          0,
          0,
          -3.58112530101742,
          0,
          0,
          2.739302824773362,
          0,
          0,
          89.06962012723969,
          0,
          -29.504977079863846,
          0,
          0,
          0,
          0,
          47.289046835655,
          0,
          21.087865407830904,
          -21.90750506551739,
          0,
          5.461363590984816,
          0,
          0,
          0,
          0,
          0,
          0,
          0,
          -0.9974161507471537,
          2.1533689635837985,
          0,
          0,
          0,
          0,
          -20.726556250885704,
          -54.827439198981395,
          0,
          0,
          0,
          -18.13216463143552,
          -20.738285968916834,
          0,
          0,
          21.08786542610242,
          2.8594253355190444,
          0,
          0,
          0,
          0,
          -25.31691619688216,
          0,
          -26.30824637363619,
          0,
          3.754560850983956,
          0,
          208.28120107223654,
          0,
          -24.349745108032945,
          2.3353819743316984,
          0,
          0,
          0,
          0,
          0,
          0,
          0,
          -26.677488316134117,
          2.566857517743652,
          0,
          0,
          0,
          -21.912222818808576,
          0,
          -22.995696079491623,
          0,
          0,
          0,
          0,
          -1.0009656036120154,
          2.3353819743310136,
          0,
          0,
          0,
          0,
          0,
          0,
          -25.7208029321314,
          0,
          0,
          0,
          -0.29334914947237345,
          0,
          0,
          0,
          2.8594253429751886,
          0,
          0,
          0,
          -18.143934389490855,
          0,
          0,
          8.313210756864178,
          47.28904679997924,
          -26.314048859608103,
          -22.653515759740124,
          0,
          0,
          0,
          0,
          0,
          0,
          0,
          47.2890468460892,
          0,
          0,
          0,
          2.859425343892436,
          0,
          0,
          0,
          0,
          -3.640440188810382,
          2.739302824773956
         ],
         "yaxis": "y"
        },
        {
         "mode": "markers",
         "name": "opt",
         "type": "scatter",
         "x": [
          "P1ULV4113.2",
          "P1UDT942.3",
          "P1UDT1433LV.1",
          "P1ULV7547.1",
          "P1UDT896LV.2",
          "P1UDM3883.1",
          "P1UDT881LV.1",
          "P1UDT939.1",
          "P1UDT896.3",
          "P1UDT884.3",
          "P1UDM3853.2",
          "P1ULV4109.1",
          "P1UDT907LV.1",
          "P1ULV4154.3",
          "P1UDT1432LV.1",
          "P1UDT1431-P1UDT895X.2",
          "P1ULV7633.1",
          "P1UDT896LV.1",
          "P1UDT908LV.3",
          "P1UDT1425LV.3",
          "P1ULV7544.1",
          "P1UDT907LV.2",
          "P1UDT893.3",
          "P1UDT893LV.2",
          "P1UDT943LV.1",
          "P1UDT1431.2",
          "P1ULV4154.2",
          "P1ULV4138.1",
          "P1UDM3885.2",
          "P1UDT882LV.1",
          "P1ULV4196.1",
          "P1ULV4155.1",
          "P1UDT942-P1UHS0_1247X.2",
          "P1UDM3854.2",
          "P1UDT907LV.3",
          "P1UDT1433.3",
          "P1ULV4188.1",
          "P1UDT909LV.1",
          "P1ULV4111.1",
          "P1ULV4153.3",
          "P1UDT881.2",
          "P1ULV4188.2",
          "P1ULV4132.2",
          "P1UDT883.1",
          "P1ULV4110.1",
          "P1UDT881LV.2",
          "P1UDT942LV.2",
          "P1UDT892LV.2",
          "P1ULV4110.2",
          "P1UDT908-P1UDT909X.2",
          "P1UDT1431-P1UDT895X.1",
          "P1ULV4153.1",
          "P1UDT895.1",
          "P1UDT883LV.1",
          "P1UDT1431LV.1",
          "P1UDT942.2",
          "P1UDT894-P1UDT895X.1",
          "P1UDM3853.1",
          "P1UDT884LV.2",
          "P1UDM3887.1",
          "P1UDM3884.1",
          "P1UDT938LV.2",
          "P1UDT1425-P1UDT881X.3",
          "P1ULV4132.3",
          "P1UDT943.2",
          "P1ULV4137.1",
          "P1UDT943LV.2",
          "P1UDT939.2",
          "P1ULV4108.1",
          "P1UDT884.1",
          "P1UDT939.3",
          "P1UDT1425.2",
          "P1UDT1431-P1UDT895X.3",
          "P1UDT1432.2",
          "P1ULV4140.2",
          "P1UDT1432-P1UDT881X.2",
          "P1UDT908.2",
          "P1ULV4136.2",
          "P1UDT1433LV.2",
          "P1UDT894-P1UDT895X.2",
          "P1UDT942-P1UHS0_1247X.1",
          "P1UDM3856.2",
          "P1ULV4113.1",
          "P1UDT907.2",
          "P1UDT1431.3",
          "P1UDT893.1",
          "P1UDT938.1",
          "P1ULV7531.1",
          "P1UDT894.1",
          "P1ULV4108.3",
          "P1ULV4193.1",
          "P1UDT1425LV.2",
          "P1ULV4153.2",
          "P1UDT894-P1UDT942X.3",
          "P1UDM3887.2",
          "P1UDT1425.3",
          "P1UDT1425-P1UDT881X.2",
          "P1UDT939LV.2",
          "P1UDT892LV.1",
          "P1UDT943.1",
          "P1ULV4197.1",
          "P1ULV4188.3",
          "P1UDT883.2",
          "P1UDT881.1",
          "P1UDT942.1",
          "P1UDT894.3",
          "P1ULV4112.1",
          "P1ULV4109.2",
          "P1UDT1433-P1UDT882X.3",
          "P1UDM3889.2",
          "P1UDT938LV.1",
          "P1ULV7546.1",
          "P1ULV4112.2",
          "P1UDT892.3",
          "P1UDT1433.1",
          "P1ULV4108.2",
          "P1ULV4189.3",
          "P1UDT893.2",
          "P1UDT908LV.2",
          "P1UDT882LV.2",
          "P1UDT893LV.1",
          "P1ULV7633.2",
          "P1UDM3854.1",
          "P1ULV7543.1",
          "P1UDT1431.1",
          "P1ULV4132.1",
          "P1UDT938.3",
          "P1UDT942-P1UHS0_1247X.3",
          "P1UDT892.1",
          "P1ULV4138.2",
          "P1ULV4139.1",
          "P1UDT943.3",
          "P1UDM3888.2",
          "P1UDT908.1",
          "P1UDT1432LV.2",
          "P1UDT892LV.3",
          "P1UDT883.3",
          "P1UDT907.3",
          "P1ULV4137.2",
          "P1ULV4155.2",
          "P1UDT894-P1UDT942X.2",
          "P1UDT939LV.1",
          "P1UDT938LV.3",
          "P1ULV4193.2",
          "P1UDT939LV.3",
          "P1ULV4111.2",
          "P1UDT884LV.1",
          "P1UDT1425.1",
          "P1UDT892.2",
          "P1UDT1425LV.1",
          "P1ULV4197.2",
          "P1ULV4139.2",
          "P1UDT895.2",
          "P1UDT895.3",
          "P1UDT1431LV.2",
          "P1UDT908.3",
          "P1UDT882.3",
          "P1UDT883LV.2",
          "P1ULV7547.2",
          "P1UDT938.2",
          "P1UDM3884.2",
          "P1UDT942LV.1",
          "P1ULV4196.2",
          "P1UDT894-P1UDT942X.1",
          "P1UDT907.1",
          "P1UDT909LV.2",
          "P1ULV4189.1",
          "P1UDM3883.2",
          "P1UDT908LV.1",
          "P1UDT884.2",
          "P1ULV7546.2",
          "P1UDM3888.1",
          "P1UDT895LV.2",
          "P1ULV4154.1",
          "P1ULV7531.3",
          "P1ULV7543.2",
          "P1ULV7544.2",
          "P1UDT881.3",
          "P1UDM3856.1",
          "P1UDT1425-P1UDT881X.1",
          "P1UDT881LV.3",
          "P1UDM3889.1",
          "P1UDT894.2",
          "P1UDT909.2",
          "P1ULV7531.2",
          "P1UDT894-P1UDT895X.3",
          "P1UDT894LV.2",
          "P1UDM3885.1",
          "P1ULV4189.2",
          "P1UDT896-P1UDT938X.3",
          "P1UDT1433.2",
          "P1UDT895LV.1",
          "P1UDT894LV.1",
          "P1ULV4140.1",
          "P1ULV4136.1"
         ],
         "xaxis": "x",
         "y": [
          -59.019621,
          0,
          0,
          -51.44113999999999,
          0,
          0,
          0,
          0,
          0,
          0,
          0,
          -1.0000000056248237e-06,
          0,
          8.313212000000007,
          0,
          0,
          -1.000000005028162e-06,
          0,
          0,
          0,
          -9.999999986115823e-07,
          0,
          0,
          0,
          0,
          0,
          8.313211999999996,
          -1.0000000026779221e-06,
          0,
          0,
          -1.0000000001651477e-06,
          0,
          0,
          0,
          0,
          0,
          2.15345,
          0,
          -46.056007,
          5.4613629999999995,
          0,
          2.153445,
          3.754561,
          0,
          -48.122848999999995,
          0,
          0,
          0,
          -1.00000000401036e-06,
          0,
          0,
          5.461363,
          0,
          0,
          0,
          0,
          0,
          0,
          0,
          0,
          0,
          0,
          0,
          3.754561,
          0,
          -1.0000000013906498e-06,
          0,
          0,
          21.087864,
          0,
          0,
          0,
          0,
          0,
          -1.0000000008623047e-06,
          0,
          0,
          0,
          0,
          0,
          0,
          0,
          -1.0000000000914132e-06,
          0,
          0,
          0,
          0,
          47.289048,
          0,
          21.087864,
          -1.0000000028485584e-06,
          0,
          5.4613629999999995,
          0,
          0,
          0,
          0,
          0,
          0,
          0,
          -9.999999999897758e-07,
          2.153458,
          0,
          0,
          0,
          0,
          -1.0000000025550016e-06,
          -9.999999890515612e-07,
          0,
          0,
          0,
          -1.0000000003146676e-06,
          -41.464844,
          0,
          0,
          21.087864000000003,
          2.859424,
          0,
          0,
          0,
          0,
          -1.0000000018092496e-06,
          0,
          -52.622296999999996,
          0,
          3.754561,
          0,
          0,
          0,
          -1.0000000041565325e-06,
          4.670763999999999,
          0,
          0,
          0,
          0,
          0,
          0,
          0,
          -1.0000000029087323e-06,
          5.133715,
          0,
          0,
          0,
          -1.000000001593763e-06,
          0,
          -9.999999993485526e-07,
          0,
          0,
          0,
          0,
          -9.99999999990133e-07,
          0,
          0,
          0,
          0,
          0,
          0,
          0,
          -9.999999958537874e-07,
          0,
          0,
          0,
          -0.5858569999999996,
          0,
          0,
          0,
          2.859424,
          0,
          0,
          0,
          -36.2761,
          0,
          0,
          8.313212000000005,
          47.289048,
          -9.999999977076124e-07,
          -45.293001999999994,
          0,
          0,
          0,
          0,
          0,
          0,
          0,
          47.289048,
          0,
          0,
          0,
          2.8594239999999997,
          0,
          0,
          0,
          0,
          -9.99999999927015e-07,
          5.478605
         ],
         "yaxis": "y"
        },
        {
         "mode": "markers",
         "name": "diff",
         "type": "scatter",
         "x": [
          "P1ULV4113.2",
          "P1UDT942.3",
          "P1UDT1433LV.1",
          "P1ULV7547.1",
          "P1UDT896LV.2",
          "P1UDM3883.1",
          "P1UDT881LV.1",
          "P1UDT939.1",
          "P1UDT896.3",
          "P1UDT884.3",
          "P1UDM3853.2",
          "P1ULV4109.1",
          "P1UDT907LV.1",
          "P1ULV4154.3",
          "P1UDT1432LV.1",
          "P1UDT1431-P1UDT895X.2",
          "P1ULV7633.1",
          "P1UDT896LV.1",
          "P1UDT908LV.3",
          "P1UDT1425LV.3",
          "P1ULV7544.1",
          "P1UDT907LV.2",
          "P1UDT893.3",
          "P1UDT893LV.2",
          "P1UDT943LV.1",
          "P1UDT1431.2",
          "P1ULV4154.2",
          "P1ULV4138.1",
          "P1UDM3885.2",
          "P1UDT882LV.1",
          "P1ULV4196.1",
          "P1ULV4155.1",
          "P1UDT942-P1UHS0_1247X.2",
          "P1UDM3854.2",
          "P1UDT907LV.3",
          "P1UDT1433.3",
          "P1ULV4188.1",
          "P1UDT909LV.1",
          "P1ULV4111.1",
          "P1ULV4153.3",
          "P1UDT881.2",
          "P1ULV4188.2",
          "P1ULV4132.2",
          "P1UDT883.1",
          "P1ULV4110.1",
          "P1UDT881LV.2",
          "P1UDT942LV.2",
          "P1UDT892LV.2",
          "P1ULV4110.2",
          "P1UDT908-P1UDT909X.2",
          "P1UDT1431-P1UDT895X.1",
          "P1ULV4153.1",
          "P1UDT895.1",
          "P1UDT883LV.1",
          "P1UDT1431LV.1",
          "P1UDT942.2",
          "P1UDT894-P1UDT895X.1",
          "P1UDM3853.1",
          "P1UDT884LV.2",
          "P1UDM3887.1",
          "P1UDM3884.1",
          "P1UDT938LV.2",
          "P1UDT1425-P1UDT881X.3",
          "P1ULV4132.3",
          "P1UDT943.2",
          "P1ULV4137.1",
          "P1UDT943LV.2",
          "P1UDT939.2",
          "P1ULV4108.1",
          "P1UDT884.1",
          "P1UDT939.3",
          "P1UDT1425.2",
          "P1UDT1431-P1UDT895X.3",
          "P1UDT1432.2",
          "P1ULV4140.2",
          "P1UDT1432-P1UDT881X.2",
          "P1UDT908.2",
          "P1ULV4136.2",
          "P1UDT1433LV.2",
          "P1UDT894-P1UDT895X.2",
          "P1UDT942-P1UHS0_1247X.1",
          "P1UDM3856.2",
          "P1ULV4113.1",
          "P1UDT907.2",
          "P1UDT1431.3",
          "P1UDT893.1",
          "P1UDT938.1",
          "P1ULV7531.1",
          "P1UDT894.1",
          "P1ULV4108.3",
          "P1ULV4193.1",
          "P1UDT1425LV.2",
          "P1ULV4153.2",
          "P1UDT894-P1UDT942X.3",
          "P1UDM3887.2",
          "P1UDT1425.3",
          "P1UDT1425-P1UDT881X.2",
          "P1UDT939LV.2",
          "P1UDT892LV.1",
          "P1UDT943.1",
          "P1ULV4197.1",
          "P1ULV4188.3",
          "P1UDT883.2",
          "P1UDT881.1",
          "P1UDT942.1",
          "P1UDT894.3",
          "P1ULV4112.1",
          "P1ULV4109.2",
          "P1UDT1433-P1UDT882X.3",
          "P1UDM3889.2",
          "P1UDT938LV.1",
          "P1ULV7546.1",
          "P1ULV4112.2",
          "P1UDT892.3",
          "P1UDT1433.1",
          "P1ULV4108.2",
          "P1ULV4189.3",
          "P1UDT893.2",
          "P1UDT908LV.2",
          "P1UDT882LV.2",
          "P1UDT893LV.1",
          "P1ULV7633.2",
          "P1UDM3854.1",
          "P1ULV7543.1",
          "P1UDT1431.1",
          "P1ULV4132.1",
          "P1UDT938.3",
          "P1UDT942-P1UHS0_1247X.3",
          "P1UDT892.1",
          "P1ULV4138.2",
          "P1ULV4139.1",
          "P1UDT943.3",
          "P1UDM3888.2",
          "P1UDT908.1",
          "P1UDT1432LV.2",
          "P1UDT892LV.3",
          "P1UDT883.3",
          "P1UDT907.3",
          "P1ULV4137.2",
          "P1ULV4155.2",
          "P1UDT894-P1UDT942X.2",
          "P1UDT939LV.1",
          "P1UDT938LV.3",
          "P1ULV4193.2",
          "P1UDT939LV.3",
          "P1ULV4111.2",
          "P1UDT884LV.1",
          "P1UDT1425.1",
          "P1UDT892.2",
          "P1UDT1425LV.1",
          "P1ULV4197.2",
          "P1ULV4139.2",
          "P1UDT895.2",
          "P1UDT895.3",
          "P1UDT1431LV.2",
          "P1UDT908.3",
          "P1UDT882.3",
          "P1UDT883LV.2",
          "P1ULV7547.2",
          "P1UDT938.2",
          "P1UDM3884.2",
          "P1UDT942LV.1",
          "P1ULV4196.2",
          "P1UDT894-P1UDT942X.1",
          "P1UDT907.1",
          "P1UDT909LV.2",
          "P1ULV4189.1",
          "P1UDM3883.2",
          "P1UDT908LV.1",
          "P1UDT884.2",
          "P1ULV7546.2",
          "P1UDM3888.1",
          "P1UDT895LV.2",
          "P1ULV4154.1",
          "P1ULV7531.3",
          "P1ULV7543.2",
          "P1ULV7544.2",
          "P1UDT881.3",
          "P1UDM3856.1",
          "P1UDT1425-P1UDT881X.1",
          "P1UDT881LV.3",
          "P1UDM3889.1",
          "P1UDT894.2",
          "P1UDT909.2",
          "P1ULV7531.2",
          "P1UDT894-P1UDT895X.3",
          "P1UDT894LV.2",
          "P1UDM3885.1",
          "P1ULV4189.2",
          "P1UDT896-P1UDT938X.3",
          "P1UDT1433.2",
          "P1UDT895LV.1",
          "P1UDT894LV.1",
          "P1ULV4140.1",
          "P1ULV4136.1"
         ],
         "xaxis": "x2",
         "y": [
          31.532438478430304,
          0,
          0,
          43.57737960072099,
          0,
          0,
          0,
          0,
          0,
          0,
          0,
          158.84851746460626,
          0,
          76.30887988775888,
          0,
          0,
          72.20394097970897,
          0,
          0,
          0,
          41.63380905063367,
          0,
          0,
          0,
          0,
          0,
          49.449237887849115,
          45.18956396154201,
          0,
          0,
          0.7802919755997836,
          2.5951726427336848,
          124.92849201417766,
          0,
          0,
          0,
          0.04161606804062152,
          0,
          28.18188440432336,
          0.4262947185774404,
          0,
          0.04053905774508726,
          2.2360929335345603e-07,
          0,
          43.80250780493861,
          0,
          0,
          0,
          49.63491463799176,
          0,
          0,
          0.12927372012289606,
          0,
          0,
          0,
          0,
          0,
          0,
          0,
          0,
          0,
          0,
          0,
          2.3301267660163865e-07,
          0,
          43.625373208696494,
          0,
          0,
          32.357547843521075,
          0,
          0,
          0,
          0,
          0,
          16.17474939617332,
          0,
          0,
          2.7713909595821504,
          0,
          0,
          109.81108377263975,
          0,
          41.814098458656176,
          0,
          0,
          0,
          0,
          33.29457470461309,
          0,
          70.02365583550758,
          40.8194933691143,
          0,
          0.12659671772801992,
          0,
          0,
          0,
          0,
          0,
          0,
          0,
          0.9974773967281486,
          0.28652299954724253,
          0,
          0,
          0,
          0,
          39.67373575589056,
          152.17140673055405,
          0,
          0,
          0,
          36.01868994020997,
          32.54746607237491,
          0,
          0,
          30.15644683550947,
          0.22288952474833207,
          0,
          0,
          0,
          0,
          71.4387373058475,
          0,
          42.2123905849726,
          0,
          2.2889130434482626e-07,
          0,
          266.3078174067919,
          0,
          43.331042967125676,
          2.3598605808865263,
          0,
          0,
          0,
          0,
          0,
          0,
          0,
          42.07601845903098,
          2.5951726396510177,
          0,
          0,
          0,
          39.93525709596498,
          0,
          33.47465876641345,
          0,
          0,
          0,
          0,
          1.001323769495161,
          2.3598605766545493,
          0,
          0,
          0,
          0,
          0,
          0,
          51.378656585831436,
          0,
          0,
          0,
          2.658730707774005,
          0,
          0,
          0,
          0.0348315276396859,
          0,
          0,
          0,
          28.108940178311176,
          0,
          0,
          50.34467189052958,
          71.8533476983882,
          50.23312718102627,
          31.933813095450255,
          0,
          0,
          0,
          0,
          0,
          0,
          0,
          31.706977684850994,
          0,
          0,
          0,
          0.03394352382309106,
          0,
          0,
          0,
          0,
          16.568137425059728,
          2.771390293753899
         ],
         "yaxis": "y2"
        }
       ],
       "layout": {
        "autosize": true,
        "template": {
         "data": {
          "bar": [
           {
            "error_x": {
             "color": "#2a3f5f"
            },
            "error_y": {
             "color": "#2a3f5f"
            },
            "marker": {
             "line": {
              "color": "white",
              "width": 0.5
             },
             "pattern": {
              "fillmode": "overlay",
              "size": 10,
              "solidity": 0.2
             }
            },
            "type": "bar"
           }
          ],
          "barpolar": [
           {
            "marker": {
             "line": {
              "color": "white",
              "width": 0.5
             },
             "pattern": {
              "fillmode": "overlay",
              "size": 10,
              "solidity": 0.2
             }
            },
            "type": "barpolar"
           }
          ],
          "carpet": [
           {
            "aaxis": {
             "endlinecolor": "#2a3f5f",
             "gridcolor": "#C8D4E3",
             "linecolor": "#C8D4E3",
             "minorgridcolor": "#C8D4E3",
             "startlinecolor": "#2a3f5f"
            },
            "baxis": {
             "endlinecolor": "#2a3f5f",
             "gridcolor": "#C8D4E3",
             "linecolor": "#C8D4E3",
             "minorgridcolor": "#C8D4E3",
             "startlinecolor": "#2a3f5f"
            },
            "type": "carpet"
           }
          ],
          "choropleth": [
           {
            "colorbar": {
             "outlinewidth": 0,
             "ticks": ""
            },
            "type": "choropleth"
           }
          ],
          "contour": [
           {
            "colorbar": {
             "outlinewidth": 0,
             "ticks": ""
            },
            "colorscale": [
             [
              0,
              "#0d0887"
             ],
             [
              0.1111111111111111,
              "#46039f"
             ],
             [
              0.2222222222222222,
              "#7201a8"
             ],
             [
              0.3333333333333333,
              "#9c179e"
             ],
             [
              0.4444444444444444,
              "#bd3786"
             ],
             [
              0.5555555555555556,
              "#d8576b"
             ],
             [
              0.6666666666666666,
              "#ed7953"
             ],
             [
              0.7777777777777778,
              "#fb9f3a"
             ],
             [
              0.8888888888888888,
              "#fdca26"
             ],
             [
              1,
              "#f0f921"
             ]
            ],
            "type": "contour"
           }
          ],
          "contourcarpet": [
           {
            "colorbar": {
             "outlinewidth": 0,
             "ticks": ""
            },
            "type": "contourcarpet"
           }
          ],
          "heatmap": [
           {
            "colorbar": {
             "outlinewidth": 0,
             "ticks": ""
            },
            "colorscale": [
             [
              0,
              "#0d0887"
             ],
             [
              0.1111111111111111,
              "#46039f"
             ],
             [
              0.2222222222222222,
              "#7201a8"
             ],
             [
              0.3333333333333333,
              "#9c179e"
             ],
             [
              0.4444444444444444,
              "#bd3786"
             ],
             [
              0.5555555555555556,
              "#d8576b"
             ],
             [
              0.6666666666666666,
              "#ed7953"
             ],
             [
              0.7777777777777778,
              "#fb9f3a"
             ],
             [
              0.8888888888888888,
              "#fdca26"
             ],
             [
              1,
              "#f0f921"
             ]
            ],
            "type": "heatmap"
           }
          ],
          "heatmapgl": [
           {
            "colorbar": {
             "outlinewidth": 0,
             "ticks": ""
            },
            "colorscale": [
             [
              0,
              "#0d0887"
             ],
             [
              0.1111111111111111,
              "#46039f"
             ],
             [
              0.2222222222222222,
              "#7201a8"
             ],
             [
              0.3333333333333333,
              "#9c179e"
             ],
             [
              0.4444444444444444,
              "#bd3786"
             ],
             [
              0.5555555555555556,
              "#d8576b"
             ],
             [
              0.6666666666666666,
              "#ed7953"
             ],
             [
              0.7777777777777778,
              "#fb9f3a"
             ],
             [
              0.8888888888888888,
              "#fdca26"
             ],
             [
              1,
              "#f0f921"
             ]
            ],
            "type": "heatmapgl"
           }
          ],
          "histogram": [
           {
            "marker": {
             "pattern": {
              "fillmode": "overlay",
              "size": 10,
              "solidity": 0.2
             }
            },
            "type": "histogram"
           }
          ],
          "histogram2d": [
           {
            "colorbar": {
             "outlinewidth": 0,
             "ticks": ""
            },
            "colorscale": [
             [
              0,
              "#0d0887"
             ],
             [
              0.1111111111111111,
              "#46039f"
             ],
             [
              0.2222222222222222,
              "#7201a8"
             ],
             [
              0.3333333333333333,
              "#9c179e"
             ],
             [
              0.4444444444444444,
              "#bd3786"
             ],
             [
              0.5555555555555556,
              "#d8576b"
             ],
             [
              0.6666666666666666,
              "#ed7953"
             ],
             [
              0.7777777777777778,
              "#fb9f3a"
             ],
             [
              0.8888888888888888,
              "#fdca26"
             ],
             [
              1,
              "#f0f921"
             ]
            ],
            "type": "histogram2d"
           }
          ],
          "histogram2dcontour": [
           {
            "colorbar": {
             "outlinewidth": 0,
             "ticks": ""
            },
            "colorscale": [
             [
              0,
              "#0d0887"
             ],
             [
              0.1111111111111111,
              "#46039f"
             ],
             [
              0.2222222222222222,
              "#7201a8"
             ],
             [
              0.3333333333333333,
              "#9c179e"
             ],
             [
              0.4444444444444444,
              "#bd3786"
             ],
             [
              0.5555555555555556,
              "#d8576b"
             ],
             [
              0.6666666666666666,
              "#ed7953"
             ],
             [
              0.7777777777777778,
              "#fb9f3a"
             ],
             [
              0.8888888888888888,
              "#fdca26"
             ],
             [
              1,
              "#f0f921"
             ]
            ],
            "type": "histogram2dcontour"
           }
          ],
          "mesh3d": [
           {
            "colorbar": {
             "outlinewidth": 0,
             "ticks": ""
            },
            "type": "mesh3d"
           }
          ],
          "parcoords": [
           {
            "line": {
             "colorbar": {
              "outlinewidth": 0,
              "ticks": ""
             }
            },
            "type": "parcoords"
           }
          ],
          "pie": [
           {
            "automargin": true,
            "type": "pie"
           }
          ],
          "scatter": [
           {
            "fillpattern": {
             "fillmode": "overlay",
             "size": 10,
             "solidity": 0.2
            },
            "type": "scatter"
           }
          ],
          "scatter3d": [
           {
            "line": {
             "colorbar": {
              "outlinewidth": 0,
              "ticks": ""
             }
            },
            "marker": {
             "colorbar": {
              "outlinewidth": 0,
              "ticks": ""
             }
            },
            "type": "scatter3d"
           }
          ],
          "scattercarpet": [
           {
            "marker": {
             "colorbar": {
              "outlinewidth": 0,
              "ticks": ""
             }
            },
            "type": "scattercarpet"
           }
          ],
          "scattergeo": [
           {
            "marker": {
             "colorbar": {
              "outlinewidth": 0,
              "ticks": ""
             }
            },
            "type": "scattergeo"
           }
          ],
          "scattergl": [
           {
            "marker": {
             "colorbar": {
              "outlinewidth": 0,
              "ticks": ""
             }
            },
            "type": "scattergl"
           }
          ],
          "scattermapbox": [
           {
            "marker": {
             "colorbar": {
              "outlinewidth": 0,
              "ticks": ""
             }
            },
            "type": "scattermapbox"
           }
          ],
          "scatterpolar": [
           {
            "marker": {
             "colorbar": {
              "outlinewidth": 0,
              "ticks": ""
             }
            },
            "type": "scatterpolar"
           }
          ],
          "scatterpolargl": [
           {
            "marker": {
             "colorbar": {
              "outlinewidth": 0,
              "ticks": ""
             }
            },
            "type": "scatterpolargl"
           }
          ],
          "scatterternary": [
           {
            "marker": {
             "colorbar": {
              "outlinewidth": 0,
              "ticks": ""
             }
            },
            "type": "scatterternary"
           }
          ],
          "surface": [
           {
            "colorbar": {
             "outlinewidth": 0,
             "ticks": ""
            },
            "colorscale": [
             [
              0,
              "#0d0887"
             ],
             [
              0.1111111111111111,
              "#46039f"
             ],
             [
              0.2222222222222222,
              "#7201a8"
             ],
             [
              0.3333333333333333,
              "#9c179e"
             ],
             [
              0.4444444444444444,
              "#bd3786"
             ],
             [
              0.5555555555555556,
              "#d8576b"
             ],
             [
              0.6666666666666666,
              "#ed7953"
             ],
             [
              0.7777777777777778,
              "#fb9f3a"
             ],
             [
              0.8888888888888888,
              "#fdca26"
             ],
             [
              1,
              "#f0f921"
             ]
            ],
            "type": "surface"
           }
          ],
          "table": [
           {
            "cells": {
             "fill": {
              "color": "#EBF0F8"
             },
             "line": {
              "color": "white"
             }
            },
            "header": {
             "fill": {
              "color": "#C8D4E3"
             },
             "line": {
              "color": "white"
             }
            },
            "type": "table"
           }
          ]
         },
         "layout": {
          "annotationdefaults": {
           "arrowcolor": "#2a3f5f",
           "arrowhead": 0,
           "arrowwidth": 1
          },
          "autotypenumbers": "strict",
          "coloraxis": {
           "colorbar": {
            "outlinewidth": 0,
            "ticks": ""
           }
          },
          "colorscale": {
           "diverging": [
            [
             0,
             "#8e0152"
            ],
            [
             0.1,
             "#c51b7d"
            ],
            [
             0.2,
             "#de77ae"
            ],
            [
             0.3,
             "#f1b6da"
            ],
            [
             0.4,
             "#fde0ef"
            ],
            [
             0.5,
             "#f7f7f7"
            ],
            [
             0.6,
             "#e6f5d0"
            ],
            [
             0.7,
             "#b8e186"
            ],
            [
             0.8,
             "#7fbc41"
            ],
            [
             0.9,
             "#4d9221"
            ],
            [
             1,
             "#276419"
            ]
           ],
           "sequential": [
            [
             0,
             "#0d0887"
            ],
            [
             0.1111111111111111,
             "#46039f"
            ],
            [
             0.2222222222222222,
             "#7201a8"
            ],
            [
             0.3333333333333333,
             "#9c179e"
            ],
            [
             0.4444444444444444,
             "#bd3786"
            ],
            [
             0.5555555555555556,
             "#d8576b"
            ],
            [
             0.6666666666666666,
             "#ed7953"
            ],
            [
             0.7777777777777778,
             "#fb9f3a"
            ],
            [
             0.8888888888888888,
             "#fdca26"
            ],
            [
             1,
             "#f0f921"
            ]
           ],
           "sequentialminus": [
            [
             0,
             "#0d0887"
            ],
            [
             0.1111111111111111,
             "#46039f"
            ],
            [
             0.2222222222222222,
             "#7201a8"
            ],
            [
             0.3333333333333333,
             "#9c179e"
            ],
            [
             0.4444444444444444,
             "#bd3786"
            ],
            [
             0.5555555555555556,
             "#d8576b"
            ],
            [
             0.6666666666666666,
             "#ed7953"
            ],
            [
             0.7777777777777778,
             "#fb9f3a"
            ],
            [
             0.8888888888888888,
             "#fdca26"
            ],
            [
             1,
             "#f0f921"
            ]
           ]
          },
          "colorway": [
           "#636efa",
           "#EF553B",
           "#00cc96",
           "#ab63fa",
           "#FFA15A",
           "#19d3f3",
           "#FF6692",
           "#B6E880",
           "#FF97FF",
           "#FECB52"
          ],
          "font": {
           "color": "#2a3f5f"
          },
          "geo": {
           "bgcolor": "white",
           "lakecolor": "white",
           "landcolor": "white",
           "showlakes": true,
           "showland": true,
           "subunitcolor": "#C8D4E3"
          },
          "hoverlabel": {
           "align": "left"
          },
          "hovermode": "closest",
          "mapbox": {
           "style": "light"
          },
          "paper_bgcolor": "white",
          "plot_bgcolor": "white",
          "polar": {
           "angularaxis": {
            "gridcolor": "#EBF0F8",
            "linecolor": "#EBF0F8",
            "ticks": ""
           },
           "bgcolor": "white",
           "radialaxis": {
            "gridcolor": "#EBF0F8",
            "linecolor": "#EBF0F8",
            "ticks": ""
           }
          },
          "scene": {
           "xaxis": {
            "backgroundcolor": "white",
            "gridcolor": "#DFE8F3",
            "gridwidth": 2,
            "linecolor": "#EBF0F8",
            "showbackground": true,
            "ticks": "",
            "zerolinecolor": "#EBF0F8"
           },
           "yaxis": {
            "backgroundcolor": "white",
            "gridcolor": "#DFE8F3",
            "gridwidth": 2,
            "linecolor": "#EBF0F8",
            "showbackground": true,
            "ticks": "",
            "zerolinecolor": "#EBF0F8"
           },
           "zaxis": {
            "backgroundcolor": "white",
            "gridcolor": "#DFE8F3",
            "gridwidth": 2,
            "linecolor": "#EBF0F8",
            "showbackground": true,
            "ticks": "",
            "zerolinecolor": "#EBF0F8"
           }
          },
          "shapedefaults": {
           "line": {
            "color": "#2a3f5f"
           }
          },
          "ternary": {
           "aaxis": {
            "gridcolor": "#DFE8F3",
            "linecolor": "#A2B1C6",
            "ticks": ""
           },
           "baxis": {
            "gridcolor": "#DFE8F3",
            "linecolor": "#A2B1C6",
            "ticks": ""
           },
           "bgcolor": "white",
           "caxis": {
            "gridcolor": "#DFE8F3",
            "linecolor": "#A2B1C6",
            "ticks": ""
           }
          },
          "title": {
           "x": 0.05
          },
          "xaxis": {
           "automargin": true,
           "gridcolor": "#EBF0F8",
           "linecolor": "#EBF0F8",
           "ticks": "",
           "title": {
            "standoff": 15
           },
           "zerolinecolor": "#EBF0F8",
           "zerolinewidth": 2
          },
          "yaxis": {
           "automargin": true,
           "gridcolor": "#EBF0F8",
           "linecolor": "#EBF0F8",
           "ticks": "",
           "title": {
            "standoff": 15
           },
           "zerolinecolor": "#EBF0F8",
           "zerolinewidth": 2
          }
         }
        },
        "xaxis": {
         "anchor": "y",
         "autorange": true,
         "domain": [
          0,
          0.45
         ],
         "range": [
          -14.726260257913246,
          208.72626025791325
         ],
         "type": "category"
        },
        "xaxis2": {
         "anchor": "y2",
         "autorange": true,
         "domain": [
          0.55,
          1
         ],
         "range": [
          -14.726260257913246,
          208.72626025791325
         ],
         "type": "category"
        },
        "yaxis": {
         "anchor": "x",
         "autorange": true,
         "domain": [
          0,
          1
         ],
         "range": [
          -89.0227744979041,
          238.28435457014064
         ],
         "type": "linear"
        },
        "yaxis2": {
         "anchor": "x2",
         "autorange": true,
         "domain": [
          0,
          1
         ],
         "range": [
          -29.891693790558275,
          296.1995111973502
         ],
         "type": "linear"
        }
       }
      },
      "text/html": [
       "<div>                            <div id=\"dc085e60-6cc2-4004-a7d8-e2079e10d61b\" class=\"plotly-graph-div\" style=\"height:525px; width:100%;\"></div>            <script type=\"text/javascript\">                require([\"plotly\"], function(Plotly) {                    window.PLOTLYENV=window.PLOTLYENV || {};                                    if (document.getElementById(\"dc085e60-6cc2-4004-a7d8-e2079e10d61b\")) {                    Plotly.newPlot(                        \"dc085e60-6cc2-4004-a7d8-e2079e10d61b\",                        [{\"mode\":\"markers\",\"name\":\"base\",\"x\":[\"P1ULV4113.2\",\"P1UDT942.3\",\"P1UDT1433LV.1\",\"P1ULV7547.1\",\"P1UDT896LV.2\",\"P1UDM3883.1\",\"P1UDT881LV.1\",\"P1UDT939.1\",\"P1UDT896.3\",\"P1UDT884.3\",\"P1UDM3853.2\",\"P1ULV4109.1\",\"P1UDT907LV.1\",\"P1ULV4154.3\",\"P1UDT1432LV.1\",\"P1UDT1431-P1UDT895X.2\",\"P1ULV7633.1\",\"P1UDT896LV.1\",\"P1UDT908LV.3\",\"P1UDT1425LV.3\",\"P1ULV7544.1\",\"P1UDT907LV.2\",\"P1UDT893.3\",\"P1UDT893LV.2\",\"P1UDT943LV.1\",\"P1UDT1431.2\",\"P1ULV4154.2\",\"P1ULV4138.1\",\"P1UDM3885.2\",\"P1UDT882LV.1\",\"P1ULV4196.1\",\"P1ULV4155.1\",\"P1UDT942-P1UHS0_1247X.2\",\"P1UDM3854.2\",\"P1UDT907LV.3\",\"P1UDT1433.3\",\"P1ULV4188.1\",\"P1UDT909LV.1\",\"P1ULV4111.1\",\"P1ULV4153.3\",\"P1UDT881.2\",\"P1ULV4188.2\",\"P1ULV4132.2\",\"P1UDT883.1\",\"P1ULV4110.1\",\"P1UDT881LV.2\",\"P1UDT942LV.2\",\"P1UDT892LV.2\",\"P1ULV4110.2\",\"P1UDT908-P1UDT909X.2\",\"P1UDT1431-P1UDT895X.1\",\"P1ULV4153.1\",\"P1UDT895.1\",\"P1UDT883LV.1\",\"P1UDT1431LV.1\",\"P1UDT942.2\",\"P1UDT894-P1UDT895X.1\",\"P1UDM3853.1\",\"P1UDT884LV.2\",\"P1UDM3887.1\",\"P1UDM3884.1\",\"P1UDT938LV.2\",\"P1UDT1425-P1UDT881X.3\",\"P1ULV4132.3\",\"P1UDT943.2\",\"P1ULV4137.1\",\"P1UDT943LV.2\",\"P1UDT939.2\",\"P1ULV4108.1\",\"P1UDT884.1\",\"P1UDT939.3\",\"P1UDT1425.2\",\"P1UDT1431-P1UDT895X.3\",\"P1UDT1432.2\",\"P1ULV4140.2\",\"P1UDT1432-P1UDT881X.2\",\"P1UDT908.2\",\"P1ULV4136.2\",\"P1UDT1433LV.2\",\"P1UDT894-P1UDT895X.2\",\"P1UDT942-P1UHS0_1247X.1\",\"P1UDM3856.2\",\"P1ULV4113.1\",\"P1UDT907.2\",\"P1UDT1431.3\",\"P1UDT893.1\",\"P1UDT938.1\",\"P1ULV7531.1\",\"P1UDT894.1\",\"P1ULV4108.3\",\"P1ULV4193.1\",\"P1UDT1425LV.2\",\"P1ULV4153.2\",\"P1UDT894-P1UDT942X.3\",\"P1UDM3887.2\",\"P1UDT1425.3\",\"P1UDT1425-P1UDT881X.2\",\"P1UDT939LV.2\",\"P1UDT892LV.1\",\"P1UDT943.1\",\"P1ULV4197.1\",\"P1ULV4188.3\",\"P1UDT883.2\",\"P1UDT881.1\",\"P1UDT942.1\",\"P1UDT894.3\",\"P1ULV4112.1\",\"P1ULV4109.2\",\"P1UDT1433-P1UDT882X.3\",\"P1UDM3889.2\",\"P1UDT938LV.1\",\"P1ULV7546.1\",\"P1ULV4112.2\",\"P1UDT892.3\",\"P1UDT1433.1\",\"P1ULV4108.2\",\"P1ULV4189.3\",\"P1UDT893.2\",\"P1UDT908LV.2\",\"P1UDT882LV.2\",\"P1UDT893LV.1\",\"P1ULV7633.2\",\"P1UDM3854.1\",\"P1ULV7543.1\",\"P1UDT1431.1\",\"P1ULV4132.1\",\"P1UDT938.3\",\"P1UDT942-P1UHS0_1247X.3\",\"P1UDT892.1\",\"P1ULV4138.2\",\"P1ULV4139.1\",\"P1UDT943.3\",\"P1UDM3888.2\",\"P1UDT908.1\",\"P1UDT1432LV.2\",\"P1UDT892LV.3\",\"P1UDT883.3\",\"P1UDT907.3\",\"P1ULV4137.2\",\"P1ULV4155.2\",\"P1UDT894-P1UDT942X.2\",\"P1UDT939LV.1\",\"P1UDT938LV.3\",\"P1ULV4193.2\",\"P1UDT939LV.3\",\"P1ULV4111.2\",\"P1UDT884LV.1\",\"P1UDT1425.1\",\"P1UDT892.2\",\"P1UDT1425LV.1\",\"P1ULV4197.2\",\"P1ULV4139.2\",\"P1UDT895.2\",\"P1UDT895.3\",\"P1UDT1431LV.2\",\"P1UDT908.3\",\"P1UDT882.3\",\"P1UDT883LV.2\",\"P1ULV7547.2\",\"P1UDT938.2\",\"P1UDM3884.2\",\"P1UDT942LV.1\",\"P1ULV4196.2\",\"P1UDT894-P1UDT942X.1\",\"P1UDT907.1\",\"P1UDT909LV.2\",\"P1ULV4189.1\",\"P1UDM3883.2\",\"P1UDT908LV.1\",\"P1UDT884.2\",\"P1ULV7546.2\",\"P1UDM3888.1\",\"P1UDT895LV.2\",\"P1ULV4154.1\",\"P1ULV7531.3\",\"P1ULV7543.2\",\"P1ULV7544.2\",\"P1UDT881.3\",\"P1UDM3856.1\",\"P1UDT1425-P1UDT881X.1\",\"P1UDT881LV.3\",\"P1UDM3889.1\",\"P1UDT894.2\",\"P1UDT909.2\",\"P1ULV7531.2\",\"P1UDT894-P1UDT895X.3\",\"P1UDT894LV.2\",\"P1UDM3885.1\",\"P1ULV4189.2\",\"P1UDT896-P1UDT938X.3\",\"P1UDT1433.2\",\"P1UDT895LV.1\",\"P1UDT894LV.1\",\"P1ULV4140.1\",\"P1ULV4136.1\"],\"y\":[-29.51464297428446,0.0,0.0,-25.7203356147081,0.0,0.0,0.0,0.0,0.0,0.0,0.0,-54.76756766758917,0.0,8.31321075218766,0.0,0.0,-25.241150201600536,0.0,0.0,0.0,-22.63948475551733,0.0,0.0,0.0,0.0,0.0,8.313210758871774,-24.35684464649872,0.0,0.0,-0.2925068838732878,2.5668575177433444,78.6655701824901,0.0,0.0,0.0,2.1533689684368706,0.0,-23.06030906285161,5.461363585504581,0.0,2.1533689696091454,3.7545608526083907,0.0,-24.009952222145618,0.0,0.0,0.0,-24.112895838822332,0.0,0.0,5.46136359015164,0.0,0.0,0.0,0.0,0.0,0.0,0.0,0.0,0.0,0.0,0.0,3.7545608402028865,0.0,-26.625619390862433,0.0,0.0,21.087865421866457,0.0,0.0,0.0,0.0,0.0,-3.58112530101742,0.0,0.0,2.739302824773362,0.0,0.0,89.06962012723969,0.0,-29.504977079863846,0.0,0.0,0.0,0.0,47.289046835655,0.0,21.087865407830904,-21.90750506551739,0.0,5.461363590984816,0.0,0.0,0.0,0.0,0.0,0.0,0.0,-0.9974161507471537,2.1533689635837985,0.0,0.0,0.0,0.0,-20.726556250885704,-54.827439198981395,0.0,0.0,0.0,-18.13216463143552,-20.738285968916834,0.0,0.0,21.08786542610242,2.8594253355190444,0.0,0.0,0.0,0.0,-25.31691619688216,0.0,-26.30824637363619,0.0,3.754560850983956,0.0,208.28120107223654,0.0,-24.349745108032945,2.3353819743316984,0.0,0.0,0.0,0.0,0.0,0.0,0.0,-26.677488316134117,2.566857517743652,0.0,0.0,0.0,-21.912222818808576,0.0,-22.995696079491623,0.0,0.0,0.0,0.0,-1.0009656036120154,2.3353819743310136,0.0,0.0,0.0,0.0,0.0,0.0,-25.7208029321314,0.0,0.0,0.0,-0.29334914947237345,0.0,0.0,0.0,2.8594253429751886,0.0,0.0,0.0,-18.143934389490855,0.0,0.0,8.313210756864178,47.28904679997924,-26.314048859608103,-22.653515759740124,0.0,0.0,0.0,0.0,0.0,0.0,0.0,47.2890468460892,0.0,0.0,0.0,2.859425343892436,0.0,0.0,0.0,0.0,-3.640440188810382,2.739302824773956],\"type\":\"scatter\",\"xaxis\":\"x\",\"yaxis\":\"y\"},{\"mode\":\"markers\",\"name\":\"opt\",\"x\":[\"P1ULV4113.2\",\"P1UDT942.3\",\"P1UDT1433LV.1\",\"P1ULV7547.1\",\"P1UDT896LV.2\",\"P1UDM3883.1\",\"P1UDT881LV.1\",\"P1UDT939.1\",\"P1UDT896.3\",\"P1UDT884.3\",\"P1UDM3853.2\",\"P1ULV4109.1\",\"P1UDT907LV.1\",\"P1ULV4154.3\",\"P1UDT1432LV.1\",\"P1UDT1431-P1UDT895X.2\",\"P1ULV7633.1\",\"P1UDT896LV.1\",\"P1UDT908LV.3\",\"P1UDT1425LV.3\",\"P1ULV7544.1\",\"P1UDT907LV.2\",\"P1UDT893.3\",\"P1UDT893LV.2\",\"P1UDT943LV.1\",\"P1UDT1431.2\",\"P1ULV4154.2\",\"P1ULV4138.1\",\"P1UDM3885.2\",\"P1UDT882LV.1\",\"P1ULV4196.1\",\"P1ULV4155.1\",\"P1UDT942-P1UHS0_1247X.2\",\"P1UDM3854.2\",\"P1UDT907LV.3\",\"P1UDT1433.3\",\"P1ULV4188.1\",\"P1UDT909LV.1\",\"P1ULV4111.1\",\"P1ULV4153.3\",\"P1UDT881.2\",\"P1ULV4188.2\",\"P1ULV4132.2\",\"P1UDT883.1\",\"P1ULV4110.1\",\"P1UDT881LV.2\",\"P1UDT942LV.2\",\"P1UDT892LV.2\",\"P1ULV4110.2\",\"P1UDT908-P1UDT909X.2\",\"P1UDT1431-P1UDT895X.1\",\"P1ULV4153.1\",\"P1UDT895.1\",\"P1UDT883LV.1\",\"P1UDT1431LV.1\",\"P1UDT942.2\",\"P1UDT894-P1UDT895X.1\",\"P1UDM3853.1\",\"P1UDT884LV.2\",\"P1UDM3887.1\",\"P1UDM3884.1\",\"P1UDT938LV.2\",\"P1UDT1425-P1UDT881X.3\",\"P1ULV4132.3\",\"P1UDT943.2\",\"P1ULV4137.1\",\"P1UDT943LV.2\",\"P1UDT939.2\",\"P1ULV4108.1\",\"P1UDT884.1\",\"P1UDT939.3\",\"P1UDT1425.2\",\"P1UDT1431-P1UDT895X.3\",\"P1UDT1432.2\",\"P1ULV4140.2\",\"P1UDT1432-P1UDT881X.2\",\"P1UDT908.2\",\"P1ULV4136.2\",\"P1UDT1433LV.2\",\"P1UDT894-P1UDT895X.2\",\"P1UDT942-P1UHS0_1247X.1\",\"P1UDM3856.2\",\"P1ULV4113.1\",\"P1UDT907.2\",\"P1UDT1431.3\",\"P1UDT893.1\",\"P1UDT938.1\",\"P1ULV7531.1\",\"P1UDT894.1\",\"P1ULV4108.3\",\"P1ULV4193.1\",\"P1UDT1425LV.2\",\"P1ULV4153.2\",\"P1UDT894-P1UDT942X.3\",\"P1UDM3887.2\",\"P1UDT1425.3\",\"P1UDT1425-P1UDT881X.2\",\"P1UDT939LV.2\",\"P1UDT892LV.1\",\"P1UDT943.1\",\"P1ULV4197.1\",\"P1ULV4188.3\",\"P1UDT883.2\",\"P1UDT881.1\",\"P1UDT942.1\",\"P1UDT894.3\",\"P1ULV4112.1\",\"P1ULV4109.2\",\"P1UDT1433-P1UDT882X.3\",\"P1UDM3889.2\",\"P1UDT938LV.1\",\"P1ULV7546.1\",\"P1ULV4112.2\",\"P1UDT892.3\",\"P1UDT1433.1\",\"P1ULV4108.2\",\"P1ULV4189.3\",\"P1UDT893.2\",\"P1UDT908LV.2\",\"P1UDT882LV.2\",\"P1UDT893LV.1\",\"P1ULV7633.2\",\"P1UDM3854.1\",\"P1ULV7543.1\",\"P1UDT1431.1\",\"P1ULV4132.1\",\"P1UDT938.3\",\"P1UDT942-P1UHS0_1247X.3\",\"P1UDT892.1\",\"P1ULV4138.2\",\"P1ULV4139.1\",\"P1UDT943.3\",\"P1UDM3888.2\",\"P1UDT908.1\",\"P1UDT1432LV.2\",\"P1UDT892LV.3\",\"P1UDT883.3\",\"P1UDT907.3\",\"P1ULV4137.2\",\"P1ULV4155.2\",\"P1UDT894-P1UDT942X.2\",\"P1UDT939LV.1\",\"P1UDT938LV.3\",\"P1ULV4193.2\",\"P1UDT939LV.3\",\"P1ULV4111.2\",\"P1UDT884LV.1\",\"P1UDT1425.1\",\"P1UDT892.2\",\"P1UDT1425LV.1\",\"P1ULV4197.2\",\"P1ULV4139.2\",\"P1UDT895.2\",\"P1UDT895.3\",\"P1UDT1431LV.2\",\"P1UDT908.3\",\"P1UDT882.3\",\"P1UDT883LV.2\",\"P1ULV7547.2\",\"P1UDT938.2\",\"P1UDM3884.2\",\"P1UDT942LV.1\",\"P1ULV4196.2\",\"P1UDT894-P1UDT942X.1\",\"P1UDT907.1\",\"P1UDT909LV.2\",\"P1ULV4189.1\",\"P1UDM3883.2\",\"P1UDT908LV.1\",\"P1UDT884.2\",\"P1ULV7546.2\",\"P1UDM3888.1\",\"P1UDT895LV.2\",\"P1ULV4154.1\",\"P1ULV7531.3\",\"P1ULV7543.2\",\"P1ULV7544.2\",\"P1UDT881.3\",\"P1UDM3856.1\",\"P1UDT1425-P1UDT881X.1\",\"P1UDT881LV.3\",\"P1UDM3889.1\",\"P1UDT894.2\",\"P1UDT909.2\",\"P1ULV7531.2\",\"P1UDT894-P1UDT895X.3\",\"P1UDT894LV.2\",\"P1UDM3885.1\",\"P1ULV4189.2\",\"P1UDT896-P1UDT938X.3\",\"P1UDT1433.2\",\"P1UDT895LV.1\",\"P1UDT894LV.1\",\"P1ULV4140.1\",\"P1ULV4136.1\"],\"y\":[-59.019621,0.0,0.0,-51.44113999999999,-0.0,0.0,0.0,-0.0,-0.0,-0.0,0.0,-1.0000000056248237e-06,-0.0,8.313212000000007,0.0,0.0,-1.000000005028162e-06,-0.0,-0.0,0.0,-9.999999986115823e-07,-0.0,-0.0,-0.0,-0.0,0.0,8.313211999999996,-1.0000000026779221e-06,0.0,0.0,-1.0000000001651477e-06,-0.0,0.0,0.0,-0.0,0.0,2.15345,-0.0,-46.056007,5.4613629999999995,0.0,2.153445,3.754561,0.0,-48.122848999999995,0.0,0.0,-0.0,-1.00000000401036e-06,-0.0,0.0,5.461363,0.0,0.0,0.0,0.0,0.0,0.0,0.0,-0.0,0.0,-0.0,0.0,3.754561,-0.0,-1.0000000013906498e-06,-0.0,-0.0,21.087864,0.0,-0.0,0.0,0.0,0.0,-1.0000000008623047e-06,0.0,-0.0,-0.0,0.0,0.0,0.0,0.0,-1.0000000000914132e-06,-0.0,0.0,-0.0,-0.0,47.289048,0.0,21.087864,-1.0000000028485584e-06,0.0,5.4613629999999995,0.0,-0.0,0.0,0.0,-0.0,-0.0,-0.0,-9.999999999897758e-07,2.153458,0.0,0.0,0.0,0.0,-1.0000000025550016e-06,-9.999999890515612e-07,0.0,-0.0,-0.0,-1.0000000003146676e-06,-41.464844,-0.0,0.0,21.087864000000003,2.859424,-0.0,-0.0,0.0,-0.0,-1.0000000018092496e-06,0.0,-52.622296999999996,0.0,3.754561,-0.0,0.0,-0.0,-1.0000000041565325e-06,4.670763999999999,-0.0,-0.0,-0.0,0.0,-0.0,-0.0,-0.0,-1.0000000029087323e-06,5.133715,0.0,-0.0,-0.0,-1.000000001593763e-06,-0.0,-9.999999993485526e-07,0.0,0.0,-0.0,0.0,-9.99999999990133e-07,0.0,0.0,0.0,0.0,-0.0,0.0,0.0,-9.999999958537874e-07,-0.0,0.0,0.0,-0.5858569999999996,0.0,-0.0,-0.0,2.859424,0.0,-0.0,0.0,-36.2761,-0.0,0.0,8.313212000000005,47.289048,-9.999999977076124e-07,-45.293001999999994,0.0,0.0,0.0,0.0,-0.0,0.0,-0.0,47.289048,0.0,0.0,0.0,2.8594239999999997,-0.0,0.0,0.0,0.0,-9.99999999927015e-07,5.478605],\"type\":\"scatter\",\"xaxis\":\"x\",\"yaxis\":\"y\"},{\"mode\":\"markers\",\"name\":\"diff\",\"x\":[\"P1ULV4113.2\",\"P1UDT942.3\",\"P1UDT1433LV.1\",\"P1ULV7547.1\",\"P1UDT896LV.2\",\"P1UDM3883.1\",\"P1UDT881LV.1\",\"P1UDT939.1\",\"P1UDT896.3\",\"P1UDT884.3\",\"P1UDM3853.2\",\"P1ULV4109.1\",\"P1UDT907LV.1\",\"P1ULV4154.3\",\"P1UDT1432LV.1\",\"P1UDT1431-P1UDT895X.2\",\"P1ULV7633.1\",\"P1UDT896LV.1\",\"P1UDT908LV.3\",\"P1UDT1425LV.3\",\"P1ULV7544.1\",\"P1UDT907LV.2\",\"P1UDT893.3\",\"P1UDT893LV.2\",\"P1UDT943LV.1\",\"P1UDT1431.2\",\"P1ULV4154.2\",\"P1ULV4138.1\",\"P1UDM3885.2\",\"P1UDT882LV.1\",\"P1ULV4196.1\",\"P1ULV4155.1\",\"P1UDT942-P1UHS0_1247X.2\",\"P1UDM3854.2\",\"P1UDT907LV.3\",\"P1UDT1433.3\",\"P1ULV4188.1\",\"P1UDT909LV.1\",\"P1ULV4111.1\",\"P1ULV4153.3\",\"P1UDT881.2\",\"P1ULV4188.2\",\"P1ULV4132.2\",\"P1UDT883.1\",\"P1ULV4110.1\",\"P1UDT881LV.2\",\"P1UDT942LV.2\",\"P1UDT892LV.2\",\"P1ULV4110.2\",\"P1UDT908-P1UDT909X.2\",\"P1UDT1431-P1UDT895X.1\",\"P1ULV4153.1\",\"P1UDT895.1\",\"P1UDT883LV.1\",\"P1UDT1431LV.1\",\"P1UDT942.2\",\"P1UDT894-P1UDT895X.1\",\"P1UDM3853.1\",\"P1UDT884LV.2\",\"P1UDM3887.1\",\"P1UDM3884.1\",\"P1UDT938LV.2\",\"P1UDT1425-P1UDT881X.3\",\"P1ULV4132.3\",\"P1UDT943.2\",\"P1ULV4137.1\",\"P1UDT943LV.2\",\"P1UDT939.2\",\"P1ULV4108.1\",\"P1UDT884.1\",\"P1UDT939.3\",\"P1UDT1425.2\",\"P1UDT1431-P1UDT895X.3\",\"P1UDT1432.2\",\"P1ULV4140.2\",\"P1UDT1432-P1UDT881X.2\",\"P1UDT908.2\",\"P1ULV4136.2\",\"P1UDT1433LV.2\",\"P1UDT894-P1UDT895X.2\",\"P1UDT942-P1UHS0_1247X.1\",\"P1UDM3856.2\",\"P1ULV4113.1\",\"P1UDT907.2\",\"P1UDT1431.3\",\"P1UDT893.1\",\"P1UDT938.1\",\"P1ULV7531.1\",\"P1UDT894.1\",\"P1ULV4108.3\",\"P1ULV4193.1\",\"P1UDT1425LV.2\",\"P1ULV4153.2\",\"P1UDT894-P1UDT942X.3\",\"P1UDM3887.2\",\"P1UDT1425.3\",\"P1UDT1425-P1UDT881X.2\",\"P1UDT939LV.2\",\"P1UDT892LV.1\",\"P1UDT943.1\",\"P1ULV4197.1\",\"P1ULV4188.3\",\"P1UDT883.2\",\"P1UDT881.1\",\"P1UDT942.1\",\"P1UDT894.3\",\"P1ULV4112.1\",\"P1ULV4109.2\",\"P1UDT1433-P1UDT882X.3\",\"P1UDM3889.2\",\"P1UDT938LV.1\",\"P1ULV7546.1\",\"P1ULV4112.2\",\"P1UDT892.3\",\"P1UDT1433.1\",\"P1ULV4108.2\",\"P1ULV4189.3\",\"P1UDT893.2\",\"P1UDT908LV.2\",\"P1UDT882LV.2\",\"P1UDT893LV.1\",\"P1ULV7633.2\",\"P1UDM3854.1\",\"P1ULV7543.1\",\"P1UDT1431.1\",\"P1ULV4132.1\",\"P1UDT938.3\",\"P1UDT942-P1UHS0_1247X.3\",\"P1UDT892.1\",\"P1ULV4138.2\",\"P1ULV4139.1\",\"P1UDT943.3\",\"P1UDM3888.2\",\"P1UDT908.1\",\"P1UDT1432LV.2\",\"P1UDT892LV.3\",\"P1UDT883.3\",\"P1UDT907.3\",\"P1ULV4137.2\",\"P1ULV4155.2\",\"P1UDT894-P1UDT942X.2\",\"P1UDT939LV.1\",\"P1UDT938LV.3\",\"P1ULV4193.2\",\"P1UDT939LV.3\",\"P1ULV4111.2\",\"P1UDT884LV.1\",\"P1UDT1425.1\",\"P1UDT892.2\",\"P1UDT1425LV.1\",\"P1ULV4197.2\",\"P1ULV4139.2\",\"P1UDT895.2\",\"P1UDT895.3\",\"P1UDT1431LV.2\",\"P1UDT908.3\",\"P1UDT882.3\",\"P1UDT883LV.2\",\"P1ULV7547.2\",\"P1UDT938.2\",\"P1UDM3884.2\",\"P1UDT942LV.1\",\"P1ULV4196.2\",\"P1UDT894-P1UDT942X.1\",\"P1UDT907.1\",\"P1UDT909LV.2\",\"P1ULV4189.1\",\"P1UDM3883.2\",\"P1UDT908LV.1\",\"P1UDT884.2\",\"P1ULV7546.2\",\"P1UDM3888.1\",\"P1UDT895LV.2\",\"P1ULV4154.1\",\"P1ULV7531.3\",\"P1ULV7543.2\",\"P1ULV7544.2\",\"P1UDT881.3\",\"P1UDM3856.1\",\"P1UDT1425-P1UDT881X.1\",\"P1UDT881LV.3\",\"P1UDM3889.1\",\"P1UDT894.2\",\"P1UDT909.2\",\"P1ULV7531.2\",\"P1UDT894-P1UDT895X.3\",\"P1UDT894LV.2\",\"P1UDM3885.1\",\"P1ULV4189.2\",\"P1UDT896-P1UDT938X.3\",\"P1UDT1433.2\",\"P1UDT895LV.1\",\"P1UDT894LV.1\",\"P1ULV4140.1\",\"P1ULV4136.1\"],\"y\":[31.532438478430304,0.0,0.0,43.57737960072099,0.0,0.0,0.0,0.0,0.0,0.0,0.0,158.84851746460626,0.0,76.30887988775888,0.0,0.0,72.20394097970897,0.0,0.0,0.0,41.63380905063367,0.0,0.0,0.0,0.0,0.0,49.449237887849115,45.18956396154201,0.0,0.0,0.7802919755997836,2.5951726427336848,124.92849201417766,0.0,0.0,0.0,0.04161606804062152,0.0,28.18188440432336,0.4262947185774404,0.0,0.04053905774508726,2.2360929335345603e-07,0.0,43.80250780493861,0.0,0.0,0.0,49.63491463799176,0.0,0.0,0.12927372012289606,0.0,0.0,0.0,0.0,0.0,0.0,0.0,0.0,0.0,0.0,0.0,2.3301267660163865e-07,0.0,43.625373208696494,0.0,0.0,32.357547843521075,0.0,0.0,0.0,0.0,0.0,16.17474939617332,0.0,0.0,2.7713909595821504,0.0,0.0,109.81108377263975,0.0,41.814098458656176,0.0,0.0,0.0,0.0,33.29457470461309,0.0,70.02365583550758,40.8194933691143,0.0,0.12659671772801992,0.0,0.0,0.0,0.0,0.0,0.0,0.0,0.9974773967281486,0.28652299954724253,0.0,0.0,0.0,0.0,39.67373575589056,152.17140673055405,0.0,0.0,0.0,36.01868994020997,32.54746607237491,0.0,0.0,30.15644683550947,0.22288952474833207,0.0,0.0,0.0,0.0,71.4387373058475,0.0,42.2123905849726,0.0,2.2889130434482626e-07,0.0,266.3078174067919,0.0,43.331042967125676,2.3598605808865263,0.0,0.0,0.0,0.0,0.0,0.0,0.0,42.07601845903098,2.5951726396510177,0.0,0.0,0.0,39.93525709596498,0.0,33.47465876641345,0.0,0.0,0.0,0.0,1.001323769495161,2.3598605766545493,0.0,0.0,0.0,0.0,0.0,0.0,51.378656585831436,0.0,0.0,0.0,2.658730707774005,0.0,0.0,0.0,0.0348315276396859,0.0,0.0,0.0,28.108940178311176,0.0,0.0,50.34467189052958,71.8533476983882,50.23312718102627,31.933813095450255,0.0,0.0,0.0,0.0,0.0,0.0,0.0,31.706977684850994,0.0,0.0,0.0,0.03394352382309106,0.0,0.0,0.0,0.0,16.568137425059728,2.771390293753899],\"type\":\"scatter\",\"xaxis\":\"x2\",\"yaxis\":\"y2\"}],                        {\"template\":{\"data\":{\"barpolar\":[{\"marker\":{\"line\":{\"color\":\"white\",\"width\":0.5},\"pattern\":{\"fillmode\":\"overlay\",\"size\":10,\"solidity\":0.2}},\"type\":\"barpolar\"}],\"bar\":[{\"error_x\":{\"color\":\"#2a3f5f\"},\"error_y\":{\"color\":\"#2a3f5f\"},\"marker\":{\"line\":{\"color\":\"white\",\"width\":0.5},\"pattern\":{\"fillmode\":\"overlay\",\"size\":10,\"solidity\":0.2}},\"type\":\"bar\"}],\"carpet\":[{\"aaxis\":{\"endlinecolor\":\"#2a3f5f\",\"gridcolor\":\"#C8D4E3\",\"linecolor\":\"#C8D4E3\",\"minorgridcolor\":\"#C8D4E3\",\"startlinecolor\":\"#2a3f5f\"},\"baxis\":{\"endlinecolor\":\"#2a3f5f\",\"gridcolor\":\"#C8D4E3\",\"linecolor\":\"#C8D4E3\",\"minorgridcolor\":\"#C8D4E3\",\"startlinecolor\":\"#2a3f5f\"},\"type\":\"carpet\"}],\"choropleth\":[{\"colorbar\":{\"outlinewidth\":0,\"ticks\":\"\"},\"type\":\"choropleth\"}],\"contourcarpet\":[{\"colorbar\":{\"outlinewidth\":0,\"ticks\":\"\"},\"type\":\"contourcarpet\"}],\"contour\":[{\"colorbar\":{\"outlinewidth\":0,\"ticks\":\"\"},\"colorscale\":[[0.0,\"#0d0887\"],[0.1111111111111111,\"#46039f\"],[0.2222222222222222,\"#7201a8\"],[0.3333333333333333,\"#9c179e\"],[0.4444444444444444,\"#bd3786\"],[0.5555555555555556,\"#d8576b\"],[0.6666666666666666,\"#ed7953\"],[0.7777777777777778,\"#fb9f3a\"],[0.8888888888888888,\"#fdca26\"],[1.0,\"#f0f921\"]],\"type\":\"contour\"}],\"heatmapgl\":[{\"colorbar\":{\"outlinewidth\":0,\"ticks\":\"\"},\"colorscale\":[[0.0,\"#0d0887\"],[0.1111111111111111,\"#46039f\"],[0.2222222222222222,\"#7201a8\"],[0.3333333333333333,\"#9c179e\"],[0.4444444444444444,\"#bd3786\"],[0.5555555555555556,\"#d8576b\"],[0.6666666666666666,\"#ed7953\"],[0.7777777777777778,\"#fb9f3a\"],[0.8888888888888888,\"#fdca26\"],[1.0,\"#f0f921\"]],\"type\":\"heatmapgl\"}],\"heatmap\":[{\"colorbar\":{\"outlinewidth\":0,\"ticks\":\"\"},\"colorscale\":[[0.0,\"#0d0887\"],[0.1111111111111111,\"#46039f\"],[0.2222222222222222,\"#7201a8\"],[0.3333333333333333,\"#9c179e\"],[0.4444444444444444,\"#bd3786\"],[0.5555555555555556,\"#d8576b\"],[0.6666666666666666,\"#ed7953\"],[0.7777777777777778,\"#fb9f3a\"],[0.8888888888888888,\"#fdca26\"],[1.0,\"#f0f921\"]],\"type\":\"heatmap\"}],\"histogram2dcontour\":[{\"colorbar\":{\"outlinewidth\":0,\"ticks\":\"\"},\"colorscale\":[[0.0,\"#0d0887\"],[0.1111111111111111,\"#46039f\"],[0.2222222222222222,\"#7201a8\"],[0.3333333333333333,\"#9c179e\"],[0.4444444444444444,\"#bd3786\"],[0.5555555555555556,\"#d8576b\"],[0.6666666666666666,\"#ed7953\"],[0.7777777777777778,\"#fb9f3a\"],[0.8888888888888888,\"#fdca26\"],[1.0,\"#f0f921\"]],\"type\":\"histogram2dcontour\"}],\"histogram2d\":[{\"colorbar\":{\"outlinewidth\":0,\"ticks\":\"\"},\"colorscale\":[[0.0,\"#0d0887\"],[0.1111111111111111,\"#46039f\"],[0.2222222222222222,\"#7201a8\"],[0.3333333333333333,\"#9c179e\"],[0.4444444444444444,\"#bd3786\"],[0.5555555555555556,\"#d8576b\"],[0.6666666666666666,\"#ed7953\"],[0.7777777777777778,\"#fb9f3a\"],[0.8888888888888888,\"#fdca26\"],[1.0,\"#f0f921\"]],\"type\":\"histogram2d\"}],\"histogram\":[{\"marker\":{\"pattern\":{\"fillmode\":\"overlay\",\"size\":10,\"solidity\":0.2}},\"type\":\"histogram\"}],\"mesh3d\":[{\"colorbar\":{\"outlinewidth\":0,\"ticks\":\"\"},\"type\":\"mesh3d\"}],\"parcoords\":[{\"line\":{\"colorbar\":{\"outlinewidth\":0,\"ticks\":\"\"}},\"type\":\"parcoords\"}],\"pie\":[{\"automargin\":true,\"type\":\"pie\"}],\"scatter3d\":[{\"line\":{\"colorbar\":{\"outlinewidth\":0,\"ticks\":\"\"}},\"marker\":{\"colorbar\":{\"outlinewidth\":0,\"ticks\":\"\"}},\"type\":\"scatter3d\"}],\"scattercarpet\":[{\"marker\":{\"colorbar\":{\"outlinewidth\":0,\"ticks\":\"\"}},\"type\":\"scattercarpet\"}],\"scattergeo\":[{\"marker\":{\"colorbar\":{\"outlinewidth\":0,\"ticks\":\"\"}},\"type\":\"scattergeo\"}],\"scattergl\":[{\"marker\":{\"colorbar\":{\"outlinewidth\":0,\"ticks\":\"\"}},\"type\":\"scattergl\"}],\"scattermapbox\":[{\"marker\":{\"colorbar\":{\"outlinewidth\":0,\"ticks\":\"\"}},\"type\":\"scattermapbox\"}],\"scatterpolargl\":[{\"marker\":{\"colorbar\":{\"outlinewidth\":0,\"ticks\":\"\"}},\"type\":\"scatterpolargl\"}],\"scatterpolar\":[{\"marker\":{\"colorbar\":{\"outlinewidth\":0,\"ticks\":\"\"}},\"type\":\"scatterpolar\"}],\"scatter\":[{\"fillpattern\":{\"fillmode\":\"overlay\",\"size\":10,\"solidity\":0.2},\"type\":\"scatter\"}],\"scatterternary\":[{\"marker\":{\"colorbar\":{\"outlinewidth\":0,\"ticks\":\"\"}},\"type\":\"scatterternary\"}],\"surface\":[{\"colorbar\":{\"outlinewidth\":0,\"ticks\":\"\"},\"colorscale\":[[0.0,\"#0d0887\"],[0.1111111111111111,\"#46039f\"],[0.2222222222222222,\"#7201a8\"],[0.3333333333333333,\"#9c179e\"],[0.4444444444444444,\"#bd3786\"],[0.5555555555555556,\"#d8576b\"],[0.6666666666666666,\"#ed7953\"],[0.7777777777777778,\"#fb9f3a\"],[0.8888888888888888,\"#fdca26\"],[1.0,\"#f0f921\"]],\"type\":\"surface\"}],\"table\":[{\"cells\":{\"fill\":{\"color\":\"#EBF0F8\"},\"line\":{\"color\":\"white\"}},\"header\":{\"fill\":{\"color\":\"#C8D4E3\"},\"line\":{\"color\":\"white\"}},\"type\":\"table\"}]},\"layout\":{\"annotationdefaults\":{\"arrowcolor\":\"#2a3f5f\",\"arrowhead\":0,\"arrowwidth\":1},\"autotypenumbers\":\"strict\",\"coloraxis\":{\"colorbar\":{\"outlinewidth\":0,\"ticks\":\"\"}},\"colorscale\":{\"diverging\":[[0,\"#8e0152\"],[0.1,\"#c51b7d\"],[0.2,\"#de77ae\"],[0.3,\"#f1b6da\"],[0.4,\"#fde0ef\"],[0.5,\"#f7f7f7\"],[0.6,\"#e6f5d0\"],[0.7,\"#b8e186\"],[0.8,\"#7fbc41\"],[0.9,\"#4d9221\"],[1,\"#276419\"]],\"sequential\":[[0.0,\"#0d0887\"],[0.1111111111111111,\"#46039f\"],[0.2222222222222222,\"#7201a8\"],[0.3333333333333333,\"#9c179e\"],[0.4444444444444444,\"#bd3786\"],[0.5555555555555556,\"#d8576b\"],[0.6666666666666666,\"#ed7953\"],[0.7777777777777778,\"#fb9f3a\"],[0.8888888888888888,\"#fdca26\"],[1.0,\"#f0f921\"]],\"sequentialminus\":[[0.0,\"#0d0887\"],[0.1111111111111111,\"#46039f\"],[0.2222222222222222,\"#7201a8\"],[0.3333333333333333,\"#9c179e\"],[0.4444444444444444,\"#bd3786\"],[0.5555555555555556,\"#d8576b\"],[0.6666666666666666,\"#ed7953\"],[0.7777777777777778,\"#fb9f3a\"],[0.8888888888888888,\"#fdca26\"],[1.0,\"#f0f921\"]]},\"colorway\":[\"#636efa\",\"#EF553B\",\"#00cc96\",\"#ab63fa\",\"#FFA15A\",\"#19d3f3\",\"#FF6692\",\"#B6E880\",\"#FF97FF\",\"#FECB52\"],\"font\":{\"color\":\"#2a3f5f\"},\"geo\":{\"bgcolor\":\"white\",\"lakecolor\":\"white\",\"landcolor\":\"white\",\"showlakes\":true,\"showland\":true,\"subunitcolor\":\"#C8D4E3\"},\"hoverlabel\":{\"align\":\"left\"},\"hovermode\":\"closest\",\"mapbox\":{\"style\":\"light\"},\"paper_bgcolor\":\"white\",\"plot_bgcolor\":\"white\",\"polar\":{\"angularaxis\":{\"gridcolor\":\"#EBF0F8\",\"linecolor\":\"#EBF0F8\",\"ticks\":\"\"},\"bgcolor\":\"white\",\"radialaxis\":{\"gridcolor\":\"#EBF0F8\",\"linecolor\":\"#EBF0F8\",\"ticks\":\"\"}},\"scene\":{\"xaxis\":{\"backgroundcolor\":\"white\",\"gridcolor\":\"#DFE8F3\",\"gridwidth\":2,\"linecolor\":\"#EBF0F8\",\"showbackground\":true,\"ticks\":\"\",\"zerolinecolor\":\"#EBF0F8\"},\"yaxis\":{\"backgroundcolor\":\"white\",\"gridcolor\":\"#DFE8F3\",\"gridwidth\":2,\"linecolor\":\"#EBF0F8\",\"showbackground\":true,\"ticks\":\"\",\"zerolinecolor\":\"#EBF0F8\"},\"zaxis\":{\"backgroundcolor\":\"white\",\"gridcolor\":\"#DFE8F3\",\"gridwidth\":2,\"linecolor\":\"#EBF0F8\",\"showbackground\":true,\"ticks\":\"\",\"zerolinecolor\":\"#EBF0F8\"}},\"shapedefaults\":{\"line\":{\"color\":\"#2a3f5f\"}},\"ternary\":{\"aaxis\":{\"gridcolor\":\"#DFE8F3\",\"linecolor\":\"#A2B1C6\",\"ticks\":\"\"},\"baxis\":{\"gridcolor\":\"#DFE8F3\",\"linecolor\":\"#A2B1C6\",\"ticks\":\"\"},\"bgcolor\":\"white\",\"caxis\":{\"gridcolor\":\"#DFE8F3\",\"linecolor\":\"#A2B1C6\",\"ticks\":\"\"}},\"title\":{\"x\":0.05},\"xaxis\":{\"automargin\":true,\"gridcolor\":\"#EBF0F8\",\"linecolor\":\"#EBF0F8\",\"ticks\":\"\",\"title\":{\"standoff\":15},\"zerolinecolor\":\"#EBF0F8\",\"zerolinewidth\":2},\"yaxis\":{\"automargin\":true,\"gridcolor\":\"#EBF0F8\",\"linecolor\":\"#EBF0F8\",\"ticks\":\"\",\"title\":{\"standoff\":15},\"zerolinecolor\":\"#EBF0F8\",\"zerolinewidth\":2}}},\"xaxis\":{\"anchor\":\"y\",\"domain\":[0.0,0.45]},\"yaxis\":{\"anchor\":\"x\",\"domain\":[0.0,1.0]},\"xaxis2\":{\"anchor\":\"y2\",\"domain\":[0.55,1.0]},\"yaxis2\":{\"anchor\":\"x2\",\"domain\":[0.0,1.0]}},                        {\"responsive\": true}                    ).then(function(){\n",
       "                            \n",
       "var gd = document.getElementById('dc085e60-6cc2-4004-a7d8-e2079e10d61b');\n",
       "var x = new MutationObserver(function (mutations, observer) {{\n",
       "        var display = window.getComputedStyle(gd).display;\n",
       "        if (!display || display === 'none') {{\n",
       "            console.log([gd, 'removed!']);\n",
       "            Plotly.purge(gd);\n",
       "            observer.disconnect();\n",
       "        }}\n",
       "}});\n",
       "\n",
       "// Listen for the removal of the full notebook cells\n",
       "var notebookContainer = gd.closest('#notebook-container');\n",
       "if (notebookContainer) {{\n",
       "    x.observe(notebookContainer, {childList: true});\n",
       "}}\n",
       "\n",
       "// Listen for the clearing of the current output cell\n",
       "var outputEl = gd.closest('.output');\n",
       "if (outputEl) {{\n",
       "    x.observe(outputEl, {childList: true});\n",
       "}}\n",
       "\n",
       "                        })                };                });            </script>        </div>"
      ]
     },
     "metadata": {},
     "output_type": "display_data"
    }
   ],
   "source": [
    "true = true_powers.loc[ts]\n",
    "est = est_powers.loc[ts]\n",
    "error = true - est\n",
    "\n",
    "fig = make_subplots(rows=1, cols=2)\n",
    "fig.add_trace(\n",
    "    go.Scatter(name=\"base\", x=true.index, y=true.values.real, mode=\"markers\"),\n",
    "    row=1,\n",
    "    col=1,\n",
    ")\n",
    "fig.add_trace(\n",
    "    go.Scatter(name=\"opt\", x=est.index, y=est.values.real, mode=\"markers\"), row=1, col=1\n",
    ")\n",
    "fig.add_trace(\n",
    "    go.Scatter(name=\"diff\", x=error.index, y=error.abs(), mode=\"markers\"), row=1, col=2\n",
    ")\n",
    "fig.update_layout(template=\"plotly_white\")\n",
    "fig.show()"
   ]
  },
  {
   "cell_type": "code",
   "execution_count": 223,
   "id": "08ebeff1-6578-4118-a760-a3a61f0ad0e2",
   "metadata": {},
   "outputs": [
    {
     "data": {
      "application/vnd.plotly.v1+json": {
       "config": {
        "plotlyServerURL": "https://plot.ly"
       },
       "data": [
        {
         "mode": "markers",
         "name": "base",
         "type": "scatter",
         "x": [
          "PVSystem.pv_load_p1ulv4153",
          "PVSystem.pv_load_p1ulv4193",
          "PVSystem.pv_load_p1ulv4196",
          "PVSystem.pv_load_p1ulv7633",
          "PVSystem.pv_load_p1ulv4110",
          "PVSystem.pv_load_p1ulv7543",
          "PVSystem.pv_load_p1ulv7547",
          "PVSystem.pv_load_p1ulv4138",
          "PVSystem.pv_load_p1ulv4194",
          "PVSystem.pv_load_p1ulv7531",
          "PVSystem.pv_load_p1ulv4154",
          "PVSystem.pv_load_p1ulv4197",
          "PVSystem.pv_load_p1ulv4188",
          "PVSystem.pv_load_p1ulv7544",
          "PVSystem.pv_load_p1ulv4113",
          "PVSystem.pv_load_p1ulv4189",
          "PVSystem.pv_load_p1ulv4137",
          "PVSystem.pv_load_p1ulv4108",
          "PVSystem.pv_load_p1ulv4140",
          "PVSystem.pv_load_p1ulv4112",
          "PVSystem.pv_load_p1ulv4111",
          "PVSystem.pv_load_p1ulv7546",
          "PVSystem.pv_load_p1ulv4109"
         ],
         "xaxis": "x",
         "y": [
          4.9064,
          53.886,
          2.0555000000000003,
          53.886,
          53.886,
          61.33,
          56.24600000000001,
          53.886,
          2.4196500000000003,
          170.01000000000002,
          170.01000000000002,
          2.6943,
          4.18896,
          53.886,
          61.33,
          2.51736,
          61.33,
          161.65800000000002,
          52.361999999999995,
          53.886,
          67.178,
          52.361999999999995,
          161.65800000000002
         ],
         "yaxis": "y"
        },
        {
         "mode": "markers",
         "name": "opt",
         "type": "scatter",
         "x": [
          "PVSystem.pv_load_p1ulv4109",
          "PVSystem.pv_load_p1ulv4110",
          "PVSystem.pv_load_p1ulv4111",
          "PVSystem.pv_load_p1ulv4112",
          "PVSystem.pv_load_p1ulv4113",
          "PVSystem.pv_load_p1ulv4137",
          "PVSystem.pv_load_p1ulv4138",
          "PVSystem.pv_load_p1ulv7543",
          "PVSystem.pv_load_p1ulv4140",
          "PVSystem.pv_load_p1ulv7633",
          "PVSystem.pv_load_p1ulv4197",
          "PVSystem.pv_load_p1ulv4193",
          "PVSystem.pv_load_p1ulv4194",
          "PVSystem.pv_load_p1ulv4196",
          "PVSystem.pv_load_p1ulv7544",
          "PVSystem.pv_load_p1ulv7546",
          "PVSystem.pv_load_p1ulv7547",
          "PVSystem.pv_load_p1ulv4153",
          "PVSystem.pv_load_p1ulv4154",
          "PVSystem.pv_load_p1ulv7531",
          "PVSystem.pv_load_p1ulv4108",
          "PVSystem.pv_load_p1ulv4189",
          "PVSystem.pv_load_p1ulv4188"
         ],
         "xaxis": "x",
         "y": [
          6.804305012513788e-07,
          53.88600135048158,
          53.00886882623343,
          43.93713107527244,
          61.33000135712974,
          6.80444110611134e-07,
          6.804361864599643e-07,
          61.330001352891955,
          6.805594651367807e-07,
          6.804834556080702e-07,
          6.805156339796852e-07,
          6.804426620250917e-07,
          4.475151362149526,
          4.475151362149526,
          53.88600136533065,
          42.727796030582816,
          56.246001350861675,
          8.827938664533411e-07,
          0.0011439668396183214,
          0.0011439025929021478,
          0.005149486058606041,
          0.8391213586371432,
          0.00032265029794848284
         ],
         "yaxis": "y"
        }
       ],
       "layout": {
        "autosize": true,
        "template": {
         "data": {
          "bar": [
           {
            "error_x": {
             "color": "#2a3f5f"
            },
            "error_y": {
             "color": "#2a3f5f"
            },
            "marker": {
             "line": {
              "color": "white",
              "width": 0.5
             },
             "pattern": {
              "fillmode": "overlay",
              "size": 10,
              "solidity": 0.2
             }
            },
            "type": "bar"
           }
          ],
          "barpolar": [
           {
            "marker": {
             "line": {
              "color": "white",
              "width": 0.5
             },
             "pattern": {
              "fillmode": "overlay",
              "size": 10,
              "solidity": 0.2
             }
            },
            "type": "barpolar"
           }
          ],
          "carpet": [
           {
            "aaxis": {
             "endlinecolor": "#2a3f5f",
             "gridcolor": "#C8D4E3",
             "linecolor": "#C8D4E3",
             "minorgridcolor": "#C8D4E3",
             "startlinecolor": "#2a3f5f"
            },
            "baxis": {
             "endlinecolor": "#2a3f5f",
             "gridcolor": "#C8D4E3",
             "linecolor": "#C8D4E3",
             "minorgridcolor": "#C8D4E3",
             "startlinecolor": "#2a3f5f"
            },
            "type": "carpet"
           }
          ],
          "choropleth": [
           {
            "colorbar": {
             "outlinewidth": 0,
             "ticks": ""
            },
            "type": "choropleth"
           }
          ],
          "contour": [
           {
            "colorbar": {
             "outlinewidth": 0,
             "ticks": ""
            },
            "colorscale": [
             [
              0,
              "#0d0887"
             ],
             [
              0.1111111111111111,
              "#46039f"
             ],
             [
              0.2222222222222222,
              "#7201a8"
             ],
             [
              0.3333333333333333,
              "#9c179e"
             ],
             [
              0.4444444444444444,
              "#bd3786"
             ],
             [
              0.5555555555555556,
              "#d8576b"
             ],
             [
              0.6666666666666666,
              "#ed7953"
             ],
             [
              0.7777777777777778,
              "#fb9f3a"
             ],
             [
              0.8888888888888888,
              "#fdca26"
             ],
             [
              1,
              "#f0f921"
             ]
            ],
            "type": "contour"
           }
          ],
          "contourcarpet": [
           {
            "colorbar": {
             "outlinewidth": 0,
             "ticks": ""
            },
            "type": "contourcarpet"
           }
          ],
          "heatmap": [
           {
            "colorbar": {
             "outlinewidth": 0,
             "ticks": ""
            },
            "colorscale": [
             [
              0,
              "#0d0887"
             ],
             [
              0.1111111111111111,
              "#46039f"
             ],
             [
              0.2222222222222222,
              "#7201a8"
             ],
             [
              0.3333333333333333,
              "#9c179e"
             ],
             [
              0.4444444444444444,
              "#bd3786"
             ],
             [
              0.5555555555555556,
              "#d8576b"
             ],
             [
              0.6666666666666666,
              "#ed7953"
             ],
             [
              0.7777777777777778,
              "#fb9f3a"
             ],
             [
              0.8888888888888888,
              "#fdca26"
             ],
             [
              1,
              "#f0f921"
             ]
            ],
            "type": "heatmap"
           }
          ],
          "heatmapgl": [
           {
            "colorbar": {
             "outlinewidth": 0,
             "ticks": ""
            },
            "colorscale": [
             [
              0,
              "#0d0887"
             ],
             [
              0.1111111111111111,
              "#46039f"
             ],
             [
              0.2222222222222222,
              "#7201a8"
             ],
             [
              0.3333333333333333,
              "#9c179e"
             ],
             [
              0.4444444444444444,
              "#bd3786"
             ],
             [
              0.5555555555555556,
              "#d8576b"
             ],
             [
              0.6666666666666666,
              "#ed7953"
             ],
             [
              0.7777777777777778,
              "#fb9f3a"
             ],
             [
              0.8888888888888888,
              "#fdca26"
             ],
             [
              1,
              "#f0f921"
             ]
            ],
            "type": "heatmapgl"
           }
          ],
          "histogram": [
           {
            "marker": {
             "pattern": {
              "fillmode": "overlay",
              "size": 10,
              "solidity": 0.2
             }
            },
            "type": "histogram"
           }
          ],
          "histogram2d": [
           {
            "colorbar": {
             "outlinewidth": 0,
             "ticks": ""
            },
            "colorscale": [
             [
              0,
              "#0d0887"
             ],
             [
              0.1111111111111111,
              "#46039f"
             ],
             [
              0.2222222222222222,
              "#7201a8"
             ],
             [
              0.3333333333333333,
              "#9c179e"
             ],
             [
              0.4444444444444444,
              "#bd3786"
             ],
             [
              0.5555555555555556,
              "#d8576b"
             ],
             [
              0.6666666666666666,
              "#ed7953"
             ],
             [
              0.7777777777777778,
              "#fb9f3a"
             ],
             [
              0.8888888888888888,
              "#fdca26"
             ],
             [
              1,
              "#f0f921"
             ]
            ],
            "type": "histogram2d"
           }
          ],
          "histogram2dcontour": [
           {
            "colorbar": {
             "outlinewidth": 0,
             "ticks": ""
            },
            "colorscale": [
             [
              0,
              "#0d0887"
             ],
             [
              0.1111111111111111,
              "#46039f"
             ],
             [
              0.2222222222222222,
              "#7201a8"
             ],
             [
              0.3333333333333333,
              "#9c179e"
             ],
             [
              0.4444444444444444,
              "#bd3786"
             ],
             [
              0.5555555555555556,
              "#d8576b"
             ],
             [
              0.6666666666666666,
              "#ed7953"
             ],
             [
              0.7777777777777778,
              "#fb9f3a"
             ],
             [
              0.8888888888888888,
              "#fdca26"
             ],
             [
              1,
              "#f0f921"
             ]
            ],
            "type": "histogram2dcontour"
           }
          ],
          "mesh3d": [
           {
            "colorbar": {
             "outlinewidth": 0,
             "ticks": ""
            },
            "type": "mesh3d"
           }
          ],
          "parcoords": [
           {
            "line": {
             "colorbar": {
              "outlinewidth": 0,
              "ticks": ""
             }
            },
            "type": "parcoords"
           }
          ],
          "pie": [
           {
            "automargin": true,
            "type": "pie"
           }
          ],
          "scatter": [
           {
            "fillpattern": {
             "fillmode": "overlay",
             "size": 10,
             "solidity": 0.2
            },
            "type": "scatter"
           }
          ],
          "scatter3d": [
           {
            "line": {
             "colorbar": {
              "outlinewidth": 0,
              "ticks": ""
             }
            },
            "marker": {
             "colorbar": {
              "outlinewidth": 0,
              "ticks": ""
             }
            },
            "type": "scatter3d"
           }
          ],
          "scattercarpet": [
           {
            "marker": {
             "colorbar": {
              "outlinewidth": 0,
              "ticks": ""
             }
            },
            "type": "scattercarpet"
           }
          ],
          "scattergeo": [
           {
            "marker": {
             "colorbar": {
              "outlinewidth": 0,
              "ticks": ""
             }
            },
            "type": "scattergeo"
           }
          ],
          "scattergl": [
           {
            "marker": {
             "colorbar": {
              "outlinewidth": 0,
              "ticks": ""
             }
            },
            "type": "scattergl"
           }
          ],
          "scattermapbox": [
           {
            "marker": {
             "colorbar": {
              "outlinewidth": 0,
              "ticks": ""
             }
            },
            "type": "scattermapbox"
           }
          ],
          "scatterpolar": [
           {
            "marker": {
             "colorbar": {
              "outlinewidth": 0,
              "ticks": ""
             }
            },
            "type": "scatterpolar"
           }
          ],
          "scatterpolargl": [
           {
            "marker": {
             "colorbar": {
              "outlinewidth": 0,
              "ticks": ""
             }
            },
            "type": "scatterpolargl"
           }
          ],
          "scatterternary": [
           {
            "marker": {
             "colorbar": {
              "outlinewidth": 0,
              "ticks": ""
             }
            },
            "type": "scatterternary"
           }
          ],
          "surface": [
           {
            "colorbar": {
             "outlinewidth": 0,
             "ticks": ""
            },
            "colorscale": [
             [
              0,
              "#0d0887"
             ],
             [
              0.1111111111111111,
              "#46039f"
             ],
             [
              0.2222222222222222,
              "#7201a8"
             ],
             [
              0.3333333333333333,
              "#9c179e"
             ],
             [
              0.4444444444444444,
              "#bd3786"
             ],
             [
              0.5555555555555556,
              "#d8576b"
             ],
             [
              0.6666666666666666,
              "#ed7953"
             ],
             [
              0.7777777777777778,
              "#fb9f3a"
             ],
             [
              0.8888888888888888,
              "#fdca26"
             ],
             [
              1,
              "#f0f921"
             ]
            ],
            "type": "surface"
           }
          ],
          "table": [
           {
            "cells": {
             "fill": {
              "color": "#EBF0F8"
             },
             "line": {
              "color": "white"
             }
            },
            "header": {
             "fill": {
              "color": "#C8D4E3"
             },
             "line": {
              "color": "white"
             }
            },
            "type": "table"
           }
          ]
         },
         "layout": {
          "annotationdefaults": {
           "arrowcolor": "#2a3f5f",
           "arrowhead": 0,
           "arrowwidth": 1
          },
          "autotypenumbers": "strict",
          "coloraxis": {
           "colorbar": {
            "outlinewidth": 0,
            "ticks": ""
           }
          },
          "colorscale": {
           "diverging": [
            [
             0,
             "#8e0152"
            ],
            [
             0.1,
             "#c51b7d"
            ],
            [
             0.2,
             "#de77ae"
            ],
            [
             0.3,
             "#f1b6da"
            ],
            [
             0.4,
             "#fde0ef"
            ],
            [
             0.5,
             "#f7f7f7"
            ],
            [
             0.6,
             "#e6f5d0"
            ],
            [
             0.7,
             "#b8e186"
            ],
            [
             0.8,
             "#7fbc41"
            ],
            [
             0.9,
             "#4d9221"
            ],
            [
             1,
             "#276419"
            ]
           ],
           "sequential": [
            [
             0,
             "#0d0887"
            ],
            [
             0.1111111111111111,
             "#46039f"
            ],
            [
             0.2222222222222222,
             "#7201a8"
            ],
            [
             0.3333333333333333,
             "#9c179e"
            ],
            [
             0.4444444444444444,
             "#bd3786"
            ],
            [
             0.5555555555555556,
             "#d8576b"
            ],
            [
             0.6666666666666666,
             "#ed7953"
            ],
            [
             0.7777777777777778,
             "#fb9f3a"
            ],
            [
             0.8888888888888888,
             "#fdca26"
            ],
            [
             1,
             "#f0f921"
            ]
           ],
           "sequentialminus": [
            [
             0,
             "#0d0887"
            ],
            [
             0.1111111111111111,
             "#46039f"
            ],
            [
             0.2222222222222222,
             "#7201a8"
            ],
            [
             0.3333333333333333,
             "#9c179e"
            ],
            [
             0.4444444444444444,
             "#bd3786"
            ],
            [
             0.5555555555555556,
             "#d8576b"
            ],
            [
             0.6666666666666666,
             "#ed7953"
            ],
            [
             0.7777777777777778,
             "#fb9f3a"
            ],
            [
             0.8888888888888888,
             "#fdca26"
            ],
            [
             1,
             "#f0f921"
            ]
           ]
          },
          "colorway": [
           "#636efa",
           "#EF553B",
           "#00cc96",
           "#ab63fa",
           "#FFA15A",
           "#19d3f3",
           "#FF6692",
           "#B6E880",
           "#FF97FF",
           "#FECB52"
          ],
          "font": {
           "color": "#2a3f5f"
          },
          "geo": {
           "bgcolor": "white",
           "lakecolor": "white",
           "landcolor": "white",
           "showlakes": true,
           "showland": true,
           "subunitcolor": "#C8D4E3"
          },
          "hoverlabel": {
           "align": "left"
          },
          "hovermode": "closest",
          "mapbox": {
           "style": "light"
          },
          "paper_bgcolor": "white",
          "plot_bgcolor": "white",
          "polar": {
           "angularaxis": {
            "gridcolor": "#EBF0F8",
            "linecolor": "#EBF0F8",
            "ticks": ""
           },
           "bgcolor": "white",
           "radialaxis": {
            "gridcolor": "#EBF0F8",
            "linecolor": "#EBF0F8",
            "ticks": ""
           }
          },
          "scene": {
           "xaxis": {
            "backgroundcolor": "white",
            "gridcolor": "#DFE8F3",
            "gridwidth": 2,
            "linecolor": "#EBF0F8",
            "showbackground": true,
            "ticks": "",
            "zerolinecolor": "#EBF0F8"
           },
           "yaxis": {
            "backgroundcolor": "white",
            "gridcolor": "#DFE8F3",
            "gridwidth": 2,
            "linecolor": "#EBF0F8",
            "showbackground": true,
            "ticks": "",
            "zerolinecolor": "#EBF0F8"
           },
           "zaxis": {
            "backgroundcolor": "white",
            "gridcolor": "#DFE8F3",
            "gridwidth": 2,
            "linecolor": "#EBF0F8",
            "showbackground": true,
            "ticks": "",
            "zerolinecolor": "#EBF0F8"
           }
          },
          "shapedefaults": {
           "line": {
            "color": "#2a3f5f"
           }
          },
          "ternary": {
           "aaxis": {
            "gridcolor": "#DFE8F3",
            "linecolor": "#A2B1C6",
            "ticks": ""
           },
           "baxis": {
            "gridcolor": "#DFE8F3",
            "linecolor": "#A2B1C6",
            "ticks": ""
           },
           "bgcolor": "white",
           "caxis": {
            "gridcolor": "#DFE8F3",
            "linecolor": "#A2B1C6",
            "ticks": ""
           }
          },
          "title": {
           "x": 0.05
          },
          "xaxis": {
           "automargin": true,
           "gridcolor": "#EBF0F8",
           "linecolor": "#EBF0F8",
           "ticks": "",
           "title": {
            "standoff": 15
           },
           "zerolinecolor": "#EBF0F8",
           "zerolinewidth": 2
          },
          "yaxis": {
           "automargin": true,
           "gridcolor": "#EBF0F8",
           "linecolor": "#EBF0F8",
           "ticks": "",
           "title": {
            "standoff": 15
           },
           "zerolinecolor": "#EBF0F8",
           "zerolinewidth": 2
          }
         }
        },
        "xaxis": {
         "anchor": "y",
         "autorange": true,
         "domain": [
          0,
          1
         ],
         "range": [
          -1.4197371256194786,
          23.419737125619477
         ],
         "type": "category"
        },
        "yaxis": {
         "anchor": "x",
         "autorange": true,
         "domain": [
          0,
          1
         ],
         "range": [
          -23.584220782064676,
          193.5942214624952
         ],
         "type": "linear"
        }
       }
      },
      "text/html": [
       "<div>                            <div id=\"e1af1bde-9375-4a6d-865b-1ee2769288dd\" class=\"plotly-graph-div\" style=\"height:525px; width:100%;\"></div>            <script type=\"text/javascript\">                require([\"plotly\"], function(Plotly) {                    window.PLOTLYENV=window.PLOTLYENV || {};                                    if (document.getElementById(\"e1af1bde-9375-4a6d-865b-1ee2769288dd\")) {                    Plotly.newPlot(                        \"e1af1bde-9375-4a6d-865b-1ee2769288dd\",                        [{\"mode\":\"markers\",\"name\":\"base\",\"x\":[\"PVSystem.pv_load_p1ulv4153\",\"PVSystem.pv_load_p1ulv4193\",\"PVSystem.pv_load_p1ulv4196\",\"PVSystem.pv_load_p1ulv7633\",\"PVSystem.pv_load_p1ulv4110\",\"PVSystem.pv_load_p1ulv7543\",\"PVSystem.pv_load_p1ulv7547\",\"PVSystem.pv_load_p1ulv4138\",\"PVSystem.pv_load_p1ulv4194\",\"PVSystem.pv_load_p1ulv7531\",\"PVSystem.pv_load_p1ulv4154\",\"PVSystem.pv_load_p1ulv4197\",\"PVSystem.pv_load_p1ulv4188\",\"PVSystem.pv_load_p1ulv7544\",\"PVSystem.pv_load_p1ulv4113\",\"PVSystem.pv_load_p1ulv4189\",\"PVSystem.pv_load_p1ulv4137\",\"PVSystem.pv_load_p1ulv4108\",\"PVSystem.pv_load_p1ulv4140\",\"PVSystem.pv_load_p1ulv4112\",\"PVSystem.pv_load_p1ulv4111\",\"PVSystem.pv_load_p1ulv7546\",\"PVSystem.pv_load_p1ulv4109\"],\"y\":[4.9064,53.886,2.0555000000000003,53.886,53.886,61.33,56.24600000000001,53.886,2.4196500000000003,170.01000000000002,170.01000000000002,2.6943,4.18896,53.886,61.33,2.51736,61.33,161.65800000000002,52.361999999999995,53.886,67.178,52.361999999999995,161.65800000000002],\"type\":\"scatter\",\"xaxis\":\"x\",\"yaxis\":\"y\"},{\"mode\":\"markers\",\"name\":\"opt\",\"x\":[\"PVSystem.pv_load_p1ulv4109\",\"PVSystem.pv_load_p1ulv4110\",\"PVSystem.pv_load_p1ulv4111\",\"PVSystem.pv_load_p1ulv4112\",\"PVSystem.pv_load_p1ulv4113\",\"PVSystem.pv_load_p1ulv4137\",\"PVSystem.pv_load_p1ulv4138\",\"PVSystem.pv_load_p1ulv7543\",\"PVSystem.pv_load_p1ulv4140\",\"PVSystem.pv_load_p1ulv7633\",\"PVSystem.pv_load_p1ulv4197\",\"PVSystem.pv_load_p1ulv4193\",\"PVSystem.pv_load_p1ulv4194\",\"PVSystem.pv_load_p1ulv4196\",\"PVSystem.pv_load_p1ulv7544\",\"PVSystem.pv_load_p1ulv7546\",\"PVSystem.pv_load_p1ulv7547\",\"PVSystem.pv_load_p1ulv4153\",\"PVSystem.pv_load_p1ulv4154\",\"PVSystem.pv_load_p1ulv7531\",\"PVSystem.pv_load_p1ulv4108\",\"PVSystem.pv_load_p1ulv4189\",\"PVSystem.pv_load_p1ulv4188\"],\"y\":[6.804305012513788e-07,53.88600135048158,53.00886882623343,43.93713107527244,61.33000135712974,6.80444110611134e-07,6.804361864599643e-07,61.330001352891955,6.805594651367807e-07,6.804834556080702e-07,6.805156339796852e-07,6.804426620250917e-07,4.475151362149526,4.475151362149526,53.88600136533065,42.727796030582816,56.246001350861675,8.827938664533411e-07,0.0011439668396183214,0.0011439025929021478,0.005149486058606041,0.8391213586371432,0.00032265029794848284],\"type\":\"scatter\",\"xaxis\":\"x\",\"yaxis\":\"y\"}],                        {\"template\":{\"data\":{\"barpolar\":[{\"marker\":{\"line\":{\"color\":\"white\",\"width\":0.5},\"pattern\":{\"fillmode\":\"overlay\",\"size\":10,\"solidity\":0.2}},\"type\":\"barpolar\"}],\"bar\":[{\"error_x\":{\"color\":\"#2a3f5f\"},\"error_y\":{\"color\":\"#2a3f5f\"},\"marker\":{\"line\":{\"color\":\"white\",\"width\":0.5},\"pattern\":{\"fillmode\":\"overlay\",\"size\":10,\"solidity\":0.2}},\"type\":\"bar\"}],\"carpet\":[{\"aaxis\":{\"endlinecolor\":\"#2a3f5f\",\"gridcolor\":\"#C8D4E3\",\"linecolor\":\"#C8D4E3\",\"minorgridcolor\":\"#C8D4E3\",\"startlinecolor\":\"#2a3f5f\"},\"baxis\":{\"endlinecolor\":\"#2a3f5f\",\"gridcolor\":\"#C8D4E3\",\"linecolor\":\"#C8D4E3\",\"minorgridcolor\":\"#C8D4E3\",\"startlinecolor\":\"#2a3f5f\"},\"type\":\"carpet\"}],\"choropleth\":[{\"colorbar\":{\"outlinewidth\":0,\"ticks\":\"\"},\"type\":\"choropleth\"}],\"contourcarpet\":[{\"colorbar\":{\"outlinewidth\":0,\"ticks\":\"\"},\"type\":\"contourcarpet\"}],\"contour\":[{\"colorbar\":{\"outlinewidth\":0,\"ticks\":\"\"},\"colorscale\":[[0.0,\"#0d0887\"],[0.1111111111111111,\"#46039f\"],[0.2222222222222222,\"#7201a8\"],[0.3333333333333333,\"#9c179e\"],[0.4444444444444444,\"#bd3786\"],[0.5555555555555556,\"#d8576b\"],[0.6666666666666666,\"#ed7953\"],[0.7777777777777778,\"#fb9f3a\"],[0.8888888888888888,\"#fdca26\"],[1.0,\"#f0f921\"]],\"type\":\"contour\"}],\"heatmapgl\":[{\"colorbar\":{\"outlinewidth\":0,\"ticks\":\"\"},\"colorscale\":[[0.0,\"#0d0887\"],[0.1111111111111111,\"#46039f\"],[0.2222222222222222,\"#7201a8\"],[0.3333333333333333,\"#9c179e\"],[0.4444444444444444,\"#bd3786\"],[0.5555555555555556,\"#d8576b\"],[0.6666666666666666,\"#ed7953\"],[0.7777777777777778,\"#fb9f3a\"],[0.8888888888888888,\"#fdca26\"],[1.0,\"#f0f921\"]],\"type\":\"heatmapgl\"}],\"heatmap\":[{\"colorbar\":{\"outlinewidth\":0,\"ticks\":\"\"},\"colorscale\":[[0.0,\"#0d0887\"],[0.1111111111111111,\"#46039f\"],[0.2222222222222222,\"#7201a8\"],[0.3333333333333333,\"#9c179e\"],[0.4444444444444444,\"#bd3786\"],[0.5555555555555556,\"#d8576b\"],[0.6666666666666666,\"#ed7953\"],[0.7777777777777778,\"#fb9f3a\"],[0.8888888888888888,\"#fdca26\"],[1.0,\"#f0f921\"]],\"type\":\"heatmap\"}],\"histogram2dcontour\":[{\"colorbar\":{\"outlinewidth\":0,\"ticks\":\"\"},\"colorscale\":[[0.0,\"#0d0887\"],[0.1111111111111111,\"#46039f\"],[0.2222222222222222,\"#7201a8\"],[0.3333333333333333,\"#9c179e\"],[0.4444444444444444,\"#bd3786\"],[0.5555555555555556,\"#d8576b\"],[0.6666666666666666,\"#ed7953\"],[0.7777777777777778,\"#fb9f3a\"],[0.8888888888888888,\"#fdca26\"],[1.0,\"#f0f921\"]],\"type\":\"histogram2dcontour\"}],\"histogram2d\":[{\"colorbar\":{\"outlinewidth\":0,\"ticks\":\"\"},\"colorscale\":[[0.0,\"#0d0887\"],[0.1111111111111111,\"#46039f\"],[0.2222222222222222,\"#7201a8\"],[0.3333333333333333,\"#9c179e\"],[0.4444444444444444,\"#bd3786\"],[0.5555555555555556,\"#d8576b\"],[0.6666666666666666,\"#ed7953\"],[0.7777777777777778,\"#fb9f3a\"],[0.8888888888888888,\"#fdca26\"],[1.0,\"#f0f921\"]],\"type\":\"histogram2d\"}],\"histogram\":[{\"marker\":{\"pattern\":{\"fillmode\":\"overlay\",\"size\":10,\"solidity\":0.2}},\"type\":\"histogram\"}],\"mesh3d\":[{\"colorbar\":{\"outlinewidth\":0,\"ticks\":\"\"},\"type\":\"mesh3d\"}],\"parcoords\":[{\"line\":{\"colorbar\":{\"outlinewidth\":0,\"ticks\":\"\"}},\"type\":\"parcoords\"}],\"pie\":[{\"automargin\":true,\"type\":\"pie\"}],\"scatter3d\":[{\"line\":{\"colorbar\":{\"outlinewidth\":0,\"ticks\":\"\"}},\"marker\":{\"colorbar\":{\"outlinewidth\":0,\"ticks\":\"\"}},\"type\":\"scatter3d\"}],\"scattercarpet\":[{\"marker\":{\"colorbar\":{\"outlinewidth\":0,\"ticks\":\"\"}},\"type\":\"scattercarpet\"}],\"scattergeo\":[{\"marker\":{\"colorbar\":{\"outlinewidth\":0,\"ticks\":\"\"}},\"type\":\"scattergeo\"}],\"scattergl\":[{\"marker\":{\"colorbar\":{\"outlinewidth\":0,\"ticks\":\"\"}},\"type\":\"scattergl\"}],\"scattermapbox\":[{\"marker\":{\"colorbar\":{\"outlinewidth\":0,\"ticks\":\"\"}},\"type\":\"scattermapbox\"}],\"scatterpolargl\":[{\"marker\":{\"colorbar\":{\"outlinewidth\":0,\"ticks\":\"\"}},\"type\":\"scatterpolargl\"}],\"scatterpolar\":[{\"marker\":{\"colorbar\":{\"outlinewidth\":0,\"ticks\":\"\"}},\"type\":\"scatterpolar\"}],\"scatter\":[{\"fillpattern\":{\"fillmode\":\"overlay\",\"size\":10,\"solidity\":0.2},\"type\":\"scatter\"}],\"scatterternary\":[{\"marker\":{\"colorbar\":{\"outlinewidth\":0,\"ticks\":\"\"}},\"type\":\"scatterternary\"}],\"surface\":[{\"colorbar\":{\"outlinewidth\":0,\"ticks\":\"\"},\"colorscale\":[[0.0,\"#0d0887\"],[0.1111111111111111,\"#46039f\"],[0.2222222222222222,\"#7201a8\"],[0.3333333333333333,\"#9c179e\"],[0.4444444444444444,\"#bd3786\"],[0.5555555555555556,\"#d8576b\"],[0.6666666666666666,\"#ed7953\"],[0.7777777777777778,\"#fb9f3a\"],[0.8888888888888888,\"#fdca26\"],[1.0,\"#f0f921\"]],\"type\":\"surface\"}],\"table\":[{\"cells\":{\"fill\":{\"color\":\"#EBF0F8\"},\"line\":{\"color\":\"white\"}},\"header\":{\"fill\":{\"color\":\"#C8D4E3\"},\"line\":{\"color\":\"white\"}},\"type\":\"table\"}]},\"layout\":{\"annotationdefaults\":{\"arrowcolor\":\"#2a3f5f\",\"arrowhead\":0,\"arrowwidth\":1},\"autotypenumbers\":\"strict\",\"coloraxis\":{\"colorbar\":{\"outlinewidth\":0,\"ticks\":\"\"}},\"colorscale\":{\"diverging\":[[0,\"#8e0152\"],[0.1,\"#c51b7d\"],[0.2,\"#de77ae\"],[0.3,\"#f1b6da\"],[0.4,\"#fde0ef\"],[0.5,\"#f7f7f7\"],[0.6,\"#e6f5d0\"],[0.7,\"#b8e186\"],[0.8,\"#7fbc41\"],[0.9,\"#4d9221\"],[1,\"#276419\"]],\"sequential\":[[0.0,\"#0d0887\"],[0.1111111111111111,\"#46039f\"],[0.2222222222222222,\"#7201a8\"],[0.3333333333333333,\"#9c179e\"],[0.4444444444444444,\"#bd3786\"],[0.5555555555555556,\"#d8576b\"],[0.6666666666666666,\"#ed7953\"],[0.7777777777777778,\"#fb9f3a\"],[0.8888888888888888,\"#fdca26\"],[1.0,\"#f0f921\"]],\"sequentialminus\":[[0.0,\"#0d0887\"],[0.1111111111111111,\"#46039f\"],[0.2222222222222222,\"#7201a8\"],[0.3333333333333333,\"#9c179e\"],[0.4444444444444444,\"#bd3786\"],[0.5555555555555556,\"#d8576b\"],[0.6666666666666666,\"#ed7953\"],[0.7777777777777778,\"#fb9f3a\"],[0.8888888888888888,\"#fdca26\"],[1.0,\"#f0f921\"]]},\"colorway\":[\"#636efa\",\"#EF553B\",\"#00cc96\",\"#ab63fa\",\"#FFA15A\",\"#19d3f3\",\"#FF6692\",\"#B6E880\",\"#FF97FF\",\"#FECB52\"],\"font\":{\"color\":\"#2a3f5f\"},\"geo\":{\"bgcolor\":\"white\",\"lakecolor\":\"white\",\"landcolor\":\"white\",\"showlakes\":true,\"showland\":true,\"subunitcolor\":\"#C8D4E3\"},\"hoverlabel\":{\"align\":\"left\"},\"hovermode\":\"closest\",\"mapbox\":{\"style\":\"light\"},\"paper_bgcolor\":\"white\",\"plot_bgcolor\":\"white\",\"polar\":{\"angularaxis\":{\"gridcolor\":\"#EBF0F8\",\"linecolor\":\"#EBF0F8\",\"ticks\":\"\"},\"bgcolor\":\"white\",\"radialaxis\":{\"gridcolor\":\"#EBF0F8\",\"linecolor\":\"#EBF0F8\",\"ticks\":\"\"}},\"scene\":{\"xaxis\":{\"backgroundcolor\":\"white\",\"gridcolor\":\"#DFE8F3\",\"gridwidth\":2,\"linecolor\":\"#EBF0F8\",\"showbackground\":true,\"ticks\":\"\",\"zerolinecolor\":\"#EBF0F8\"},\"yaxis\":{\"backgroundcolor\":\"white\",\"gridcolor\":\"#DFE8F3\",\"gridwidth\":2,\"linecolor\":\"#EBF0F8\",\"showbackground\":true,\"ticks\":\"\",\"zerolinecolor\":\"#EBF0F8\"},\"zaxis\":{\"backgroundcolor\":\"white\",\"gridcolor\":\"#DFE8F3\",\"gridwidth\":2,\"linecolor\":\"#EBF0F8\",\"showbackground\":true,\"ticks\":\"\",\"zerolinecolor\":\"#EBF0F8\"}},\"shapedefaults\":{\"line\":{\"color\":\"#2a3f5f\"}},\"ternary\":{\"aaxis\":{\"gridcolor\":\"#DFE8F3\",\"linecolor\":\"#A2B1C6\",\"ticks\":\"\"},\"baxis\":{\"gridcolor\":\"#DFE8F3\",\"linecolor\":\"#A2B1C6\",\"ticks\":\"\"},\"bgcolor\":\"white\",\"caxis\":{\"gridcolor\":\"#DFE8F3\",\"linecolor\":\"#A2B1C6\",\"ticks\":\"\"}},\"title\":{\"x\":0.05},\"xaxis\":{\"automargin\":true,\"gridcolor\":\"#EBF0F8\",\"linecolor\":\"#EBF0F8\",\"ticks\":\"\",\"title\":{\"standoff\":15},\"zerolinecolor\":\"#EBF0F8\",\"zerolinewidth\":2},\"yaxis\":{\"automargin\":true,\"gridcolor\":\"#EBF0F8\",\"linecolor\":\"#EBF0F8\",\"ticks\":\"\",\"title\":{\"standoff\":15},\"zerolinecolor\":\"#EBF0F8\",\"zerolinewidth\":2}}},\"xaxis\":{\"anchor\":\"y\",\"domain\":[0.0,1.0]},\"yaxis\":{\"anchor\":\"x\",\"domain\":[0.0,1.0]}},                        {\"responsive\": true}                    ).then(function(){\n",
       "                            \n",
       "var gd = document.getElementById('e1af1bde-9375-4a6d-865b-1ee2769288dd');\n",
       "var x = new MutationObserver(function (mutations, observer) {{\n",
       "        var display = window.getComputedStyle(gd).display;\n",
       "        if (!display || display === 'none') {{\n",
       "            console.log([gd, 'removed!']);\n",
       "            Plotly.purge(gd);\n",
       "            observer.disconnect();\n",
       "        }}\n",
       "}});\n",
       "\n",
       "// Listen for the removal of the full notebook cells\n",
       "var notebookContainer = gd.closest('#notebook-container');\n",
       "if (notebookContainer) {{\n",
       "    x.observe(notebookContainer, {childList: true});\n",
       "}}\n",
       "\n",
       "// Listen for the clearing of the current output cell\n",
       "var outputEl = gd.closest('.output');\n",
       "if (outputEl) {{\n",
       "    x.observe(outputEl, {childList: true});\n",
       "}}\n",
       "\n",
       "                        })                };                });            </script>        </div>"
      ]
     },
     "metadata": {},
     "output_type": "display_data"
    }
   ],
   "source": [
    "true = pv_true.loc[ts]\n",
    "est = pv_est.loc[ts]\n",
    "\n",
    "fig = make_subplots(rows=1, cols=1)\n",
    "fig.add_trace(go.Scatter(name=\"base\", x=true.index, y=true.values.real, mode=\"markers\"), row=1, col=1)\n",
    "fig.add_trace(\n",
    "    go.Scatter(name=\"opt\", x=est.index, y=est.values.real, mode=\"markers\"), row=1, col=1\n",
    ")\n",
    "fig.update_layout(template=\"plotly_white\")\n",
    "fig.show()"
   ]
  },
  {
   "cell_type": "code",
   "execution_count": 224,
   "id": "dbb9d74f-194e-43f5-9783-833fe8e625d0",
   "metadata": {},
   "outputs": [
    {
     "name": "stdout",
     "output_type": "stream",
     "text": [
      "                     solve_time  num_iters  optimality_gap  feasibility_gap\n",
      "time                                                                       \n",
      "2018-05-01 11:30:09    0.006770       11.0    9.736419e-10     1.426335e-14\n",
      "2018-05-01 11:31:30    0.007213       11.0    1.588479e-09     2.344963e-14\n",
      "2018-05-01 11:33:00    0.007123       11.0    1.336130e-09     2.074938e-14\n",
      "2018-05-01 11:34:30    0.007419       11.0    8.806084e-10     1.655904e-14\n",
      "2018-05-01 11:36:00    0.006759       11.0    8.739643e-10     2.296572e-14\n"
     ]
    },
    {
     "data": {
      "application/vnd.plotly.v1+json": {
       "config": {
        "plotlyServerURL": "https://plot.ly"
       },
       "data": [
        {
         "mode": "lines",
         "name": "runtime",
         "type": "scatter",
         "x": [
          "2018-05-01T11:30:09",
          "2018-05-01T11:31:30",
          "2018-05-01T11:33:00",
          "2018-05-01T11:34:30",
          "2018-05-01T11:36:00",
          "2018-05-01T11:37:30",
          "2018-05-01T11:39:00",
          "2018-05-01T11:40:30",
          "2018-05-01T11:42:00",
          "2018-05-01T11:45:00",
          "2018-05-01T11:45:09",
          "2018-05-01T11:46:30",
          "2018-05-01T11:48:00",
          "2018-05-01T11:49:30",
          "2018-05-01T11:51:00",
          "2018-05-01T11:52:30",
          "2018-05-01T11:54:00",
          "2018-05-01T11:55:30",
          "2018-05-01T11:57:00",
          "2018-05-01T12:00:00",
          "2018-05-01T12:00:09",
          "2018-05-01T12:01:30",
          "2018-05-01T12:03:00",
          "2018-05-01T12:04:30",
          "2018-05-01T12:06:00",
          "2018-05-01T12:07:30",
          "2018-05-01T12:09:00",
          "2018-05-01T12:10:30",
          "2018-05-01T12:12:00",
          "2018-05-01T12:15:00",
          "2018-05-01T12:15:09",
          "2018-05-01T12:16:30",
          "2018-05-01T12:18:00",
          "2018-05-01T12:19:30",
          "2018-05-01T12:21:00",
          "2018-05-01T12:22:30",
          "2018-05-01T12:24:00",
          "2018-05-01T12:25:30",
          "2018-05-01T12:27:00",
          "2018-05-01T12:30:00"
         ],
         "xaxis": "x",
         "y": [
          0.006770167,
          0.007213031,
          0.007122535,
          0.007418608,
          0.006758608,
          0.007221864,
          0.007747291,
          0.006933209,
          0.006831576,
          0.007298829,
          0.008183747,
          0.008305602,
          0.007364581,
          0.007231828,
          0.006805656,
          0.007874284,
          0.007650217,
          0.00727703,
          0.007698984,
          0.008848918,
          0.008877346,
          0.007788085,
          0.007431112,
          0.007705526,
          0.007042319,
          0.007801479,
          0.007345971,
          0.007370588,
          0.007123591,
          0.010352585,
          0.007078983,
          0.007183349,
          0.007211632,
          0.008158525,
          0.007315471,
          0.007039214,
          0.007137237,
          0.007206647,
          0.00693321,
          0.007998098
         ],
         "yaxis": "y"
        },
        {
         "mode": "lines",
         "name": "iterations",
         "type": "scatter",
         "x": [
          "2018-05-01T11:30:09",
          "2018-05-01T11:31:30",
          "2018-05-01T11:33:00",
          "2018-05-01T11:34:30",
          "2018-05-01T11:36:00",
          "2018-05-01T11:37:30",
          "2018-05-01T11:39:00",
          "2018-05-01T11:40:30",
          "2018-05-01T11:42:00",
          "2018-05-01T11:45:00",
          "2018-05-01T11:45:09",
          "2018-05-01T11:46:30",
          "2018-05-01T11:48:00",
          "2018-05-01T11:49:30",
          "2018-05-01T11:51:00",
          "2018-05-01T11:52:30",
          "2018-05-01T11:54:00",
          "2018-05-01T11:55:30",
          "2018-05-01T11:57:00",
          "2018-05-01T12:00:00",
          "2018-05-01T12:00:09",
          "2018-05-01T12:01:30",
          "2018-05-01T12:03:00",
          "2018-05-01T12:04:30",
          "2018-05-01T12:06:00",
          "2018-05-01T12:07:30",
          "2018-05-01T12:09:00",
          "2018-05-01T12:10:30",
          "2018-05-01T12:12:00",
          "2018-05-01T12:15:00",
          "2018-05-01T12:15:09",
          "2018-05-01T12:16:30",
          "2018-05-01T12:18:00",
          "2018-05-01T12:19:30",
          "2018-05-01T12:21:00",
          "2018-05-01T12:22:30",
          "2018-05-01T12:24:00",
          "2018-05-01T12:25:30",
          "2018-05-01T12:27:00",
          "2018-05-01T12:30:00"
         ],
         "xaxis": "x2",
         "y": [
          11,
          11,
          11,
          11,
          11,
          11,
          11,
          11,
          11,
          11,
          11,
          12,
          12,
          12,
          11,
          11,
          12,
          12,
          13,
          14,
          13,
          12,
          12,
          12,
          11,
          11,
          11,
          11,
          11,
          11,
          11,
          11,
          11,
          11,
          11,
          11,
          11,
          11,
          11,
          11
         ],
         "yaxis": "y2"
        },
        {
         "mode": "lines",
         "name": "optimality_gap",
         "type": "scatter",
         "x": [
          "2018-05-01T11:30:09",
          "2018-05-01T11:31:30",
          "2018-05-01T11:33:00",
          "2018-05-01T11:34:30",
          "2018-05-01T11:36:00",
          "2018-05-01T11:37:30",
          "2018-05-01T11:39:00",
          "2018-05-01T11:40:30",
          "2018-05-01T11:42:00",
          "2018-05-01T11:45:00",
          "2018-05-01T11:45:09",
          "2018-05-01T11:46:30",
          "2018-05-01T11:48:00",
          "2018-05-01T11:49:30",
          "2018-05-01T11:51:00",
          "2018-05-01T11:52:30",
          "2018-05-01T11:54:00",
          "2018-05-01T11:55:30",
          "2018-05-01T11:57:00",
          "2018-05-01T12:00:00",
          "2018-05-01T12:00:09",
          "2018-05-01T12:01:30",
          "2018-05-01T12:03:00",
          "2018-05-01T12:04:30",
          "2018-05-01T12:06:00",
          "2018-05-01T12:07:30",
          "2018-05-01T12:09:00",
          "2018-05-01T12:10:30",
          "2018-05-01T12:12:00",
          "2018-05-01T12:15:00",
          "2018-05-01T12:15:09",
          "2018-05-01T12:16:30",
          "2018-05-01T12:18:00",
          "2018-05-01T12:19:30",
          "2018-05-01T12:21:00",
          "2018-05-01T12:22:30",
          "2018-05-01T12:24:00",
          "2018-05-01T12:25:30",
          "2018-05-01T12:27:00",
          "2018-05-01T12:30:00"
         ],
         "xaxis": "x3",
         "y": [
          9.736419081207193e-10,
          1.5884788451240316e-09,
          1.3361295859800996e-09,
          8.806084438733305e-10,
          8.739643328579375e-10,
          8.941333560399851e-10,
          9.123688701257087e-10,
          9.351457619925521e-10,
          1.034639679925044e-09,
          1.33477830196853e-09,
          2.0667672780953833e-09,
          1.2783243323866023e-10,
          5.52311286466174e-10,
          6.69004439202439e-09,
          6.7663558174671885e-09,
          3.6964741311764433e-09,
          2.6032075011752274e-10,
          4.817089581024764e-10,
          2.779141199396465e-10,
          1.616369842386258e-09,
          1.0250368114793317e-09,
          4.73271890096173e-09,
          1.0996060296098216e-09,
          6.1275011516678825e-09,
          8.865645635359411e-09,
          4.244935302289512e-09,
          2.1008912285748808e-09,
          1.3289954876857726e-09,
          1.050666999439348e-09,
          9.971090083582523e-10,
          9.954131743261489e-10,
          9.932069723477738e-10,
          9.905211339983728e-10,
          9.87391334130268e-10,
          9.838509366469042e-10,
          9.79935432044502e-10,
          9.756731167393002e-10,
          9.710940856215895e-10,
          9.662258589688822e-10,
          9.925958222322015e-10
         ],
         "yaxis": "y3"
        },
        {
         "mode": "lines",
         "name": "feasibility_gap",
         "type": "scatter",
         "x": [
          "2018-05-01T11:30:09",
          "2018-05-01T11:31:30",
          "2018-05-01T11:33:00",
          "2018-05-01T11:34:30",
          "2018-05-01T11:36:00",
          "2018-05-01T11:37:30",
          "2018-05-01T11:39:00",
          "2018-05-01T11:40:30",
          "2018-05-01T11:42:00",
          "2018-05-01T11:45:00",
          "2018-05-01T11:45:09",
          "2018-05-01T11:46:30",
          "2018-05-01T11:48:00",
          "2018-05-01T11:49:30",
          "2018-05-01T11:51:00",
          "2018-05-01T11:52:30",
          "2018-05-01T11:54:00",
          "2018-05-01T11:55:30",
          "2018-05-01T11:57:00",
          "2018-05-01T12:00:00",
          "2018-05-01T12:00:09",
          "2018-05-01T12:01:30",
          "2018-05-01T12:03:00",
          "2018-05-01T12:04:30",
          "2018-05-01T12:06:00",
          "2018-05-01T12:07:30",
          "2018-05-01T12:09:00",
          "2018-05-01T12:10:30",
          "2018-05-01T12:12:00",
          "2018-05-01T12:15:00",
          "2018-05-01T12:15:09",
          "2018-05-01T12:16:30",
          "2018-05-01T12:18:00",
          "2018-05-01T12:19:30",
          "2018-05-01T12:21:00",
          "2018-05-01T12:22:30",
          "2018-05-01T12:24:00",
          "2018-05-01T12:25:30",
          "2018-05-01T12:27:00",
          "2018-05-01T12:30:00"
         ],
         "xaxis": "x4",
         "y": [
          1.4263346193415054e-14,
          2.344962712602828e-14,
          2.0749384514295536e-14,
          1.6559035423959833e-14,
          2.2965721184157542e-14,
          3.3337811682078045e-14,
          5.3076263479719844e-14,
          1.1260141871664796e-13,
          3.089700831535189e-13,
          7.438892743408322e-13,
          1.1264263184783022e-12,
          1.1657459306275636e-12,
          1.5872344037347078e-12,
          1.7284822080160486e-11,
          2.2399779264025873e-11,
          6.468884859063443e-12,
          2.4155782443065836e-12,
          3.566052464997257e-12,
          2.4913334329232856e-12,
          1.7436038583428613e-11,
          2.1810179088186523e-11,
          5.394795134133741e-11,
          1.9546709764642178e-11,
          1.0347275441288493e-11,
          4.25658375461495e-11,
          1.5130249640929894e-11,
          4.754969559812143e-12,
          1.5327763835988938e-12,
          6.055751354139769e-13,
          4.1586253717509175e-13,
          3.926085690637472e-13,
          3.9028902338549676e-13,
          3.900800523627421e-13,
          3.900666264794022e-13,
          3.9006775263755115e-13,
          3.900685009746058e-13,
          3.900684173942731e-13,
          3.900680953022838e-13,
          3.9006752778306407e-13,
          3.9010640986732093e-13
         ],
         "yaxis": "y4"
        }
       ],
       "layout": {
        "autosize": true,
        "template": {
         "data": {
          "bar": [
           {
            "error_x": {
             "color": "#2a3f5f"
            },
            "error_y": {
             "color": "#2a3f5f"
            },
            "marker": {
             "line": {
              "color": "white",
              "width": 0.5
             },
             "pattern": {
              "fillmode": "overlay",
              "size": 10,
              "solidity": 0.2
             }
            },
            "type": "bar"
           }
          ],
          "barpolar": [
           {
            "marker": {
             "line": {
              "color": "white",
              "width": 0.5
             },
             "pattern": {
              "fillmode": "overlay",
              "size": 10,
              "solidity": 0.2
             }
            },
            "type": "barpolar"
           }
          ],
          "carpet": [
           {
            "aaxis": {
             "endlinecolor": "#2a3f5f",
             "gridcolor": "#C8D4E3",
             "linecolor": "#C8D4E3",
             "minorgridcolor": "#C8D4E3",
             "startlinecolor": "#2a3f5f"
            },
            "baxis": {
             "endlinecolor": "#2a3f5f",
             "gridcolor": "#C8D4E3",
             "linecolor": "#C8D4E3",
             "minorgridcolor": "#C8D4E3",
             "startlinecolor": "#2a3f5f"
            },
            "type": "carpet"
           }
          ],
          "choropleth": [
           {
            "colorbar": {
             "outlinewidth": 0,
             "ticks": ""
            },
            "type": "choropleth"
           }
          ],
          "contour": [
           {
            "colorbar": {
             "outlinewidth": 0,
             "ticks": ""
            },
            "colorscale": [
             [
              0,
              "#0d0887"
             ],
             [
              0.1111111111111111,
              "#46039f"
             ],
             [
              0.2222222222222222,
              "#7201a8"
             ],
             [
              0.3333333333333333,
              "#9c179e"
             ],
             [
              0.4444444444444444,
              "#bd3786"
             ],
             [
              0.5555555555555556,
              "#d8576b"
             ],
             [
              0.6666666666666666,
              "#ed7953"
             ],
             [
              0.7777777777777778,
              "#fb9f3a"
             ],
             [
              0.8888888888888888,
              "#fdca26"
             ],
             [
              1,
              "#f0f921"
             ]
            ],
            "type": "contour"
           }
          ],
          "contourcarpet": [
           {
            "colorbar": {
             "outlinewidth": 0,
             "ticks": ""
            },
            "type": "contourcarpet"
           }
          ],
          "heatmap": [
           {
            "colorbar": {
             "outlinewidth": 0,
             "ticks": ""
            },
            "colorscale": [
             [
              0,
              "#0d0887"
             ],
             [
              0.1111111111111111,
              "#46039f"
             ],
             [
              0.2222222222222222,
              "#7201a8"
             ],
             [
              0.3333333333333333,
              "#9c179e"
             ],
             [
              0.4444444444444444,
              "#bd3786"
             ],
             [
              0.5555555555555556,
              "#d8576b"
             ],
             [
              0.6666666666666666,
              "#ed7953"
             ],
             [
              0.7777777777777778,
              "#fb9f3a"
             ],
             [
              0.8888888888888888,
              "#fdca26"
             ],
             [
              1,
              "#f0f921"
             ]
            ],
            "type": "heatmap"
           }
          ],
          "heatmapgl": [
           {
            "colorbar": {
             "outlinewidth": 0,
             "ticks": ""
            },
            "colorscale": [
             [
              0,
              "#0d0887"
             ],
             [
              0.1111111111111111,
              "#46039f"
             ],
             [
              0.2222222222222222,
              "#7201a8"
             ],
             [
              0.3333333333333333,
              "#9c179e"
             ],
             [
              0.4444444444444444,
              "#bd3786"
             ],
             [
              0.5555555555555556,
              "#d8576b"
             ],
             [
              0.6666666666666666,
              "#ed7953"
             ],
             [
              0.7777777777777778,
              "#fb9f3a"
             ],
             [
              0.8888888888888888,
              "#fdca26"
             ],
             [
              1,
              "#f0f921"
             ]
            ],
            "type": "heatmapgl"
           }
          ],
          "histogram": [
           {
            "marker": {
             "pattern": {
              "fillmode": "overlay",
              "size": 10,
              "solidity": 0.2
             }
            },
            "type": "histogram"
           }
          ],
          "histogram2d": [
           {
            "colorbar": {
             "outlinewidth": 0,
             "ticks": ""
            },
            "colorscale": [
             [
              0,
              "#0d0887"
             ],
             [
              0.1111111111111111,
              "#46039f"
             ],
             [
              0.2222222222222222,
              "#7201a8"
             ],
             [
              0.3333333333333333,
              "#9c179e"
             ],
             [
              0.4444444444444444,
              "#bd3786"
             ],
             [
              0.5555555555555556,
              "#d8576b"
             ],
             [
              0.6666666666666666,
              "#ed7953"
             ],
             [
              0.7777777777777778,
              "#fb9f3a"
             ],
             [
              0.8888888888888888,
              "#fdca26"
             ],
             [
              1,
              "#f0f921"
             ]
            ],
            "type": "histogram2d"
           }
          ],
          "histogram2dcontour": [
           {
            "colorbar": {
             "outlinewidth": 0,
             "ticks": ""
            },
            "colorscale": [
             [
              0,
              "#0d0887"
             ],
             [
              0.1111111111111111,
              "#46039f"
             ],
             [
              0.2222222222222222,
              "#7201a8"
             ],
             [
              0.3333333333333333,
              "#9c179e"
             ],
             [
              0.4444444444444444,
              "#bd3786"
             ],
             [
              0.5555555555555556,
              "#d8576b"
             ],
             [
              0.6666666666666666,
              "#ed7953"
             ],
             [
              0.7777777777777778,
              "#fb9f3a"
             ],
             [
              0.8888888888888888,
              "#fdca26"
             ],
             [
              1,
              "#f0f921"
             ]
            ],
            "type": "histogram2dcontour"
           }
          ],
          "mesh3d": [
           {
            "colorbar": {
             "outlinewidth": 0,
             "ticks": ""
            },
            "type": "mesh3d"
           }
          ],
          "parcoords": [
           {
            "line": {
             "colorbar": {
              "outlinewidth": 0,
              "ticks": ""
             }
            },
            "type": "parcoords"
           }
          ],
          "pie": [
           {
            "automargin": true,
            "type": "pie"
           }
          ],
          "scatter": [
           {
            "fillpattern": {
             "fillmode": "overlay",
             "size": 10,
             "solidity": 0.2
            },
            "type": "scatter"
           }
          ],
          "scatter3d": [
           {
            "line": {
             "colorbar": {
              "outlinewidth": 0,
              "ticks": ""
             }
            },
            "marker": {
             "colorbar": {
              "outlinewidth": 0,
              "ticks": ""
             }
            },
            "type": "scatter3d"
           }
          ],
          "scattercarpet": [
           {
            "marker": {
             "colorbar": {
              "outlinewidth": 0,
              "ticks": ""
             }
            },
            "type": "scattercarpet"
           }
          ],
          "scattergeo": [
           {
            "marker": {
             "colorbar": {
              "outlinewidth": 0,
              "ticks": ""
             }
            },
            "type": "scattergeo"
           }
          ],
          "scattergl": [
           {
            "marker": {
             "colorbar": {
              "outlinewidth": 0,
              "ticks": ""
             }
            },
            "type": "scattergl"
           }
          ],
          "scattermapbox": [
           {
            "marker": {
             "colorbar": {
              "outlinewidth": 0,
              "ticks": ""
             }
            },
            "type": "scattermapbox"
           }
          ],
          "scatterpolar": [
           {
            "marker": {
             "colorbar": {
              "outlinewidth": 0,
              "ticks": ""
             }
            },
            "type": "scatterpolar"
           }
          ],
          "scatterpolargl": [
           {
            "marker": {
             "colorbar": {
              "outlinewidth": 0,
              "ticks": ""
             }
            },
            "type": "scatterpolargl"
           }
          ],
          "scatterternary": [
           {
            "marker": {
             "colorbar": {
              "outlinewidth": 0,
              "ticks": ""
             }
            },
            "type": "scatterternary"
           }
          ],
          "surface": [
           {
            "colorbar": {
             "outlinewidth": 0,
             "ticks": ""
            },
            "colorscale": [
             [
              0,
              "#0d0887"
             ],
             [
              0.1111111111111111,
              "#46039f"
             ],
             [
              0.2222222222222222,
              "#7201a8"
             ],
             [
              0.3333333333333333,
              "#9c179e"
             ],
             [
              0.4444444444444444,
              "#bd3786"
             ],
             [
              0.5555555555555556,
              "#d8576b"
             ],
             [
              0.6666666666666666,
              "#ed7953"
             ],
             [
              0.7777777777777778,
              "#fb9f3a"
             ],
             [
              0.8888888888888888,
              "#fdca26"
             ],
             [
              1,
              "#f0f921"
             ]
            ],
            "type": "surface"
           }
          ],
          "table": [
           {
            "cells": {
             "fill": {
              "color": "#EBF0F8"
             },
             "line": {
              "color": "white"
             }
            },
            "header": {
             "fill": {
              "color": "#C8D4E3"
             },
             "line": {
              "color": "white"
             }
            },
            "type": "table"
           }
          ]
         },
         "layout": {
          "annotationdefaults": {
           "arrowcolor": "#2a3f5f",
           "arrowhead": 0,
           "arrowwidth": 1
          },
          "autotypenumbers": "strict",
          "coloraxis": {
           "colorbar": {
            "outlinewidth": 0,
            "ticks": ""
           }
          },
          "colorscale": {
           "diverging": [
            [
             0,
             "#8e0152"
            ],
            [
             0.1,
             "#c51b7d"
            ],
            [
             0.2,
             "#de77ae"
            ],
            [
             0.3,
             "#f1b6da"
            ],
            [
             0.4,
             "#fde0ef"
            ],
            [
             0.5,
             "#f7f7f7"
            ],
            [
             0.6,
             "#e6f5d0"
            ],
            [
             0.7,
             "#b8e186"
            ],
            [
             0.8,
             "#7fbc41"
            ],
            [
             0.9,
             "#4d9221"
            ],
            [
             1,
             "#276419"
            ]
           ],
           "sequential": [
            [
             0,
             "#0d0887"
            ],
            [
             0.1111111111111111,
             "#46039f"
            ],
            [
             0.2222222222222222,
             "#7201a8"
            ],
            [
             0.3333333333333333,
             "#9c179e"
            ],
            [
             0.4444444444444444,
             "#bd3786"
            ],
            [
             0.5555555555555556,
             "#d8576b"
            ],
            [
             0.6666666666666666,
             "#ed7953"
            ],
            [
             0.7777777777777778,
             "#fb9f3a"
            ],
            [
             0.8888888888888888,
             "#fdca26"
            ],
            [
             1,
             "#f0f921"
            ]
           ],
           "sequentialminus": [
            [
             0,
             "#0d0887"
            ],
            [
             0.1111111111111111,
             "#46039f"
            ],
            [
             0.2222222222222222,
             "#7201a8"
            ],
            [
             0.3333333333333333,
             "#9c179e"
            ],
            [
             0.4444444444444444,
             "#bd3786"
            ],
            [
             0.5555555555555556,
             "#d8576b"
            ],
            [
             0.6666666666666666,
             "#ed7953"
            ],
            [
             0.7777777777777778,
             "#fb9f3a"
            ],
            [
             0.8888888888888888,
             "#fdca26"
            ],
            [
             1,
             "#f0f921"
            ]
           ]
          },
          "colorway": [
           "#636efa",
           "#EF553B",
           "#00cc96",
           "#ab63fa",
           "#FFA15A",
           "#19d3f3",
           "#FF6692",
           "#B6E880",
           "#FF97FF",
           "#FECB52"
          ],
          "font": {
           "color": "#2a3f5f"
          },
          "geo": {
           "bgcolor": "white",
           "lakecolor": "white",
           "landcolor": "white",
           "showlakes": true,
           "showland": true,
           "subunitcolor": "#C8D4E3"
          },
          "hoverlabel": {
           "align": "left"
          },
          "hovermode": "closest",
          "mapbox": {
           "style": "light"
          },
          "paper_bgcolor": "white",
          "plot_bgcolor": "white",
          "polar": {
           "angularaxis": {
            "gridcolor": "#EBF0F8",
            "linecolor": "#EBF0F8",
            "ticks": ""
           },
           "bgcolor": "white",
           "radialaxis": {
            "gridcolor": "#EBF0F8",
            "linecolor": "#EBF0F8",
            "ticks": ""
           }
          },
          "scene": {
           "xaxis": {
            "backgroundcolor": "white",
            "gridcolor": "#DFE8F3",
            "gridwidth": 2,
            "linecolor": "#EBF0F8",
            "showbackground": true,
            "ticks": "",
            "zerolinecolor": "#EBF0F8"
           },
           "yaxis": {
            "backgroundcolor": "white",
            "gridcolor": "#DFE8F3",
            "gridwidth": 2,
            "linecolor": "#EBF0F8",
            "showbackground": true,
            "ticks": "",
            "zerolinecolor": "#EBF0F8"
           },
           "zaxis": {
            "backgroundcolor": "white",
            "gridcolor": "#DFE8F3",
            "gridwidth": 2,
            "linecolor": "#EBF0F8",
            "showbackground": true,
            "ticks": "",
            "zerolinecolor": "#EBF0F8"
           }
          },
          "shapedefaults": {
           "line": {
            "color": "#2a3f5f"
           }
          },
          "ternary": {
           "aaxis": {
            "gridcolor": "#DFE8F3",
            "linecolor": "#A2B1C6",
            "ticks": ""
           },
           "baxis": {
            "gridcolor": "#DFE8F3",
            "linecolor": "#A2B1C6",
            "ticks": ""
           },
           "bgcolor": "white",
           "caxis": {
            "gridcolor": "#DFE8F3",
            "linecolor": "#A2B1C6",
            "ticks": ""
           }
          },
          "title": {
           "x": 0.05
          },
          "xaxis": {
           "automargin": true,
           "gridcolor": "#EBF0F8",
           "linecolor": "#EBF0F8",
           "ticks": "",
           "title": {
            "standoff": 15
           },
           "zerolinecolor": "#EBF0F8",
           "zerolinewidth": 2
          },
          "yaxis": {
           "automargin": true,
           "gridcolor": "#EBF0F8",
           "linecolor": "#EBF0F8",
           "ticks": "",
           "title": {
            "standoff": 15
           },
           "zerolinecolor": "#EBF0F8",
           "zerolinewidth": 2
          }
         }
        },
        "xaxis": {
         "anchor": "y",
         "autorange": true,
         "domain": [
          0,
          1
         ],
         "matches": "x4",
         "range": [
          "2018-05-01 11:30:09",
          "2018-05-01 12:30"
         ],
         "showticklabels": false,
         "type": "date"
        },
        "xaxis2": {
         "anchor": "y2",
         "autorange": true,
         "domain": [
          0,
          1
         ],
         "matches": "x4",
         "range": [
          "2018-05-01 11:30:09",
          "2018-05-01 12:30"
         ],
         "showticklabels": false,
         "type": "date"
        },
        "xaxis3": {
         "anchor": "y3",
         "autorange": true,
         "domain": [
          0,
          1
         ],
         "matches": "x4",
         "range": [
          "2018-05-01 11:30:09",
          "2018-05-01 12:30"
         ],
         "showticklabels": false,
         "type": "date"
        },
        "xaxis4": {
         "anchor": "y4",
         "autorange": true,
         "domain": [
          0,
          1
         ],
         "range": [
          "2018-05-01 11:30:09",
          "2018-05-01 12:30"
         ],
         "type": "date"
        },
        "yaxis": {
         "anchor": "x",
         "autorange": true,
         "domain": [
          0.80625,
          1
         ],
         "range": [
          0.006558942611111111,
          0.010552250388888887
         ],
         "type": "linear"
        },
        "yaxis2": {
         "anchor": "x2",
         "autorange": true,
         "domain": [
          0.5375,
          0.73125
         ],
         "range": [
          10.833333333333334,
          14.166666666666666
         ],
         "type": "linear"
        },
        "yaxis3": {
         "anchor": "x3",
         "autorange": true,
         "domain": [
          0.26875,
          0.4625
         ],
         "range": [
          -3.5760163354582587e-10,
          9.351079702143898e-09
         ],
         "type": "linear"
        },
        "yaxis4": {
         "anchor": "x4",
         "autorange": true,
         "domain": [
          0,
          0.19375
         ],
         "range": [
          -2.982052653536807e-12,
          5.6944267341067634e-11
         ],
         "type": "linear"
        }
       }
      },
      "text/html": [
       "<div>                            <div id=\"44f0e3b3-43dc-4e54-8587-880601359519\" class=\"plotly-graph-div\" style=\"height:525px; width:100%;\"></div>            <script type=\"text/javascript\">                require([\"plotly\"], function(Plotly) {                    window.PLOTLYENV=window.PLOTLYENV || {};                                    if (document.getElementById(\"44f0e3b3-43dc-4e54-8587-880601359519\")) {                    Plotly.newPlot(                        \"44f0e3b3-43dc-4e54-8587-880601359519\",                        [{\"mode\":\"lines\",\"name\":\"runtime\",\"x\":[\"2018-05-01T11:30:09\",\"2018-05-01T11:31:30\",\"2018-05-01T11:33:00\",\"2018-05-01T11:34:30\",\"2018-05-01T11:36:00\",\"2018-05-01T11:37:30\",\"2018-05-01T11:39:00\",\"2018-05-01T11:40:30\",\"2018-05-01T11:42:00\",\"2018-05-01T11:45:00\",\"2018-05-01T11:45:09\",\"2018-05-01T11:46:30\",\"2018-05-01T11:48:00\",\"2018-05-01T11:49:30\",\"2018-05-01T11:51:00\",\"2018-05-01T11:52:30\",\"2018-05-01T11:54:00\",\"2018-05-01T11:55:30\",\"2018-05-01T11:57:00\",\"2018-05-01T12:00:00\",\"2018-05-01T12:00:09\",\"2018-05-01T12:01:30\",\"2018-05-01T12:03:00\",\"2018-05-01T12:04:30\",\"2018-05-01T12:06:00\",\"2018-05-01T12:07:30\",\"2018-05-01T12:09:00\",\"2018-05-01T12:10:30\",\"2018-05-01T12:12:00\",\"2018-05-01T12:15:00\",\"2018-05-01T12:15:09\",\"2018-05-01T12:16:30\",\"2018-05-01T12:18:00\",\"2018-05-01T12:19:30\",\"2018-05-01T12:21:00\",\"2018-05-01T12:22:30\",\"2018-05-01T12:24:00\",\"2018-05-01T12:25:30\",\"2018-05-01T12:27:00\",\"2018-05-01T12:30:00\"],\"y\":[0.006770167,0.007213031,0.007122535,0.007418608,0.006758608,0.007221864,0.007747291,0.006933209,0.006831576,0.007298829,0.008183747,0.008305602,0.007364581,0.007231828,0.006805656,0.007874284,0.007650217,0.00727703,0.007698984,0.008848918,0.008877346,0.007788085,0.007431112,0.007705526,0.007042319,0.007801479,0.007345971,0.007370588,0.007123591,0.010352585,0.007078983,0.007183349,0.007211632,0.008158525,0.007315471,0.007039214,0.007137237,0.007206647,0.00693321,0.007998098],\"type\":\"scatter\",\"xaxis\":\"x\",\"yaxis\":\"y\"},{\"mode\":\"lines\",\"name\":\"iterations\",\"x\":[\"2018-05-01T11:30:09\",\"2018-05-01T11:31:30\",\"2018-05-01T11:33:00\",\"2018-05-01T11:34:30\",\"2018-05-01T11:36:00\",\"2018-05-01T11:37:30\",\"2018-05-01T11:39:00\",\"2018-05-01T11:40:30\",\"2018-05-01T11:42:00\",\"2018-05-01T11:45:00\",\"2018-05-01T11:45:09\",\"2018-05-01T11:46:30\",\"2018-05-01T11:48:00\",\"2018-05-01T11:49:30\",\"2018-05-01T11:51:00\",\"2018-05-01T11:52:30\",\"2018-05-01T11:54:00\",\"2018-05-01T11:55:30\",\"2018-05-01T11:57:00\",\"2018-05-01T12:00:00\",\"2018-05-01T12:00:09\",\"2018-05-01T12:01:30\",\"2018-05-01T12:03:00\",\"2018-05-01T12:04:30\",\"2018-05-01T12:06:00\",\"2018-05-01T12:07:30\",\"2018-05-01T12:09:00\",\"2018-05-01T12:10:30\",\"2018-05-01T12:12:00\",\"2018-05-01T12:15:00\",\"2018-05-01T12:15:09\",\"2018-05-01T12:16:30\",\"2018-05-01T12:18:00\",\"2018-05-01T12:19:30\",\"2018-05-01T12:21:00\",\"2018-05-01T12:22:30\",\"2018-05-01T12:24:00\",\"2018-05-01T12:25:30\",\"2018-05-01T12:27:00\",\"2018-05-01T12:30:00\"],\"y\":[11.0,11.0,11.0,11.0,11.0,11.0,11.0,11.0,11.0,11.0,11.0,12.0,12.0,12.0,11.0,11.0,12.0,12.0,13.0,14.0,13.0,12.0,12.0,12.0,11.0,11.0,11.0,11.0,11.0,11.0,11.0,11.0,11.0,11.0,11.0,11.0,11.0,11.0,11.0,11.0],\"type\":\"scatter\",\"xaxis\":\"x2\",\"yaxis\":\"y2\"},{\"mode\":\"lines\",\"name\":\"optimality_gap\",\"x\":[\"2018-05-01T11:30:09\",\"2018-05-01T11:31:30\",\"2018-05-01T11:33:00\",\"2018-05-01T11:34:30\",\"2018-05-01T11:36:00\",\"2018-05-01T11:37:30\",\"2018-05-01T11:39:00\",\"2018-05-01T11:40:30\",\"2018-05-01T11:42:00\",\"2018-05-01T11:45:00\",\"2018-05-01T11:45:09\",\"2018-05-01T11:46:30\",\"2018-05-01T11:48:00\",\"2018-05-01T11:49:30\",\"2018-05-01T11:51:00\",\"2018-05-01T11:52:30\",\"2018-05-01T11:54:00\",\"2018-05-01T11:55:30\",\"2018-05-01T11:57:00\",\"2018-05-01T12:00:00\",\"2018-05-01T12:00:09\",\"2018-05-01T12:01:30\",\"2018-05-01T12:03:00\",\"2018-05-01T12:04:30\",\"2018-05-01T12:06:00\",\"2018-05-01T12:07:30\",\"2018-05-01T12:09:00\",\"2018-05-01T12:10:30\",\"2018-05-01T12:12:00\",\"2018-05-01T12:15:00\",\"2018-05-01T12:15:09\",\"2018-05-01T12:16:30\",\"2018-05-01T12:18:00\",\"2018-05-01T12:19:30\",\"2018-05-01T12:21:00\",\"2018-05-01T12:22:30\",\"2018-05-01T12:24:00\",\"2018-05-01T12:25:30\",\"2018-05-01T12:27:00\",\"2018-05-01T12:30:00\"],\"y\":[9.736419081207193e-10,1.5884788451240316e-09,1.3361295859800996e-09,8.806084438733305e-10,8.739643328579375e-10,8.941333560399851e-10,9.123688701257087e-10,9.351457619925521e-10,1.034639679925044e-09,1.33477830196853e-09,2.0667672780953833e-09,1.2783243323866023e-10,5.52311286466174e-10,6.69004439202439e-09,6.7663558174671885e-09,3.6964741311764433e-09,2.6032075011752274e-10,4.817089581024764e-10,2.779141199396465e-10,1.616369842386258e-09,1.0250368114793317e-09,4.73271890096173e-09,1.0996060296098216e-09,6.1275011516678825e-09,8.865645635359411e-09,4.244935302289512e-09,2.1008912285748808e-09,1.3289954876857726e-09,1.050666999439348e-09,9.971090083582523e-10,9.954131743261489e-10,9.932069723477738e-10,9.905211339983728e-10,9.87391334130268e-10,9.838509366469042e-10,9.79935432044502e-10,9.756731167393002e-10,9.710940856215895e-10,9.662258589688822e-10,9.925958222322015e-10],\"type\":\"scatter\",\"xaxis\":\"x3\",\"yaxis\":\"y3\"},{\"mode\":\"lines\",\"name\":\"feasibility_gap\",\"x\":[\"2018-05-01T11:30:09\",\"2018-05-01T11:31:30\",\"2018-05-01T11:33:00\",\"2018-05-01T11:34:30\",\"2018-05-01T11:36:00\",\"2018-05-01T11:37:30\",\"2018-05-01T11:39:00\",\"2018-05-01T11:40:30\",\"2018-05-01T11:42:00\",\"2018-05-01T11:45:00\",\"2018-05-01T11:45:09\",\"2018-05-01T11:46:30\",\"2018-05-01T11:48:00\",\"2018-05-01T11:49:30\",\"2018-05-01T11:51:00\",\"2018-05-01T11:52:30\",\"2018-05-01T11:54:00\",\"2018-05-01T11:55:30\",\"2018-05-01T11:57:00\",\"2018-05-01T12:00:00\",\"2018-05-01T12:00:09\",\"2018-05-01T12:01:30\",\"2018-05-01T12:03:00\",\"2018-05-01T12:04:30\",\"2018-05-01T12:06:00\",\"2018-05-01T12:07:30\",\"2018-05-01T12:09:00\",\"2018-05-01T12:10:30\",\"2018-05-01T12:12:00\",\"2018-05-01T12:15:00\",\"2018-05-01T12:15:09\",\"2018-05-01T12:16:30\",\"2018-05-01T12:18:00\",\"2018-05-01T12:19:30\",\"2018-05-01T12:21:00\",\"2018-05-01T12:22:30\",\"2018-05-01T12:24:00\",\"2018-05-01T12:25:30\",\"2018-05-01T12:27:00\",\"2018-05-01T12:30:00\"],\"y\":[1.4263346193415054e-14,2.344962712602828e-14,2.0749384514295536e-14,1.6559035423959833e-14,2.2965721184157542e-14,3.3337811682078045e-14,5.3076263479719844e-14,1.1260141871664796e-13,3.089700831535189e-13,7.438892743408322e-13,1.1264263184783022e-12,1.1657459306275636e-12,1.5872344037347078e-12,1.7284822080160486e-11,2.2399779264025873e-11,6.468884859063443e-12,2.4155782443065836e-12,3.566052464997257e-12,2.4913334329232856e-12,1.7436038583428613e-11,2.1810179088186523e-11,5.394795134133741e-11,1.9546709764642178e-11,1.0347275441288493e-11,4.25658375461495e-11,1.5130249640929894e-11,4.754969559812143e-12,1.5327763835988938e-12,6.055751354139769e-13,4.1586253717509175e-13,3.926085690637472e-13,3.9028902338549676e-13,3.900800523627421e-13,3.900666264794022e-13,3.9006775263755115e-13,3.900685009746058e-13,3.900684173942731e-13,3.900680953022838e-13,3.9006752778306407e-13,3.9010640986732093e-13],\"type\":\"scatter\",\"xaxis\":\"x4\",\"yaxis\":\"y4\"}],                        {\"template\":{\"data\":{\"barpolar\":[{\"marker\":{\"line\":{\"color\":\"white\",\"width\":0.5},\"pattern\":{\"fillmode\":\"overlay\",\"size\":10,\"solidity\":0.2}},\"type\":\"barpolar\"}],\"bar\":[{\"error_x\":{\"color\":\"#2a3f5f\"},\"error_y\":{\"color\":\"#2a3f5f\"},\"marker\":{\"line\":{\"color\":\"white\",\"width\":0.5},\"pattern\":{\"fillmode\":\"overlay\",\"size\":10,\"solidity\":0.2}},\"type\":\"bar\"}],\"carpet\":[{\"aaxis\":{\"endlinecolor\":\"#2a3f5f\",\"gridcolor\":\"#C8D4E3\",\"linecolor\":\"#C8D4E3\",\"minorgridcolor\":\"#C8D4E3\",\"startlinecolor\":\"#2a3f5f\"},\"baxis\":{\"endlinecolor\":\"#2a3f5f\",\"gridcolor\":\"#C8D4E3\",\"linecolor\":\"#C8D4E3\",\"minorgridcolor\":\"#C8D4E3\",\"startlinecolor\":\"#2a3f5f\"},\"type\":\"carpet\"}],\"choropleth\":[{\"colorbar\":{\"outlinewidth\":0,\"ticks\":\"\"},\"type\":\"choropleth\"}],\"contourcarpet\":[{\"colorbar\":{\"outlinewidth\":0,\"ticks\":\"\"},\"type\":\"contourcarpet\"}],\"contour\":[{\"colorbar\":{\"outlinewidth\":0,\"ticks\":\"\"},\"colorscale\":[[0.0,\"#0d0887\"],[0.1111111111111111,\"#46039f\"],[0.2222222222222222,\"#7201a8\"],[0.3333333333333333,\"#9c179e\"],[0.4444444444444444,\"#bd3786\"],[0.5555555555555556,\"#d8576b\"],[0.6666666666666666,\"#ed7953\"],[0.7777777777777778,\"#fb9f3a\"],[0.8888888888888888,\"#fdca26\"],[1.0,\"#f0f921\"]],\"type\":\"contour\"}],\"heatmapgl\":[{\"colorbar\":{\"outlinewidth\":0,\"ticks\":\"\"},\"colorscale\":[[0.0,\"#0d0887\"],[0.1111111111111111,\"#46039f\"],[0.2222222222222222,\"#7201a8\"],[0.3333333333333333,\"#9c179e\"],[0.4444444444444444,\"#bd3786\"],[0.5555555555555556,\"#d8576b\"],[0.6666666666666666,\"#ed7953\"],[0.7777777777777778,\"#fb9f3a\"],[0.8888888888888888,\"#fdca26\"],[1.0,\"#f0f921\"]],\"type\":\"heatmapgl\"}],\"heatmap\":[{\"colorbar\":{\"outlinewidth\":0,\"ticks\":\"\"},\"colorscale\":[[0.0,\"#0d0887\"],[0.1111111111111111,\"#46039f\"],[0.2222222222222222,\"#7201a8\"],[0.3333333333333333,\"#9c179e\"],[0.4444444444444444,\"#bd3786\"],[0.5555555555555556,\"#d8576b\"],[0.6666666666666666,\"#ed7953\"],[0.7777777777777778,\"#fb9f3a\"],[0.8888888888888888,\"#fdca26\"],[1.0,\"#f0f921\"]],\"type\":\"heatmap\"}],\"histogram2dcontour\":[{\"colorbar\":{\"outlinewidth\":0,\"ticks\":\"\"},\"colorscale\":[[0.0,\"#0d0887\"],[0.1111111111111111,\"#46039f\"],[0.2222222222222222,\"#7201a8\"],[0.3333333333333333,\"#9c179e\"],[0.4444444444444444,\"#bd3786\"],[0.5555555555555556,\"#d8576b\"],[0.6666666666666666,\"#ed7953\"],[0.7777777777777778,\"#fb9f3a\"],[0.8888888888888888,\"#fdca26\"],[1.0,\"#f0f921\"]],\"type\":\"histogram2dcontour\"}],\"histogram2d\":[{\"colorbar\":{\"outlinewidth\":0,\"ticks\":\"\"},\"colorscale\":[[0.0,\"#0d0887\"],[0.1111111111111111,\"#46039f\"],[0.2222222222222222,\"#7201a8\"],[0.3333333333333333,\"#9c179e\"],[0.4444444444444444,\"#bd3786\"],[0.5555555555555556,\"#d8576b\"],[0.6666666666666666,\"#ed7953\"],[0.7777777777777778,\"#fb9f3a\"],[0.8888888888888888,\"#fdca26\"],[1.0,\"#f0f921\"]],\"type\":\"histogram2d\"}],\"histogram\":[{\"marker\":{\"pattern\":{\"fillmode\":\"overlay\",\"size\":10,\"solidity\":0.2}},\"type\":\"histogram\"}],\"mesh3d\":[{\"colorbar\":{\"outlinewidth\":0,\"ticks\":\"\"},\"type\":\"mesh3d\"}],\"parcoords\":[{\"line\":{\"colorbar\":{\"outlinewidth\":0,\"ticks\":\"\"}},\"type\":\"parcoords\"}],\"pie\":[{\"automargin\":true,\"type\":\"pie\"}],\"scatter3d\":[{\"line\":{\"colorbar\":{\"outlinewidth\":0,\"ticks\":\"\"}},\"marker\":{\"colorbar\":{\"outlinewidth\":0,\"ticks\":\"\"}},\"type\":\"scatter3d\"}],\"scattercarpet\":[{\"marker\":{\"colorbar\":{\"outlinewidth\":0,\"ticks\":\"\"}},\"type\":\"scattercarpet\"}],\"scattergeo\":[{\"marker\":{\"colorbar\":{\"outlinewidth\":0,\"ticks\":\"\"}},\"type\":\"scattergeo\"}],\"scattergl\":[{\"marker\":{\"colorbar\":{\"outlinewidth\":0,\"ticks\":\"\"}},\"type\":\"scattergl\"}],\"scattermapbox\":[{\"marker\":{\"colorbar\":{\"outlinewidth\":0,\"ticks\":\"\"}},\"type\":\"scattermapbox\"}],\"scatterpolargl\":[{\"marker\":{\"colorbar\":{\"outlinewidth\":0,\"ticks\":\"\"}},\"type\":\"scatterpolargl\"}],\"scatterpolar\":[{\"marker\":{\"colorbar\":{\"outlinewidth\":0,\"ticks\":\"\"}},\"type\":\"scatterpolar\"}],\"scatter\":[{\"fillpattern\":{\"fillmode\":\"overlay\",\"size\":10,\"solidity\":0.2},\"type\":\"scatter\"}],\"scatterternary\":[{\"marker\":{\"colorbar\":{\"outlinewidth\":0,\"ticks\":\"\"}},\"type\":\"scatterternary\"}],\"surface\":[{\"colorbar\":{\"outlinewidth\":0,\"ticks\":\"\"},\"colorscale\":[[0.0,\"#0d0887\"],[0.1111111111111111,\"#46039f\"],[0.2222222222222222,\"#7201a8\"],[0.3333333333333333,\"#9c179e\"],[0.4444444444444444,\"#bd3786\"],[0.5555555555555556,\"#d8576b\"],[0.6666666666666666,\"#ed7953\"],[0.7777777777777778,\"#fb9f3a\"],[0.8888888888888888,\"#fdca26\"],[1.0,\"#f0f921\"]],\"type\":\"surface\"}],\"table\":[{\"cells\":{\"fill\":{\"color\":\"#EBF0F8\"},\"line\":{\"color\":\"white\"}},\"header\":{\"fill\":{\"color\":\"#C8D4E3\"},\"line\":{\"color\":\"white\"}},\"type\":\"table\"}]},\"layout\":{\"annotationdefaults\":{\"arrowcolor\":\"#2a3f5f\",\"arrowhead\":0,\"arrowwidth\":1},\"autotypenumbers\":\"strict\",\"coloraxis\":{\"colorbar\":{\"outlinewidth\":0,\"ticks\":\"\"}},\"colorscale\":{\"diverging\":[[0,\"#8e0152\"],[0.1,\"#c51b7d\"],[0.2,\"#de77ae\"],[0.3,\"#f1b6da\"],[0.4,\"#fde0ef\"],[0.5,\"#f7f7f7\"],[0.6,\"#e6f5d0\"],[0.7,\"#b8e186\"],[0.8,\"#7fbc41\"],[0.9,\"#4d9221\"],[1,\"#276419\"]],\"sequential\":[[0.0,\"#0d0887\"],[0.1111111111111111,\"#46039f\"],[0.2222222222222222,\"#7201a8\"],[0.3333333333333333,\"#9c179e\"],[0.4444444444444444,\"#bd3786\"],[0.5555555555555556,\"#d8576b\"],[0.6666666666666666,\"#ed7953\"],[0.7777777777777778,\"#fb9f3a\"],[0.8888888888888888,\"#fdca26\"],[1.0,\"#f0f921\"]],\"sequentialminus\":[[0.0,\"#0d0887\"],[0.1111111111111111,\"#46039f\"],[0.2222222222222222,\"#7201a8\"],[0.3333333333333333,\"#9c179e\"],[0.4444444444444444,\"#bd3786\"],[0.5555555555555556,\"#d8576b\"],[0.6666666666666666,\"#ed7953\"],[0.7777777777777778,\"#fb9f3a\"],[0.8888888888888888,\"#fdca26\"],[1.0,\"#f0f921\"]]},\"colorway\":[\"#636efa\",\"#EF553B\",\"#00cc96\",\"#ab63fa\",\"#FFA15A\",\"#19d3f3\",\"#FF6692\",\"#B6E880\",\"#FF97FF\",\"#FECB52\"],\"font\":{\"color\":\"#2a3f5f\"},\"geo\":{\"bgcolor\":\"white\",\"lakecolor\":\"white\",\"landcolor\":\"white\",\"showlakes\":true,\"showland\":true,\"subunitcolor\":\"#C8D4E3\"},\"hoverlabel\":{\"align\":\"left\"},\"hovermode\":\"closest\",\"mapbox\":{\"style\":\"light\"},\"paper_bgcolor\":\"white\",\"plot_bgcolor\":\"white\",\"polar\":{\"angularaxis\":{\"gridcolor\":\"#EBF0F8\",\"linecolor\":\"#EBF0F8\",\"ticks\":\"\"},\"bgcolor\":\"white\",\"radialaxis\":{\"gridcolor\":\"#EBF0F8\",\"linecolor\":\"#EBF0F8\",\"ticks\":\"\"}},\"scene\":{\"xaxis\":{\"backgroundcolor\":\"white\",\"gridcolor\":\"#DFE8F3\",\"gridwidth\":2,\"linecolor\":\"#EBF0F8\",\"showbackground\":true,\"ticks\":\"\",\"zerolinecolor\":\"#EBF0F8\"},\"yaxis\":{\"backgroundcolor\":\"white\",\"gridcolor\":\"#DFE8F3\",\"gridwidth\":2,\"linecolor\":\"#EBF0F8\",\"showbackground\":true,\"ticks\":\"\",\"zerolinecolor\":\"#EBF0F8\"},\"zaxis\":{\"backgroundcolor\":\"white\",\"gridcolor\":\"#DFE8F3\",\"gridwidth\":2,\"linecolor\":\"#EBF0F8\",\"showbackground\":true,\"ticks\":\"\",\"zerolinecolor\":\"#EBF0F8\"}},\"shapedefaults\":{\"line\":{\"color\":\"#2a3f5f\"}},\"ternary\":{\"aaxis\":{\"gridcolor\":\"#DFE8F3\",\"linecolor\":\"#A2B1C6\",\"ticks\":\"\"},\"baxis\":{\"gridcolor\":\"#DFE8F3\",\"linecolor\":\"#A2B1C6\",\"ticks\":\"\"},\"bgcolor\":\"white\",\"caxis\":{\"gridcolor\":\"#DFE8F3\",\"linecolor\":\"#A2B1C6\",\"ticks\":\"\"}},\"title\":{\"x\":0.05},\"xaxis\":{\"automargin\":true,\"gridcolor\":\"#EBF0F8\",\"linecolor\":\"#EBF0F8\",\"ticks\":\"\",\"title\":{\"standoff\":15},\"zerolinecolor\":\"#EBF0F8\",\"zerolinewidth\":2},\"yaxis\":{\"automargin\":true,\"gridcolor\":\"#EBF0F8\",\"linecolor\":\"#EBF0F8\",\"ticks\":\"\",\"title\":{\"standoff\":15},\"zerolinecolor\":\"#EBF0F8\",\"zerolinewidth\":2}}},\"xaxis\":{\"anchor\":\"y\",\"domain\":[0.0,1.0],\"matches\":\"x4\",\"showticklabels\":false},\"yaxis\":{\"anchor\":\"x\",\"domain\":[0.80625,1.0]},\"xaxis2\":{\"anchor\":\"y2\",\"domain\":[0.0,1.0],\"matches\":\"x4\",\"showticklabels\":false},\"yaxis2\":{\"anchor\":\"x2\",\"domain\":[0.5375,0.73125]},\"xaxis3\":{\"anchor\":\"y3\",\"domain\":[0.0,1.0],\"matches\":\"x4\",\"showticklabels\":false},\"yaxis3\":{\"anchor\":\"x3\",\"domain\":[0.26875,0.4625]},\"xaxis4\":{\"anchor\":\"y4\",\"domain\":[0.0,1.0]},\"yaxis4\":{\"anchor\":\"x4\",\"domain\":[0.0,0.19375]}},                        {\"responsive\": true}                    ).then(function(){\n",
       "                            \n",
       "var gd = document.getElementById('44f0e3b3-43dc-4e54-8587-880601359519');\n",
       "var x = new MutationObserver(function (mutations, observer) {{\n",
       "        var display = window.getComputedStyle(gd).display;\n",
       "        if (!display || display === 'none') {{\n",
       "            console.log([gd, 'removed!']);\n",
       "            Plotly.purge(gd);\n",
       "            observer.disconnect();\n",
       "        }}\n",
       "}});\n",
       "\n",
       "// Listen for the removal of the full notebook cells\n",
       "var notebookContainer = gd.closest('#notebook-container');\n",
       "if (notebookContainer) {{\n",
       "    x.observe(notebookContainer, {childList: true});\n",
       "}}\n",
       "\n",
       "// Listen for the clearing of the current output cell\n",
       "var outputEl = gd.closest('.output');\n",
       "if (outputEl) {{\n",
       "    x.observe(outputEl, {childList: true});\n",
       "}}\n",
       "\n",
       "                        })                };                });            </script>        </div>"
      ]
     },
     "metadata": {},
     "output_type": "display_data"
    }
   ],
   "source": [
    "print(stats.head())\n",
    "fig = make_subplots(rows=4, cols=1,shared_xaxes=True)\n",
    "fig.add_trace(go.Scatter(name=\"runtime\", x=stats.index, y=stats.solve_time, mode=\"lines\"), row=1, col=1)\n",
    "fig.add_trace(go.Scatter(name=\"iterations\", x=stats.index, y=stats.num_iters, mode=\"lines\"), row=2, col=1)\n",
    "fig.add_trace(go.Scatter(name=\"optimality_gap\", x=stats.index, y=stats.optimality_gap, mode=\"lines\"), row=3, col=1)\n",
    "fig.add_trace(go.Scatter(name=\"feasibility_gap\", x=stats.index, y=stats.feasibility_gap, mode=\"lines\"), row=4, col=1)\n",
    "fig.update_layout(template=\"plotly_white\")\n",
    "fig.show()"
   ]
  },
  {
   "cell_type": "code",
   "execution_count": null,
   "id": "314a6556-8fc3-48b4-85c1-8072564a12ec",
   "metadata": {},
   "outputs": [],
   "source": []
  }
 ],
 "metadata": {
  "kernelspec": {
   "display_name": "Python 3 (ipykernel)",
   "language": "python",
   "name": "python3"
  },
  "language_info": {
   "codemirror_mode": {
    "name": "ipython",
    "version": 3
   },
   "file_extension": ".py",
   "mimetype": "text/x-python",
   "name": "python",
   "nbconvert_exporter": "python",
   "pygments_lexer": "ipython3",
   "version": "3.12.3"
  }
 },
 "nbformat": 4,
 "nbformat_minor": 5
}
