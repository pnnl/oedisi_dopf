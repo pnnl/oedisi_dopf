{
 "cells": [
  {
   "cell_type": "markdown",
   "id": "1f3d612b-e411-4ac3-a5e5-eb7e49b46c01",
   "metadata": {},
   "source": [
    "# Linear Distribution Optimal Power Flow (LinDistFlow)\n"
   ]
  },
  {
   "cell_type": "code",
   "execution_count": 1,
   "id": "58855b1c-bb15-473a-9844-449af185a388",
   "metadata": {
    "ExecuteTime": {
     "end_time": "2024-09-12T20:44:59.647931Z",
     "start_time": "2024-09-12T20:44:58.235065Z"
    }
   },
   "outputs": [],
   "source": [
    "import os\n",
    "import json\n",
    "import math\n",
    "from oedisi.types.data_types import MeasurementArray, AdmittanceMatrix, Topology\n",
    "import pyarrow.feather as feather\n",
    "import numpy as np\n",
    "import datetime as dt\n",
    "import matplotlib.pyplot as plt\n",
    "import pandas as pd\n",
    "from pathlib import Path\n",
    "import plotly.express as px\n",
    "import plotly.graph_objects as go\n",
    "from plotly.subplots import make_subplots\n",
    "import glob\n",
    "ROOT = os.getcwd()\n",
    "OUTPUTS = f\"{ROOT}/outputs\"\n",
    "BUILDS = f\"{ROOT}/build\"\n",
    "SCENARIOS = f'{ROOT}/scenarios'"
   ]
  },
  {
   "cell_type": "markdown",
   "id": "3d845732-e22e-463a-8979-701c9f9c38c1",
   "metadata": {},
   "source": [
    "## Run OEDISI\n",
    "Each scenario is defined in the following folder structure:\n",
    "- algorithm / model / pv-level / es-level\n",
    "\n",
    "The following shows which scenarios have been generated using one of the algorithm generation scripts"
   ]
  },
  {
   "cell_type": "code",
   "execution_count": 11,
   "id": "d28a2fb5-b7ab-4678-a360-24e76e1e4c3e",
   "metadata": {
    "ExecuteTime": {
     "end_time": "2024-09-12T20:44:59.678661Z",
     "start_time": "2024-09-12T20:44:59.672491Z"
    }
   },
   "outputs": [
    {
     "name": "stdout",
     "output_type": "stream",
     "text": [
      "0 /home/tylor/dev/oedisi_dopf/scenarios/lindistflow/SFO/P6U/extreme/\n",
      "1 /home/tylor/dev/oedisi_dopf/scenarios/lindistflow/SFO/P6U/low/\n",
      "2 /home/tylor/dev/oedisi_dopf/scenarios/lindistflow/SFO/P6U/high/\n",
      "3 /home/tylor/dev/oedisi_dopf/scenarios/lindistflow/SFO/P6U/medium/\n",
      "4 /home/tylor/dev/oedisi_dopf/scenarios/lindistflow/SFO/P9U/extreme/\n",
      "5 /home/tylor/dev/oedisi_dopf/scenarios/lindistflow/SFO/P9U/low/\n",
      "6 /home/tylor/dev/oedisi_dopf/scenarios/lindistflow/SFO/P9U/high/\n",
      "7 /home/tylor/dev/oedisi_dopf/scenarios/lindistflow/SFO/P9U/medium/\n",
      "8 /home/tylor/dev/oedisi_dopf/scenarios/lindistflow/SFO/P1U/extreme/\n",
      "9 /home/tylor/dev/oedisi_dopf/scenarios/lindistflow/SFO/P1U/low/\n",
      "10 /home/tylor/dev/oedisi_dopf/scenarios/lindistflow/SFO/P1U/high/\n",
      "11 /home/tylor/dev/oedisi_dopf/scenarios/lindistflow/SFO/P1U/medium/\n",
      "12 /home/tylor/dev/oedisi_dopf/scenarios/lindistflow/ieee123/\n"
     ]
    }
   ],
   "source": [
    "dir = []\n",
    "def list_files_scandir(path=\".\"):\n",
    "    with os.scandir(path) as entries:\n",
    "        for entry in entries:\n",
    "            if entry.is_file():\n",
    "                if \"system.json\" in entry.path:\n",
    "                    path,_ = entry.path.split(\"system.json\",1)\n",
    "                    dir.append(path)\n",
    "            elif entry.is_dir():\n",
    "                list_files_scandir(entry.path)\n",
    "\n",
    "# Specify the directory path you want to start from\n",
    "directory_path = f'{SCENARIOS}/lindistflow'\n",
    "list_files_scandir(directory_path)\n",
    "for i,d in enumerate(dir):\n",
    "    print(i,d)"
   ]
  },
  {
   "cell_type": "code",
   "execution_count": 12,
   "id": "fc1e6b02-6fcb-4418-87f6-df0545c64093",
   "metadata": {
    "ExecuteTime": {
     "end_time": "2024-09-12T20:44:59.887329Z",
     "start_time": "2024-09-12T20:44:59.884702Z"
    }
   },
   "outputs": [
    {
     "name": "stdout",
     "output_type": "stream",
     "text": [
      "Loading the components defined in /home/tylor/dev/oedisi_dopf/scenarios/lindistflow/ieee123//components.json\n",
      "Loading system json /home/tylor/dev/oedisi_dopf/scenarios/lindistflow/ieee123//system.json\n",
      "Building system in /home/tylor/dev/oedisi_dopf/build/lindistflow/ieee123/\n"
     ]
    },
    {
     "data": {
      "text/plain": [
       "0"
      ]
     },
     "execution_count": 12,
     "metadata": {},
     "output_type": "execute_result"
    }
   ],
   "source": [
    "index = 12\n",
    "path = dir[index]\n",
    "_,scenario = path.split(SCENARIOS,1)\n",
    "build = f\"{BUILDS}{scenario}\"\n",
    "output = f\"{OUTPUTS}{scenario}\"\n",
    "os.system(f\"oedisi build --system {path}/system.json --component-dict {path}/components.json --target-directory {build}\") "
   ]
  },
  {
   "cell_type": "code",
   "execution_count": 13,
   "id": "c08366e8-7bce-4329-8119-947ae5363ba8",
   "metadata": {
    "ExecuteTime": {
     "end_time": "2024-09-12T20:44:59.991024Z",
     "start_time": "2024-09-12T20:44:59.987874Z"
    }
   },
   "outputs": [
    {
     "name": "stdout",
     "output_type": "stream",
     "text": [
      "[warn] helics-cli's web interface is not installed. You may want to run `pip install \"helics[cli]\"`.\n",
      "[warn] helics-cli's observer functionality is not installed. You may want to run `pip install \"helics[cli]\"`.\n",
      "[info] Running federation: lindistflow_ieee123\n",
      "[info] Running federate feeder as a background process\n",
      "[info] Running federate lindistflow as a background process\n",
      "[info] Running federate recorder_voltage_real as a background process\n",
      "[info] Running federate recorder_voltage_imag as a background process\n",
      "[info] Running federate recorder_power_real as a background process\n",
      "[info] Running federate recorder_power_imag as a background process\n",
      "[info] Running federate recorder_voltage_mag as a background process\n",
      "[info] Running federate recorder_voltage_angle as a background process\n",
      "[info] Running federate recorder_power_mag as a background process\n",
      "[info] Running federate recorder_power_angle as a background process\n",
      "[info] Running federate broker as a background process\n",
      "[info] Waiting for 11 processes to finish ...\n",
      "[error] Process lindistflow exited with return code 1\n",
      "[warn] Last 10 lines of lindistflow.log:\n",
      "...\n",
      "  File \"/home/tylor/dev/oedisi_dopf/build/lindistflow/ieee123/lindistflow/opf_federate.py\", line 252, in run\n",
      "    v_mag, pq, control, conversion = lindistflow.solve(\n",
      "                                     ^^^^^^^^^^^^^^^^^^\n",
      "  File \"/home/tylor/dev/oedisi_dopf/build/lindistflow/ieee123/lindistflow/lindistflow.py\", line 145, in solve\n",
      "    return optimal_power_flow(\n",
      "           ^^^^^^^^^^^^^^^^^^^\n",
      "  File \"/home/tylor/dev/oedisi_dopf/build/lindistflow/ieee123/lindistflow/lindistflow.py\", line 687, in optimal_power_flow\n",
      "    bus_names = buses.key()\n",
      "                ^^^^^^^^^\n",
      "AttributeError: 'dict' object has no attribute 'key'. Did you mean: 'keys'?\n",
      "...\n",
      "[error] Process recorder_voltage_mag exited with return code 1\n",
      "[warn] Last 10 lines of recorder_voltage_mag.log:\n",
      "...\n",
      "  File \"/home/tylor/dev/oedisi_dopf/.venv/lib/python3.12/site-packages/pyarrow/feather.py\", line 226, in read_feather\n",
      "    return (read_table(\n",
      "            ^^^^^^^^^^^\n",
      "  File \"/home/tylor/dev/oedisi_dopf/.venv/lib/python3.12/site-packages/pyarrow/feather.py\", line 252, in read_table\n",
      "    reader = _feather.FeatherReader(\n",
      "             ^^^^^^^^^^^^^^^^^^^^^^^\n",
      "  File \"pyarrow/_feather.pyx\", line 79, in pyarrow._feather.FeatherReader.__cinit__\n",
      "  File \"pyarrow/error.pxi\", line 155, in pyarrow.lib.pyarrow_internal_check_status\n",
      "  File \"pyarrow/error.pxi\", line 92, in pyarrow.lib.check_status\n",
      "pyarrow.lib.ArrowInvalid: File is too small to be a well-formed file\n",
      "...\n",
      "[error] Process recorder_voltage_angle exited with return code 1\n",
      "[warn] Last 10 lines of recorder_voltage_angle.log:\n",
      "...\n",
      "  File \"/home/tylor/dev/oedisi_dopf/.venv/lib/python3.12/site-packages/pyarrow/feather.py\", line 226, in read_feather\n",
      "    return (read_table(\n",
      "            ^^^^^^^^^^^\n",
      "  File \"/home/tylor/dev/oedisi_dopf/.venv/lib/python3.12/site-packages/pyarrow/feather.py\", line 252, in read_table\n",
      "    reader = _feather.FeatherReader(\n",
      "             ^^^^^^^^^^^^^^^^^^^^^^^\n",
      "  File \"pyarrow/_feather.pyx\", line 79, in pyarrow._feather.FeatherReader.__cinit__\n",
      "  File \"pyarrow/error.pxi\", line 155, in pyarrow.lib.pyarrow_internal_check_status\n",
      "  File \"pyarrow/error.pxi\", line 92, in pyarrow.lib.check_status\n",
      "pyarrow.lib.ArrowInvalid: File is too small to be a well-formed file\n",
      "...\n",
      "[error] Process recorder_power_mag exited with return code 1\n",
      "[warn] Last 10 lines of recorder_power_mag.log:\n",
      "...\n",
      "  File \"/home/tylor/dev/oedisi_dopf/.venv/lib/python3.12/site-packages/pyarrow/feather.py\", line 226, in read_feather\n",
      "    return (read_table(\n",
      "            ^^^^^^^^^^^\n",
      "  File \"/home/tylor/dev/oedisi_dopf/.venv/lib/python3.12/site-packages/pyarrow/feather.py\", line 252, in read_table\n",
      "    reader = _feather.FeatherReader(\n",
      "             ^^^^^^^^^^^^^^^^^^^^^^^\n",
      "  File \"pyarrow/_feather.pyx\", line 79, in pyarrow._feather.FeatherReader.__cinit__\n",
      "  File \"pyarrow/error.pxi\", line 155, in pyarrow.lib.pyarrow_internal_check_status\n",
      "  File \"pyarrow/error.pxi\", line 92, in pyarrow.lib.check_status\n",
      "pyarrow.lib.ArrowInvalid: File is too small to be a well-formed file\n",
      "...\n",
      "[error] Process recorder_power_angle exited with return code 1\n",
      "[warn] Last 10 lines of recorder_power_angle.log:\n",
      "...\n",
      "  File \"/home/tylor/dev/oedisi_dopf/.venv/lib/python3.12/site-packages/pyarrow/feather.py\", line 226, in read_feather\n",
      "    return (read_table(\n",
      "            ^^^^^^^^^^^\n",
      "  File \"/home/tylor/dev/oedisi_dopf/.venv/lib/python3.12/site-packages/pyarrow/feather.py\", line 252, in read_table\n",
      "    reader = _feather.FeatherReader(\n",
      "             ^^^^^^^^^^^^^^^^^^^^^^^\n",
      "  File \"pyarrow/_feather.pyx\", line 79, in pyarrow._feather.FeatherReader.__cinit__\n",
      "  File \"pyarrow/error.pxi\", line 155, in pyarrow.lib.pyarrow_internal_check_status\n",
      "  File \"pyarrow/error.pxi\", line 92, in pyarrow.lib.check_status\n",
      "pyarrow.lib.ArrowInvalid: File is too small to be a well-formed file\n",
      "...\n",
      "[info] Done.\n",
      "[error] Process lindistflow has failed, killing other processes\n"
     ]
    },
    {
     "data": {
      "text/plain": [
       "0"
      ]
     },
     "execution_count": 13,
     "metadata": {},
     "output_type": "execute_result"
    }
   ],
   "source": [
    "os.system(\"pkill -9 helics_broker\")\n",
    "os.system(f\"oedisi run --runner {build}system_runner.json\")"
   ]
  },
  {
   "cell_type": "markdown",
   "id": "3b21cdc3-2ba4-4236-bcdf-0853d4c9be06",
   "metadata": {},
   "source": [
    "## Load Data"
   ]
  },
  {
   "cell_type": "code",
   "execution_count": 4,
   "id": "01e8545a-8584-4eff-83b6-c03c40694f96",
   "metadata": {},
   "outputs": [],
   "source": [
    "topology = Topology.parse_file(f\"{output}/topology.json\")\n",
    "base_voltage_df = pd.DataFrame({\n",
    "        \"id\": topology.base_voltage_magnitudes.ids,\n",
    "        \"value\": topology.base_voltage_magnitudes.values})\n",
    "base_voltage_df.set_index(\"id\", inplace=True)\n",
    "base_voltages = base_voltage_df[\"value\"]"
   ]
  },
  {
   "cell_type": "code",
   "execution_count": 5,
   "id": "7ff13bdc-9cfa-40a0-aa4d-7b0b52ca6473",
   "metadata": {
    "ExecuteTime": {
     "end_time": "2024-09-12T20:45:00.242505Z",
     "start_time": "2024-09-12T20:45:00.043967Z"
    }
   },
   "outputs": [],
   "source": [
    "# read data\n",
    "v_real = feather.read_feather(f\"{output}/voltage_real.feather\")\n",
    "v_imag = feather.read_feather(f\"{output}/voltage_imag.feather\")\n",
    "\n",
    "# converter to complex\n",
    "true_voltages = v_real.drop(\"time\", axis=1).abs() + 1j * v_imag.drop(\"time\", axis=1)\n",
    "true_voltages['time'] = pd.to_datetime(v_real['time'],format='%Y-%m-%d %H:%M:%S')\n",
    "true_voltages.set_index('time', inplace=True)"
   ]
  },
  {
   "cell_type": "code",
   "execution_count": 6,
   "id": "03a396a8-0f46-4402-a32e-1449079aeb4c",
   "metadata": {},
   "outputs": [],
   "source": [
    "# read data\n",
    "v_mag = feather.read_feather(f\"{output}/voltage_mag.feather\")\n",
    "v_angle = feather.read_feather(f\"{output}/voltage_angle.feather\")\n",
    "\n",
    "# filter missing nodes\n",
    "common_columns = set(v_mag.columns).intersection(v_angle.columns)\n",
    "v_mag = v_mag.filter(common_columns)\n",
    "v_angle = v_angle.filter(common_columns)\n",
    "\n",
    "# convert to complex\n",
    "v_rad = np.radians(v_angle.drop(\"time\", axis=1).to_numpy())\n",
    "est_voltages = v_mag.drop(\"time\", axis=1) * np.exp(1j * v_rad)\n",
    "est_voltages['time'] = pd.to_datetime(v_mag['time'],format='%Y-%m-%d %H:%M:%S')\n",
    "est_voltages.set_index('time', inplace=True)"
   ]
  },
  {
   "cell_type": "code",
   "execution_count": 7,
   "id": "ae6c2ed7-90dd-4448-853d-103deb56906c",
   "metadata": {},
   "outputs": [],
   "source": [
    "# read data\n",
    "p_real = feather.read_feather(f\"{output}/power_real.feather\")\n",
    "p_imag = feather.read_feather(f\"{output}/power_imag.feather\")\n",
    "\n",
    "# filter missing nodes\n",
    "common_columns = set(p_real.columns).intersection(p_imag.columns)\n",
    "p_real = p_real.filter(common_columns)\n",
    "p_imag = p_imag.filter(common_columns)\n",
    "\n",
    "# convert to complex\n",
    "true_powers = p_real.drop(\"time\", axis=1) + 1j * p_imag.drop(\"time\", axis=1)\n",
    "true_powers['time'] = pd.to_datetime(p_real['time'],format='%Y-%m-%d %H:%M:%S')\n",
    "true_powers.set_index('time', inplace=True)"
   ]
  },
  {
   "cell_type": "code",
   "execution_count": 8,
   "id": "2843c053-5ece-4a72-952f-766894643b14",
   "metadata": {},
   "outputs": [],
   "source": [
    "# read data\n",
    "p_mag = feather.read_feather(f\"{output}/power_mag.feather\")\n",
    "p_angle = feather.read_feather(f\"{output}/power_angle.feather\")\n",
    "\n",
    "# filter missing nodes\n",
    "common_columns = set(p_mag.columns).intersection(p_angle.columns)\n",
    "p_mag = p_mag.filter(common_columns)\n",
    "p_angle = p_angle.filter(common_columns)\n",
    "\n",
    "# convert to complex\n",
    "p_rad = np.radians(p_angle.drop(\"time\", axis=1).to_numpy())\n",
    "est_powers = p_mag.drop(\"time\", axis=1) * np.exp(1j * p_rad)\n",
    "est_powers['time'] = pd.to_datetime(v_angle['time'],format='%Y-%m-%d %H:%M:%S')\n",
    "est_powers.set_index('time', inplace=True)"
   ]
  },
  {
   "cell_type": "markdown",
   "id": "6ff3015f-3f30-49e5-942d-e62b0633731c",
   "metadata": {},
   "source": [
    "## Process Data"
   ]
  },
  {
   "cell_type": "code",
   "execution_count": 11,
   "id": "66cbb764-c18a-4fe1-af44-ec8e68201f83",
   "metadata": {
    "scrolled": true
   },
   "outputs": [
    {
     "data": {
      "application/vnd.plotly.v1+json": {
       "config": {
        "plotlyServerURL": "https://plot.ly"
       },
       "data": [
        {
         "mode": "markers",
         "name": "true",
         "type": "scatter",
         "x": [
          "150.1",
          "150.2",
          "150.3",
          "150R.1",
          "150R.2",
          "150R.3",
          "149.1",
          "149.2",
          "149.3",
          "1.1",
          "1.2",
          "1.3",
          "2.2",
          "3.3",
          "7.1",
          "7.2",
          "7.3",
          "4.3",
          "5.3",
          "6.3",
          "8.1",
          "8.2",
          "8.3",
          "12.2",
          "9.1",
          "13.1",
          "13.2",
          "13.3",
          "9R.1",
          "14.1",
          "34.3",
          "18.1",
          "18.2",
          "18.3",
          "11.1",
          "10.1",
          "15.3",
          "16.3",
          "17.3",
          "19.1",
          "21.1",
          "21.2",
          "21.3",
          "20.1",
          "22.2",
          "23.1",
          "23.2",
          "23.3",
          "24.3",
          "25.1",
          "25.2",
          "25.3",
          "25R.1",
          "25R.3",
          "26.1",
          "26.3",
          "28.1",
          "28.2",
          "28.3",
          "27.1",
          "27.3",
          "31.3",
          "33.1",
          "29.1",
          "29.2",
          "29.3",
          "30.1",
          "30.2",
          "30.3",
          "250.1",
          "250.2",
          "250.3",
          "32.3",
          "35.1",
          "35.2",
          "36.1",
          "36.2",
          "35.3",
          "40.1",
          "40.2",
          "40.3",
          "37.1",
          "38.2",
          "39.2",
          "41.3",
          "42.1",
          "42.2",
          "42.3",
          "43.2",
          "44.1",
          "44.2",
          "44.3",
          "45.1",
          "47.1",
          "47.2",
          "47.3",
          "46.1",
          "48.1",
          "48.2",
          "48.3",
          "49.1",
          "49.2",
          "49.3",
          "50.1",
          "50.2",
          "50.3",
          "51.1",
          "51.2",
          "51.3",
          "151.1",
          "151.2",
          "151.3",
          "52.1",
          "52.2",
          "52.3",
          "53.1",
          "53.2",
          "53.3",
          "54.1",
          "54.2",
          "54.3",
          "55.1",
          "55.2",
          "55.3",
          "57.1",
          "57.2",
          "57.3",
          "56.1",
          "56.2",
          "56.3",
          "58.2",
          "60.1",
          "60.2",
          "60.3",
          "59.2",
          "61.1",
          "61.2",
          "61.3",
          "62.1",
          "62.2",
          "62.3",
          "63.1",
          "63.2",
          "63.3",
          "64.1",
          "64.2",
          "64.3",
          "65.1",
          "65.2",
          "65.3",
          "66.1",
          "66.2",
          "66.3",
          "67.1",
          "68.1",
          "67.2",
          "67.3",
          "72.1",
          "72.2",
          "72.3",
          "97.1",
          "97.2",
          "97.3",
          "69.1",
          "70.1",
          "71.1",
          "73.3",
          "76.1",
          "76.2",
          "76.3",
          "74.3",
          "75.3",
          "77.1",
          "77.2",
          "77.3",
          "86.1",
          "86.2",
          "86.3",
          "78.1",
          "78.2",
          "78.3",
          "79.1",
          "79.2",
          "79.3",
          "80.1",
          "80.2",
          "80.3",
          "81.1",
          "81.2",
          "81.3",
          "82.1",
          "82.2",
          "82.3",
          "84.3",
          "83.1",
          "83.2",
          "83.3",
          "85.3",
          "87.1",
          "87.2",
          "87.3",
          "88.1",
          "89.1",
          "89.2",
          "89.3",
          "90.2",
          "91.1",
          "91.2",
          "91.3",
          "92.3",
          "93.1",
          "93.2",
          "93.3",
          "94.1",
          "95.1",
          "95.2",
          "95.3",
          "96.2",
          "98.1",
          "98.2",
          "98.3",
          "99.1",
          "99.2",
          "99.3",
          "100.1",
          "100.2",
          "100.3",
          "450.1",
          "450.2",
          "450.3",
          "197.1",
          "197.2",
          "197.3",
          "101.1",
          "101.2",
          "101.3",
          "102.3",
          "105.1",
          "105.2",
          "105.3",
          "103.3",
          "104.3",
          "106.2",
          "108.1",
          "108.2",
          "108.3",
          "107.2",
          "109.1",
          "300.1",
          "300.2",
          "300.3",
          "110.1",
          "111.1",
          "112.1",
          "113.1",
          "114.1",
          "135.1",
          "135.2",
          "135.3",
          "152.1",
          "152.2",
          "152.3",
          "160R.1",
          "160R.2",
          "160R.3",
          "160.1",
          "160.2",
          "160.3",
          "61S.1",
          "61S.2",
          "61S.3",
          "300_OPEN.1",
          "300_OPEN.2",
          "300_OPEN.3",
          "94_OPEN.1",
          "610.1",
          "610.2",
          "610.3"
         ],
         "xaxis": "x",
         "y": [
          0.9999926473653266,
          0.9999957071763105,
          0.9999950184794886,
          1.031239739327409,
          1.0312440069792976,
          1.0312430398769632,
          1.0312395927247415,
          1.0312439150462769,
          1.031242917828311,
          1.0231001170316016,
          1.0296244548414684,
          1.0253355516691711,
          1.029429499710315,
          1.0239283134396842,
          1.0170166000519343,
          1.0284836663510324,
          1.0217032090884708,
          1.0234770221663925,
          1.0228324563324958,
          1.0222723903505317,
          1.0129774325566583,
          1.0275927445977475,
          1.0192227409860426,
          1.0273358461807889,
          1.0117146679092794,
          1.0078021138368543,
          1.025952772983057,
          1.0155033440598344,
          1.0117134086178579,
          1.0103100381735532,
          1.0146747490387855,
          1.0004915273974135,
          1.0228795803682467,
          1.009606390363735,
          1.009763216421067,
          1.010031410545565,
          1.0143451739972378,
          1.0135291111516282,
          1.0139533541565322,
          0.9993648628701466,
          1.000115435614049,
          1.0230528036228077,
          1.0087450922546248,
          0.998656590788259,
          1.021852143064029,
          0.9998364916574948,
          1.0234811096828704,
          1.0079018190174127,
          1.0066649544210993,
          0.9993533991774511,
          1.0239813540179101,
          1.0072820156673443,
          1.0118444001720324,
          1.007281167531126,
          1.011608069777808,
          1.0068590334701712,
          0.9991098448730195,
          1.0242521608600803,
          1.0070894085348452,
          1.0112874447025109,
          1.0068311118122906,
          1.0063583242279384,
          1.0101161943445,
          0.9990766529139545,
          1.0244972255129319,
          1.0068524975709496,
          0.9993069136854411,
          1.024459652537045,
          1.006451589161263,
          0.9993069164996351,
          1.024459655673119,
          1.0064515924967519,
          1.0060204600940879,
          0.9982028436600953,
          1.0207947769124048,
          0.9974029266124392,
          1.0203814763002677,
          1.0086546315195568,
          0.9969818629942531,
          1.0198528232479018,
          1.007744711463827,
          0.9967287052561506,
          1.0198137970401808,
          1.0194459443131978,
          1.0073861525157084,
          0.9957001840152083,
          1.0189268570069294,
          1.0069718746527638,
          1.0178108622062159,
          0.9948268818318277,
          1.0183419780052936,
          1.0062561388736566,
          0.9943804727548048,
          0.994012988376318,
          1.0174525369501528,
          1.0053862062733812,
          0.9940470085173851,
          0.9937326984623944,
          1.0171775204440707,
          1.0051617979159786,
          0.9939121333237094,
          1.0170922753925176,
          1.0051510190592923,
          0.993892452644656,
          1.0171153299783346,
          1.004871130257262,
          0.9937542152287084,
          1.0171823312753105,
          1.0048588579453084,
          0.9937542296891587,
          1.017182354925145,
          1.0048588708974837,
          1.0045177945838668,
          1.0249674942628109,
          1.0141014355409363,
          1.0031010287261202,
          1.0243511283723081,
          1.013423878238025,
          1.0023538499060245,
          1.023888394626955,
          1.013014145596431,
          1.0023266063662701,
          1.023915002862203,
          1.0131726282381366,
          1.0008810358150326,
          1.021805288384557,
          1.011827303906368,
          1.002300523520311,
          1.0237616431731966,
          1.0132474945941017,
          1.0212530136786353,
          0.9978291744601852,
          1.0181848562650773,
          1.008839195209944,
          1.0209693858638027,
          0.9978291980309292,
          1.0181848775868863,
          1.0088392192887745,
          0.9975093459007213,
          1.017519887674495,
          1.0073945208811326,
          0.9972313028894036,
          1.016992595240317,
          1.0067542470342445,
          0.9969440528933547,
          1.0153127629071905,
          1.0048906583760575,
          0.9963269387862799,
          1.0150103029080264,
          1.0022946794166887,
          0.996527089939448,
          1.0152182032858366,
          1.0009899171324401,
          1.0470079304072153,
          1.0460392153776263,
          1.0493688568136255,
          1.045845301500493,
          1.0478243144155628,
          1.0490810555939152,
          1.0460748296124127,
          1.0462837688595008,
          1.0487903272313825,
          1.0453403480788785,
          1.0444594526907423,
          1.0433285388926552,
          1.042691279917713,
          1.0442378496075702,
          1.0480958209726483,
          1.0489803192596534,
          1.0469038465382137,
          1.042665521218618,
          1.0417747720117674,
          1.049524089794869,
          1.0503846993108488,
          1.0481184745381724,
          1.0477187872702478,
          1.0479209743398645,
          1.0484886040120176,
          1.0498925305344502,
          1.0508506267754347,
          1.0483664734380644,
          1.0496407422373562,
          1.0509614081887317,
          1.0483260346605747,
          1.0521744789043619,
          1.0528301383997694,
          1.0496310533194242,
          1.052983158841449,
          1.0536712547565907,
          1.0499090180436323,
          1.0538976344476998,
          1.0549198808818456,
          1.0507252744861775,
          1.047624705070094,
          1.0550839386586814,
          1.056049267616848,
          1.0515858113622736,
          1.0465655781352654,
          1.047475543979918,
          1.047503892652533,
          1.0492660097826452,
          1.0474839446728121,
          1.0470787473820922,
          1.047319287732034,
          1.0496763412055545,
          1.0473164624793934,
          1.0469045695781796,
          1.04701662113752,
          1.0499146182839896,
          1.0499408975662194,
          1.0466329405579529,
          1.0468776594775955,
          1.0499953616786275,
          1.0460245631646916,
          1.0466010337255622,
          1.0465469444444426,
          1.050156103446335,
          1.0463288026156106,
          1.0460877422466042,
          1.0485625555432407,
          1.0451810493578284,
          1.0463241489744568,
          1.0478298709849354,
          1.0449323312138434,
          1.0464871511316547,
          1.047775679552461,
          1.044598886832261,
          1.0464872021237919,
          1.0477757352958437,
          1.0445989339952053,
          1.046283755691823,
          1.0487903156719784,
          1.045340333826052,
          1.045737924816225,
          1.0484189437950324,
          1.0449802983786012,
          1.043762803045801,
          1.0447779480049557,
          1.0481303111059188,
          1.0453207150523778,
          1.0423642985264705,
          1.0408406776419867,
          1.0471428475091231,
          1.0437133741170943,
          1.048499388232072,
          1.0453168559999966,
          1.045852527770757,
          1.0410115979700494,
          1.0437134535085233,
          1.0484994754211507,
          1.0453169297757605,
          1.0398991657853747,
          1.0392398699533434,
          1.0395789703047678,
          1.0388059852464935,
          1.0384386843439093,
          1.0004914901842332,
          1.0228795458391151,
          1.009606365489796,
          1.0078020423863032,
          1.0259527124609966,
          1.0155032791881982,
          1.0477215622757676,
          1.0500057118537283,
          1.0466736915795047,
          0.9978291194708414,
          1.0181848070269526,
          1.0088391422165173,
          0.9978291980309294,
          1.0181848775868863,
          1.0088392192887743,
          0.9937542296891587,
          1.017182354925145,
          1.0048588708974837,
          1.0023538499060245,
          1.0019575560175797,
          1.011396756090603,
          1.0115023863529011
         ],
         "yaxis": "y"
        },
        {
         "mode": "markers",
         "name": "est",
         "type": "scatter",
         "x": [
          "1.1",
          "1.2",
          "1.3",
          "10.1",
          "100.1",
          "100.2",
          "100.3",
          "101.1",
          "101.2",
          "101.3",
          "102.3",
          "103.3",
          "104.3",
          "105.1",
          "105.2",
          "105.3",
          "106.2",
          "107.2",
          "108.1",
          "108.2",
          "108.3",
          "109.1",
          "11.1",
          "110.1",
          "111.1",
          "112.1",
          "113.1",
          "114.1",
          "12.2",
          "13.1",
          "13.2",
          "13.3",
          "135.1",
          "135.2",
          "135.3",
          "14.1",
          "149.1",
          "149.2",
          "149.3",
          "15.3",
          "150.1",
          "150.2",
          "150.3",
          "150R.1",
          "150R.2",
          "150R.3",
          "151.1",
          "151.2",
          "151.3",
          "152.1",
          "152.2",
          "152.3",
          "16.3",
          "160.1",
          "160.2",
          "160.3",
          "160R.1",
          "160R.2",
          "160R.3",
          "17.3",
          "18.1",
          "18.2",
          "18.3",
          "19.1",
          "197.1",
          "197.2",
          "197.3",
          "2.2",
          "20.1",
          "21.1",
          "21.2",
          "21.3",
          "22.2",
          "23.1",
          "23.2",
          "23.3",
          "24.3",
          "25.1",
          "25.2",
          "25.3",
          "250.1",
          "250.2",
          "250.3",
          "25R.1",
          "25R.3",
          "26.1",
          "26.3",
          "27.1",
          "27.3",
          "28.1",
          "28.2",
          "28.3",
          "29.1",
          "29.2",
          "29.3",
          "3.3",
          "30.1",
          "30.2",
          "30.3",
          "300.1",
          "300.2",
          "300.3",
          "300_OPEN.1",
          "300_OPEN.2",
          "300_OPEN.3",
          "31.3",
          "32.3",
          "33.1",
          "34.3",
          "35.1",
          "35.2",
          "35.3",
          "36.1",
          "36.2",
          "37.1",
          "38.2",
          "39.2",
          "4.3",
          "40.1",
          "40.2",
          "40.3",
          "41.3",
          "42.1",
          "42.2",
          "42.3",
          "43.2",
          "44.1",
          "44.2",
          "44.3",
          "45.1",
          "450.1",
          "450.2",
          "450.3",
          "46.1",
          "47.1",
          "47.2",
          "47.3",
          "48.1",
          "48.2",
          "48.3",
          "49.1",
          "49.2",
          "49.3",
          "5.3",
          "50.1",
          "50.2",
          "50.3",
          "51.1",
          "51.2",
          "51.3",
          "52.1",
          "52.2",
          "52.3",
          "53.1",
          "53.2",
          "53.3",
          "54.1",
          "54.2",
          "54.3",
          "55.1",
          "55.2",
          "55.3",
          "56.1",
          "56.2",
          "56.3",
          "57.1",
          "57.2",
          "57.3",
          "58.2",
          "59.2",
          "6.3",
          "60.1",
          "60.2",
          "60.3",
          "61.1",
          "61.2",
          "61.3",
          "610.1",
          "610.2",
          "610.3",
          "61S.1",
          "61S.2",
          "61S.3",
          "62.1",
          "62.2",
          "62.3",
          "63.1",
          "63.2",
          "63.3",
          "64.1",
          "64.2",
          "64.3",
          "65.1",
          "65.2",
          "65.3",
          "66.1",
          "66.2",
          "66.3",
          "67.1",
          "67.2",
          "67.3",
          "68.1",
          "69.1",
          "7.1",
          "7.2",
          "7.3",
          "70.1",
          "71.1",
          "72.1",
          "72.2",
          "72.3",
          "73.3",
          "74.3",
          "75.3",
          "76.1",
          "76.2",
          "76.3",
          "77.1",
          "77.2",
          "77.3",
          "78.1",
          "78.2",
          "78.3",
          "79.1",
          "79.2",
          "79.3",
          "8.1",
          "8.2",
          "8.3",
          "80.1",
          "80.2",
          "80.3",
          "81.1",
          "81.2",
          "81.3",
          "82.1",
          "82.2",
          "82.3",
          "83.1",
          "83.2",
          "83.3",
          "84.3",
          "85.3",
          "86.1",
          "86.2",
          "86.3",
          "87.1",
          "87.2",
          "87.3",
          "88.1",
          "89.1",
          "89.2",
          "89.3",
          "9.1",
          "90.2",
          "91.1",
          "91.2",
          "91.3",
          "92.3",
          "93.1",
          "93.2",
          "93.3",
          "94.1",
          "94_OPEN.1",
          "95.1",
          "95.2",
          "95.3",
          "96.2",
          "97.1",
          "97.2",
          "97.3",
          "98.1",
          "98.2",
          "98.3",
          "99.1",
          "99.2",
          "99.3",
          "9R.1"
         ],
         "xaxis": "x",
         "y": [
          0.032992948940641975,
          0.0331869974697966,
          0.03305910404205008,
          0.03257417247612218,
          0.032126551079310936,
          0.03267366526773503,
          0.032417320817193,
          0.03210454123345316,
          0.03269422995061746,
          0.03242910630202006,
          0.03238997077337957,
          0.03234497340197329,
          0.03229591110708497,
          0.03207601600978056,
          0.03268486301256743,
          0.03243879506800589,
          0.03265323472286591,
          0.032611882666759844,
          0.03204445495912355,
          0.032696509850607146,
          0.032437590554914415,
          0.031961865329051625,
          0.03256586049356236,
          0.03192914964010875,
          0.031907683770598716,
          0.03192017478276185,
          0.03190109037385391,
          0.03188913209747769,
          0.03309561464909225,
          0.03249602206325098,
          0.03304134568239921,
          0.032729734880300045,
          0.03226469673606228,
          0.0329333813498605,
          0.032542761299442134,
          0.032582810739338705,
          0.03325398580103493,
          0.03325401515690738,
          0.033254007845843876,
          0.032693838306287165,
          0.03325406319020958,
          0.03325406319020958,
          0.03325406319020958,
          0.033253991063511866,
          0.0332540188380604,
          0.033254012387590806,
          0.03204544520986924,
          0.03274331365707519,
          0.03238176548918855,
          0.03249601938055096,
          0.033041343324184215,
          0.03272973239848449,
          0.03266853115861059,
          0.03216369933136145,
          0.03275085647537117,
          0.0324938776172725,
          0.03216374822873602,
          0.03275094284581029,
          0.03249397779656947,
          0.032681684342696145,
          0.03226469799674617,
          0.03293338253872094,
          0.03254276218501201,
          0.03222979739580783,
          0.032119865391366964,
          0.032706260571069776,
          0.03244178976927684,
          0.033180949546562505,
          0.03220784472013616,
          0.03225151420893944,
          0.03293658151424719,
          0.0325138081536511,
          0.03289931152638028,
          0.03224155069288336,
          0.032948048242401835,
          0.032485448982277725,
          0.03244710062491306,
          0.03222508684992908,
          0.032961542331998744,
          0.03246376785741537,
          0.03222087171391514,
          0.03297293727980826,
          0.03243371321624022,
          0.032225058525752234,
          0.032463741579426164,
          0.032217611433844905,
          0.032450562668802065,
          0.03220756096199457,
          0.03244962284172431,
          0.03221641510219769,
          0.032968526002128413,
          0.03245604705435259,
          0.03221370486025528,
          0.03297408997906816,
          0.03244615010711549,
          0.033015541945121754,
          0.03222087171391457,
          0.032972937279807976,
          0.03243371321623998,
          0.03204445495912413,
          0.03269650985060978,
          0.032437590554915664,
          null,
          null,
          null,
          0.03243503401142352,
          0.03242455307145634,
          0.03217080869709253,
          0.03270405458643773,
          0.03219197064549248,
          0.0328648832133558,
          0.03250836404536363,
          0.03216726576609893,
          0.03285188294961478,
          0.03214636860747284,
          0.03283425911270592,
          0.03282283575829368,
          0.03300154930780438,
          0.0321523941630024,
          0.03283378428680976,
          0.032478237366380926,
          0.032467114040388774,
          0.032110868841010914,
          0.032803135982082295,
          0.032452332150231314,
          0.032768491900618306,
          0.0320823074106786,
          0.03278346861500961,
          0.032428610084225346,
          0.032068470814247504,
          0.0321265510793127,
          0.03267366526773659,
          0.032417320817193424,
          0.03205813265716352,
          0.032055182279466174,
          0.03275404512956332,
          0.03239973563993071,
          0.03204657584734627,
          0.03274542597545633,
          0.03239233685966675,
          0.03205031572714579,
          0.032740580828937986,
          0.03239086980131303,
          0.03298158961801092,
          0.032049732088799986,
          0.03274127354460916,
          0.03238216616518706,
          0.03204544520986785,
          0.032743313657074516,
          0.032381765489187704,
          0.03238541609333143,
          0.03300115699737172,
          0.032678695813105486,
          0.032336867533308444,
          0.03297717676739521,
          0.03265379076088717,
          0.03231075412959472,
          0.03295978689964643,
          0.03263861330093683,
          0.03230748881200101,
          0.03295899772498784,
          0.032641978864629106,
          0.03230668675674475,
          0.03295423382101335,
          0.03264427836998593,
          0.032263255215058254,
          0.03288530997771799,
          0.032597173078449164,
          0.03286815721379373,
          0.032859345738021774,
          0.03296422609456652,
          0.0321637013025402,
          0.032750858267546056,
          0.032493879522797926,
          0.032163701302541606,
          0.032750858267549594,
          0.03249387952279987,
          0.03216370130254159,
          0.0327508582675496,
          0.03249387952279986,
          0.032163701302541606,
          0.032750858267549594,
          0.03249387952279987,
          0.032148451138091345,
          0.032724303423270006,
          0.03244367508306572,
          0.03213609356128998,
          0.03270381015297235,
          0.03242001695368851,
          0.03212757435055987,
          0.0326513944522385,
          0.03236174818270236,
          0.032108566475510726,
          0.032641711134478356,
          0.032280890254660154,
          0.03211474432881128,
          0.03264800371765988,
          0.03224040526860726,
          0.032140958724783196,
          0.03272492895831707,
          0.03245932637324607,
          0.032109417429539946,
          0.03205804597090269,
          0.03279562307721904,
          0.033138774602261487,
          0.03293671752998443,
          0.03202123842018643,
          0.03200048207832952,
          0.03216405887991187,
          0.032710437572137055,
          0.0324649897256819,
          0.03240594121654221,
          0.032355340399619924,
          0.03232664922488621,
          0.03217040208948205,
          0.0327033713333475,
          0.032490320307490335,
          0.03221515611415757,
          0.032745264488026705,
          0.03252317411103716,
          0.03222668802752004,
          0.03275940746229181,
          0.032529508787124094,
          0.03221848680105153,
          0.0327629673704707,
          0.03252817606951687,
          0.03266539655442943,
          0.03310358826782162,
          0.032854123221087835,
          0.032298685887264644,
          0.03281900211248273,
          0.03256239240528018,
          0.032325056012349786,
          0.03284601729253881,
          0.032569968195516434,
          0.032354897246484784,
          0.03288609820568439,
          0.032594229353887776,
          0.032393548122888985,
          0.03292229365766188,
          0.032619911942625736,
          0.03249647199608261,
          0.03246234675412809,
          0.032153478127381896,
          0.03266233760970966,
          0.032536832064154364,
          0.032143365037362,
          0.03264509285737894,
          0.0325575368865456,
          0.03214364356502426,
          0.032130511415234125,
          0.03263918888636163,
          0.03257052428277697,
          0.03262631171244061,
          0.032639107133322735,
          0.03212489414755344,
          0.03262947418155634,
          0.03257833944732667,
          0.032579199619531186,
          0.032116065762433865,
          0.03262502379897383,
          0.032581064789366454,
          0.03209624578035701,
          null,
          0.03211504807147023,
          0.03261441536544283,
          0.03258643713899627,
          0.03260741619605281,
          0.03211986581807285,
          0.03270626094120538,
          0.03244179022732841,
          0.03211350792548196,
          0.032698950693423386,
          0.032436443899305334,
          0.03212126128511456,
          0.03267542454197421,
          0.03242806373802685,
          0.03262627277592106
         ],
         "yaxis": "y"
        },
        {
         "mode": "markers",
         "name": "error",
         "type": "scatter",
         "x": [
          "1.1",
          "1.2",
          "1.3",
          "10.1",
          "100.1",
          "100.2",
          "100.3",
          "101.1",
          "101.2",
          "101.3",
          "102.3",
          "103.3",
          "104.3",
          "105.1",
          "105.2",
          "105.3",
          "106.2",
          "107.2",
          "108.1",
          "108.2",
          "108.3",
          "109.1",
          "11.1",
          "110.1",
          "111.1",
          "112.1",
          "113.1",
          "114.1",
          "12.2",
          "13.1",
          "13.2",
          "13.3",
          "135.1",
          "135.2",
          "135.3",
          "14.1",
          "149.1",
          "149.2",
          "149.3",
          "15.3",
          "150.1",
          "150.2",
          "150.3",
          "150R.1",
          "150R.2",
          "150R.3",
          "151.1",
          "151.2",
          "151.3",
          "152.1",
          "152.2",
          "152.3",
          "16.3",
          "160.1",
          "160.2",
          "160.3",
          "160R.1",
          "160R.2",
          "160R.3",
          "17.3",
          "18.1",
          "18.2",
          "18.3",
          "19.1",
          "197.1",
          "197.2",
          "197.3",
          "2.2",
          "20.1",
          "21.1",
          "21.2",
          "21.3",
          "22.2",
          "23.1",
          "23.2",
          "23.3",
          "24.3",
          "25.1",
          "25.2",
          "25.3",
          "250.1",
          "250.2",
          "250.3",
          "25R.1",
          "25R.3",
          "26.1",
          "26.3",
          "27.1",
          "27.3",
          "28.1",
          "28.2",
          "28.3",
          "29.1",
          "29.2",
          "29.3",
          "3.3",
          "30.1",
          "30.2",
          "30.3",
          "300.1",
          "300.2",
          "300.3",
          "300_OPEN.1",
          "300_OPEN.2",
          "300_OPEN.3",
          "31.3",
          "32.3",
          "33.1",
          "34.3",
          "35.1",
          "35.2",
          "35.3",
          "36.1",
          "36.2",
          "37.1",
          "38.2",
          "39.2",
          "4.3",
          "40.1",
          "40.2",
          "40.3",
          "41.3",
          "42.1",
          "42.2",
          "42.3",
          "43.2",
          "44.1",
          "44.2",
          "44.3",
          "45.1",
          "450.1",
          "450.2",
          "450.3",
          "46.1",
          "47.1",
          "47.2",
          "47.3",
          "48.1",
          "48.2",
          "48.3",
          "49.1",
          "49.2",
          "49.3",
          "5.3",
          "50.1",
          "50.2",
          "50.3",
          "51.1",
          "51.2",
          "51.3",
          "52.1",
          "52.2",
          "52.3",
          "53.1",
          "53.2",
          "53.3",
          "54.1",
          "54.2",
          "54.3",
          "55.1",
          "55.2",
          "55.3",
          "56.1",
          "56.2",
          "56.3",
          "57.1",
          "57.2",
          "57.3",
          "58.2",
          "59.2",
          "6.3",
          "60.1",
          "60.2",
          "60.3",
          "61.1",
          "61.2",
          "61.3",
          "610.1",
          "610.2",
          "610.3",
          "61S.1",
          "61S.2",
          "61S.3",
          "62.1",
          "62.2",
          "62.3",
          "63.1",
          "63.2",
          "63.3",
          "64.1",
          "64.2",
          "64.3",
          "65.1",
          "65.2",
          "65.3",
          "66.1",
          "66.2",
          "66.3",
          "67.1",
          "67.2",
          "67.3",
          "68.1",
          "69.1",
          "7.1",
          "7.2",
          "7.3",
          "70.1",
          "71.1",
          "72.1",
          "72.2",
          "72.3",
          "73.3",
          "74.3",
          "75.3",
          "76.1",
          "76.2",
          "76.3",
          "77.1",
          "77.2",
          "77.3",
          "78.1",
          "78.2",
          "78.3",
          "79.1",
          "79.2",
          "79.3",
          "8.1",
          "8.2",
          "8.3",
          "80.1",
          "80.2",
          "80.3",
          "81.1",
          "81.2",
          "81.3",
          "82.1",
          "82.2",
          "82.3",
          "83.1",
          "83.2",
          "83.3",
          "84.3",
          "85.3",
          "86.1",
          "86.2",
          "86.3",
          "87.1",
          "87.2",
          "87.3",
          "88.1",
          "89.1",
          "89.2",
          "89.3",
          "9.1",
          "90.2",
          "91.1",
          "91.2",
          "91.3",
          "92.3",
          "93.1",
          "93.2",
          "93.3",
          "94.1",
          "94_OPEN.1",
          "95.1",
          "95.2",
          "95.3",
          "96.2",
          "97.1",
          "97.2",
          "97.3",
          "98.1",
          "98.2",
          "98.3",
          "99.1",
          "99.2",
          "99.3",
          "9R.1"
         ],
         "xaxis": "x2",
         "y": [
          0.9901071680909597,
          0.9964374573716718,
          0.9922764476271211,
          0.9774572380694428,
          1.0143606000523437,
          1.015102014284726,
          1.0121815660150681,
          1.013633383582772,
          1.015724713844415,
          1.012551192076581,
          1.0113728322724214,
          1.0100193251244973,
          1.0085447665349017,
          1.012701931995175,
          1.0154454480933515,
          1.012881919984372,
          1.0144896127862573,
          1.0132406451039973,
          1.0116689191579709,
          1.0158028783814648,
          1.0128792654450822,
          1.0090497326409977,
          0.9771973559275047,
          1.0079700161452658,
          1.0073321861827447,
          1.007658795522006,
          1.0069048948726396,
          1.0065495522464316,
          0.9942402315316966,
          0.9753060917736033,
          0.9929114273006578,
          0.9827736091795344,
          0.968226793448171,
          0.9899461644892547,
          0.9770636041903539,
          0.9777272274342146,
          0.9979856069237066,
          0.9979898998893695,
          0.997988909982467,
          0.9816513356909506,
          0.9667385841751169,
          0.9667416439861009,
          0.966740955289279,
          0.9979857482638972,
          0.9979899881412372,
          0.9979890274893723,
          0.9617087844792895,
          0.9844390412680699,
          0.9724771054082951,
          0.9753060230057523,
          0.9929113691368124,
          0.9827735467897136,
          0.9808605799930177,
          0.96566542013948,
          0.9854339505515815,
          0.9763452645992448,
          1.0155578140470316,
          1.017254769007918,
          1.0141797137829354,
          0.9812716698138361,
          0.9682268294006674,
          0.9899461978295258,
          0.9770636281787228,
          0.9671350654743388,
          1.014163890300456,
          1.0160840551009087,
          1.0128985440567753,
          0.9962485501637526,
          0.9664487460681228,
          0.9678639214051095,
          0.9901162221085605,
          0.9762312841009737,
          0.9889528315376488,
          0.9675949409646114,
          0.9905330614404686,
          0.975416370035135,
          0.9742178537961862,
          0.967128312327522,
          0.9910198116859114,
          0.974818247809929,
          0.9670860447857199,
          0.9914867183933107,
          0.9740178792805116,
          0.9796193416462802,
          0.9748174259516997,
          0.9793904583439631,
          0.9744084708013692,
          0.9790798837405162,
          0.9743814889705662,
          0.9668934297708218,
          0.9912836348579519,
          0.9746333614804926,
          0.9668629480536992,
          0.9915231355338637,
          0.9744063474638341,
          0.9909127714945624,
          0.9670860419715266,
          0.9914867152572371,
          0.9740178759450231,
          1.0116689985493992,
          1.015802965570541,
          1.0128793392208448,
          null,
          null,
          null,
          0.9739232902165148,
          0.9735959070226315,
          0.9779453856474075,
          0.9819706944523477,
          0.9660108730146028,
          0.987929893699049,
          0.9761462674741932,
          0.9652356608463403,
          0.9875295933506528,
          0.9645823366486778,
          0.986979537927475,
          0.9866231085549041,
          0.9904754728585881,
          0.9648294688312506,
          0.9870190389610921,
          0.975266474097446,
          0.9749190384753196,
          0.9635893151741974,
          0.9861237210248471,
          0.9745195425025325,
          0.9850423703055976,
          0.962744574421149,
          0.985558509390284,
          0.9738275287894312,
          0.9623120019405573,
          1.0143606510444791,
          1.015102070028107,
          1.012181613178012,
          0.9619888758602216,
          0.9619578060968519,
          0.9846984918205894,
          0.9729864706334505,
          0.9616861226150482,
          0.9844320944686143,
          0.9727694610563118,
          0.9618618175965636,
          0.9843516945635796,
          0.9727601492579793,
          0.9898508667144849,
          0.961842720555856,
          0.9843740564337254,
          0.9724889640920749,
          0.9617087700188406,
          0.984439017618236,
          0.9724770924561207,
          0.9721323784905354,
          0.9919663372654391,
          0.9814227397278309,
          0.9707641611928117,
          0.9913739516049129,
          0.9807700874771378,
          0.9700430957764298,
          0.9909286077273086,
          0.9803755322954941,
          0.9700191175542692,
          0.9909560051372153,
          0.9805306493735075,
          0.9699938367635663,
          0.9908074093521833,
          0.9806032162241157,
          0.9686177805999744,
          0.988919978406839,
          0.979230130827919,
          0.9883848564648415,
          0.988110040125781,
          0.9893081642559652,
          0.965665473157645,
          0.9854339979975312,
          0.9763453156871461,
          0.9656654967283875,
          0.9854340193193366,
          0.9763453397659746,
          0.9697938547150382,
          0.9786458978230533,
          0.9790085068301013,
          0.9656654967283878,
          0.9854340193193366,
          0.9763453397659744,
          0.9653608947626299,
          0.984795584251225,
          0.9749508457980669,
          0.9650952093281137,
          0.9842887850873446,
          0.974334230080556,
          0.9648164785427948,
          0.982661368454952,
          0.9725289101933552,
          0.9642183723107691,
          0.9823685917735481,
          0.9700137891620285,
          0.9644123456106368,
          0.9825701995681767,
          0.9687495118638328,
          1.0148669716824321,
          1.0166439278553083,
          1.013385975127247,
          1.0139297979480864,
          1.0124014067198395,
          0.9842209769747152,
          0.9953448917487709,
          0.9887664915584864,
          1.0113073004724689,
          1.0106907978393835,
          1.0156602555356509,
          1.0163706180217782,
          1.0136098398867308,
          1.0118319083910279,
          1.010310180818998,
          1.0094481227868812,
          1.0159254188831663,
          1.0162769479263059,
          1.0144135262307232,
          1.0173089336807115,
          1.0176394348228222,
          1.0155953004271352,
          1.0176658425069303,
          1.0180912193131428,
          1.0158369646509404,
          1.0174222554363046,
          1.018198440818261,
          1.0157978585910579,
          0.9803120360022288,
          0.9944891563299258,
          0.9863686177649548,
          1.0198757930170972,
          1.0200111362872866,
          1.017068660914144,
          1.0206581028290993,
          1.0208252374640518,
          1.0173390498481159,
          1.021542737201215,
          1.0220337826761612,
          1.0181310451322898,
          1.0226903905357925,
          1.0231269739591862,
          1.0189658994196478,
          1.0151282330740115,
          1.0141032313811373,
          1.015565309142866,
          1.0152586367301548,
          1.0159517719478632,
          1.015332178942556,
          1.0148587997951541,
          1.0167084728960996,
          1.015340301107788,
          1.014948235966858,
          1.0146800988456726,
          1.0171058169227776,
          0.9790883561968389,
          1.0146773553460706,
          1.0147796754306262,
          1.0143871469559638,
          1.0173362788366629,
          1.0173616979466882,
          1.014516874795519,
          1.0142526356786217,
          1.017414296889261,
          1.0139283173843345,
          null,
          1.014485985654092,
          1.0139325290789998,
          1.0175696663073386,
          1.0137213864195578,
          1.014163903041428,
          1.0160840662901771,
          1.0128985578515501,
          1.0139742343211222,
          1.0158636048498173,
          1.012744605458523,
          1.0142028876893423,
          1.0151544464429612,
          1.0125042674758167,
          0.9790871358419369
         ],
         "yaxis": "y2"
        }
       ],
       "layout": {
        "autosize": true,
        "template": {
         "data": {
          "bar": [
           {
            "error_x": {
             "color": "#2a3f5f"
            },
            "error_y": {
             "color": "#2a3f5f"
            },
            "marker": {
             "line": {
              "color": "white",
              "width": 0.5
             },
             "pattern": {
              "fillmode": "overlay",
              "size": 10,
              "solidity": 0.2
             }
            },
            "type": "bar"
           }
          ],
          "barpolar": [
           {
            "marker": {
             "line": {
              "color": "white",
              "width": 0.5
             },
             "pattern": {
              "fillmode": "overlay",
              "size": 10,
              "solidity": 0.2
             }
            },
            "type": "barpolar"
           }
          ],
          "carpet": [
           {
            "aaxis": {
             "endlinecolor": "#2a3f5f",
             "gridcolor": "#C8D4E3",
             "linecolor": "#C8D4E3",
             "minorgridcolor": "#C8D4E3",
             "startlinecolor": "#2a3f5f"
            },
            "baxis": {
             "endlinecolor": "#2a3f5f",
             "gridcolor": "#C8D4E3",
             "linecolor": "#C8D4E3",
             "minorgridcolor": "#C8D4E3",
             "startlinecolor": "#2a3f5f"
            },
            "type": "carpet"
           }
          ],
          "choropleth": [
           {
            "colorbar": {
             "outlinewidth": 0,
             "ticks": ""
            },
            "type": "choropleth"
           }
          ],
          "contour": [
           {
            "colorbar": {
             "outlinewidth": 0,
             "ticks": ""
            },
            "colorscale": [
             [
              0,
              "#0d0887"
             ],
             [
              0.1111111111111111,
              "#46039f"
             ],
             [
              0.2222222222222222,
              "#7201a8"
             ],
             [
              0.3333333333333333,
              "#9c179e"
             ],
             [
              0.4444444444444444,
              "#bd3786"
             ],
             [
              0.5555555555555556,
              "#d8576b"
             ],
             [
              0.6666666666666666,
              "#ed7953"
             ],
             [
              0.7777777777777778,
              "#fb9f3a"
             ],
             [
              0.8888888888888888,
              "#fdca26"
             ],
             [
              1,
              "#f0f921"
             ]
            ],
            "type": "contour"
           }
          ],
          "contourcarpet": [
           {
            "colorbar": {
             "outlinewidth": 0,
             "ticks": ""
            },
            "type": "contourcarpet"
           }
          ],
          "heatmap": [
           {
            "colorbar": {
             "outlinewidth": 0,
             "ticks": ""
            },
            "colorscale": [
             [
              0,
              "#0d0887"
             ],
             [
              0.1111111111111111,
              "#46039f"
             ],
             [
              0.2222222222222222,
              "#7201a8"
             ],
             [
              0.3333333333333333,
              "#9c179e"
             ],
             [
              0.4444444444444444,
              "#bd3786"
             ],
             [
              0.5555555555555556,
              "#d8576b"
             ],
             [
              0.6666666666666666,
              "#ed7953"
             ],
             [
              0.7777777777777778,
              "#fb9f3a"
             ],
             [
              0.8888888888888888,
              "#fdca26"
             ],
             [
              1,
              "#f0f921"
             ]
            ],
            "type": "heatmap"
           }
          ],
          "heatmapgl": [
           {
            "colorbar": {
             "outlinewidth": 0,
             "ticks": ""
            },
            "colorscale": [
             [
              0,
              "#0d0887"
             ],
             [
              0.1111111111111111,
              "#46039f"
             ],
             [
              0.2222222222222222,
              "#7201a8"
             ],
             [
              0.3333333333333333,
              "#9c179e"
             ],
             [
              0.4444444444444444,
              "#bd3786"
             ],
             [
              0.5555555555555556,
              "#d8576b"
             ],
             [
              0.6666666666666666,
              "#ed7953"
             ],
             [
              0.7777777777777778,
              "#fb9f3a"
             ],
             [
              0.8888888888888888,
              "#fdca26"
             ],
             [
              1,
              "#f0f921"
             ]
            ],
            "type": "heatmapgl"
           }
          ],
          "histogram": [
           {
            "marker": {
             "pattern": {
              "fillmode": "overlay",
              "size": 10,
              "solidity": 0.2
             }
            },
            "type": "histogram"
           }
          ],
          "histogram2d": [
           {
            "colorbar": {
             "outlinewidth": 0,
             "ticks": ""
            },
            "colorscale": [
             [
              0,
              "#0d0887"
             ],
             [
              0.1111111111111111,
              "#46039f"
             ],
             [
              0.2222222222222222,
              "#7201a8"
             ],
             [
              0.3333333333333333,
              "#9c179e"
             ],
             [
              0.4444444444444444,
              "#bd3786"
             ],
             [
              0.5555555555555556,
              "#d8576b"
             ],
             [
              0.6666666666666666,
              "#ed7953"
             ],
             [
              0.7777777777777778,
              "#fb9f3a"
             ],
             [
              0.8888888888888888,
              "#fdca26"
             ],
             [
              1,
              "#f0f921"
             ]
            ],
            "type": "histogram2d"
           }
          ],
          "histogram2dcontour": [
           {
            "colorbar": {
             "outlinewidth": 0,
             "ticks": ""
            },
            "colorscale": [
             [
              0,
              "#0d0887"
             ],
             [
              0.1111111111111111,
              "#46039f"
             ],
             [
              0.2222222222222222,
              "#7201a8"
             ],
             [
              0.3333333333333333,
              "#9c179e"
             ],
             [
              0.4444444444444444,
              "#bd3786"
             ],
             [
              0.5555555555555556,
              "#d8576b"
             ],
             [
              0.6666666666666666,
              "#ed7953"
             ],
             [
              0.7777777777777778,
              "#fb9f3a"
             ],
             [
              0.8888888888888888,
              "#fdca26"
             ],
             [
              1,
              "#f0f921"
             ]
            ],
            "type": "histogram2dcontour"
           }
          ],
          "mesh3d": [
           {
            "colorbar": {
             "outlinewidth": 0,
             "ticks": ""
            },
            "type": "mesh3d"
           }
          ],
          "parcoords": [
           {
            "line": {
             "colorbar": {
              "outlinewidth": 0,
              "ticks": ""
             }
            },
            "type": "parcoords"
           }
          ],
          "pie": [
           {
            "automargin": true,
            "type": "pie"
           }
          ],
          "scatter": [
           {
            "fillpattern": {
             "fillmode": "overlay",
             "size": 10,
             "solidity": 0.2
            },
            "type": "scatter"
           }
          ],
          "scatter3d": [
           {
            "line": {
             "colorbar": {
              "outlinewidth": 0,
              "ticks": ""
             }
            },
            "marker": {
             "colorbar": {
              "outlinewidth": 0,
              "ticks": ""
             }
            },
            "type": "scatter3d"
           }
          ],
          "scattercarpet": [
           {
            "marker": {
             "colorbar": {
              "outlinewidth": 0,
              "ticks": ""
             }
            },
            "type": "scattercarpet"
           }
          ],
          "scattergeo": [
           {
            "marker": {
             "colorbar": {
              "outlinewidth": 0,
              "ticks": ""
             }
            },
            "type": "scattergeo"
           }
          ],
          "scattergl": [
           {
            "marker": {
             "colorbar": {
              "outlinewidth": 0,
              "ticks": ""
             }
            },
            "type": "scattergl"
           }
          ],
          "scattermapbox": [
           {
            "marker": {
             "colorbar": {
              "outlinewidth": 0,
              "ticks": ""
             }
            },
            "type": "scattermapbox"
           }
          ],
          "scatterpolar": [
           {
            "marker": {
             "colorbar": {
              "outlinewidth": 0,
              "ticks": ""
             }
            },
            "type": "scatterpolar"
           }
          ],
          "scatterpolargl": [
           {
            "marker": {
             "colorbar": {
              "outlinewidth": 0,
              "ticks": ""
             }
            },
            "type": "scatterpolargl"
           }
          ],
          "scatterternary": [
           {
            "marker": {
             "colorbar": {
              "outlinewidth": 0,
              "ticks": ""
             }
            },
            "type": "scatterternary"
           }
          ],
          "surface": [
           {
            "colorbar": {
             "outlinewidth": 0,
             "ticks": ""
            },
            "colorscale": [
             [
              0,
              "#0d0887"
             ],
             [
              0.1111111111111111,
              "#46039f"
             ],
             [
              0.2222222222222222,
              "#7201a8"
             ],
             [
              0.3333333333333333,
              "#9c179e"
             ],
             [
              0.4444444444444444,
              "#bd3786"
             ],
             [
              0.5555555555555556,
              "#d8576b"
             ],
             [
              0.6666666666666666,
              "#ed7953"
             ],
             [
              0.7777777777777778,
              "#fb9f3a"
             ],
             [
              0.8888888888888888,
              "#fdca26"
             ],
             [
              1,
              "#f0f921"
             ]
            ],
            "type": "surface"
           }
          ],
          "table": [
           {
            "cells": {
             "fill": {
              "color": "#EBF0F8"
             },
             "line": {
              "color": "white"
             }
            },
            "header": {
             "fill": {
              "color": "#C8D4E3"
             },
             "line": {
              "color": "white"
             }
            },
            "type": "table"
           }
          ]
         },
         "layout": {
          "annotationdefaults": {
           "arrowcolor": "#2a3f5f",
           "arrowhead": 0,
           "arrowwidth": 1
          },
          "autotypenumbers": "strict",
          "coloraxis": {
           "colorbar": {
            "outlinewidth": 0,
            "ticks": ""
           }
          },
          "colorscale": {
           "diverging": [
            [
             0,
             "#8e0152"
            ],
            [
             0.1,
             "#c51b7d"
            ],
            [
             0.2,
             "#de77ae"
            ],
            [
             0.3,
             "#f1b6da"
            ],
            [
             0.4,
             "#fde0ef"
            ],
            [
             0.5,
             "#f7f7f7"
            ],
            [
             0.6,
             "#e6f5d0"
            ],
            [
             0.7,
             "#b8e186"
            ],
            [
             0.8,
             "#7fbc41"
            ],
            [
             0.9,
             "#4d9221"
            ],
            [
             1,
             "#276419"
            ]
           ],
           "sequential": [
            [
             0,
             "#0d0887"
            ],
            [
             0.1111111111111111,
             "#46039f"
            ],
            [
             0.2222222222222222,
             "#7201a8"
            ],
            [
             0.3333333333333333,
             "#9c179e"
            ],
            [
             0.4444444444444444,
             "#bd3786"
            ],
            [
             0.5555555555555556,
             "#d8576b"
            ],
            [
             0.6666666666666666,
             "#ed7953"
            ],
            [
             0.7777777777777778,
             "#fb9f3a"
            ],
            [
             0.8888888888888888,
             "#fdca26"
            ],
            [
             1,
             "#f0f921"
            ]
           ],
           "sequentialminus": [
            [
             0,
             "#0d0887"
            ],
            [
             0.1111111111111111,
             "#46039f"
            ],
            [
             0.2222222222222222,
             "#7201a8"
            ],
            [
             0.3333333333333333,
             "#9c179e"
            ],
            [
             0.4444444444444444,
             "#bd3786"
            ],
            [
             0.5555555555555556,
             "#d8576b"
            ],
            [
             0.6666666666666666,
             "#ed7953"
            ],
            [
             0.7777777777777778,
             "#fb9f3a"
            ],
            [
             0.8888888888888888,
             "#fdca26"
            ],
            [
             1,
             "#f0f921"
            ]
           ]
          },
          "colorway": [
           "#636efa",
           "#EF553B",
           "#00cc96",
           "#ab63fa",
           "#FFA15A",
           "#19d3f3",
           "#FF6692",
           "#B6E880",
           "#FF97FF",
           "#FECB52"
          ],
          "font": {
           "color": "#2a3f5f"
          },
          "geo": {
           "bgcolor": "white",
           "lakecolor": "white",
           "landcolor": "white",
           "showlakes": true,
           "showland": true,
           "subunitcolor": "#C8D4E3"
          },
          "hoverlabel": {
           "align": "left"
          },
          "hovermode": "closest",
          "mapbox": {
           "style": "light"
          },
          "paper_bgcolor": "white",
          "plot_bgcolor": "white",
          "polar": {
           "angularaxis": {
            "gridcolor": "#EBF0F8",
            "linecolor": "#EBF0F8",
            "ticks": ""
           },
           "bgcolor": "white",
           "radialaxis": {
            "gridcolor": "#EBF0F8",
            "linecolor": "#EBF0F8",
            "ticks": ""
           }
          },
          "scene": {
           "xaxis": {
            "backgroundcolor": "white",
            "gridcolor": "#DFE8F3",
            "gridwidth": 2,
            "linecolor": "#EBF0F8",
            "showbackground": true,
            "ticks": "",
            "zerolinecolor": "#EBF0F8"
           },
           "yaxis": {
            "backgroundcolor": "white",
            "gridcolor": "#DFE8F3",
            "gridwidth": 2,
            "linecolor": "#EBF0F8",
            "showbackground": true,
            "ticks": "",
            "zerolinecolor": "#EBF0F8"
           },
           "zaxis": {
            "backgroundcolor": "white",
            "gridcolor": "#DFE8F3",
            "gridwidth": 2,
            "linecolor": "#EBF0F8",
            "showbackground": true,
            "ticks": "",
            "zerolinecolor": "#EBF0F8"
           }
          },
          "shapedefaults": {
           "line": {
            "color": "#2a3f5f"
           }
          },
          "ternary": {
           "aaxis": {
            "gridcolor": "#DFE8F3",
            "linecolor": "#A2B1C6",
            "ticks": ""
           },
           "baxis": {
            "gridcolor": "#DFE8F3",
            "linecolor": "#A2B1C6",
            "ticks": ""
           },
           "bgcolor": "white",
           "caxis": {
            "gridcolor": "#DFE8F3",
            "linecolor": "#A2B1C6",
            "ticks": ""
           }
          },
          "title": {
           "x": 0.05
          },
          "xaxis": {
           "automargin": true,
           "gridcolor": "#EBF0F8",
           "linecolor": "#EBF0F8",
           "ticks": "",
           "title": {
            "standoff": 15
           },
           "zerolinecolor": "#EBF0F8",
           "zerolinewidth": 2
          },
          "yaxis": {
           "automargin": true,
           "gridcolor": "#EBF0F8",
           "linecolor": "#EBF0F8",
           "ticks": "",
           "title": {
            "standoff": 15
           },
           "zerolinecolor": "#EBF0F8",
           "zerolinewidth": 2
          }
         }
        },
        "xaxis": {
         "anchor": "y",
         "autorange": true,
         "domain": [
          0,
          0.45
         ],
         "range": [
          -19.445642431591715,
          296.4456424315917
         ],
         "type": "category"
        },
        "xaxis2": {
         "anchor": "y2",
         "autorange": true,
         "domain": [
          0.55,
          1
         ],
         "range": [
          -19.445642431591715,
          296.4456424315917
         ],
         "type": "category"
        },
        "yaxis": {
         "anchor": "x",
         "autorange": true,
         "domain": [
          0,
          1
         ],
         "range": [
          -0.052628937338586854,
          1.1405673370529126
         ],
         "type": "linear"
        },
        "yaxis2": {
         "anchor": "x2",
         "autorange": true,
         "domain": [
          0,
          1
         ],
         "range": [
          0.9566157610963572,
          1.028197335477877
         ],
         "type": "linear"
        }
       }
      },
      "image/png": "[encoded data removed]",
      "text/html": [
       "<div>                            <div id=\"51c5d4b6-cbc1-45da-8962-a3d442ffcc2f\" class=\"plotly-graph-div\" style=\"height:525px; width:100%;\"></div>            <script type=\"text/javascript\">                require([\"plotly\"], function(Plotly) {                    window.PLOTLYENV=window.PLOTLYENV || {};                                    if (document.getElementById(\"51c5d4b6-cbc1-45da-8962-a3d442ffcc2f\")) {                    Plotly.newPlot(                        \"51c5d4b6-cbc1-45da-8962-a3d442ffcc2f\",                        [{\"mode\":\"markers\",\"name\":\"true\",\"x\":[\"150.1\",\"150.2\",\"150.3\",\"150R.1\",\"150R.2\",\"150R.3\",\"149.1\",\"149.2\",\"149.3\",\"1.1\",\"1.2\",\"1.3\",\"2.2\",\"3.3\",\"7.1\",\"7.2\",\"7.3\",\"4.3\",\"5.3\",\"6.3\",\"8.1\",\"8.2\",\"8.3\",\"12.2\",\"9.1\",\"13.1\",\"13.2\",\"13.3\",\"9R.1\",\"14.1\",\"34.3\",\"18.1\",\"18.2\",\"18.3\",\"11.1\",\"10.1\",\"15.3\",\"16.3\",\"17.3\",\"19.1\",\"21.1\",\"21.2\",\"21.3\",\"20.1\",\"22.2\",\"23.1\",\"23.2\",\"23.3\",\"24.3\",\"25.1\",\"25.2\",\"25.3\",\"25R.1\",\"25R.3\",\"26.1\",\"26.3\",\"28.1\",\"28.2\",\"28.3\",\"27.1\",\"27.3\",\"31.3\",\"33.1\",\"29.1\",\"29.2\",\"29.3\",\"30.1\",\"30.2\",\"30.3\",\"250.1\",\"250.2\",\"250.3\",\"32.3\",\"35.1\",\"35.2\",\"36.1\",\"36.2\",\"35.3\",\"40.1\",\"40.2\",\"40.3\",\"37.1\",\"38.2\",\"39.2\",\"41.3\",\"42.1\",\"42.2\",\"42.3\",\"43.2\",\"44.1\",\"44.2\",\"44.3\",\"45.1\",\"47.1\",\"47.2\",\"47.3\",\"46.1\",\"48.1\",\"48.2\",\"48.3\",\"49.1\",\"49.2\",\"49.3\",\"50.1\",\"50.2\",\"50.3\",\"51.1\",\"51.2\",\"51.3\",\"151.1\",\"151.2\",\"151.3\",\"52.1\",\"52.2\",\"52.3\",\"53.1\",\"53.2\",\"53.3\",\"54.1\",\"54.2\",\"54.3\",\"55.1\",\"55.2\",\"55.3\",\"57.1\",\"57.2\",\"57.3\",\"56.1\",\"56.2\",\"56.3\",\"58.2\",\"60.1\",\"60.2\",\"60.3\",\"59.2\",\"61.1\",\"61.2\",\"61.3\",\"62.1\",\"62.2\",\"62.3\",\"63.1\",\"63.2\",\"63.3\",\"64.1\",\"64.2\",\"64.3\",\"65.1\",\"65.2\",\"65.3\",\"66.1\",\"66.2\",\"66.3\",\"67.1\",\"68.1\",\"67.2\",\"67.3\",\"72.1\",\"72.2\",\"72.3\",\"97.1\",\"97.2\",\"97.3\",\"69.1\",\"70.1\",\"71.1\",\"73.3\",\"76.1\",\"76.2\",\"76.3\",\"74.3\",\"75.3\",\"77.1\",\"77.2\",\"77.3\",\"86.1\",\"86.2\",\"86.3\",\"78.1\",\"78.2\",\"78.3\",\"79.1\",\"79.2\",\"79.3\",\"80.1\",\"80.2\",\"80.3\",\"81.1\",\"81.2\",\"81.3\",\"82.1\",\"82.2\",\"82.3\",\"84.3\",\"83.1\",\"83.2\",\"83.3\",\"85.3\",\"87.1\",\"87.2\",\"87.3\",\"88.1\",\"89.1\",\"89.2\",\"89.3\",\"90.2\",\"91.1\",\"91.2\",\"91.3\",\"92.3\",\"93.1\",\"93.2\",\"93.3\",\"94.1\",\"95.1\",\"95.2\",\"95.3\",\"96.2\",\"98.1\",\"98.2\",\"98.3\",\"99.1\",\"99.2\",\"99.3\",\"100.1\",\"100.2\",\"100.3\",\"450.1\",\"450.2\",\"450.3\",\"197.1\",\"197.2\",\"197.3\",\"101.1\",\"101.2\",\"101.3\",\"102.3\",\"105.1\",\"105.2\",\"105.3\",\"103.3\",\"104.3\",\"106.2\",\"108.1\",\"108.2\",\"108.3\",\"107.2\",\"109.1\",\"300.1\",\"300.2\",\"300.3\",\"110.1\",\"111.1\",\"112.1\",\"113.1\",\"114.1\",\"135.1\",\"135.2\",\"135.3\",\"152.1\",\"152.2\",\"152.3\",\"160R.1\",\"160R.2\",\"160R.3\",\"160.1\",\"160.2\",\"160.3\",\"61S.1\",\"61S.2\",\"61S.3\",\"300_OPEN.1\",\"300_OPEN.2\",\"300_OPEN.3\",\"94_OPEN.1\",\"610.1\",\"610.2\",\"610.3\"],\"y\":[0.9999926473653266,0.9999957071763105,0.9999950184794886,1.031239739327409,1.0312440069792976,1.0312430398769632,1.0312395927247415,1.0312439150462769,1.031242917828311,1.0231001170316016,1.0296244548414684,1.0253355516691711,1.029429499710315,1.0239283134396842,1.0170166000519343,1.0284836663510324,1.0217032090884708,1.0234770221663925,1.0228324563324958,1.0222723903505317,1.0129774325566583,1.0275927445977475,1.0192227409860426,1.0273358461807889,1.0117146679092794,1.0078021138368543,1.025952772983057,1.0155033440598344,1.0117134086178579,1.0103100381735532,1.0146747490387855,1.0004915273974135,1.0228795803682467,1.009606390363735,1.009763216421067,1.010031410545565,1.0143451739972378,1.0135291111516282,1.0139533541565322,0.9993648628701466,1.000115435614049,1.0230528036228077,1.0087450922546248,0.998656590788259,1.021852143064029,0.9998364916574948,1.0234811096828704,1.0079018190174127,1.0066649544210993,0.9993533991774511,1.0239813540179101,1.0072820156673443,1.0118444001720324,1.007281167531126,1.011608069777808,1.0068590334701712,0.9991098448730195,1.0242521608600803,1.0070894085348452,1.0112874447025109,1.0068311118122906,1.0063583242279384,1.0101161943445,0.9990766529139545,1.0244972255129319,1.0068524975709496,0.9993069136854411,1.024459652537045,1.006451589161263,0.9993069164996351,1.024459655673119,1.0064515924967519,1.0060204600940879,0.9982028436600953,1.0207947769124048,0.9974029266124392,1.0203814763002677,1.0086546315195568,0.9969818629942531,1.0198528232479018,1.007744711463827,0.9967287052561506,1.0198137970401808,1.0194459443131978,1.0073861525157084,0.9957001840152083,1.0189268570069294,1.0069718746527638,1.0178108622062159,0.9948268818318277,1.0183419780052936,1.0062561388736566,0.9943804727548048,0.994012988376318,1.0174525369501528,1.0053862062733812,0.9940470085173851,0.9937326984623944,1.0171775204440707,1.0051617979159786,0.9939121333237094,1.0170922753925176,1.0051510190592923,0.993892452644656,1.0171153299783346,1.004871130257262,0.9937542152287084,1.0171823312753105,1.0048588579453084,0.9937542296891587,1.017182354925145,1.0048588708974837,1.0045177945838668,1.0249674942628109,1.0141014355409363,1.0031010287261202,1.0243511283723081,1.013423878238025,1.0023538499060245,1.023888394626955,1.013014145596431,1.0023266063662701,1.023915002862203,1.0131726282381366,1.0008810358150326,1.021805288384557,1.011827303906368,1.002300523520311,1.0237616431731966,1.0132474945941017,1.0212530136786353,0.9978291744601852,1.0181848562650773,1.008839195209944,1.0209693858638027,0.9978291980309292,1.0181848775868863,1.0088392192887745,0.9975093459007213,1.017519887674495,1.0073945208811326,0.9972313028894036,1.016992595240317,1.0067542470342445,0.9969440528933547,1.0153127629071905,1.0048906583760575,0.9963269387862799,1.0150103029080264,1.0022946794166887,0.996527089939448,1.0152182032858366,1.0009899171324401,1.0470079304072153,1.0460392153776263,1.0493688568136255,1.045845301500493,1.0478243144155628,1.0490810555939152,1.0460748296124127,1.0462837688595008,1.0487903272313825,1.0453403480788785,1.0444594526907423,1.0433285388926552,1.042691279917713,1.0442378496075702,1.0480958209726483,1.0489803192596534,1.0469038465382137,1.042665521218618,1.0417747720117674,1.049524089794869,1.0503846993108488,1.0481184745381724,1.0477187872702478,1.0479209743398645,1.0484886040120176,1.0498925305344502,1.0508506267754347,1.0483664734380644,1.0496407422373562,1.0509614081887317,1.0483260346605747,1.0521744789043619,1.0528301383997694,1.0496310533194242,1.052983158841449,1.0536712547565907,1.0499090180436323,1.0538976344476998,1.0549198808818456,1.0507252744861775,1.047624705070094,1.0550839386586814,1.056049267616848,1.0515858113622736,1.0465655781352654,1.047475543979918,1.047503892652533,1.0492660097826452,1.0474839446728121,1.0470787473820922,1.047319287732034,1.0496763412055545,1.0473164624793934,1.0469045695781796,1.04701662113752,1.0499146182839896,1.0499408975662194,1.0466329405579529,1.0468776594775955,1.0499953616786275,1.0460245631646916,1.0466010337255622,1.0465469444444426,1.050156103446335,1.0463288026156106,1.0460877422466042,1.0485625555432407,1.0451810493578284,1.0463241489744568,1.0478298709849354,1.0449323312138434,1.0464871511316547,1.047775679552461,1.044598886832261,1.0464872021237919,1.0477757352958437,1.0445989339952053,1.046283755691823,1.0487903156719784,1.045340333826052,1.045737924816225,1.0484189437950324,1.0449802983786012,1.043762803045801,1.0447779480049557,1.0481303111059188,1.0453207150523778,1.0423642985264705,1.0408406776419867,1.0471428475091231,1.0437133741170943,1.048499388232072,1.0453168559999966,1.045852527770757,1.0410115979700494,1.0437134535085233,1.0484994754211507,1.0453169297757605,1.0398991657853747,1.0392398699533434,1.0395789703047678,1.0388059852464935,1.0384386843439093,1.0004914901842332,1.0228795458391151,1.009606365489796,1.0078020423863032,1.0259527124609966,1.0155032791881982,1.0477215622757676,1.0500057118537283,1.0466736915795047,0.9978291194708414,1.0181848070269526,1.0088391422165173,0.9978291980309294,1.0181848775868863,1.0088392192887743,0.9937542296891587,1.017182354925145,1.0048588708974837,1.0023538499060245,1.0019575560175797,1.011396756090603,1.0115023863529011],\"type\":\"scatter\",\"xaxis\":\"x\",\"yaxis\":\"y\"},{\"mode\":\"markers\",\"name\":\"est\",\"x\":[\"1.1\",\"1.2\",\"1.3\",\"10.1\",\"100.1\",\"100.2\",\"100.3\",\"101.1\",\"101.2\",\"101.3\",\"102.3\",\"103.3\",\"104.3\",\"105.1\",\"105.2\",\"105.3\",\"106.2\",\"107.2\",\"108.1\",\"108.2\",\"108.3\",\"109.1\",\"11.1\",\"110.1\",\"111.1\",\"112.1\",\"113.1\",\"114.1\",\"12.2\",\"13.1\",\"13.2\",\"13.3\",\"135.1\",\"135.2\",\"135.3\",\"14.1\",\"149.1\",\"149.2\",\"149.3\",\"15.3\",\"150.1\",\"150.2\",\"150.3\",\"150R.1\",\"150R.2\",\"150R.3\",\"151.1\",\"151.2\",\"151.3\",\"152.1\",\"152.2\",\"152.3\",\"16.3\",\"160.1\",\"160.2\",\"160.3\",\"160R.1\",\"160R.2\",\"160R.3\",\"17.3\",\"18.1\",\"18.2\",\"18.3\",\"19.1\",\"197.1\",\"197.2\",\"197.3\",\"2.2\",\"20.1\",\"21.1\",\"21.2\",\"21.3\",\"22.2\",\"23.1\",\"23.2\",\"23.3\",\"24.3\",\"25.1\",\"25.2\",\"25.3\",\"250.1\",\"250.2\",\"250.3\",\"25R.1\",\"25R.3\",\"26.1\",\"26.3\",\"27.1\",\"27.3\",\"28.1\",\"28.2\",\"28.3\",\"29.1\",\"29.2\",\"29.3\",\"3.3\",\"30.1\",\"30.2\",\"30.3\",\"300.1\",\"300.2\",\"300.3\",\"300_OPEN.1\",\"300_OPEN.2\",\"300_OPEN.3\",\"31.3\",\"32.3\",\"33.1\",\"34.3\",\"35.1\",\"35.2\",\"35.3\",\"36.1\",\"36.2\",\"37.1\",\"38.2\",\"39.2\",\"4.3\",\"40.1\",\"40.2\",\"40.3\",\"41.3\",\"42.1\",\"42.2\",\"42.3\",\"43.2\",\"44.1\",\"44.2\",\"44.3\",\"45.1\",\"450.1\",\"450.2\",\"450.3\",\"46.1\",\"47.1\",\"47.2\",\"47.3\",\"48.1\",\"48.2\",\"48.3\",\"49.1\",\"49.2\",\"49.3\",\"5.3\",\"50.1\",\"50.2\",\"50.3\",\"51.1\",\"51.2\",\"51.3\",\"52.1\",\"52.2\",\"52.3\",\"53.1\",\"53.2\",\"53.3\",\"54.1\",\"54.2\",\"54.3\",\"55.1\",\"55.2\",\"55.3\",\"56.1\",\"56.2\",\"56.3\",\"57.1\",\"57.2\",\"57.3\",\"58.2\",\"59.2\",\"6.3\",\"60.1\",\"60.2\",\"60.3\",\"61.1\",\"61.2\",\"61.3\",\"610.1\",\"610.2\",\"610.3\",\"61S.1\",\"61S.2\",\"61S.3\",\"62.1\",\"62.2\",\"62.3\",\"63.1\",\"63.2\",\"63.3\",\"64.1\",\"64.2\",\"64.3\",\"65.1\",\"65.2\",\"65.3\",\"66.1\",\"66.2\",\"66.3\",\"67.1\",\"67.2\",\"67.3\",\"68.1\",\"69.1\",\"7.1\",\"7.2\",\"7.3\",\"70.1\",\"71.1\",\"72.1\",\"72.2\",\"72.3\",\"73.3\",\"74.3\",\"75.3\",\"76.1\",\"76.2\",\"76.3\",\"77.1\",\"77.2\",\"77.3\",\"78.1\",\"78.2\",\"78.3\",\"79.1\",\"79.2\",\"79.3\",\"8.1\",\"8.2\",\"8.3\",\"80.1\",\"80.2\",\"80.3\",\"81.1\",\"81.2\",\"81.3\",\"82.1\",\"82.2\",\"82.3\",\"83.1\",\"83.2\",\"83.3\",\"84.3\",\"85.3\",\"86.1\",\"86.2\",\"86.3\",\"87.1\",\"87.2\",\"87.3\",\"88.1\",\"89.1\",\"89.2\",\"89.3\",\"9.1\",\"90.2\",\"91.1\",\"91.2\",\"91.3\",\"92.3\",\"93.1\",\"93.2\",\"93.3\",\"94.1\",\"94_OPEN.1\",\"95.1\",\"95.2\",\"95.3\",\"96.2\",\"97.1\",\"97.2\",\"97.3\",\"98.1\",\"98.2\",\"98.3\",\"99.1\",\"99.2\",\"99.3\",\"9R.1\"],\"y\":[0.032992948940641975,0.0331869974697966,0.03305910404205008,0.03257417247612218,0.032126551079310936,0.03267366526773503,0.032417320817193,0.03210454123345316,0.03269422995061746,0.03242910630202006,0.03238997077337957,0.03234497340197329,0.03229591110708497,0.03207601600978056,0.03268486301256743,0.03243879506800589,0.03265323472286591,0.032611882666759844,0.03204445495912355,0.032696509850607146,0.032437590554914415,0.031961865329051625,0.03256586049356236,0.03192914964010875,0.031907683770598716,0.03192017478276185,0.03190109037385391,0.03188913209747769,0.03309561464909225,0.03249602206325098,0.03304134568239921,0.032729734880300045,0.03226469673606228,0.0329333813498605,0.032542761299442134,0.032582810739338705,0.03325398580103493,0.03325401515690738,0.033254007845843876,0.032693838306287165,0.03325406319020958,0.03325406319020958,0.03325406319020958,0.033253991063511866,0.0332540188380604,0.033254012387590806,0.03204544520986924,0.03274331365707519,0.03238176548918855,0.03249601938055096,0.033041343324184215,0.03272973239848449,0.03266853115861059,0.03216369933136145,0.03275085647537117,0.0324938776172725,0.03216374822873602,0.03275094284581029,0.03249397779656947,0.032681684342696145,0.03226469799674617,0.03293338253872094,0.03254276218501201,0.03222979739580783,0.032119865391366964,0.032706260571069776,0.03244178976927684,0.033180949546562505,0.03220784472013616,0.03225151420893944,0.03293658151424719,0.0325138081536511,0.03289931152638028,0.03224155069288336,0.032948048242401835,0.032485448982277725,0.03244710062491306,0.03222508684992908,0.032961542331998744,0.03246376785741537,0.03222087171391514,0.03297293727980826,0.03243371321624022,0.032225058525752234,0.032463741579426164,0.032217611433844905,0.032450562668802065,0.03220756096199457,0.03244962284172431,0.03221641510219769,0.032968526002128413,0.03245604705435259,0.03221370486025528,0.03297408997906816,0.03244615010711549,0.033015541945121754,0.03222087171391457,0.032972937279807976,0.03243371321623998,0.03204445495912413,0.03269650985060978,0.032437590554915664,null,null,null,0.03243503401142352,0.03242455307145634,0.03217080869709253,0.03270405458643773,0.03219197064549248,0.0328648832133558,0.03250836404536363,0.03216726576609893,0.03285188294961478,0.03214636860747284,0.03283425911270592,0.03282283575829368,0.03300154930780438,0.0321523941630024,0.03283378428680976,0.032478237366380926,0.032467114040388774,0.032110868841010914,0.032803135982082295,0.032452332150231314,0.032768491900618306,0.0320823074106786,0.03278346861500961,0.032428610084225346,0.032068470814247504,0.0321265510793127,0.03267366526773659,0.032417320817193424,0.03205813265716352,0.032055182279466174,0.03275404512956332,0.03239973563993071,0.03204657584734627,0.03274542597545633,0.03239233685966675,0.03205031572714579,0.032740580828937986,0.03239086980131303,0.03298158961801092,0.032049732088799986,0.03274127354460916,0.03238216616518706,0.03204544520986785,0.032743313657074516,0.032381765489187704,0.03238541609333143,0.03300115699737172,0.032678695813105486,0.032336867533308444,0.03297717676739521,0.03265379076088717,0.03231075412959472,0.03295978689964643,0.03263861330093683,0.03230748881200101,0.03295899772498784,0.032641978864629106,0.03230668675674475,0.03295423382101335,0.03264427836998593,0.032263255215058254,0.03288530997771799,0.032597173078449164,0.03286815721379373,0.032859345738021774,0.03296422609456652,0.0321637013025402,0.032750858267546056,0.032493879522797926,0.032163701302541606,0.032750858267549594,0.03249387952279987,0.03216370130254159,0.0327508582675496,0.03249387952279986,0.032163701302541606,0.032750858267549594,0.03249387952279987,0.032148451138091345,0.032724303423270006,0.03244367508306572,0.03213609356128998,0.03270381015297235,0.03242001695368851,0.03212757435055987,0.0326513944522385,0.03236174818270236,0.032108566475510726,0.032641711134478356,0.032280890254660154,0.03211474432881128,0.03264800371765988,0.03224040526860726,0.032140958724783196,0.03272492895831707,0.03245932637324607,0.032109417429539946,0.03205804597090269,0.03279562307721904,0.033138774602261487,0.03293671752998443,0.03202123842018643,0.03200048207832952,0.03216405887991187,0.032710437572137055,0.0324649897256819,0.03240594121654221,0.032355340399619924,0.03232664922488621,0.03217040208948205,0.0327033713333475,0.032490320307490335,0.03221515611415757,0.032745264488026705,0.03252317411103716,0.03222668802752004,0.03275940746229181,0.032529508787124094,0.03221848680105153,0.0327629673704707,0.03252817606951687,0.03266539655442943,0.03310358826782162,0.032854123221087835,0.032298685887264644,0.03281900211248273,0.03256239240528018,0.032325056012349786,0.03284601729253881,0.032569968195516434,0.032354897246484784,0.03288609820568439,0.032594229353887776,0.032393548122888985,0.03292229365766188,0.032619911942625736,0.03249647199608261,0.03246234675412809,0.032153478127381896,0.03266233760970966,0.032536832064154364,0.032143365037362,0.03264509285737894,0.0325575368865456,0.03214364356502426,0.032130511415234125,0.03263918888636163,0.03257052428277697,0.03262631171244061,0.032639107133322735,0.03212489414755344,0.03262947418155634,0.03257833944732667,0.032579199619531186,0.032116065762433865,0.03262502379897383,0.032581064789366454,0.03209624578035701,null,0.03211504807147023,0.03261441536544283,0.03258643713899627,0.03260741619605281,0.03211986581807285,0.03270626094120538,0.03244179022732841,0.03211350792548196,0.032698950693423386,0.032436443899305334,0.03212126128511456,0.03267542454197421,0.03242806373802685,0.03262627277592106],\"type\":\"scatter\",\"xaxis\":\"x\",\"yaxis\":\"y\"},{\"mode\":\"markers\",\"name\":\"error\",\"x\":[\"1.1\",\"1.2\",\"1.3\",\"10.1\",\"100.1\",\"100.2\",\"100.3\",\"101.1\",\"101.2\",\"101.3\",\"102.3\",\"103.3\",\"104.3\",\"105.1\",\"105.2\",\"105.3\",\"106.2\",\"107.2\",\"108.1\",\"108.2\",\"108.3\",\"109.1\",\"11.1\",\"110.1\",\"111.1\",\"112.1\",\"113.1\",\"114.1\",\"12.2\",\"13.1\",\"13.2\",\"13.3\",\"135.1\",\"135.2\",\"135.3\",\"14.1\",\"149.1\",\"149.2\",\"149.3\",\"15.3\",\"150.1\",\"150.2\",\"150.3\",\"150R.1\",\"150R.2\",\"150R.3\",\"151.1\",\"151.2\",\"151.3\",\"152.1\",\"152.2\",\"152.3\",\"16.3\",\"160.1\",\"160.2\",\"160.3\",\"160R.1\",\"160R.2\",\"160R.3\",\"17.3\",\"18.1\",\"18.2\",\"18.3\",\"19.1\",\"197.1\",\"197.2\",\"197.3\",\"2.2\",\"20.1\",\"21.1\",\"21.2\",\"21.3\",\"22.2\",\"23.1\",\"23.2\",\"23.3\",\"24.3\",\"25.1\",\"25.2\",\"25.3\",\"250.1\",\"250.2\",\"250.3\",\"25R.1\",\"25R.3\",\"26.1\",\"26.3\",\"27.1\",\"27.3\",\"28.1\",\"28.2\",\"28.3\",\"29.1\",\"29.2\",\"29.3\",\"3.3\",\"30.1\",\"30.2\",\"30.3\",\"300.1\",\"300.2\",\"300.3\",\"300_OPEN.1\",\"300_OPEN.2\",\"300_OPEN.3\",\"31.3\",\"32.3\",\"33.1\",\"34.3\",\"35.1\",\"35.2\",\"35.3\",\"36.1\",\"36.2\",\"37.1\",\"38.2\",\"39.2\",\"4.3\",\"40.1\",\"40.2\",\"40.3\",\"41.3\",\"42.1\",\"42.2\",\"42.3\",\"43.2\",\"44.1\",\"44.2\",\"44.3\",\"45.1\",\"450.1\",\"450.2\",\"450.3\",\"46.1\",\"47.1\",\"47.2\",\"47.3\",\"48.1\",\"48.2\",\"48.3\",\"49.1\",\"49.2\",\"49.3\",\"5.3\",\"50.1\",\"50.2\",\"50.3\",\"51.1\",\"51.2\",\"51.3\",\"52.1\",\"52.2\",\"52.3\",\"53.1\",\"53.2\",\"53.3\",\"54.1\",\"54.2\",\"54.3\",\"55.1\",\"55.2\",\"55.3\",\"56.1\",\"56.2\",\"56.3\",\"57.1\",\"57.2\",\"57.3\",\"58.2\",\"59.2\",\"6.3\",\"60.1\",\"60.2\",\"60.3\",\"61.1\",\"61.2\",\"61.3\",\"610.1\",\"610.2\",\"610.3\",\"61S.1\",\"61S.2\",\"61S.3\",\"62.1\",\"62.2\",\"62.3\",\"63.1\",\"63.2\",\"63.3\",\"64.1\",\"64.2\",\"64.3\",\"65.1\",\"65.2\",\"65.3\",\"66.1\",\"66.2\",\"66.3\",\"67.1\",\"67.2\",\"67.3\",\"68.1\",\"69.1\",\"7.1\",\"7.2\",\"7.3\",\"70.1\",\"71.1\",\"72.1\",\"72.2\",\"72.3\",\"73.3\",\"74.3\",\"75.3\",\"76.1\",\"76.2\",\"76.3\",\"77.1\",\"77.2\",\"77.3\",\"78.1\",\"78.2\",\"78.3\",\"79.1\",\"79.2\",\"79.3\",\"8.1\",\"8.2\",\"8.3\",\"80.1\",\"80.2\",\"80.3\",\"81.1\",\"81.2\",\"81.3\",\"82.1\",\"82.2\",\"82.3\",\"83.1\",\"83.2\",\"83.3\",\"84.3\",\"85.3\",\"86.1\",\"86.2\",\"86.3\",\"87.1\",\"87.2\",\"87.3\",\"88.1\",\"89.1\",\"89.2\",\"89.3\",\"9.1\",\"90.2\",\"91.1\",\"91.2\",\"91.3\",\"92.3\",\"93.1\",\"93.2\",\"93.3\",\"94.1\",\"94_OPEN.1\",\"95.1\",\"95.2\",\"95.3\",\"96.2\",\"97.1\",\"97.2\",\"97.3\",\"98.1\",\"98.2\",\"98.3\",\"99.1\",\"99.2\",\"99.3\",\"9R.1\"],\"y\":[0.9901071680909597,0.9964374573716718,0.9922764476271211,0.9774572380694428,1.0143606000523437,1.015102014284726,1.0121815660150681,1.013633383582772,1.015724713844415,1.012551192076581,1.0113728322724214,1.0100193251244973,1.0085447665349017,1.012701931995175,1.0154454480933515,1.012881919984372,1.0144896127862573,1.0132406451039973,1.0116689191579709,1.0158028783814648,1.0128792654450822,1.0090497326409977,0.9771973559275047,1.0079700161452658,1.0073321861827447,1.007658795522006,1.0069048948726396,1.0065495522464316,0.9942402315316966,0.9753060917736033,0.9929114273006578,0.9827736091795344,0.968226793448171,0.9899461644892547,0.9770636041903539,0.9777272274342146,0.9979856069237066,0.9979898998893695,0.997988909982467,0.9816513356909506,0.9667385841751169,0.9667416439861009,0.966740955289279,0.9979857482638972,0.9979899881412372,0.9979890274893723,0.9617087844792895,0.9844390412680699,0.9724771054082951,0.9753060230057523,0.9929113691368124,0.9827735467897136,0.9808605799930177,0.96566542013948,0.9854339505515815,0.9763452645992448,1.0155578140470316,1.017254769007918,1.0141797137829354,0.9812716698138361,0.9682268294006674,0.9899461978295258,0.9770636281787228,0.9671350654743388,1.014163890300456,1.0160840551009087,1.0128985440567753,0.9962485501637526,0.9664487460681228,0.9678639214051095,0.9901162221085605,0.9762312841009737,0.9889528315376488,0.9675949409646114,0.9905330614404686,0.975416370035135,0.9742178537961862,0.967128312327522,0.9910198116859114,0.974818247809929,0.9670860447857199,0.9914867183933107,0.9740178792805116,0.9796193416462802,0.9748174259516997,0.9793904583439631,0.9744084708013692,0.9790798837405162,0.9743814889705662,0.9668934297708218,0.9912836348579519,0.9746333614804926,0.9668629480536992,0.9915231355338637,0.9744063474638341,0.9909127714945624,0.9670860419715266,0.9914867152572371,0.9740178759450231,1.0116689985493992,1.015802965570541,1.0128793392208448,null,null,null,0.9739232902165148,0.9735959070226315,0.9779453856474075,0.9819706944523477,0.9660108730146028,0.987929893699049,0.9761462674741932,0.9652356608463403,0.9875295933506528,0.9645823366486778,0.986979537927475,0.9866231085549041,0.9904754728585881,0.9648294688312506,0.9870190389610921,0.975266474097446,0.9749190384753196,0.9635893151741974,0.9861237210248471,0.9745195425025325,0.9850423703055976,0.962744574421149,0.985558509390284,0.9738275287894312,0.9623120019405573,1.0143606510444791,1.015102070028107,1.012181613178012,0.9619888758602216,0.9619578060968519,0.9846984918205894,0.9729864706334505,0.9616861226150482,0.9844320944686143,0.9727694610563118,0.9618618175965636,0.9843516945635796,0.9727601492579793,0.9898508667144849,0.961842720555856,0.9843740564337254,0.9724889640920749,0.9617087700188406,0.984439017618236,0.9724770924561207,0.9721323784905354,0.9919663372654391,0.9814227397278309,0.9707641611928117,0.9913739516049129,0.9807700874771378,0.9700430957764298,0.9909286077273086,0.9803755322954941,0.9700191175542692,0.9909560051372153,0.9805306493735075,0.9699938367635663,0.9908074093521833,0.9806032162241157,0.9686177805999744,0.988919978406839,0.979230130827919,0.9883848564648415,0.988110040125781,0.9893081642559652,0.965665473157645,0.9854339979975312,0.9763453156871461,0.9656654967283875,0.9854340193193366,0.9763453397659746,0.9697938547150382,0.9786458978230533,0.9790085068301013,0.9656654967283878,0.9854340193193366,0.9763453397659744,0.9653608947626299,0.984795584251225,0.9749508457980669,0.9650952093281137,0.9842887850873446,0.974334230080556,0.9648164785427948,0.982661368454952,0.9725289101933552,0.9642183723107691,0.9823685917735481,0.9700137891620285,0.9644123456106368,0.9825701995681767,0.9687495118638328,1.0148669716824321,1.0166439278553083,1.013385975127247,1.0139297979480864,1.0124014067198395,0.9842209769747152,0.9953448917487709,0.9887664915584864,1.0113073004724689,1.0106907978393835,1.0156602555356509,1.0163706180217782,1.0136098398867308,1.0118319083910279,1.010310180818998,1.0094481227868812,1.0159254188831663,1.0162769479263059,1.0144135262307232,1.0173089336807115,1.0176394348228222,1.0155953004271352,1.0176658425069303,1.0180912193131428,1.0158369646509404,1.0174222554363046,1.018198440818261,1.0157978585910579,0.9803120360022288,0.9944891563299258,0.9863686177649548,1.0198757930170972,1.0200111362872866,1.017068660914144,1.0206581028290993,1.0208252374640518,1.0173390498481159,1.021542737201215,1.0220337826761612,1.0181310451322898,1.0226903905357925,1.0231269739591862,1.0189658994196478,1.0151282330740115,1.0141032313811373,1.015565309142866,1.0152586367301548,1.0159517719478632,1.015332178942556,1.0148587997951541,1.0167084728960996,1.015340301107788,1.014948235966858,1.0146800988456726,1.0171058169227776,0.9790883561968389,1.0146773553460706,1.0147796754306262,1.0143871469559638,1.0173362788366629,1.0173616979466882,1.014516874795519,1.0142526356786217,1.017414296889261,1.0139283173843345,null,1.014485985654092,1.0139325290789998,1.0175696663073386,1.0137213864195578,1.014163903041428,1.0160840662901771,1.0128985578515501,1.0139742343211222,1.0158636048498173,1.012744605458523,1.0142028876893423,1.0151544464429612,1.0125042674758167,0.9790871358419369],\"type\":\"scatter\",\"xaxis\":\"x2\",\"yaxis\":\"y2\"}],                        {\"template\":{\"data\":{\"barpolar\":[{\"marker\":{\"line\":{\"color\":\"white\",\"width\":0.5},\"pattern\":{\"fillmode\":\"overlay\",\"size\":10,\"solidity\":0.2}},\"type\":\"barpolar\"}],\"bar\":[{\"error_x\":{\"color\":\"#2a3f5f\"},\"error_y\":{\"color\":\"#2a3f5f\"},\"marker\":{\"line\":{\"color\":\"white\",\"width\":0.5},\"pattern\":{\"fillmode\":\"overlay\",\"size\":10,\"solidity\":0.2}},\"type\":\"bar\"}],\"carpet\":[{\"aaxis\":{\"endlinecolor\":\"#2a3f5f\",\"gridcolor\":\"#C8D4E3\",\"linecolor\":\"#C8D4E3\",\"minorgridcolor\":\"#C8D4E3\",\"startlinecolor\":\"#2a3f5f\"},\"baxis\":{\"endlinecolor\":\"#2a3f5f\",\"gridcolor\":\"#C8D4E3\",\"linecolor\":\"#C8D4E3\",\"minorgridcolor\":\"#C8D4E3\",\"startlinecolor\":\"#2a3f5f\"},\"type\":\"carpet\"}],\"choropleth\":[{\"colorbar\":{\"outlinewidth\":0,\"ticks\":\"\"},\"type\":\"choropleth\"}],\"contourcarpet\":[{\"colorbar\":{\"outlinewidth\":0,\"ticks\":\"\"},\"type\":\"contourcarpet\"}],\"contour\":[{\"colorbar\":{\"outlinewidth\":0,\"ticks\":\"\"},\"colorscale\":[[0.0,\"#0d0887\"],[0.1111111111111111,\"#46039f\"],[0.2222222222222222,\"#7201a8\"],[0.3333333333333333,\"#9c179e\"],[0.4444444444444444,\"#bd3786\"],[0.5555555555555556,\"#d8576b\"],[0.6666666666666666,\"#ed7953\"],[0.7777777777777778,\"#fb9f3a\"],[0.8888888888888888,\"#fdca26\"],[1.0,\"#f0f921\"]],\"type\":\"contour\"}],\"heatmapgl\":[{\"colorbar\":{\"outlinewidth\":0,\"ticks\":\"\"},\"colorscale\":[[0.0,\"#0d0887\"],[0.1111111111111111,\"#46039f\"],[0.2222222222222222,\"#7201a8\"],[0.3333333333333333,\"#9c179e\"],[0.4444444444444444,\"#bd3786\"],[0.5555555555555556,\"#d8576b\"],[0.6666666666666666,\"#ed7953\"],[0.7777777777777778,\"#fb9f3a\"],[0.8888888888888888,\"#fdca26\"],[1.0,\"#f0f921\"]],\"type\":\"heatmapgl\"}],\"heatmap\":[{\"colorbar\":{\"outlinewidth\":0,\"ticks\":\"\"},\"colorscale\":[[0.0,\"#0d0887\"],[0.1111111111111111,\"#46039f\"],[0.2222222222222222,\"#7201a8\"],[0.3333333333333333,\"#9c179e\"],[0.4444444444444444,\"#bd3786\"],[0.5555555555555556,\"#d8576b\"],[0.6666666666666666,\"#ed7953\"],[0.7777777777777778,\"#fb9f3a\"],[0.8888888888888888,\"#fdca26\"],[1.0,\"#f0f921\"]],\"type\":\"heatmap\"}],\"histogram2dcontour\":[{\"colorbar\":{\"outlinewidth\":0,\"ticks\":\"\"},\"colorscale\":[[0.0,\"#0d0887\"],[0.1111111111111111,\"#46039f\"],[0.2222222222222222,\"#7201a8\"],[0.3333333333333333,\"#9c179e\"],[0.4444444444444444,\"#bd3786\"],[0.5555555555555556,\"#d8576b\"],[0.6666666666666666,\"#ed7953\"],[0.7777777777777778,\"#fb9f3a\"],[0.8888888888888888,\"#fdca26\"],[1.0,\"#f0f921\"]],\"type\":\"histogram2dcontour\"}],\"histogram2d\":[{\"colorbar\":{\"outlinewidth\":0,\"ticks\":\"\"},\"colorscale\":[[0.0,\"#0d0887\"],[0.1111111111111111,\"#46039f\"],[0.2222222222222222,\"#7201a8\"],[0.3333333333333333,\"#9c179e\"],[0.4444444444444444,\"#bd3786\"],[0.5555555555555556,\"#d8576b\"],[0.6666666666666666,\"#ed7953\"],[0.7777777777777778,\"#fb9f3a\"],[0.8888888888888888,\"#fdca26\"],[1.0,\"#f0f921\"]],\"type\":\"histogram2d\"}],\"histogram\":[{\"marker\":{\"pattern\":{\"fillmode\":\"overlay\",\"size\":10,\"solidity\":0.2}},\"type\":\"histogram\"}],\"mesh3d\":[{\"colorbar\":{\"outlinewidth\":0,\"ticks\":\"\"},\"type\":\"mesh3d\"}],\"parcoords\":[{\"line\":{\"colorbar\":{\"outlinewidth\":0,\"ticks\":\"\"}},\"type\":\"parcoords\"}],\"pie\":[{\"automargin\":true,\"type\":\"pie\"}],\"scatter3d\":[{\"line\":{\"colorbar\":{\"outlinewidth\":0,\"ticks\":\"\"}},\"marker\":{\"colorbar\":{\"outlinewidth\":0,\"ticks\":\"\"}},\"type\":\"scatter3d\"}],\"scattercarpet\":[{\"marker\":{\"colorbar\":{\"outlinewidth\":0,\"ticks\":\"\"}},\"type\":\"scattercarpet\"}],\"scattergeo\":[{\"marker\":{\"colorbar\":{\"outlinewidth\":0,\"ticks\":\"\"}},\"type\":\"scattergeo\"}],\"scattergl\":[{\"marker\":{\"colorbar\":{\"outlinewidth\":0,\"ticks\":\"\"}},\"type\":\"scattergl\"}],\"scattermapbox\":[{\"marker\":{\"colorbar\":{\"outlinewidth\":0,\"ticks\":\"\"}},\"type\":\"scattermapbox\"}],\"scatterpolargl\":[{\"marker\":{\"colorbar\":{\"outlinewidth\":0,\"ticks\":\"\"}},\"type\":\"scatterpolargl\"}],\"scatterpolar\":[{\"marker\":{\"colorbar\":{\"outlinewidth\":0,\"ticks\":\"\"}},\"type\":\"scatterpolar\"}],\"scatter\":[{\"fillpattern\":{\"fillmode\":\"overlay\",\"size\":10,\"solidity\":0.2},\"type\":\"scatter\"}],\"scatterternary\":[{\"marker\":{\"colorbar\":{\"outlinewidth\":0,\"ticks\":\"\"}},\"type\":\"scatterternary\"}],\"surface\":[{\"colorbar\":{\"outlinewidth\":0,\"ticks\":\"\"},\"colorscale\":[[0.0,\"#0d0887\"],[0.1111111111111111,\"#46039f\"],[0.2222222222222222,\"#7201a8\"],[0.3333333333333333,\"#9c179e\"],[0.4444444444444444,\"#bd3786\"],[0.5555555555555556,\"#d8576b\"],[0.6666666666666666,\"#ed7953\"],[0.7777777777777778,\"#fb9f3a\"],[0.8888888888888888,\"#fdca26\"],[1.0,\"#f0f921\"]],\"type\":\"surface\"}],\"table\":[{\"cells\":{\"fill\":{\"color\":\"#EBF0F8\"},\"line\":{\"color\":\"white\"}},\"header\":{\"fill\":{\"color\":\"#C8D4E3\"},\"line\":{\"color\":\"white\"}},\"type\":\"table\"}]},\"layout\":{\"annotationdefaults\":{\"arrowcolor\":\"#2a3f5f\",\"arrowhead\":0,\"arrowwidth\":1},\"autotypenumbers\":\"strict\",\"coloraxis\":{\"colorbar\":{\"outlinewidth\":0,\"ticks\":\"\"}},\"colorscale\":{\"diverging\":[[0,\"#8e0152\"],[0.1,\"#c51b7d\"],[0.2,\"#de77ae\"],[0.3,\"#f1b6da\"],[0.4,\"#fde0ef\"],[0.5,\"#f7f7f7\"],[0.6,\"#e6f5d0\"],[0.7,\"#b8e186\"],[0.8,\"#7fbc41\"],[0.9,\"#4d9221\"],[1,\"#276419\"]],\"sequential\":[[0.0,\"#0d0887\"],[0.1111111111111111,\"#46039f\"],[0.2222222222222222,\"#7201a8\"],[0.3333333333333333,\"#9c179e\"],[0.4444444444444444,\"#bd3786\"],[0.5555555555555556,\"#d8576b\"],[0.6666666666666666,\"#ed7953\"],[0.7777777777777778,\"#fb9f3a\"],[0.8888888888888888,\"#fdca26\"],[1.0,\"#f0f921\"]],\"sequentialminus\":[[0.0,\"#0d0887\"],[0.1111111111111111,\"#46039f\"],[0.2222222222222222,\"#7201a8\"],[0.3333333333333333,\"#9c179e\"],[0.4444444444444444,\"#bd3786\"],[0.5555555555555556,\"#d8576b\"],[0.6666666666666666,\"#ed7953\"],[0.7777777777777778,\"#fb9f3a\"],[0.8888888888888888,\"#fdca26\"],[1.0,\"#f0f921\"]]},\"colorway\":[\"#636efa\",\"#EF553B\",\"#00cc96\",\"#ab63fa\",\"#FFA15A\",\"#19d3f3\",\"#FF6692\",\"#B6E880\",\"#FF97FF\",\"#FECB52\"],\"font\":{\"color\":\"#2a3f5f\"},\"geo\":{\"bgcolor\":\"white\",\"lakecolor\":\"white\",\"landcolor\":\"white\",\"showlakes\":true,\"showland\":true,\"subunitcolor\":\"#C8D4E3\"},\"hoverlabel\":{\"align\":\"left\"},\"hovermode\":\"closest\",\"mapbox\":{\"style\":\"light\"},\"paper_bgcolor\":\"white\",\"plot_bgcolor\":\"white\",\"polar\":{\"angularaxis\":{\"gridcolor\":\"#EBF0F8\",\"linecolor\":\"#EBF0F8\",\"ticks\":\"\"},\"bgcolor\":\"white\",\"radialaxis\":{\"gridcolor\":\"#EBF0F8\",\"linecolor\":\"#EBF0F8\",\"ticks\":\"\"}},\"scene\":{\"xaxis\":{\"backgroundcolor\":\"white\",\"gridcolor\":\"#DFE8F3\",\"gridwidth\":2,\"linecolor\":\"#EBF0F8\",\"showbackground\":true,\"ticks\":\"\",\"zerolinecolor\":\"#EBF0F8\"},\"yaxis\":{\"backgroundcolor\":\"white\",\"gridcolor\":\"#DFE8F3\",\"gridwidth\":2,\"linecolor\":\"#EBF0F8\",\"showbackground\":true,\"ticks\":\"\",\"zerolinecolor\":\"#EBF0F8\"},\"zaxis\":{\"backgroundcolor\":\"white\",\"gridcolor\":\"#DFE8F3\",\"gridwidth\":2,\"linecolor\":\"#EBF0F8\",\"showbackground\":true,\"ticks\":\"\",\"zerolinecolor\":\"#EBF0F8\"}},\"shapedefaults\":{\"line\":{\"color\":\"#2a3f5f\"}},\"ternary\":{\"aaxis\":{\"gridcolor\":\"#DFE8F3\",\"linecolor\":\"#A2B1C6\",\"ticks\":\"\"},\"baxis\":{\"gridcolor\":\"#DFE8F3\",\"linecolor\":\"#A2B1C6\",\"ticks\":\"\"},\"bgcolor\":\"white\",\"caxis\":{\"gridcolor\":\"#DFE8F3\",\"linecolor\":\"#A2B1C6\",\"ticks\":\"\"}},\"title\":{\"x\":0.05},\"xaxis\":{\"automargin\":true,\"gridcolor\":\"#EBF0F8\",\"linecolor\":\"#EBF0F8\",\"ticks\":\"\",\"title\":{\"standoff\":15},\"zerolinecolor\":\"#EBF0F8\",\"zerolinewidth\":2},\"yaxis\":{\"automargin\":true,\"gridcolor\":\"#EBF0F8\",\"linecolor\":\"#EBF0F8\",\"ticks\":\"\",\"title\":{\"standoff\":15},\"zerolinecolor\":\"#EBF0F8\",\"zerolinewidth\":2}}},\"xaxis\":{\"anchor\":\"y\",\"domain\":[0.0,0.45]},\"yaxis\":{\"anchor\":\"x\",\"domain\":[0.0,1.0]},\"xaxis2\":{\"anchor\":\"y2\",\"domain\":[0.55,1.0]},\"yaxis2\":{\"anchor\":\"x2\",\"domain\":[0.0,1.0]}},                        {\"responsive\": true}                    ).then(function(){\n",
       "                            \n",
       "var gd = document.getElementById('51c5d4b6-cbc1-45da-8962-a3d442ffcc2f');\n",
       "var x = new MutationObserver(function (mutations, observer) {{\n",
       "        var display = window.getComputedStyle(gd).display;\n",
       "        if (!display || display === 'none') {{\n",
       "            console.log([gd, 'removed!']);\n",
       "            Plotly.purge(gd);\n",
       "            observer.disconnect();\n",
       "        }}\n",
       "}});\n",
       "\n",
       "// Listen for the removal of the full notebook cells\n",
       "var notebookContainer = gd.closest('#notebook-container');\n",
       "if (notebookContainer) {{\n",
       "    x.observe(notebookContainer, {childList: true});\n",
       "}}\n",
       "\n",
       "// Listen for the clearing of the current output cell\n",
       "var outputEl = gd.closest('.output');\n",
       "if (outputEl) {{\n",
       "    x.observe(outputEl, {childList: true});\n",
       "}}\n",
       "\n",
       "                        })                };                });            </script>        </div>"
      ]
     },
     "metadata": {},
     "output_type": "display_data"
    }
   ],
   "source": [
    "ts = dt.datetime(2018, 5, 1, 12)\n",
    "true = true_voltages.loc[ts].abs()/base_voltages\n",
    "est = est_voltages.loc[ts].abs()/base_voltages\n",
    "error = (true - est).abs()\n",
    "\n",
    "fig = make_subplots(rows=1,cols=2)\n",
    "fig.add_trace(\n",
    "    go.Scatter(name='true', x=true.index, y=true.values,mode='markers'), \n",
    "    row=1,col=1)\n",
    "fig.add_trace(\n",
    "    go.Scatter(name='est',x=est.index, y=est.values,mode='markers'),\n",
    "    row=1,col=1)\n",
    "fig.add_trace(\n",
    "    go.Scatter(name='error',x=error.index, y=error.values,mode='markers'), \n",
    "    row=1,col=2)\n",
    "fig.update_layout(template=\"plotly_white\")\n",
    "fig.show()"
   ]
  },
  {
   "cell_type": "code",
   "execution_count": 12,
   "id": "f41dfbcc-9037-43c0-82b4-c57611bb1b06",
   "metadata": {},
   "outputs": [
    {
     "name": "stdout",
     "output_type": "stream",
     "text": [
      "Missing PVs:  []\n"
     ]
    },
    {
     "data": {
      "application/vnd.plotly.v1+json": {
       "config": {
        "plotlyServerURL": "https://plot.ly"
       },
       "data": [
        {
         "mode": "markers",
         "name": "true",
         "type": "scatter",
         "x": [
          "63.1",
          "80.1",
          "29.1",
          "63.2",
          "68.1",
          "29.2",
          "7.3",
          "80.2",
          "55.1",
          "49.2",
          "55.3",
          "113.1",
          "87.3",
          "87.2",
          "7.1",
          "49.3",
          "80.3",
          "63.3",
          "87.1",
          "55.2",
          "7.2",
          "29.3",
          "49.1"
         ],
         "xaxis": "x",
         "y": [
          -5.434736532805779,
          -45.63594404811699,
          -7.072562583562089,
          -42.208869325566596,
          -30.9334573890101,
          -43.30936831293101,
          -42.795875000491236,
          -9.618806713581307,
          -23.818324329772192,
          18.42030915649793,
          -41.65764177689449,
          -10.459601563862009,
          -45.38418258445302,
          -8.839137505571003,
          -24.382165649055263,
          -6.502097563874884,
          -45.41571422105701,
          -41.36217088592313,
          -45.22918462428952,
          -42.546598501673245,
          -43.366200232354686,
          -41.829446618398,
          -10.683787186355566
         ],
         "yaxis": "y"
        },
        {
         "mode": "markers",
         "name": "est",
         "type": "scatter",
         "x": [
          "63.1",
          "80.1",
          "29.1",
          "63.2",
          "68.1",
          "29.2",
          "7.3",
          "80.2",
          "55.1",
          "49.2",
          "55.3",
          "113.1",
          "87.3",
          "87.2",
          "7.1",
          "49.3",
          "80.3",
          "63.3",
          "87.1",
          "55.2",
          "7.2",
          "29.3",
          "49.1"
         ],
         "xaxis": "x",
         "y": [
          16.754073207213892,
          0.0013783027685655871,
          16.306366415041047,
          0.0008026696870230332,
          9.080343042671503,
          0.0002138805256522174,
          0.007838201245660417,
          17.15123785291117,
          8.383071891933442,
          31.583261005026227,
          0.00043271244463869015,
          17.41588782190054,
          0.0007464659576129608,
          17.286928738358498,
          8.8995880722699,
          18.880975223187484,
          0.0009278341555812679,
          0.0011477768323845182,
          0.0014546215664752325,
          0.00012890069084516337,
          0.006887148025771289,
          0.00025418137905243194,
          19.991078324517478
         ],
         "yaxis": "y"
        },
        {
         "mode": "markers",
         "name": "error",
         "type": "scatter",
         "x": [
          "63.1",
          "80.1",
          "29.1",
          "63.2",
          "68.1",
          "29.2",
          "7.3",
          "80.2",
          "55.1",
          "49.2",
          "55.3",
          "113.1",
          "87.3",
          "87.2",
          "7.1",
          "49.3",
          "80.3",
          "63.3",
          "87.1",
          "55.2",
          "7.2",
          "29.3",
          "49.1"
         ],
         "xaxis": "x2",
         "y": [
          25.35437671967445,
          45.63732237145325,
          26.303308573701926,
          42.209671995492684,
          40.75326664556045,
          43.309582193522985,
          42.80371320196031,
          29.52455605583777,
          33.0022894238705,
          18.870257273445638,
          41.65807449110641,
          30.579608820394853,
          45.38492905627796,
          28.96860527927103,
          34.138361241561284,
          28.607611635491978,
          45.41664206165598,
          41.363318667283416,
          45.2306392663383,
          42.546727402552584,
          43.37308738040483,
          41.82970080027317,
          33.56086681925891
         ],
         "yaxis": "y2"
        }
       ],
       "layout": {
        "autosize": true,
        "template": {
         "data": {
          "bar": [
           {
            "error_x": {
             "color": "#2a3f5f"
            },
            "error_y": {
             "color": "#2a3f5f"
            },
            "marker": {
             "line": {
              "color": "white",
              "width": 0.5
             },
             "pattern": {
              "fillmode": "overlay",
              "size": 10,
              "solidity": 0.2
             }
            },
            "type": "bar"
           }
          ],
          "barpolar": [
           {
            "marker": {
             "line": {
              "color": "white",
              "width": 0.5
             },
             "pattern": {
              "fillmode": "overlay",
              "size": 10,
              "solidity": 0.2
             }
            },
            "type": "barpolar"
           }
          ],
          "carpet": [
           {
            "aaxis": {
             "endlinecolor": "#2a3f5f",
             "gridcolor": "#C8D4E3",
             "linecolor": "#C8D4E3",
             "minorgridcolor": "#C8D4E3",
             "startlinecolor": "#2a3f5f"
            },
            "baxis": {
             "endlinecolor": "#2a3f5f",
             "gridcolor": "#C8D4E3",
             "linecolor": "#C8D4E3",
             "minorgridcolor": "#C8D4E3",
             "startlinecolor": "#2a3f5f"
            },
            "type": "carpet"
           }
          ],
          "choropleth": [
           {
            "colorbar": {
             "outlinewidth": 0,
             "ticks": ""
            },
            "type": "choropleth"
           }
          ],
          "contour": [
           {
            "colorbar": {
             "outlinewidth": 0,
             "ticks": ""
            },
            "colorscale": [
             [
              0,
              "#0d0887"
             ],
             [
              0.1111111111111111,
              "#46039f"
             ],
             [
              0.2222222222222222,
              "#7201a8"
             ],
             [
              0.3333333333333333,
              "#9c179e"
             ],
             [
              0.4444444444444444,
              "#bd3786"
             ],
             [
              0.5555555555555556,
              "#d8576b"
             ],
             [
              0.6666666666666666,
              "#ed7953"
             ],
             [
              0.7777777777777778,
              "#fb9f3a"
             ],
             [
              0.8888888888888888,
              "#fdca26"
             ],
             [
              1,
              "#f0f921"
             ]
            ],
            "type": "contour"
           }
          ],
          "contourcarpet": [
           {
            "colorbar": {
             "outlinewidth": 0,
             "ticks": ""
            },
            "type": "contourcarpet"
           }
          ],
          "heatmap": [
           {
            "colorbar": {
             "outlinewidth": 0,
             "ticks": ""
            },
            "colorscale": [
             [
              0,
              "#0d0887"
             ],
             [
              0.1111111111111111,
              "#46039f"
             ],
             [
              0.2222222222222222,
              "#7201a8"
             ],
             [
              0.3333333333333333,
              "#9c179e"
             ],
             [
              0.4444444444444444,
              "#bd3786"
             ],
             [
              0.5555555555555556,
              "#d8576b"
             ],
             [
              0.6666666666666666,
              "#ed7953"
             ],
             [
              0.7777777777777778,
              "#fb9f3a"
             ],
             [
              0.8888888888888888,
              "#fdca26"
             ],
             [
              1,
              "#f0f921"
             ]
            ],
            "type": "heatmap"
           }
          ],
          "heatmapgl": [
           {
            "colorbar": {
             "outlinewidth": 0,
             "ticks": ""
            },
            "colorscale": [
             [
              0,
              "#0d0887"
             ],
             [
              0.1111111111111111,
              "#46039f"
             ],
             [
              0.2222222222222222,
              "#7201a8"
             ],
             [
              0.3333333333333333,
              "#9c179e"
             ],
             [
              0.4444444444444444,
              "#bd3786"
             ],
             [
              0.5555555555555556,
              "#d8576b"
             ],
             [
              0.6666666666666666,
              "#ed7953"
             ],
             [
              0.7777777777777778,
              "#fb9f3a"
             ],
             [
              0.8888888888888888,
              "#fdca26"
             ],
             [
              1,
              "#f0f921"
             ]
            ],
            "type": "heatmapgl"
           }
          ],
          "histogram": [
           {
            "marker": {
             "pattern": {
              "fillmode": "overlay",
              "size": 10,
              "solidity": 0.2
             }
            },
            "type": "histogram"
           }
          ],
          "histogram2d": [
           {
            "colorbar": {
             "outlinewidth": 0,
             "ticks": ""
            },
            "colorscale": [
             [
              0,
              "#0d0887"
             ],
             [
              0.1111111111111111,
              "#46039f"
             ],
             [
              0.2222222222222222,
              "#7201a8"
             ],
             [
              0.3333333333333333,
              "#9c179e"
             ],
             [
              0.4444444444444444,
              "#bd3786"
             ],
             [
              0.5555555555555556,
              "#d8576b"
             ],
             [
              0.6666666666666666,
              "#ed7953"
             ],
             [
              0.7777777777777778,
              "#fb9f3a"
             ],
             [
              0.8888888888888888,
              "#fdca26"
             ],
             [
              1,
              "#f0f921"
             ]
            ],
            "type": "histogram2d"
           }
          ],
          "histogram2dcontour": [
           {
            "colorbar": {
             "outlinewidth": 0,
             "ticks": ""
            },
            "colorscale": [
             [
              0,
              "#0d0887"
             ],
             [
              0.1111111111111111,
              "#46039f"
             ],
             [
              0.2222222222222222,
              "#7201a8"
             ],
             [
              0.3333333333333333,
              "#9c179e"
             ],
             [
              0.4444444444444444,
              "#bd3786"
             ],
             [
              0.5555555555555556,
              "#d8576b"
             ],
             [
              0.6666666666666666,
              "#ed7953"
             ],
             [
              0.7777777777777778,
              "#fb9f3a"
             ],
             [
              0.8888888888888888,
              "#fdca26"
             ],
             [
              1,
              "#f0f921"
             ]
            ],
            "type": "histogram2dcontour"
           }
          ],
          "mesh3d": [
           {
            "colorbar": {
             "outlinewidth": 0,
             "ticks": ""
            },
            "type": "mesh3d"
           }
          ],
          "parcoords": [
           {
            "line": {
             "colorbar": {
              "outlinewidth": 0,
              "ticks": ""
             }
            },
            "type": "parcoords"
           }
          ],
          "pie": [
           {
            "automargin": true,
            "type": "pie"
           }
          ],
          "scatter": [
           {
            "fillpattern": {
             "fillmode": "overlay",
             "size": 10,
             "solidity": 0.2
            },
            "type": "scatter"
           }
          ],
          "scatter3d": [
           {
            "line": {
             "colorbar": {
              "outlinewidth": 0,
              "ticks": ""
             }
            },
            "marker": {
             "colorbar": {
              "outlinewidth": 0,
              "ticks": ""
             }
            },
            "type": "scatter3d"
           }
          ],
          "scattercarpet": [
           {
            "marker": {
             "colorbar": {
              "outlinewidth": 0,
              "ticks": ""
             }
            },
            "type": "scattercarpet"
           }
          ],
          "scattergeo": [
           {
            "marker": {
             "colorbar": {
              "outlinewidth": 0,
              "ticks": ""
             }
            },
            "type": "scattergeo"
           }
          ],
          "scattergl": [
           {
            "marker": {
             "colorbar": {
              "outlinewidth": 0,
              "ticks": ""
             }
            },
            "type": "scattergl"
           }
          ],
          "scattermapbox": [
           {
            "marker": {
             "colorbar": {
              "outlinewidth": 0,
              "ticks": ""
             }
            },
            "type": "scattermapbox"
           }
          ],
          "scatterpolar": [
           {
            "marker": {
             "colorbar": {
              "outlinewidth": 0,
              "ticks": ""
             }
            },
            "type": "scatterpolar"
           }
          ],
          "scatterpolargl": [
           {
            "marker": {
             "colorbar": {
              "outlinewidth": 0,
              "ticks": ""
             }
            },
            "type": "scatterpolargl"
           }
          ],
          "scatterternary": [
           {
            "marker": {
             "colorbar": {
              "outlinewidth": 0,
              "ticks": ""
             }
            },
            "type": "scatterternary"
           }
          ],
          "surface": [
           {
            "colorbar": {
             "outlinewidth": 0,
             "ticks": ""
            },
            "colorscale": [
             [
              0,
              "#0d0887"
             ],
             [
              0.1111111111111111,
              "#46039f"
             ],
             [
              0.2222222222222222,
              "#7201a8"
             ],
             [
              0.3333333333333333,
              "#9c179e"
             ],
             [
              0.4444444444444444,
              "#bd3786"
             ],
             [
              0.5555555555555556,
              "#d8576b"
             ],
             [
              0.6666666666666666,
              "#ed7953"
             ],
             [
              0.7777777777777778,
              "#fb9f3a"
             ],
             [
              0.8888888888888888,
              "#fdca26"
             ],
             [
              1,
              "#f0f921"
             ]
            ],
            "type": "surface"
           }
          ],
          "table": [
           {
            "cells": {
             "fill": {
              "color": "#EBF0F8"
             },
             "line": {
              "color": "white"
             }
            },
            "header": {
             "fill": {
              "color": "#C8D4E3"
             },
             "line": {
              "color": "white"
             }
            },
            "type": "table"
           }
          ]
         },
         "layout": {
          "annotationdefaults": {
           "arrowcolor": "#2a3f5f",
           "arrowhead": 0,
           "arrowwidth": 1
          },
          "autotypenumbers": "strict",
          "coloraxis": {
           "colorbar": {
            "outlinewidth": 0,
            "ticks": ""
           }
          },
          "colorscale": {
           "diverging": [
            [
             0,
             "#8e0152"
            ],
            [
             0.1,
             "#c51b7d"
            ],
            [
             0.2,
             "#de77ae"
            ],
            [
             0.3,
             "#f1b6da"
            ],
            [
             0.4,
             "#fde0ef"
            ],
            [
             0.5,
             "#f7f7f7"
            ],
            [
             0.6,
             "#e6f5d0"
            ],
            [
             0.7,
             "#b8e186"
            ],
            [
             0.8,
             "#7fbc41"
            ],
            [
             0.9,
             "#4d9221"
            ],
            [
             1,
             "#276419"
            ]
           ],
           "sequential": [
            [
             0,
             "#0d0887"
            ],
            [
             0.1111111111111111,
             "#46039f"
            ],
            [
             0.2222222222222222,
             "#7201a8"
            ],
            [
             0.3333333333333333,
             "#9c179e"
            ],
            [
             0.4444444444444444,
             "#bd3786"
            ],
            [
             0.5555555555555556,
             "#d8576b"
            ],
            [
             0.6666666666666666,
             "#ed7953"
            ],
            [
             0.7777777777777778,
             "#fb9f3a"
            ],
            [
             0.8888888888888888,
             "#fdca26"
            ],
            [
             1,
             "#f0f921"
            ]
           ],
           "sequentialminus": [
            [
             0,
             "#0d0887"
            ],
            [
             0.1111111111111111,
             "#46039f"
            ],
            [
             0.2222222222222222,
             "#7201a8"
            ],
            [
             0.3333333333333333,
             "#9c179e"
            ],
            [
             0.4444444444444444,
             "#bd3786"
            ],
            [
             0.5555555555555556,
             "#d8576b"
            ],
            [
             0.6666666666666666,
             "#ed7953"
            ],
            [
             0.7777777777777778,
             "#fb9f3a"
            ],
            [
             0.8888888888888888,
             "#fdca26"
            ],
            [
             1,
             "#f0f921"
            ]
           ]
          },
          "colorway": [
           "#636efa",
           "#EF553B",
           "#00cc96",
           "#ab63fa",
           "#FFA15A",
           "#19d3f3",
           "#FF6692",
           "#B6E880",
           "#FF97FF",
           "#FECB52"
          ],
          "font": {
           "color": "#2a3f5f"
          },
          "geo": {
           "bgcolor": "white",
           "lakecolor": "white",
           "landcolor": "white",
           "showlakes": true,
           "showland": true,
           "subunitcolor": "#C8D4E3"
          },
          "hoverlabel": {
           "align": "left"
          },
          "hovermode": "closest",
          "mapbox": {
           "style": "light"
          },
          "paper_bgcolor": "white",
          "plot_bgcolor": "white",
          "polar": {
           "angularaxis": {
            "gridcolor": "#EBF0F8",
            "linecolor": "#EBF0F8",
            "ticks": ""
           },
           "bgcolor": "white",
           "radialaxis": {
            "gridcolor": "#EBF0F8",
            "linecolor": "#EBF0F8",
            "ticks": ""
           }
          },
          "scene": {
           "xaxis": {
            "backgroundcolor": "white",
            "gridcolor": "#DFE8F3",
            "gridwidth": 2,
            "linecolor": "#EBF0F8",
            "showbackground": true,
            "ticks": "",
            "zerolinecolor": "#EBF0F8"
           },
           "yaxis": {
            "backgroundcolor": "white",
            "gridcolor": "#DFE8F3",
            "gridwidth": 2,
            "linecolor": "#EBF0F8",
            "showbackground": true,
            "ticks": "",
            "zerolinecolor": "#EBF0F8"
           },
           "zaxis": {
            "backgroundcolor": "white",
            "gridcolor": "#DFE8F3",
            "gridwidth": 2,
            "linecolor": "#EBF0F8",
            "showbackground": true,
            "ticks": "",
            "zerolinecolor": "#EBF0F8"
           }
          },
          "shapedefaults": {
           "line": {
            "color": "#2a3f5f"
           }
          },
          "ternary": {
           "aaxis": {
            "gridcolor": "#DFE8F3",
            "linecolor": "#A2B1C6",
            "ticks": ""
           },
           "baxis": {
            "gridcolor": "#DFE8F3",
            "linecolor": "#A2B1C6",
            "ticks": ""
           },
           "bgcolor": "white",
           "caxis": {
            "gridcolor": "#DFE8F3",
            "linecolor": "#A2B1C6",
            "ticks": ""
           }
          },
          "title": {
           "x": 0.05
          },
          "xaxis": {
           "automargin": true,
           "gridcolor": "#EBF0F8",
           "linecolor": "#EBF0F8",
           "ticks": "",
           "title": {
            "standoff": 15
           },
           "zerolinecolor": "#EBF0F8",
           "zerolinewidth": 2
          },
          "yaxis": {
           "automargin": true,
           "gridcolor": "#EBF0F8",
           "linecolor": "#EBF0F8",
           "ticks": "",
           "title": {
            "standoff": 15
           },
           "zerolinecolor": "#EBF0F8",
           "zerolinewidth": 2
          }
         }
        },
        "xaxis": {
         "anchor": "y",
         "autorange": true,
         "domain": [
          0,
          0.45
         ],
         "range": [
          -1.5385650688477066,
          23.538565068847706
         ],
         "type": "category"
        },
        "xaxis2": {
         "anchor": "y2",
         "autorange": true,
         "domain": [
          0.55,
          1
         ],
         "range": [
          -1.5385650688477066,
          23.538565068847706
         ],
         "type": "category"
        },
        "yaxis": {
         "anchor": "x",
         "autorange": true,
         "domain": [
          0,
          1
         ],
         "range": [
          -52.008402717551135,
          37.955719674460376
         ],
         "type": "linear"
        },
        "yaxis2": {
         "anchor": "x2",
         "autorange": true,
         "domain": [
          0,
          1
         ],
         "range": [
          16.661324716813944,
          47.846254928084946
         ],
         "type": "linear"
        }
       }
      },
      "image/png": "[encoded data removed]",
      "text/html": [
       "<div>                            <div id=\"55708cac-abea-4c15-aa54-0221f44f0eb3\" class=\"plotly-graph-div\" style=\"height:525px; width:100%;\"></div>            <script type=\"text/javascript\">                require([\"plotly\"], function(Plotly) {                    window.PLOTLYENV=window.PLOTLYENV || {};                                    if (document.getElementById(\"55708cac-abea-4c15-aa54-0221f44f0eb3\")) {                    Plotly.newPlot(                        \"55708cac-abea-4c15-aa54-0221f44f0eb3\",                        [{\"mode\":\"markers\",\"name\":\"true\",\"x\":[\"63.1\",\"80.1\",\"29.1\",\"63.2\",\"68.1\",\"29.2\",\"7.3\",\"80.2\",\"55.1\",\"49.2\",\"55.3\",\"113.1\",\"87.3\",\"87.2\",\"7.1\",\"49.3\",\"80.3\",\"63.3\",\"87.1\",\"55.2\",\"7.2\",\"29.3\",\"49.1\"],\"y\":[-5.434736532805779,-45.63594404811699,-7.072562583562089,-42.208869325566596,-30.9334573890101,-43.30936831293101,-42.795875000491236,-9.618806713581307,-23.818324329772192,18.42030915649793,-41.65764177689449,-10.459601563862009,-45.38418258445302,-8.839137505571003,-24.382165649055263,-6.502097563874884,-45.41571422105701,-41.36217088592313,-45.22918462428952,-42.546598501673245,-43.366200232354686,-41.829446618398,-10.683787186355566],\"type\":\"scatter\",\"xaxis\":\"x\",\"yaxis\":\"y\"},{\"mode\":\"markers\",\"name\":\"est\",\"x\":[\"63.1\",\"80.1\",\"29.1\",\"63.2\",\"68.1\",\"29.2\",\"7.3\",\"80.2\",\"55.1\",\"49.2\",\"55.3\",\"113.1\",\"87.3\",\"87.2\",\"7.1\",\"49.3\",\"80.3\",\"63.3\",\"87.1\",\"55.2\",\"7.2\",\"29.3\",\"49.1\"],\"y\":[16.754073207213892,0.0013783027685655871,16.306366415041047,0.0008026696870230332,9.080343042671503,0.0002138805256522174,0.007838201245660417,17.15123785291117,8.383071891933442,31.583261005026227,0.00043271244463869015,17.41588782190054,0.0007464659576129608,17.286928738358498,8.8995880722699,18.880975223187484,0.0009278341555812679,0.0011477768323845182,0.0014546215664752325,0.00012890069084516337,0.006887148025771289,0.00025418137905243194,19.991078324517478],\"type\":\"scatter\",\"xaxis\":\"x\",\"yaxis\":\"y\"},{\"mode\":\"markers\",\"name\":\"error\",\"x\":[\"63.1\",\"80.1\",\"29.1\",\"63.2\",\"68.1\",\"29.2\",\"7.3\",\"80.2\",\"55.1\",\"49.2\",\"55.3\",\"113.1\",\"87.3\",\"87.2\",\"7.1\",\"49.3\",\"80.3\",\"63.3\",\"87.1\",\"55.2\",\"7.2\",\"29.3\",\"49.1\"],\"y\":[25.35437671967445,45.63732237145325,26.303308573701926,42.209671995492684,40.75326664556045,43.309582193522985,42.80371320196031,29.52455605583777,33.0022894238705,18.870257273445638,41.65807449110641,30.579608820394853,45.38492905627796,28.96860527927103,34.138361241561284,28.607611635491978,45.41664206165598,41.363318667283416,45.2306392663383,42.546727402552584,43.37308738040483,41.82970080027317,33.56086681925891],\"type\":\"scatter\",\"xaxis\":\"x2\",\"yaxis\":\"y2\"}],                        {\"template\":{\"data\":{\"barpolar\":[{\"marker\":{\"line\":{\"color\":\"white\",\"width\":0.5},\"pattern\":{\"fillmode\":\"overlay\",\"size\":10,\"solidity\":0.2}},\"type\":\"barpolar\"}],\"bar\":[{\"error_x\":{\"color\":\"#2a3f5f\"},\"error_y\":{\"color\":\"#2a3f5f\"},\"marker\":{\"line\":{\"color\":\"white\",\"width\":0.5},\"pattern\":{\"fillmode\":\"overlay\",\"size\":10,\"solidity\":0.2}},\"type\":\"bar\"}],\"carpet\":[{\"aaxis\":{\"endlinecolor\":\"#2a3f5f\",\"gridcolor\":\"#C8D4E3\",\"linecolor\":\"#C8D4E3\",\"minorgridcolor\":\"#C8D4E3\",\"startlinecolor\":\"#2a3f5f\"},\"baxis\":{\"endlinecolor\":\"#2a3f5f\",\"gridcolor\":\"#C8D4E3\",\"linecolor\":\"#C8D4E3\",\"minorgridcolor\":\"#C8D4E3\",\"startlinecolor\":\"#2a3f5f\"},\"type\":\"carpet\"}],\"choropleth\":[{\"colorbar\":{\"outlinewidth\":0,\"ticks\":\"\"},\"type\":\"choropleth\"}],\"contourcarpet\":[{\"colorbar\":{\"outlinewidth\":0,\"ticks\":\"\"},\"type\":\"contourcarpet\"}],\"contour\":[{\"colorbar\":{\"outlinewidth\":0,\"ticks\":\"\"},\"colorscale\":[[0.0,\"#0d0887\"],[0.1111111111111111,\"#46039f\"],[0.2222222222222222,\"#7201a8\"],[0.3333333333333333,\"#9c179e\"],[0.4444444444444444,\"#bd3786\"],[0.5555555555555556,\"#d8576b\"],[0.6666666666666666,\"#ed7953\"],[0.7777777777777778,\"#fb9f3a\"],[0.8888888888888888,\"#fdca26\"],[1.0,\"#f0f921\"]],\"type\":\"contour\"}],\"heatmapgl\":[{\"colorbar\":{\"outlinewidth\":0,\"ticks\":\"\"},\"colorscale\":[[0.0,\"#0d0887\"],[0.1111111111111111,\"#46039f\"],[0.2222222222222222,\"#7201a8\"],[0.3333333333333333,\"#9c179e\"],[0.4444444444444444,\"#bd3786\"],[0.5555555555555556,\"#d8576b\"],[0.6666666666666666,\"#ed7953\"],[0.7777777777777778,\"#fb9f3a\"],[0.8888888888888888,\"#fdca26\"],[1.0,\"#f0f921\"]],\"type\":\"heatmapgl\"}],\"heatmap\":[{\"colorbar\":{\"outlinewidth\":0,\"ticks\":\"\"},\"colorscale\":[[0.0,\"#0d0887\"],[0.1111111111111111,\"#46039f\"],[0.2222222222222222,\"#7201a8\"],[0.3333333333333333,\"#9c179e\"],[0.4444444444444444,\"#bd3786\"],[0.5555555555555556,\"#d8576b\"],[0.6666666666666666,\"#ed7953\"],[0.7777777777777778,\"#fb9f3a\"],[0.8888888888888888,\"#fdca26\"],[1.0,\"#f0f921\"]],\"type\":\"heatmap\"}],\"histogram2dcontour\":[{\"colorbar\":{\"outlinewidth\":0,\"ticks\":\"\"},\"colorscale\":[[0.0,\"#0d0887\"],[0.1111111111111111,\"#46039f\"],[0.2222222222222222,\"#7201a8\"],[0.3333333333333333,\"#9c179e\"],[0.4444444444444444,\"#bd3786\"],[0.5555555555555556,\"#d8576b\"],[0.6666666666666666,\"#ed7953\"],[0.7777777777777778,\"#fb9f3a\"],[0.8888888888888888,\"#fdca26\"],[1.0,\"#f0f921\"]],\"type\":\"histogram2dcontour\"}],\"histogram2d\":[{\"colorbar\":{\"outlinewidth\":0,\"ticks\":\"\"},\"colorscale\":[[0.0,\"#0d0887\"],[0.1111111111111111,\"#46039f\"],[0.2222222222222222,\"#7201a8\"],[0.3333333333333333,\"#9c179e\"],[0.4444444444444444,\"#bd3786\"],[0.5555555555555556,\"#d8576b\"],[0.6666666666666666,\"#ed7953\"],[0.7777777777777778,\"#fb9f3a\"],[0.8888888888888888,\"#fdca26\"],[1.0,\"#f0f921\"]],\"type\":\"histogram2d\"}],\"histogram\":[{\"marker\":{\"pattern\":{\"fillmode\":\"overlay\",\"size\":10,\"solidity\":0.2}},\"type\":\"histogram\"}],\"mesh3d\":[{\"colorbar\":{\"outlinewidth\":0,\"ticks\":\"\"},\"type\":\"mesh3d\"}],\"parcoords\":[{\"line\":{\"colorbar\":{\"outlinewidth\":0,\"ticks\":\"\"}},\"type\":\"parcoords\"}],\"pie\":[{\"automargin\":true,\"type\":\"pie\"}],\"scatter3d\":[{\"line\":{\"colorbar\":{\"outlinewidth\":0,\"ticks\":\"\"}},\"marker\":{\"colorbar\":{\"outlinewidth\":0,\"ticks\":\"\"}},\"type\":\"scatter3d\"}],\"scattercarpet\":[{\"marker\":{\"colorbar\":{\"outlinewidth\":0,\"ticks\":\"\"}},\"type\":\"scattercarpet\"}],\"scattergeo\":[{\"marker\":{\"colorbar\":{\"outlinewidth\":0,\"ticks\":\"\"}},\"type\":\"scattergeo\"}],\"scattergl\":[{\"marker\":{\"colorbar\":{\"outlinewidth\":0,\"ticks\":\"\"}},\"type\":\"scattergl\"}],\"scattermapbox\":[{\"marker\":{\"colorbar\":{\"outlinewidth\":0,\"ticks\":\"\"}},\"type\":\"scattermapbox\"}],\"scatterpolargl\":[{\"marker\":{\"colorbar\":{\"outlinewidth\":0,\"ticks\":\"\"}},\"type\":\"scatterpolargl\"}],\"scatterpolar\":[{\"marker\":{\"colorbar\":{\"outlinewidth\":0,\"ticks\":\"\"}},\"type\":\"scatterpolar\"}],\"scatter\":[{\"fillpattern\":{\"fillmode\":\"overlay\",\"size\":10,\"solidity\":0.2},\"type\":\"scatter\"}],\"scatterternary\":[{\"marker\":{\"colorbar\":{\"outlinewidth\":0,\"ticks\":\"\"}},\"type\":\"scatterternary\"}],\"surface\":[{\"colorbar\":{\"outlinewidth\":0,\"ticks\":\"\"},\"colorscale\":[[0.0,\"#0d0887\"],[0.1111111111111111,\"#46039f\"],[0.2222222222222222,\"#7201a8\"],[0.3333333333333333,\"#9c179e\"],[0.4444444444444444,\"#bd3786\"],[0.5555555555555556,\"#d8576b\"],[0.6666666666666666,\"#ed7953\"],[0.7777777777777778,\"#fb9f3a\"],[0.8888888888888888,\"#fdca26\"],[1.0,\"#f0f921\"]],\"type\":\"surface\"}],\"table\":[{\"cells\":{\"fill\":{\"color\":\"#EBF0F8\"},\"line\":{\"color\":\"white\"}},\"header\":{\"fill\":{\"color\":\"#C8D4E3\"},\"line\":{\"color\":\"white\"}},\"type\":\"table\"}]},\"layout\":{\"annotationdefaults\":{\"arrowcolor\":\"#2a3f5f\",\"arrowhead\":0,\"arrowwidth\":1},\"autotypenumbers\":\"strict\",\"coloraxis\":{\"colorbar\":{\"outlinewidth\":0,\"ticks\":\"\"}},\"colorscale\":{\"diverging\":[[0,\"#8e0152\"],[0.1,\"#c51b7d\"],[0.2,\"#de77ae\"],[0.3,\"#f1b6da\"],[0.4,\"#fde0ef\"],[0.5,\"#f7f7f7\"],[0.6,\"#e6f5d0\"],[0.7,\"#b8e186\"],[0.8,\"#7fbc41\"],[0.9,\"#4d9221\"],[1,\"#276419\"]],\"sequential\":[[0.0,\"#0d0887\"],[0.1111111111111111,\"#46039f\"],[0.2222222222222222,\"#7201a8\"],[0.3333333333333333,\"#9c179e\"],[0.4444444444444444,\"#bd3786\"],[0.5555555555555556,\"#d8576b\"],[0.6666666666666666,\"#ed7953\"],[0.7777777777777778,\"#fb9f3a\"],[0.8888888888888888,\"#fdca26\"],[1.0,\"#f0f921\"]],\"sequentialminus\":[[0.0,\"#0d0887\"],[0.1111111111111111,\"#46039f\"],[0.2222222222222222,\"#7201a8\"],[0.3333333333333333,\"#9c179e\"],[0.4444444444444444,\"#bd3786\"],[0.5555555555555556,\"#d8576b\"],[0.6666666666666666,\"#ed7953\"],[0.7777777777777778,\"#fb9f3a\"],[0.8888888888888888,\"#fdca26\"],[1.0,\"#f0f921\"]]},\"colorway\":[\"#636efa\",\"#EF553B\",\"#00cc96\",\"#ab63fa\",\"#FFA15A\",\"#19d3f3\",\"#FF6692\",\"#B6E880\",\"#FF97FF\",\"#FECB52\"],\"font\":{\"color\":\"#2a3f5f\"},\"geo\":{\"bgcolor\":\"white\",\"lakecolor\":\"white\",\"landcolor\":\"white\",\"showlakes\":true,\"showland\":true,\"subunitcolor\":\"#C8D4E3\"},\"hoverlabel\":{\"align\":\"left\"},\"hovermode\":\"closest\",\"mapbox\":{\"style\":\"light\"},\"paper_bgcolor\":\"white\",\"plot_bgcolor\":\"white\",\"polar\":{\"angularaxis\":{\"gridcolor\":\"#EBF0F8\",\"linecolor\":\"#EBF0F8\",\"ticks\":\"\"},\"bgcolor\":\"white\",\"radialaxis\":{\"gridcolor\":\"#EBF0F8\",\"linecolor\":\"#EBF0F8\",\"ticks\":\"\"}},\"scene\":{\"xaxis\":{\"backgroundcolor\":\"white\",\"gridcolor\":\"#DFE8F3\",\"gridwidth\":2,\"linecolor\":\"#EBF0F8\",\"showbackground\":true,\"ticks\":\"\",\"zerolinecolor\":\"#EBF0F8\"},\"yaxis\":{\"backgroundcolor\":\"white\",\"gridcolor\":\"#DFE8F3\",\"gridwidth\":2,\"linecolor\":\"#EBF0F8\",\"showbackground\":true,\"ticks\":\"\",\"zerolinecolor\":\"#EBF0F8\"},\"zaxis\":{\"backgroundcolor\":\"white\",\"gridcolor\":\"#DFE8F3\",\"gridwidth\":2,\"linecolor\":\"#EBF0F8\",\"showbackground\":true,\"ticks\":\"\",\"zerolinecolor\":\"#EBF0F8\"}},\"shapedefaults\":{\"line\":{\"color\":\"#2a3f5f\"}},\"ternary\":{\"aaxis\":{\"gridcolor\":\"#DFE8F3\",\"linecolor\":\"#A2B1C6\",\"ticks\":\"\"},\"baxis\":{\"gridcolor\":\"#DFE8F3\",\"linecolor\":\"#A2B1C6\",\"ticks\":\"\"},\"bgcolor\":\"white\",\"caxis\":{\"gridcolor\":\"#DFE8F3\",\"linecolor\":\"#A2B1C6\",\"ticks\":\"\"}},\"title\":{\"x\":0.05},\"xaxis\":{\"automargin\":true,\"gridcolor\":\"#EBF0F8\",\"linecolor\":\"#EBF0F8\",\"ticks\":\"\",\"title\":{\"standoff\":15},\"zerolinecolor\":\"#EBF0F8\",\"zerolinewidth\":2},\"yaxis\":{\"automargin\":true,\"gridcolor\":\"#EBF0F8\",\"linecolor\":\"#EBF0F8\",\"ticks\":\"\",\"title\":{\"standoff\":15},\"zerolinecolor\":\"#EBF0F8\",\"zerolinewidth\":2}}},\"xaxis\":{\"anchor\":\"y\",\"domain\":[0.0,0.45]},\"yaxis\":{\"anchor\":\"x\",\"domain\":[0.0,1.0]},\"xaxis2\":{\"anchor\":\"y2\",\"domain\":[0.55,1.0]},\"yaxis2\":{\"anchor\":\"x2\",\"domain\":[0.0,1.0]}},                        {\"responsive\": true}                    ).then(function(){\n",
       "                            \n",
       "var gd = document.getElementById('55708cac-abea-4c15-aa54-0221f44f0eb3');\n",
       "var x = new MutationObserver(function (mutations, observer) {{\n",
       "        var display = window.getComputedStyle(gd).display;\n",
       "        if (!display || display === 'none') {{\n",
       "            console.log([gd, 'removed!']);\n",
       "            Plotly.purge(gd);\n",
       "            observer.disconnect();\n",
       "        }}\n",
       "}});\n",
       "\n",
       "// Listen for the removal of the full notebook cells\n",
       "var notebookContainer = gd.closest('#notebook-container');\n",
       "if (notebookContainer) {{\n",
       "    x.observe(notebookContainer, {childList: true});\n",
       "}}\n",
       "\n",
       "// Listen for the clearing of the current output cell\n",
       "var outputEl = gd.closest('.output');\n",
       "if (outputEl) {{\n",
       "    x.observe(outputEl, {childList: true});\n",
       "}}\n",
       "\n",
       "                        })                };                });            </script>        </div>"
      ]
     },
     "metadata": {},
     "output_type": "display_data"
    }
   ],
   "source": [
    "inj = topology.injections.power_real\n",
    "pvs = []\n",
    "for id, eq, power in zip(inj.ids, inj.equipment_ids, inj.values):\n",
    "    type, _ = eq.split('.')\n",
    "    if type == \"PVSystem\":\n",
    "        pvs.append(id)\n",
    "\n",
    "# filter missing nodes\n",
    "common_columns = set(est_powers.columns).intersection(pvs)\n",
    "missing_nodes = set(common_columns).symmetric_difference(pvs)\n",
    "print(\"Missing PVs: \", sorted(missing_nodes))\n",
    "true = true_powers.filter(common_columns)\n",
    "est = est_powers.filter(common_columns)\n",
    "\n",
    "true = true.loc[ts]\n",
    "est = est.loc[ts]\n",
    "error = (true - est)\n",
    "\n",
    "fig = make_subplots(rows=1,cols=2)\n",
    "fig.add_trace(\n",
    "    go.Scatter(name='true', x=true.index, y=true.values.real,mode='markers'), \n",
    "    row=1,col=1)\n",
    "fig.add_trace(\n",
    "    go.Scatter(name='est',x=est.index, y=est.values.real,mode='markers'),\n",
    "    row=1,col=1)\n",
    "fig.add_trace(\n",
    "    go.Scatter(name='error',x=error.index, y=error.abs(),mode='markers'), \n",
    "    row=1,col=2)\n",
    "fig.update_layout(template=\"plotly_white\")\n",
    "fig.show()"
   ]
  },
  {
   "cell_type": "code",
   "execution_count": null,
   "id": "2c97043b-e311-4a5f-aa57-6dab54907bd8",
   "metadata": {},
   "outputs": [],
   "source": []
  },
  {
   "cell_type": "code",
   "execution_count": null,
   "id": "1b7850b8-edba-4f16-8fbe-307369b3974e",
   "metadata": {},
   "outputs": [],
   "source": []
  },
  {
   "cell_type": "code",
   "execution_count": null,
   "id": "cc76cf02-e0f1-4ab0-b9be-4750616c8191",
   "metadata": {},
   "outputs": [],
   "source": []
  }
 ],
 "metadata": {
  "kernelspec": {
   "display_name": "Python 3 (ipykernel)",
   "language": "python",
   "name": "python3"
  },
  "language_info": {
   "codemirror_mode": {
    "name": "ipython",
    "version": 3
   },
   "file_extension": ".py",
   "mimetype": "text/x-python",
   "name": "python",
   "nbconvert_exporter": "python",
   "pygments_lexer": "ipython3",
   "version": "3.12.3"
  }
 },
 "nbformat": 4,
 "nbformat_minor": 5
}
