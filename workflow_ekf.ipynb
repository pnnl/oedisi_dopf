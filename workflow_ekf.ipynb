{
 "cells": [
  {
   "cell_type": "markdown",
   "id": "1f3d612b-e411-4ac3-a5e5-eb7e49b46c01",
   "metadata": {},
   "source": [
    "# Weighted Least Squares (WLS) state estimation for PV parameters"
   ]
  },
  {
   "cell_type": "code",
   "execution_count": 28,
   "id": "58855b1c-bb15-473a-9844-449af185a388",
   "metadata": {
    "ExecuteTime": {
     "end_time": "2024-09-12T20:44:59.647931Z",
     "start_time": "2024-09-12T20:44:58.235065Z"
    }
   },
   "outputs": [],
   "source": [
    "import os\n",
    "import json\n",
    "import math\n",
    "from oedisi.types.data_types import MeasurementArray, AdmittanceMatrix, Topology\n",
    "import pyarrow.feather as feather\n",
    "import numpy as np\n",
    "import datetime as dt\n",
    "import random\n",
    "import matplotlib.pyplot as plt\n",
    "import pandas as pd\n",
    "from pathlib import Path\n",
    "import plotly.express as px\n",
    "import plotly.graph_objects as go\n",
    "from plotly.subplots import make_subplots\n",
    "import glob\n",
    "\n",
    "ROOT = os.getcwd()\n",
    "OUTPUTS = f\"{ROOT}/outputs\"\n",
    "BUILDS = f\"{ROOT}/builds\"\n",
    "SCENARIOS = f\"{ROOT}/scenarios\""
   ]
  },
  {
   "cell_type": "markdown",
   "id": "3d845732-e22e-463a-8979-701c9f9c38c1",
   "metadata": {},
   "source": [
    "## Run OEDISI\n",
    "Each scenario is defined in the following folder structure:\n",
    "- algorithm / model / pv-level / es-level\n",
    "\n",
    "The following shows which scenarios have been generated using one of the algorithm generation scripts"
   ]
  },
  {
   "cell_type": "code",
   "execution_count": 29,
   "id": "d28a2fb5-b7ab-4678-a360-24e76e1e4c3e",
   "metadata": {
    "ExecuteTime": {
     "end_time": "2024-09-12T20:44:59.678661Z",
     "start_time": "2024-09-12T20:44:59.672491Z"
    }
   },
   "outputs": [
    {
     "name": "stdout",
     "output_type": "stream",
     "text": [
      "0 /home/tylor/dev/oedisi_dopf/scenarios/ekf/ieee123_pmu/\n",
      "1 /home/tylor/dev/oedisi_dopf/scenarios/ekf/SFO/P6U/extreme/\n",
      "2 /home/tylor/dev/oedisi_dopf/scenarios/ekf/SFO/P6U/low/\n",
      "3 /home/tylor/dev/oedisi_dopf/scenarios/ekf/SFO/P6U/high/\n",
      "4 /home/tylor/dev/oedisi_dopf/scenarios/ekf/SFO/P6U/medium/\n",
      "5 /home/tylor/dev/oedisi_dopf/scenarios/ekf/SFO/P9U/extreme/\n",
      "6 /home/tylor/dev/oedisi_dopf/scenarios/ekf/SFO/P9U/low/\n",
      "7 /home/tylor/dev/oedisi_dopf/scenarios/ekf/SFO/P9U/high/\n",
      "8 /home/tylor/dev/oedisi_dopf/scenarios/ekf/SFO/P9U/medium/\n",
      "9 /home/tylor/dev/oedisi_dopf/scenarios/ekf/SFO/P3U/extreme/\n",
      "10 /home/tylor/dev/oedisi_dopf/scenarios/ekf/SFO/P3U/low/\n",
      "11 /home/tylor/dev/oedisi_dopf/scenarios/ekf/SFO/P3U/high/\n",
      "12 /home/tylor/dev/oedisi_dopf/scenarios/ekf/SFO/P3U/medium/\n",
      "13 /home/tylor/dev/oedisi_dopf/scenarios/ekf/SFO/P1U/extreme/\n",
      "14 /home/tylor/dev/oedisi_dopf/scenarios/ekf/SFO/P1U/low/\n",
      "15 /home/tylor/dev/oedisi_dopf/scenarios/ekf/SFO/P1U/high/\n",
      "16 /home/tylor/dev/oedisi_dopf/scenarios/ekf/SFO/P1U/medium/\n",
      "17 /home/tylor/dev/oedisi_dopf/scenarios/ekf/ieee123/\n"
     ]
    }
   ],
   "source": [
    "dir = []\n",
    "def list_files_scandir(path=\".\"):\n",
    "    with os.scandir(path) as entries:\n",
    "        for entry in entries:\n",
    "            if entry.is_file():\n",
    "                if \"system.json\" in entry.path:\n",
    "                    path, _ = entry.path.split(\"system.json\", 1)\n",
    "                    dir.append(path)\n",
    "            elif entry.is_dir():\n",
    "                list_files_scandir(entry.path)\n",
    "\n",
    "\n",
    "# Specify the directory path you want to start from\n",
    "directory_path = f\"{SCENARIOS}/ekf\"\n",
    "list_files_scandir(directory_path)\n",
    "for i, d in enumerate(dir):\n",
    "    print(i, d)"
   ]
  },
  {
   "cell_type": "code",
   "execution_count": 30,
   "id": "fc1e6b02-6fcb-4418-87f6-df0545c64093",
   "metadata": {
    "ExecuteTime": {
     "end_time": "2024-09-12T20:44:59.887329Z",
     "start_time": "2024-09-12T20:44:59.884702Z"
    }
   },
   "outputs": [
    {
     "name": "stdout",
     "output_type": "stream",
     "text": [
      "Loading the components defined in /home/tylor/dev/oedisi_dopf/scenarios/ekf/SFO/P1U/low/components.json\n",
      "Loading system json /home/tylor/dev/oedisi_dopf/scenarios/ekf/SFO/P1U/low/system.json\n",
      "Building system in /home/tylor/dev/oedisi_dopf/builds/ekf/SFO/P1U/low/\n"
     ]
    },
    {
     "data": {
      "text/plain": [
       "0"
      ]
     },
     "execution_count": 30,
     "metadata": {},
     "output_type": "execute_result"
    }
   ],
   "source": [
    "index = 14\n",
    "path = dir[index]\n",
    "_, scenario = path.split(SCENARIOS, 1)\n",
    "build = f\"{BUILDS}{scenario}\"\n",
    "output = f\"{OUTPUTS}{scenario}\"\n",
    "os.system(\n",
    "    f\"oedisi build --system {path}system.json --component-dict {path}components.json --target-directory {build}\"\n",
    ")"
   ]
  },
  {
   "cell_type": "code",
   "execution_count": 31,
   "id": "c08366e8-7bce-4329-8119-947ae5363ba8",
   "metadata": {
    "ExecuteTime": {
     "end_time": "2024-09-12T20:44:59.991024Z",
     "start_time": "2024-09-12T20:44:59.987874Z"
    },
    "scrolled": true
   },
   "outputs": [
    {
     "name": "stdout",
     "output_type": "stream",
     "text": [
      "[warn] helics-cli's web interface is not installed. You may want to run `pip install \"helics[cli]\"`.\n",
      "[warn] helics-cli's observer functionality is not installed. You may want to run `pip install \"helics[cli]\"`.\n",
      "[info] Running federation: ekf_SFO/P1U\n",
      "[info] Running federate feeder as a background process\n",
      "[info] Running federate ekf as a background process\n",
      "[info] Running federate recorder_voltage_real as a background process\n",
      "[info] Running federate recorder_voltage_imag as a background process\n",
      "[info] Running federate recorder_power_real as a background process\n",
      "[info] Running federate sensor_power_real as a background process\n",
      "[info] Running federate recorder_power_imag as a background process\n",
      "[info] Running federate sensor_power_imag as a background process\n",
      "[info] Running federate recorder_voltage_mag as a background process\n",
      "[info] Running federate sensor_voltage_mag as a background process\n",
      "[info] Running federate recorder_voltage_angle as a background process\n",
      "[info] Running federate broker as a background process\n",
      "[info] Waiting for 12 processes to finish ...\n",
      "[info] Done.\n"
     ]
    },
    {
     "data": {
      "text/plain": [
       "0"
      ]
     },
     "execution_count": 31,
     "metadata": {},
     "output_type": "execute_result"
    }
   ],
   "source": [
    "os.system(\"pkill -9 helics_broker\")\n",
    "os.system(f\"oedisi run --runner {build}system_runner.json\")"
   ]
  },
  {
   "cell_type": "markdown",
   "id": "3b21cdc3-2ba4-4236-bcdf-0853d4c9be06",
   "metadata": {},
   "source": [
    "## Load Data"
   ]
  },
  {
   "cell_type": "code",
   "execution_count": 32,
   "id": "01e8545a-8584-4eff-83b6-c03c40694f96",
   "metadata": {},
   "outputs": [],
   "source": [
    "topology = Topology.parse_file(f\"{output}/topology.json\")\n",
    "base_voltage_df = pd.DataFrame(\n",
    "    {\n",
    "        \"id\": topology.base_voltage_magnitudes.ids,\n",
    "        \"value\": topology.base_voltage_magnitudes.values,\n",
    "    }\n",
    ")\n",
    "base_voltage_df.set_index(\"id\", inplace=True)\n",
    "base_voltages = base_voltage_df[\"value\"]"
   ]
  },
  {
   "cell_type": "code",
   "execution_count": 33,
   "id": "7ff13bdc-9cfa-40a0-aa4d-7b0b52ca6473",
   "metadata": {
    "ExecuteTime": {
     "end_time": "2024-09-12T20:45:00.242505Z",
     "start_time": "2024-09-12T20:45:00.043967Z"
    }
   },
   "outputs": [],
   "source": [
    "# read data\n",
    "v_real = feather.read_feather(f\"{output}/voltage_real.feather\")\n",
    "v_imag = feather.read_feather(f\"{output}/voltage_imag.feather\")\n",
    "\n",
    "# converter to complex\n",
    "true_voltages = v_real.drop(\"time\", axis=1).abs() + 1j * v_imag.drop(\"time\", axis=1)\n",
    "true_voltages[\"time\"] = pd.to_datetime(v_real[\"time\"], format=\"%Y-%m-%d %H:%M:%S\")\n",
    "true_voltages.set_index(\"time\", inplace=True)"
   ]
  },
  {
   "cell_type": "code",
   "execution_count": 34,
   "id": "03a396a8-0f46-4402-a32e-1449079aeb4c",
   "metadata": {},
   "outputs": [],
   "source": [
    "# read data\n",
    "v_mag = feather.read_feather(f\"{output}/voltage_mag.feather\")\n",
    "v_angle = feather.read_feather(f\"{output}/voltage_angle.feather\")\n",
    "\n",
    "# filter missing nodes\n",
    "common_columns = set(v_mag.columns).intersection(v_angle.columns)\n",
    "v_mag = v_mag.filter(common_columns)\n",
    "v_angle = v_angle.filter(common_columns)\n",
    "\n",
    "# convert to complex\n",
    "v_rad = np.radians(v_angle.drop(\"time\", axis=1).to_numpy())\n",
    "est_voltages = v_mag.drop(\"time\", axis=1) * np.exp(1j * v_rad)\n",
    "est_voltages[\"time\"] = pd.to_datetime(v_mag[\"time\"], format=\"%Y-%m-%d %H:%M:%S\")\n",
    "est_voltages.set_index(\"time\", inplace=True)"
   ]
  },
  {
   "cell_type": "markdown",
   "id": "6ff3015f-3f30-49e5-942d-e62b0633731c",
   "metadata": {},
   "source": [
    "## Process Data"
   ]
  },
  {
   "cell_type": "code",
   "execution_count": 42,
   "id": "66cbb764-c18a-4fe1-af44-ec8e68201f83",
   "metadata": {
    "scrolled": true
   },
   "outputs": [
    {
     "name": "stdout",
     "output_type": "stream",
     "text": [
      "MSRE:  0.0013908755592516274\n"
     ]
    },
    {
     "data": {
      "application/vnd.plotly.v1+json": {
       "config": {
        "plotlyServerURL": "https://plot.ly"
       },
       "data": [
        {
         "mode": "markers",
         "name": "true",
         "type": "scatter",
         "x": [
          "P1UDT942-P1UHS0_1247X.1",
          "P1UDT942-P1UHS0_1247X.2",
          "P1UDT942-P1UHS0_1247X.3",
          "P1UDT882LV.1",
          "P1UDT882LV.2",
          "P1ULV4109.1",
          "P1ULV4109.2",
          "P1UDM3853.1",
          "P1UDM3853.2",
          "P1ULV4110.1",
          "P1ULV4110.2",
          "P1UDT883LV.1",
          "P1UDT883LV.2",
          "P1UDM3854.1",
          "P1UDM3854.2",
          "P1ULV4111.1",
          "P1ULV4111.2",
          "P1UDT884LV.1",
          "P1UDT884LV.2",
          "P1ULV4112.1",
          "P1ULV4112.2",
          "P1UDM3856.1",
          "P1UDM3856.2",
          "P1ULV4113.1",
          "P1ULV4113.2",
          "P1UDT893LV.1",
          "P1UDT893LV.2",
          "P1ULV4136.1",
          "P1ULV4136.2",
          "P1UDM3883.1",
          "P1UDM3883.2",
          "P1ULV4137.1",
          "P1ULV4137.2",
          "P1UDT894LV.1",
          "P1UDT894LV.2",
          "P1UDM3884.1",
          "P1UDM3884.2",
          "P1ULV4138.1",
          "P1ULV4138.2",
          "P1UDT895LV.1",
          "P1UDT895LV.2",
          "P1ULV7543.1",
          "P1ULV7543.2",
          "P1UDM3885.1",
          "P1UDM3885.2",
          "P1ULV4139.1",
          "P1ULV4139.2",
          "P1UDM3887.1",
          "P1UDM3887.2",
          "P1ULV4140.1",
          "P1ULV4140.2",
          "P1UDM3889.1",
          "P1UDM3889.2",
          "P1ULV7633.1",
          "P1ULV7633.2",
          "P1UDT896LV.1",
          "P1UDT896LV.2",
          "P1UDM3888.1",
          "P1UDM3888.2",
          "P1ULV4197.1",
          "P1ULV4197.2",
          "P1UDT909LV.1",
          "P1UDT909LV.2",
          "P1ULV4155.1",
          "P1ULV4155.2",
          "P1UDT942LV.1",
          "P1UDT942LV.2",
          "P1ULV4193.1",
          "P1ULV4193.2",
          "P1UDT943LV.1",
          "P1UDT943LV.2",
          "P1ULV4196.1",
          "P1ULV4196.2",
          "P1UDT1431LV.1",
          "P1UDT1431LV.2",
          "P1ULV7544.1",
          "P1ULV7544.2",
          "P1UDT1432LV.1",
          "P1UDT1432LV.2",
          "P1ULV7546.1",
          "P1ULV7546.2",
          "P1UDT1433LV.1",
          "P1UDT1433LV.2",
          "P1ULV7547.1",
          "P1ULV7547.2",
          "P1UDT908-P1UDT909X.2",
          "P1UDT909.2",
          "P1UDT1433-P1UDT882X.3",
          "P1UDT882.3",
          "P1UDT1432-P1UDT881X.2",
          "P1UDT1432.2",
          "P1UDT896-P1UDT938X.3",
          "P1UDT896.3",
          "P1UDT942.1",
          "P1UDT942.2",
          "P1UDT942.3",
          "P1UDT907LV.1",
          "P1UDT907LV.2",
          "P1UDT907LV.3",
          "P1ULV4153.1",
          "P1ULV4153.2",
          "P1ULV4153.3",
          "P1UDT908LV.1",
          "P1UDT908LV.2",
          "P1UDT908LV.3",
          "P1ULV4154.1",
          "P1ULV4154.2",
          "P1ULV4154.3",
          "P1UDT907.1",
          "P1UDT907.2",
          "P1UDT907.3",
          "P1UDT908.1",
          "P1UDT908.2",
          "P1UDT908.3",
          "P1UDT893.1",
          "P1UDT893.2",
          "P1UDT893.3",
          "P1UDT894.1",
          "P1UDT894.2",
          "P1UDT894.3",
          "P1UDT1425LV.1",
          "P1UDT1425LV.2",
          "P1UDT1425LV.3",
          "P1ULV7531.1",
          "P1ULV7531.2",
          "P1ULV7531.3",
          "P1UDT881LV.1",
          "P1UDT881LV.2",
          "P1UDT881LV.3",
          "P1ULV4108.1",
          "P1ULV4108.2",
          "P1ULV4108.3",
          "P1UDT1425-P1UDT881X.1",
          "P1UDT1425-P1UDT881X.2",
          "P1UDT1425-P1UDT881X.3",
          "P1UDT881.1",
          "P1UDT881.2",
          "P1UDT881.3",
          "P1UDT1433.1",
          "P1UDT1433.2",
          "P1UDT1433.3",
          "P1UDT1425.1",
          "P1UDT1425.2",
          "P1UDT1425.3",
          "P1UDT883.1",
          "P1UDT883.2",
          "P1UDT883.3",
          "P1UDT884.1",
          "P1UDT884.2",
          "P1UDT884.3",
          "P1UDT1431.1",
          "P1UDT1431.2",
          "P1UDT1431.3",
          "P1UDT1431-P1UDT895X.1",
          "P1UDT1431-P1UDT895X.2",
          "P1UDT1431-P1UDT895X.3",
          "P1UDT894-P1UDT895X.1",
          "P1UDT894-P1UDT895X.2",
          "P1UDT894-P1UDT895X.3",
          "P1UDT895.1",
          "P1UDT895.2",
          "P1UDT895.3",
          "P1UDT894-P1UDT942X.1",
          "P1UDT894-P1UDT942X.2",
          "P1UDT894-P1UDT942X.3",
          "P1UDT939LV.1",
          "P1UDT939LV.2",
          "P1UDT939LV.3",
          "P1ULV4189.1",
          "P1ULV4189.2",
          "P1ULV4189.3",
          "P1UDT938LV.1",
          "P1UDT938LV.2",
          "P1UDT938LV.3",
          "P1ULV4188.1",
          "P1ULV4188.2",
          "P1ULV4188.3",
          "P1UDT892LV.1",
          "P1UDT892LV.2",
          "P1UDT892LV.3",
          "P1ULV4132.1",
          "P1ULV4132.2",
          "P1ULV4132.3",
          "P1UDT938.1",
          "P1UDT938.2",
          "P1UDT938.3",
          "P1UDT892.1",
          "P1UDT892.2",
          "P1UDT892.3",
          "P1UDT943.1",
          "P1UDT943.2",
          "P1UDT943.3",
          "P1UDT939.1",
          "P1UDT939.2",
          "P1UDT939.3"
         ],
         "xaxis": "x",
         "y": [
          1.0299999818274663,
          1.0299999841111651,
          1.029999983053154,
          1.0281268653264404,
          1.0281519153420096,
          1.0271930003899024,
          1.0272185219691061,
          1.026652188864264,
          1.0267950074057954,
          1.0264017110305872,
          1.0265447180954645,
          1.027443445792129,
          1.0275856688029237,
          1.0270260627851628,
          1.0271686154059672,
          1.026786322440185,
          1.0269290643934266,
          1.0281473672973274,
          1.0282355248128185,
          1.027992096288743,
          1.028080324661001,
          1.027917504028384,
          1.028005772413497,
          1.0277683236511923,
          1.0278566639921303,
          1.0280543058590819,
          1.0281361012959147,
          1.0276040282850458,
          1.027686094773831,
          1.0275089571338292,
          1.0276264249701526,
          1.02737750967021,
          1.0274950719873577,
          1.0278323297298615,
          1.0279495651436257,
          1.0275065538978807,
          1.0276240208022238,
          1.0272483666419747,
          1.0273660170174803,
          1.0273754636930026,
          1.027534084783001,
          1.0267353409088946,
          1.026894807917872,
          1.0269669396120125,
          1.0271261041069786,
          1.0264520108930864,
          1.0266118603328165,
          1.0255156548746482,
          1.02578311452996,
          1.0252397019521635,
          1.0255074536408801,
          1.0238901335637949,
          1.02415927613343,
          1.0236312700674026,
          1.0239006792957122,
          1.0271724640057085,
          1.0274381831760222,
          1.0266814064459728,
          1.0269474859009544,
          1.0264314886826242,
          1.0266977514225075,
          1.0282914634813776,
          1.028372654074111,
          1.027897077205573,
          1.0279784560133465,
          1.0272940308837646,
          1.0275334380637908,
          1.0265307700534458,
          1.0267708880990134,
          1.0282442945103154,
          1.0284852034477476,
          1.0282311108994404,
          1.0284723276841352,
          1.0271592166343297,
          1.0273824597270294,
          1.026217068274189,
          1.0264411785250482,
          1.0276132812548904,
          1.0277372268440887,
          1.0272725211799572,
          1.0273967003845528,
          1.0268606395019213,
          1.0268901488641367,
          1.0244180626849977,
          1.0244508415377005,
          1.0298553384195828,
          1.0298544069462827,
          1.0296310454709408,
          1.0296119433364201,
          1.0296113199571764,
          1.0296034827320204,
          1.0298970270900654,
          1.0298943308458284,
          1.0299380890595011,
          1.029948438698523,
          1.0299351983453835,
          1.0244654698798281,
          1.0245199647944983,
          1.0244989220432335,
          1.0242707234775879,
          1.024325234658057,
          1.024304202639077,
          1.0277497583397737,
          1.0278035299668813,
          1.0277836834477174,
          1.0276821451386384,
          1.0277359286114551,
          1.027716082336231,
          1.0298023880748601,
          1.0298566097671829,
          1.0298356724625808,
          1.0298016634936722,
          1.0298553384718578,
          1.0298355276173026,
          1.0298048465333023,
          1.0298597419290623,
          1.02983741629782,
          1.0298247383161707,
          1.0298732838973956,
          1.0298487889541998,
          1.0242452927904862,
          1.024340646044058,
          1.0243128111299258,
          1.0237680092634294,
          1.0238634810090192,
          1.0238356824425676,
          1.025176616953753,
          1.0252679186122493,
          1.0252479369512844,
          1.024939452330571,
          1.0250308469674765,
          1.0250108897816235,
          1.0295397845984477,
          1.029634571832202,
          1.0296069584712775,
          1.0295203979815604,
          1.0296113200376373,
          1.0295914209834822,
          1.0295663383125708,
          1.0296636785323605,
          1.0296310455860307,
          1.029540168148821,
          1.0296350358129425,
          1.0296073419961271,
          1.029607213493735,
          1.029699953105721,
          1.0296729257803003,
          1.0296279001575483,
          1.0297150660481396,
          1.0296922753566957,
          1.0296685180967244,
          1.0297467936893288,
          1.0297284405921334,
          1.0297738101301919,
          1.0298414080907263,
          1.0298134380893,
          1.0298234409529219,
          1.0298722217389293,
          1.0298478541429237,
          1.0297748911676976,
          1.0298424706931566,
          1.029814373352131,
          1.029938087537511,
          1.029948437428724,
          1.029935197170473,
          1.0264270209015918,
          1.0264262255458576,
          1.0264069328101042,
          1.0262781236539142,
          1.0262773323349759,
          1.0262580344263488,
          1.0270019414303853,
          1.0269989230736125,
          1.0269779417375426,
          1.0268928078170756,
          1.026889792194928,
          1.0268688066638174,
          1.0235976912680507,
          1.023594662658659,
          1.0235736091542709,
          1.023277409925833,
          1.0232743905459134,
          1.023253319560266,
          1.0299209635365367,
          1.029917953128743,
          1.029897027202765,
          1.029919492097519,
          1.0299164817042472,
          1.0298955557262042,
          1.029921801887066,
          1.0299192945721583,
          1.0298991421003727,
          1.0299232355478973,
          1.0299224427183056,
          1.0299032118964162
         ],
         "yaxis": "y"
        },
        {
         "mode": "markers",
         "name": "est",
         "type": "scatter",
         "x": [
          "P1UDM3853.1",
          "P1UDM3853.2",
          "P1UDM3854.1",
          "P1UDM3854.2",
          "P1UDM3856.1",
          "P1UDM3856.2",
          "P1UDM3883.1",
          "P1UDM3883.2",
          "P1UDM3884.1",
          "P1UDM3884.2",
          "P1UDM3885.1",
          "P1UDM3885.2",
          "P1UDM3887.1",
          "P1UDM3887.2",
          "P1UDM3888.1",
          "P1UDM3888.2",
          "P1UDM3889.1",
          "P1UDM3889.2",
          "P1UDT1425-P1UDT881X.1",
          "P1UDT1425-P1UDT881X.2",
          "P1UDT1425-P1UDT881X.3",
          "P1UDT1425.1",
          "P1UDT1425.2",
          "P1UDT1425.3",
          "P1UDT1425LV.1",
          "P1UDT1425LV.2",
          "P1UDT1425LV.3",
          "P1UDT1431-P1UDT895X.1",
          "P1UDT1431-P1UDT895X.2",
          "P1UDT1431-P1UDT895X.3",
          "P1UDT1431.1",
          "P1UDT1431.2",
          "P1UDT1431.3",
          "P1UDT1431LV.1",
          "P1UDT1431LV.2",
          "P1UDT1432-P1UDT881X.2",
          "P1UDT1432.2",
          "P1UDT1432LV.1",
          "P1UDT1432LV.2",
          "P1UDT1433-P1UDT882X.3",
          "P1UDT1433.1",
          "P1UDT1433.2",
          "P1UDT1433.3",
          "P1UDT1433LV.1",
          "P1UDT1433LV.2",
          "P1UDT881.1",
          "P1UDT881.2",
          "P1UDT881.3",
          "P1UDT881LV.1",
          "P1UDT881LV.2",
          "P1UDT881LV.3",
          "P1UDT882.3",
          "P1UDT882LV.1",
          "P1UDT882LV.2",
          "P1UDT883.1",
          "P1UDT883.2",
          "P1UDT883.3",
          "P1UDT883LV.1",
          "P1UDT883LV.2",
          "P1UDT884.1",
          "P1UDT884.2",
          "P1UDT884.3",
          "P1UDT884LV.1",
          "P1UDT884LV.2",
          "P1UDT892.1",
          "P1UDT892.2",
          "P1UDT892.3",
          "P1UDT892LV.1",
          "P1UDT892LV.2",
          "P1UDT892LV.3",
          "P1UDT893.1",
          "P1UDT893.2",
          "P1UDT893.3",
          "P1UDT893LV.1",
          "P1UDT893LV.2",
          "P1UDT894-P1UDT895X.1",
          "P1UDT894-P1UDT895X.2",
          "P1UDT894-P1UDT895X.3",
          "P1UDT894-P1UDT942X.1",
          "P1UDT894-P1UDT942X.2",
          "P1UDT894-P1UDT942X.3",
          "P1UDT894.1",
          "P1UDT894.2",
          "P1UDT894.3",
          "P1UDT894LV.1",
          "P1UDT894LV.2",
          "P1UDT895.1",
          "P1UDT895.2",
          "P1UDT895.3",
          "P1UDT895LV.1",
          "P1UDT895LV.2",
          "P1UDT896-P1UDT938X.3",
          "P1UDT896.3",
          "P1UDT896LV.1",
          "P1UDT896LV.2",
          "P1UDT907.1",
          "P1UDT907.2",
          "P1UDT907.3",
          "P1UDT907LV.1",
          "P1UDT907LV.2",
          "P1UDT907LV.3",
          "P1UDT908-P1UDT909X.2",
          "P1UDT908.1",
          "P1UDT908.2",
          "P1UDT908.3",
          "P1UDT908LV.1",
          "P1UDT908LV.2",
          "P1UDT908LV.3",
          "P1UDT909.2",
          "P1UDT909LV.1",
          "P1UDT909LV.2",
          "P1UDT938.1",
          "P1UDT938.2",
          "P1UDT938.3",
          "P1UDT938LV.1",
          "P1UDT938LV.2",
          "P1UDT938LV.3",
          "P1UDT939.1",
          "P1UDT939.2",
          "P1UDT939.3",
          "P1UDT939LV.1",
          "P1UDT939LV.2",
          "P1UDT939LV.3",
          "P1UDT942-P1UHS0_1247X.1",
          "P1UDT942-P1UHS0_1247X.2",
          "P1UDT942-P1UHS0_1247X.3",
          "P1UDT942.1",
          "P1UDT942.2",
          "P1UDT942.3",
          "P1UDT942LV.1",
          "P1UDT942LV.2",
          "P1UDT943.1",
          "P1UDT943.2",
          "P1UDT943.3",
          "P1UDT943LV.1",
          "P1UDT943LV.2",
          "P1ULV4108.1",
          "P1ULV4108.2",
          "P1ULV4108.3",
          "P1ULV4109.1",
          "P1ULV4109.2",
          "P1ULV4110.1",
          "P1ULV4110.2",
          "P1ULV4111.1",
          "P1ULV4111.2",
          "P1ULV4112.1",
          "P1ULV4112.2",
          "P1ULV4113.1",
          "P1ULV4113.2",
          "P1ULV4132.1",
          "P1ULV4132.2",
          "P1ULV4132.3",
          "P1ULV4136.1",
          "P1ULV4136.2",
          "P1ULV4137.1",
          "P1ULV4137.2",
          "P1ULV4138.1",
          "P1ULV4138.2",
          "P1ULV4139.1",
          "P1ULV4139.2",
          "P1ULV4140.1",
          "P1ULV4140.2",
          "P1ULV4153.1",
          "P1ULV4153.2",
          "P1ULV4153.3",
          "P1ULV4154.1",
          "P1ULV4154.2",
          "P1ULV4154.3",
          "P1ULV4155.1",
          "P1ULV4155.2",
          "P1ULV4188.1",
          "P1ULV4188.2",
          "P1ULV4188.3",
          "P1ULV4189.1",
          "P1ULV4189.2",
          "P1ULV4189.3",
          "P1ULV4193.1",
          "P1ULV4193.2",
          "P1ULV4196.1",
          "P1ULV4196.2",
          "P1ULV4197.1",
          "P1ULV4197.2",
          "P1ULV7531.1",
          "P1ULV7531.2",
          "P1ULV7531.3",
          "P1ULV7543.1",
          "P1ULV7543.2",
          "P1ULV7544.1",
          "P1ULV7544.2",
          "P1ULV7546.1",
          "P1ULV7546.2",
          "P1ULV7547.1",
          "P1ULV7547.2",
          "P1ULV7633.1",
          "P1ULV7633.2"
         ],
         "xaxis": "x",
         "y": [
          1.0248922258873396,
          1.0263378840066157,
          1.0261601707527788,
          1.0264481602546773,
          1.0290755729725405,
          1.0284030575902194,
          1.0286698378549757,
          1.0283885077612709,
          1.028948796023711,
          1.0277187671690244,
          1.0241130347853193,
          1.0262659220638024,
          1.0279382486285296,
          1.0269382000530765,
          1.0278105912785653,
          1.027863780965554,
          1.028129888242524,
          1.0245338865643396,
          1.0299909967977123,
          1.0298013492994582,
          1.0295275597616786,
          1.0299911655793867,
          1.0298013961238992,
          1.0295277696911003,
          1.029754539311547,
          1.024936546409647,
          1.0246380810622704,
          1.0300134990046441,
          1.0299433340529789,
          1.029690393986853,
          1.0299992699025644,
          1.0298810338489268,
          1.029622131297545,
          1.026589197515972,
          1.0261927180610222,
          1.0298007711938537,
          1.0297967881161771,
          1.0271148867942885,
          1.026531726160298,
          1.0295469048734132,
          1.0299903518708078,
          1.029821849694237,
          1.0295469558932908,
          1.0245111885368032,
          1.0276036806751632,
          1.0299847150570107,
          1.0298008000354477,
          1.0295137235984817,
          1.0180427104172103,
          1.0295738717469352,
          1.016780323550726,
          1.0295348902364212,
          1.0281078467569023,
          1.0285071478985293,
          1.0299915908021464,
          1.029848397694387,
          1.0295789512692588,
          1.0258321494344242,
          1.02722538450921,
          1.0299941515547213,
          1.029859309602606,
          1.0295937855495252,
          1.0289052920861095,
          1.028819297766594,
          1.030063521918156,
          1.0299964966154034,
          1.0297740088243317,
          1.0295189710813746,
          1.0293722107910077,
          1.0137174879013189,
          1.0300222547367759,
          1.0299570056232947,
          1.0297031182038578,
          1.0280431362490727,
          1.0288113226109148,
          1.0300289029936476,
          1.0299617390877656,
          1.02971844345238,
          1.0300654508645324,
          1.0300040914440203,
          1.0297923543382086,
          1.0300294659072415,
          1.029962260777749,
          1.0297191313876115,
          1.0286687012537414,
          1.0283940783738597,
          1.0300138455487806,
          1.029943856227224,
          1.0296910823804115,
          1.024543747962598,
          1.0267430834403484,
          1.029774987857975,
          1.0297736699628717,
          1.0281398442142478,
          1.0281325757226771,
          1.030020966480262,
          1.029956010835111,
          1.0297002036658147,
          1.0244903024311396,
          1.0294061958123462,
          1.0241409918228943,
          1.0299546786046745,
          1.0300210712003666,
          1.0299547002789153,
          1.0296999782611407,
          1.0295448052888974,
          1.0215537765987952,
          1.0274318748729894,
          1.029954130065236,
          1.027673263956549,
          1.0259962175649164,
          1.030063108460106,
          1.0299967044098723,
          1.0297750265814556,
          1.0263413658183647,
          1.029859497414723,
          1.0296659803572508,
          1.0300638341293034,
          1.029997172941214,
          1.0297779533213212,
          1.029953426935339,
          1.0225379697566417,
          1.027821674445894,
          1.0300837200927557,
          1.0300296028910805,
          1.0298401307696494,
          1.030065939063092,
          1.0300045173558576,
          1.029792987995165,
          1.028470071053647,
          1.0277924865127184,
          1.0300633440146014,
          1.0299966797299602,
          1.029776094265341,
          1.0272374641743265,
          1.0267130679924308,
          1.0180310579608554,
          1.0297138116592555,
          1.0163888572909001,
          1.0261918624291757,
          1.0292764795354807,
          1.0245956052467147,
          1.0260520323812186,
          1.0263502722054028,
          1.0260000673781966,
          1.0289042332432465,
          1.0288202390041814,
          1.0291865102360989,
          1.0281311929345245,
          1.0297549736361122,
          1.0293151959820153,
          1.0133759390601953,
          1.0280439351615789,
          1.028810609718084,
          1.028670064248348,
          1.0283873717962158,
          1.0291712619796125,
          1.0271843430961998,
          1.0235577723709295,
          1.025669036234391,
          1.0278820363386516,
          1.0269631094851432,
          1.024320590182122,
          1.0296514265558439,
          1.023632144447634,
          1.029639669169666,
          1.0213679930879873,
          1.0273835239738915,
          1.0279911773975177,
          1.0252305049105044,
          1.026035622327308,
          1.0300265561097592,
          1.0296633080945876,
          1.0300467510605054,
          1.0223755020397745,
          1.0277346378648535,
          1.0290737789892421,
          1.0263834914129721,
          1.02644585313733,
          1.0270719397651558,
          1.0276660181723043,
          1.027714535384108,
          1.0302629936945347,
          1.0238741909179672,
          1.0243118772272588,
          1.0239401410503692,
          1.0261136588488233,
          1.024908904547493,
          1.026913270424873,
          1.026541663625492,
          1.0267724449107054,
          1.020021039466629,
          1.0293930252885573,
          1.028240224556801,
          1.0241069110057923
         ],
         "yaxis": "y"
        },
        {
         "mode": "markers",
         "name": "error",
         "type": "scatter",
         "x": [
          "P1UDM3853.1",
          "P1UDM3853.2",
          "P1UDM3854.1",
          "P1UDM3854.2",
          "P1UDM3856.1",
          "P1UDM3856.2",
          "P1UDM3883.1",
          "P1UDM3883.2",
          "P1UDM3884.1",
          "P1UDM3884.2",
          "P1UDM3885.1",
          "P1UDM3885.2",
          "P1UDM3887.1",
          "P1UDM3887.2",
          "P1UDM3888.1",
          "P1UDM3888.2",
          "P1UDM3889.1",
          "P1UDM3889.2",
          "P1UDT1425-P1UDT881X.1",
          "P1UDT1425-P1UDT881X.2",
          "P1UDT1425-P1UDT881X.3",
          "P1UDT1425.1",
          "P1UDT1425.2",
          "P1UDT1425.3",
          "P1UDT1425LV.1",
          "P1UDT1425LV.2",
          "P1UDT1425LV.3",
          "P1UDT1431-P1UDT895X.1",
          "P1UDT1431-P1UDT895X.2",
          "P1UDT1431-P1UDT895X.3",
          "P1UDT1431.1",
          "P1UDT1431.2",
          "P1UDT1431.3",
          "P1UDT1431LV.1",
          "P1UDT1431LV.2",
          "P1UDT1432-P1UDT881X.2",
          "P1UDT1432.2",
          "P1UDT1432LV.1",
          "P1UDT1432LV.2",
          "P1UDT1433-P1UDT882X.3",
          "P1UDT1433.1",
          "P1UDT1433.2",
          "P1UDT1433.3",
          "P1UDT1433LV.1",
          "P1UDT1433LV.2",
          "P1UDT881.1",
          "P1UDT881.2",
          "P1UDT881.3",
          "P1UDT881LV.1",
          "P1UDT881LV.2",
          "P1UDT881LV.3",
          "P1UDT882.3",
          "P1UDT882LV.1",
          "P1UDT882LV.2",
          "P1UDT883.1",
          "P1UDT883.2",
          "P1UDT883.3",
          "P1UDT883LV.1",
          "P1UDT883LV.2",
          "P1UDT884.1",
          "P1UDT884.2",
          "P1UDT884.3",
          "P1UDT884LV.1",
          "P1UDT884LV.2",
          "P1UDT892.1",
          "P1UDT892.2",
          "P1UDT892.3",
          "P1UDT892LV.1",
          "P1UDT892LV.2",
          "P1UDT892LV.3",
          "P1UDT893.1",
          "P1UDT893.2",
          "P1UDT893.3",
          "P1UDT893LV.1",
          "P1UDT893LV.2",
          "P1UDT894-P1UDT895X.1",
          "P1UDT894-P1UDT895X.2",
          "P1UDT894-P1UDT895X.3",
          "P1UDT894-P1UDT942X.1",
          "P1UDT894-P1UDT942X.2",
          "P1UDT894-P1UDT942X.3",
          "P1UDT894.1",
          "P1UDT894.2",
          "P1UDT894.3",
          "P1UDT894LV.1",
          "P1UDT894LV.2",
          "P1UDT895.1",
          "P1UDT895.2",
          "P1UDT895.3",
          "P1UDT895LV.1",
          "P1UDT895LV.2",
          "P1UDT896-P1UDT938X.3",
          "P1UDT896.3",
          "P1UDT896LV.1",
          "P1UDT896LV.2",
          "P1UDT907.1",
          "P1UDT907.2",
          "P1UDT907.3",
          "P1UDT907LV.1",
          "P1UDT907LV.2",
          "P1UDT907LV.3",
          "P1UDT908-P1UDT909X.2",
          "P1UDT908.1",
          "P1UDT908.2",
          "P1UDT908.3",
          "P1UDT908LV.1",
          "P1UDT908LV.2",
          "P1UDT908LV.3",
          "P1UDT909.2",
          "P1UDT909LV.1",
          "P1UDT909LV.2",
          "P1UDT938.1",
          "P1UDT938.2",
          "P1UDT938.3",
          "P1UDT938LV.1",
          "P1UDT938LV.2",
          "P1UDT938LV.3",
          "P1UDT939.1",
          "P1UDT939.2",
          "P1UDT939.3",
          "P1UDT939LV.1",
          "P1UDT939LV.2",
          "P1UDT939LV.3",
          "P1UDT942-P1UHS0_1247X.1",
          "P1UDT942-P1UHS0_1247X.2",
          "P1UDT942-P1UHS0_1247X.3",
          "P1UDT942.1",
          "P1UDT942.2",
          "P1UDT942.3",
          "P1UDT942LV.1",
          "P1UDT942LV.2",
          "P1UDT943.1",
          "P1UDT943.2",
          "P1UDT943.3",
          "P1UDT943LV.1",
          "P1UDT943LV.2",
          "P1ULV4108.1",
          "P1ULV4108.2",
          "P1ULV4108.3",
          "P1ULV4109.1",
          "P1ULV4109.2",
          "P1ULV4110.1",
          "P1ULV4110.2",
          "P1ULV4111.1",
          "P1ULV4111.2",
          "P1ULV4112.1",
          "P1ULV4112.2",
          "P1ULV4113.1",
          "P1ULV4113.2",
          "P1ULV4132.1",
          "P1ULV4132.2",
          "P1ULV4132.3",
          "P1ULV4136.1",
          "P1ULV4136.2",
          "P1ULV4137.1",
          "P1ULV4137.2",
          "P1ULV4138.1",
          "P1ULV4138.2",
          "P1ULV4139.1",
          "P1ULV4139.2",
          "P1ULV4140.1",
          "P1ULV4140.2",
          "P1ULV4153.1",
          "P1ULV4153.2",
          "P1ULV4153.3",
          "P1ULV4154.1",
          "P1ULV4154.2",
          "P1ULV4154.3",
          "P1ULV4155.1",
          "P1ULV4155.2",
          "P1ULV4188.1",
          "P1ULV4188.2",
          "P1ULV4188.3",
          "P1ULV4189.1",
          "P1ULV4189.2",
          "P1ULV4189.3",
          "P1ULV4193.1",
          "P1ULV4193.2",
          "P1ULV4196.1",
          "P1ULV4196.2",
          "P1ULV4197.1",
          "P1ULV4197.2",
          "P1ULV7531.1",
          "P1ULV7531.2",
          "P1ULV7531.3",
          "P1ULV7543.1",
          "P1ULV7543.2",
          "P1ULV7544.1",
          "P1ULV7544.2",
          "P1ULV7546.1",
          "P1ULV7546.2",
          "P1ULV7547.1",
          "P1ULV7547.2",
          "P1ULV7633.1",
          "P1ULV7633.2"
         ],
         "xaxis": "x2",
         "y": [
          0.0017599629769242675,
          0.000457123399179693,
          0.0008658920323840746,
          0.0007204551512898227,
          0.0011580689441563763,
          0.00039728517672243946,
          0.0011608807211465066,
          0.0007620827911183348,
          0.0014422421258302176,
          9.474636680062432e-05,
          0.002853904826693121,
          0.000860182043176172,
          0.002422593753881319,
          0.0011550855231163837,
          0.0011291848325925002,
          0.0009162950645995593,
          0.0042397546787291684,
          0.00037461043090969426,
          0.00045121219926458345,
          0.00016677746725624054,
          7.939870959883244e-05,
          0.00045099743056575825,
          0.00016636031095673687,
          7.957230502686485e-05,
          0.005509246521060884,
          0.000595900365588875,
          0.0003252699323446073,
          0.0002396888744522485,
          0.00010192596225255812,
          0.00012304410244712294,
          0.0003307518058399683,
          0.00013424015959806468,
          0.00010630929458832483,
          0.0005700191183577452,
          0.0011897416660071602,
          0.00018945123667735153,
          0.00019330538415673892,
          0.0004983944606018476,
          0.0012055006837907722,
          8.414059752759329e-05,
          0.0004240135582369575,
          0.00015817116187655245,
          8.408969273987488e-05,
          0.0023494509651180717,
          0.0007135318110265132,
          0.00046431707545036005,
          0.00018947999781038227,
          7.769738500051915e-05,
          0.007133906536542778,
          0.004305953134685847,
          0.00846761340055835,
          7.705309999894716e-05,
          1.9018569538120644e-05,
          0.0003552325565197023,
          0.0003843773084113433,
          0.00014844458866614119,
          9.397451104153909e-05,
          0.00161129635770485,
          0.0003602842937135975,
          0.0003662513971729453,
          0.0001442435544665166,
          9.848980717053202e-05,
          0.0007579247887821161,
          0.0005837729537754299,
          0.00014402982063699277,
          8.001491115616766e-05,
          0.00012154690187249351,
          0.00592127981332391,
          0.005777548132348764,
          0.009856121252951988,
          0.00021740820347360135,
          9.72636942324634e-05,
          0.00013429809396225956,
          1.1169610009131858e-05,
          0.0006752213150000852,
          0.0002054620407256902,
          8.951734883622109e-05,
          0.00012941069054361876,
          0.0001273633270213459,
          5.5654015296280335e-05,
          0.00014284283226451144,
          0.00020472759107081906,
          8.897688035336415e-05,
          0.00012965756658833705,
          0.0008363715238799418,
          0.00044451323023397826,
          0.00023895438108301192,
          0.00010138553406746631,
          0.00012329097171948078,
          0.002831715730404527,
          0.0007910013426526419,
          0.00012203923209042067,
          0.00012066088295670241,
          0.0009673802085392591,
          0.0006943925466549317,
          0.00021857840540184803,
          9.940106792805103e-05,
          0.0001354687967660695,
          2.4832551311471107e-05,
          0.0048862310178479085,
          0.0003579302203391421,
          9.934018509172304e-05,
          0.00021940770669437448,
          9.936180705749642e-05,
          0.00013554935616189034,
          0.001795046949123691,
          0.006249753368086086,
          0.00035180857472805194,
          9.972311895323216e-05,
          0.0006181995248286665,
          0.0023764365091945017,
          0.0001421449235692318,
          7.875128112933005e-05,
          0.00012200062130940381,
          0.0006605756120205974,
          0.0028605743411105333,
          0.002688038619708122,
          0.0001405985814060262,
          7.47302229084923e-05,
          0.00012525857509504412,
          0.003526406033747209,
          0.003888255789215922,
          0.0014147416357896958,
          8.373826528940143e-05,
          2.9618779915363547e-05,
          0.00015985228350468006,
          0.00012785000359083476,
          5.607865733470163e-05,
          0.0001422103502184413,
          0.0011760401698823753,
          0.00025904844892754575,
          0.00014154212753547668,
          7.738515780197908e-05,
          0.00012304783503180872,
          0.0010068303359889175,
          0.0017721354553168478,
          0.006908394369715687,
          0.004682964691778979,
          0.008622032490723353,
          0.0010011379607266502,
          0.002057957566374613,
          0.0018061057838725247,
          0.0004926857142459884,
          0.00043605023478221483,
          0.0009289970152299709,
          0.0009121369545035396,
          0.0007399143431803257,
          0.0014181865849065556,
          0.0002745289423942143,
          0.006477563710279188,
          0.006040805436101859,
          0.009877380500070698,
          0.00043990687653305827,
          0.001124514944252919,
          0.0012925545781379277,
          0.0008922998088580769,
          0.0019228953376377866,
          0.00018167392128054516,
          0.0028942385221568667,
          0.0009428240984254987,
          0.0026423343864880877,
          0.001455655844263104,
          4.986670453410724e-05,
          0.005326191897786936,
          0.0006720581914430035,
          0.0019575240310276687,
          0.006367935523467816,
          0.00033255836233947456,
          9.410019194455721e-05,
          0.0027479511028420944,
          0.0008571854897676534,
          0.0031367639148311977,
          0.002794501430770202,
          0.0037686274065911185,
          0.003901830295201414,
          0.0014766034385047533,
          0.002543008935796287,
          0.00038739668604126365,
          0.0017852577621104704,
          0.001400387918979451,
          0.0012345294896800585,
          0.0010167839616004315,
          0.0064949844311052995,
          1.070990894791457e-05,
          0.00047619478469118626,
          0.002795199858525388,
          0.0007811490690485812,
          0.0013081637266958435,
          0.00047209189982466704,
          0.0007308575544651141,
          0.0006242554738473682,
          0.004397023218368767,
          0.0049421837508567545,
          0.004608954489398354,
          0.0002062317100801625
         ],
         "yaxis": "y2"
        }
       ],
       "layout": {
        "autosize": true,
        "template": {
         "data": {
          "bar": [
           {
            "error_x": {
             "color": "#2a3f5f"
            },
            "error_y": {
             "color": "#2a3f5f"
            },
            "marker": {
             "line": {
              "color": "white",
              "width": 0.5
             },
             "pattern": {
              "fillmode": "overlay",
              "size": 10,
              "solidity": 0.2
             }
            },
            "type": "bar"
           }
          ],
          "barpolar": [
           {
            "marker": {
             "line": {
              "color": "white",
              "width": 0.5
             },
             "pattern": {
              "fillmode": "overlay",
              "size": 10,
              "solidity": 0.2
             }
            },
            "type": "barpolar"
           }
          ],
          "carpet": [
           {
            "aaxis": {
             "endlinecolor": "#2a3f5f",
             "gridcolor": "#C8D4E3",
             "linecolor": "#C8D4E3",
             "minorgridcolor": "#C8D4E3",
             "startlinecolor": "#2a3f5f"
            },
            "baxis": {
             "endlinecolor": "#2a3f5f",
             "gridcolor": "#C8D4E3",
             "linecolor": "#C8D4E3",
             "minorgridcolor": "#C8D4E3",
             "startlinecolor": "#2a3f5f"
            },
            "type": "carpet"
           }
          ],
          "choropleth": [
           {
            "colorbar": {
             "outlinewidth": 0,
             "ticks": ""
            },
            "type": "choropleth"
           }
          ],
          "contour": [
           {
            "colorbar": {
             "outlinewidth": 0,
             "ticks": ""
            },
            "colorscale": [
             [
              0,
              "#0d0887"
             ],
             [
              0.1111111111111111,
              "#46039f"
             ],
             [
              0.2222222222222222,
              "#7201a8"
             ],
             [
              0.3333333333333333,
              "#9c179e"
             ],
             [
              0.4444444444444444,
              "#bd3786"
             ],
             [
              0.5555555555555556,
              "#d8576b"
             ],
             [
              0.6666666666666666,
              "#ed7953"
             ],
             [
              0.7777777777777778,
              "#fb9f3a"
             ],
             [
              0.8888888888888888,
              "#fdca26"
             ],
             [
              1,
              "#f0f921"
             ]
            ],
            "type": "contour"
           }
          ],
          "contourcarpet": [
           {
            "colorbar": {
             "outlinewidth": 0,
             "ticks": ""
            },
            "type": "contourcarpet"
           }
          ],
          "heatmap": [
           {
            "colorbar": {
             "outlinewidth": 0,
             "ticks": ""
            },
            "colorscale": [
             [
              0,
              "#0d0887"
             ],
             [
              0.1111111111111111,
              "#46039f"
             ],
             [
              0.2222222222222222,
              "#7201a8"
             ],
             [
              0.3333333333333333,
              "#9c179e"
             ],
             [
              0.4444444444444444,
              "#bd3786"
             ],
             [
              0.5555555555555556,
              "#d8576b"
             ],
             [
              0.6666666666666666,
              "#ed7953"
             ],
             [
              0.7777777777777778,
              "#fb9f3a"
             ],
             [
              0.8888888888888888,
              "#fdca26"
             ],
             [
              1,
              "#f0f921"
             ]
            ],
            "type": "heatmap"
           }
          ],
          "heatmapgl": [
           {
            "colorbar": {
             "outlinewidth": 0,
             "ticks": ""
            },
            "colorscale": [
             [
              0,
              "#0d0887"
             ],
             [
              0.1111111111111111,
              "#46039f"
             ],
             [
              0.2222222222222222,
              "#7201a8"
             ],
             [
              0.3333333333333333,
              "#9c179e"
             ],
             [
              0.4444444444444444,
              "#bd3786"
             ],
             [
              0.5555555555555556,
              "#d8576b"
             ],
             [
              0.6666666666666666,
              "#ed7953"
             ],
             [
              0.7777777777777778,
              "#fb9f3a"
             ],
             [
              0.8888888888888888,
              "#fdca26"
             ],
             [
              1,
              "#f0f921"
             ]
            ],
            "type": "heatmapgl"
           }
          ],
          "histogram": [
           {
            "marker": {
             "pattern": {
              "fillmode": "overlay",
              "size": 10,
              "solidity": 0.2
             }
            },
            "type": "histogram"
           }
          ],
          "histogram2d": [
           {
            "colorbar": {
             "outlinewidth": 0,
             "ticks": ""
            },
            "colorscale": [
             [
              0,
              "#0d0887"
             ],
             [
              0.1111111111111111,
              "#46039f"
             ],
             [
              0.2222222222222222,
              "#7201a8"
             ],
             [
              0.3333333333333333,
              "#9c179e"
             ],
             [
              0.4444444444444444,
              "#bd3786"
             ],
             [
              0.5555555555555556,
              "#d8576b"
             ],
             [
              0.6666666666666666,
              "#ed7953"
             ],
             [
              0.7777777777777778,
              "#fb9f3a"
             ],
             [
              0.8888888888888888,
              "#fdca26"
             ],
             [
              1,
              "#f0f921"
             ]
            ],
            "type": "histogram2d"
           }
          ],
          "histogram2dcontour": [
           {
            "colorbar": {
             "outlinewidth": 0,
             "ticks": ""
            },
            "colorscale": [
             [
              0,
              "#0d0887"
             ],
             [
              0.1111111111111111,
              "#46039f"
             ],
             [
              0.2222222222222222,
              "#7201a8"
             ],
             [
              0.3333333333333333,
              "#9c179e"
             ],
             [
              0.4444444444444444,
              "#bd3786"
             ],
             [
              0.5555555555555556,
              "#d8576b"
             ],
             [
              0.6666666666666666,
              "#ed7953"
             ],
             [
              0.7777777777777778,
              "#fb9f3a"
             ],
             [
              0.8888888888888888,
              "#fdca26"
             ],
             [
              1,
              "#f0f921"
             ]
            ],
            "type": "histogram2dcontour"
           }
          ],
          "mesh3d": [
           {
            "colorbar": {
             "outlinewidth": 0,
             "ticks": ""
            },
            "type": "mesh3d"
           }
          ],
          "parcoords": [
           {
            "line": {
             "colorbar": {
              "outlinewidth": 0,
              "ticks": ""
             }
            },
            "type": "parcoords"
           }
          ],
          "pie": [
           {
            "automargin": true,
            "type": "pie"
           }
          ],
          "scatter": [
           {
            "fillpattern": {
             "fillmode": "overlay",
             "size": 10,
             "solidity": 0.2
            },
            "type": "scatter"
           }
          ],
          "scatter3d": [
           {
            "line": {
             "colorbar": {
              "outlinewidth": 0,
              "ticks": ""
             }
            },
            "marker": {
             "colorbar": {
              "outlinewidth": 0,
              "ticks": ""
             }
            },
            "type": "scatter3d"
           }
          ],
          "scattercarpet": [
           {
            "marker": {
             "colorbar": {
              "outlinewidth": 0,
              "ticks": ""
             }
            },
            "type": "scattercarpet"
           }
          ],
          "scattergeo": [
           {
            "marker": {
             "colorbar": {
              "outlinewidth": 0,
              "ticks": ""
             }
            },
            "type": "scattergeo"
           }
          ],
          "scattergl": [
           {
            "marker": {
             "colorbar": {
              "outlinewidth": 0,
              "ticks": ""
             }
            },
            "type": "scattergl"
           }
          ],
          "scattermapbox": [
           {
            "marker": {
             "colorbar": {
              "outlinewidth": 0,
              "ticks": ""
             }
            },
            "type": "scattermapbox"
           }
          ],
          "scatterpolar": [
           {
            "marker": {
             "colorbar": {
              "outlinewidth": 0,
              "ticks": ""
             }
            },
            "type": "scatterpolar"
           }
          ],
          "scatterpolargl": [
           {
            "marker": {
             "colorbar": {
              "outlinewidth": 0,
              "ticks": ""
             }
            },
            "type": "scatterpolargl"
           }
          ],
          "scatterternary": [
           {
            "marker": {
             "colorbar": {
              "outlinewidth": 0,
              "ticks": ""
             }
            },
            "type": "scatterternary"
           }
          ],
          "surface": [
           {
            "colorbar": {
             "outlinewidth": 0,
             "ticks": ""
            },
            "colorscale": [
             [
              0,
              "#0d0887"
             ],
             [
              0.1111111111111111,
              "#46039f"
             ],
             [
              0.2222222222222222,
              "#7201a8"
             ],
             [
              0.3333333333333333,
              "#9c179e"
             ],
             [
              0.4444444444444444,
              "#bd3786"
             ],
             [
              0.5555555555555556,
              "#d8576b"
             ],
             [
              0.6666666666666666,
              "#ed7953"
             ],
             [
              0.7777777777777778,
              "#fb9f3a"
             ],
             [
              0.8888888888888888,
              "#fdca26"
             ],
             [
              1,
              "#f0f921"
             ]
            ],
            "type": "surface"
           }
          ],
          "table": [
           {
            "cells": {
             "fill": {
              "color": "#EBF0F8"
             },
             "line": {
              "color": "white"
             }
            },
            "header": {
             "fill": {
              "color": "#C8D4E3"
             },
             "line": {
              "color": "white"
             }
            },
            "type": "table"
           }
          ]
         },
         "layout": {
          "annotationdefaults": {
           "arrowcolor": "#2a3f5f",
           "arrowhead": 0,
           "arrowwidth": 1
          },
          "autotypenumbers": "strict",
          "coloraxis": {
           "colorbar": {
            "outlinewidth": 0,
            "ticks": ""
           }
          },
          "colorscale": {
           "diverging": [
            [
             0,
             "#8e0152"
            ],
            [
             0.1,
             "#c51b7d"
            ],
            [
             0.2,
             "#de77ae"
            ],
            [
             0.3,
             "#f1b6da"
            ],
            [
             0.4,
             "#fde0ef"
            ],
            [
             0.5,
             "#f7f7f7"
            ],
            [
             0.6,
             "#e6f5d0"
            ],
            [
             0.7,
             "#b8e186"
            ],
            [
             0.8,
             "#7fbc41"
            ],
            [
             0.9,
             "#4d9221"
            ],
            [
             1,
             "#276419"
            ]
           ],
           "sequential": [
            [
             0,
             "#0d0887"
            ],
            [
             0.1111111111111111,
             "#46039f"
            ],
            [
             0.2222222222222222,
             "#7201a8"
            ],
            [
             0.3333333333333333,
             "#9c179e"
            ],
            [
             0.4444444444444444,
             "#bd3786"
            ],
            [
             0.5555555555555556,
             "#d8576b"
            ],
            [
             0.6666666666666666,
             "#ed7953"
            ],
            [
             0.7777777777777778,
             "#fb9f3a"
            ],
            [
             0.8888888888888888,
             "#fdca26"
            ],
            [
             1,
             "#f0f921"
            ]
           ],
           "sequentialminus": [
            [
             0,
             "#0d0887"
            ],
            [
             0.1111111111111111,
             "#46039f"
            ],
            [
             0.2222222222222222,
             "#7201a8"
            ],
            [
             0.3333333333333333,
             "#9c179e"
            ],
            [
             0.4444444444444444,
             "#bd3786"
            ],
            [
             0.5555555555555556,
             "#d8576b"
            ],
            [
             0.6666666666666666,
             "#ed7953"
            ],
            [
             0.7777777777777778,
             "#fb9f3a"
            ],
            [
             0.8888888888888888,
             "#fdca26"
            ],
            [
             1,
             "#f0f921"
            ]
           ]
          },
          "colorway": [
           "#636efa",
           "#EF553B",
           "#00cc96",
           "#ab63fa",
           "#FFA15A",
           "#19d3f3",
           "#FF6692",
           "#B6E880",
           "#FF97FF",
           "#FECB52"
          ],
          "font": {
           "color": "#2a3f5f"
          },
          "geo": {
           "bgcolor": "white",
           "lakecolor": "white",
           "landcolor": "white",
           "showlakes": true,
           "showland": true,
           "subunitcolor": "#C8D4E3"
          },
          "hoverlabel": {
           "align": "left"
          },
          "hovermode": "closest",
          "mapbox": {
           "style": "light"
          },
          "paper_bgcolor": "white",
          "plot_bgcolor": "white",
          "polar": {
           "angularaxis": {
            "gridcolor": "#EBF0F8",
            "linecolor": "#EBF0F8",
            "ticks": ""
           },
           "bgcolor": "white",
           "radialaxis": {
            "gridcolor": "#EBF0F8",
            "linecolor": "#EBF0F8",
            "ticks": ""
           }
          },
          "scene": {
           "xaxis": {
            "backgroundcolor": "white",
            "gridcolor": "#DFE8F3",
            "gridwidth": 2,
            "linecolor": "#EBF0F8",
            "showbackground": true,
            "ticks": "",
            "zerolinecolor": "#EBF0F8"
           },
           "yaxis": {
            "backgroundcolor": "white",
            "gridcolor": "#DFE8F3",
            "gridwidth": 2,
            "linecolor": "#EBF0F8",
            "showbackground": true,
            "ticks": "",
            "zerolinecolor": "#EBF0F8"
           },
           "zaxis": {
            "backgroundcolor": "white",
            "gridcolor": "#DFE8F3",
            "gridwidth": 2,
            "linecolor": "#EBF0F8",
            "showbackground": true,
            "ticks": "",
            "zerolinecolor": "#EBF0F8"
           }
          },
          "shapedefaults": {
           "line": {
            "color": "#2a3f5f"
           }
          },
          "ternary": {
           "aaxis": {
            "gridcolor": "#DFE8F3",
            "linecolor": "#A2B1C6",
            "ticks": ""
           },
           "baxis": {
            "gridcolor": "#DFE8F3",
            "linecolor": "#A2B1C6",
            "ticks": ""
           },
           "bgcolor": "white",
           "caxis": {
            "gridcolor": "#DFE8F3",
            "linecolor": "#A2B1C6",
            "ticks": ""
           }
          },
          "title": {
           "x": 0.05
          },
          "xaxis": {
           "automargin": true,
           "gridcolor": "#EBF0F8",
           "linecolor": "#EBF0F8",
           "ticks": "",
           "title": {
            "standoff": 15
           },
           "zerolinecolor": "#EBF0F8",
           "zerolinewidth": 2
          },
          "yaxis": {
           "automargin": true,
           "gridcolor": "#EBF0F8",
           "linecolor": "#EBF0F8",
           "ticks": "",
           "title": {
            "standoff": 15
           },
           "zerolinecolor": "#EBF0F8",
           "zerolinewidth": 2
          }
         }
        },
        "xaxis": {
         "anchor": "y",
         "autorange": true,
         "domain": [
          0,
          0.45
         ],
         "range": [
          -14.470568080586581,
          208.4705680805866
         ],
         "type": "category"
        },
        "xaxis2": {
         "anchor": "y2",
         "autorange": true,
         "domain": [
          0.55,
          1
         ],
         "range": [
          -14.470568080586585,
          208.4705680805866
         ],
         "type": "category"
        },
        "yaxis": {
         "anchor": "x",
         "autorange": true,
         "domain": [
          0,
          1
         ],
         "range": [
          1.011082032794837,
          1.0325568999598929
         ],
         "type": "linear"
        },
        "yaxis2": {
         "anchor": "x2",
         "autorange": true,
         "domain": [
          0,
          1
         ],
         "range": [
          -0.0013295603736612498,
          0.011217650782679863
         ],
         "type": "linear"
        }
       }
      },
      "image/png": "[encoded data removed]",
      "text/html": [
       "<div>                            <div id=\"4ace5241-ab1a-473f-9598-e804ca505a3e\" class=\"plotly-graph-div\" style=\"height:525px; width:100%;\"></div>            <script type=\"text/javascript\">                require([\"plotly\"], function(Plotly) {                    window.PLOTLYENV=window.PLOTLYENV || {};                                    if (document.getElementById(\"4ace5241-ab1a-473f-9598-e804ca505a3e\")) {                    Plotly.newPlot(                        \"4ace5241-ab1a-473f-9598-e804ca505a3e\",                        [{\"mode\":\"markers\",\"name\":\"true\",\"x\":[\"P1UDT942-P1UHS0_1247X.1\",\"P1UDT942-P1UHS0_1247X.2\",\"P1UDT942-P1UHS0_1247X.3\",\"P1UDT882LV.1\",\"P1UDT882LV.2\",\"P1ULV4109.1\",\"P1ULV4109.2\",\"P1UDM3853.1\",\"P1UDM3853.2\",\"P1ULV4110.1\",\"P1ULV4110.2\",\"P1UDT883LV.1\",\"P1UDT883LV.2\",\"P1UDM3854.1\",\"P1UDM3854.2\",\"P1ULV4111.1\",\"P1ULV4111.2\",\"P1UDT884LV.1\",\"P1UDT884LV.2\",\"P1ULV4112.1\",\"P1ULV4112.2\",\"P1UDM3856.1\",\"P1UDM3856.2\",\"P1ULV4113.1\",\"P1ULV4113.2\",\"P1UDT893LV.1\",\"P1UDT893LV.2\",\"P1ULV4136.1\",\"P1ULV4136.2\",\"P1UDM3883.1\",\"P1UDM3883.2\",\"P1ULV4137.1\",\"P1ULV4137.2\",\"P1UDT894LV.1\",\"P1UDT894LV.2\",\"P1UDM3884.1\",\"P1UDM3884.2\",\"P1ULV4138.1\",\"P1ULV4138.2\",\"P1UDT895LV.1\",\"P1UDT895LV.2\",\"P1ULV7543.1\",\"P1ULV7543.2\",\"P1UDM3885.1\",\"P1UDM3885.2\",\"P1ULV4139.1\",\"P1ULV4139.2\",\"P1UDM3887.1\",\"P1UDM3887.2\",\"P1ULV4140.1\",\"P1ULV4140.2\",\"P1UDM3889.1\",\"P1UDM3889.2\",\"P1ULV7633.1\",\"P1ULV7633.2\",\"P1UDT896LV.1\",\"P1UDT896LV.2\",\"P1UDM3888.1\",\"P1UDM3888.2\",\"P1ULV4197.1\",\"P1ULV4197.2\",\"P1UDT909LV.1\",\"P1UDT909LV.2\",\"P1ULV4155.1\",\"P1ULV4155.2\",\"P1UDT942LV.1\",\"P1UDT942LV.2\",\"P1ULV4193.1\",\"P1ULV4193.2\",\"P1UDT943LV.1\",\"P1UDT943LV.2\",\"P1ULV4196.1\",\"P1ULV4196.2\",\"P1UDT1431LV.1\",\"P1UDT1431LV.2\",\"P1ULV7544.1\",\"P1ULV7544.2\",\"P1UDT1432LV.1\",\"P1UDT1432LV.2\",\"P1ULV7546.1\",\"P1ULV7546.2\",\"P1UDT1433LV.1\",\"P1UDT1433LV.2\",\"P1ULV7547.1\",\"P1ULV7547.2\",\"P1UDT908-P1UDT909X.2\",\"P1UDT909.2\",\"P1UDT1433-P1UDT882X.3\",\"P1UDT882.3\",\"P1UDT1432-P1UDT881X.2\",\"P1UDT1432.2\",\"P1UDT896-P1UDT938X.3\",\"P1UDT896.3\",\"P1UDT942.1\",\"P1UDT942.2\",\"P1UDT942.3\",\"P1UDT907LV.1\",\"P1UDT907LV.2\",\"P1UDT907LV.3\",\"P1ULV4153.1\",\"P1ULV4153.2\",\"P1ULV4153.3\",\"P1UDT908LV.1\",\"P1UDT908LV.2\",\"P1UDT908LV.3\",\"P1ULV4154.1\",\"P1ULV4154.2\",\"P1ULV4154.3\",\"P1UDT907.1\",\"P1UDT907.2\",\"P1UDT907.3\",\"P1UDT908.1\",\"P1UDT908.2\",\"P1UDT908.3\",\"P1UDT893.1\",\"P1UDT893.2\",\"P1UDT893.3\",\"P1UDT894.1\",\"P1UDT894.2\",\"P1UDT894.3\",\"P1UDT1425LV.1\",\"P1UDT1425LV.2\",\"P1UDT1425LV.3\",\"P1ULV7531.1\",\"P1ULV7531.2\",\"P1ULV7531.3\",\"P1UDT881LV.1\",\"P1UDT881LV.2\",\"P1UDT881LV.3\",\"P1ULV4108.1\",\"P1ULV4108.2\",\"P1ULV4108.3\",\"P1UDT1425-P1UDT881X.1\",\"P1UDT1425-P1UDT881X.2\",\"P1UDT1425-P1UDT881X.3\",\"P1UDT881.1\",\"P1UDT881.2\",\"P1UDT881.3\",\"P1UDT1433.1\",\"P1UDT1433.2\",\"P1UDT1433.3\",\"P1UDT1425.1\",\"P1UDT1425.2\",\"P1UDT1425.3\",\"P1UDT883.1\",\"P1UDT883.2\",\"P1UDT883.3\",\"P1UDT884.1\",\"P1UDT884.2\",\"P1UDT884.3\",\"P1UDT1431.1\",\"P1UDT1431.2\",\"P1UDT1431.3\",\"P1UDT1431-P1UDT895X.1\",\"P1UDT1431-P1UDT895X.2\",\"P1UDT1431-P1UDT895X.3\",\"P1UDT894-P1UDT895X.1\",\"P1UDT894-P1UDT895X.2\",\"P1UDT894-P1UDT895X.3\",\"P1UDT895.1\",\"P1UDT895.2\",\"P1UDT895.3\",\"P1UDT894-P1UDT942X.1\",\"P1UDT894-P1UDT942X.2\",\"P1UDT894-P1UDT942X.3\",\"P1UDT939LV.1\",\"P1UDT939LV.2\",\"P1UDT939LV.3\",\"P1ULV4189.1\",\"P1ULV4189.2\",\"P1ULV4189.3\",\"P1UDT938LV.1\",\"P1UDT938LV.2\",\"P1UDT938LV.3\",\"P1ULV4188.1\",\"P1ULV4188.2\",\"P1ULV4188.3\",\"P1UDT892LV.1\",\"P1UDT892LV.2\",\"P1UDT892LV.3\",\"P1ULV4132.1\",\"P1ULV4132.2\",\"P1ULV4132.3\",\"P1UDT938.1\",\"P1UDT938.2\",\"P1UDT938.3\",\"P1UDT892.1\",\"P1UDT892.2\",\"P1UDT892.3\",\"P1UDT943.1\",\"P1UDT943.2\",\"P1UDT943.3\",\"P1UDT939.1\",\"P1UDT939.2\",\"P1UDT939.3\"],\"y\":[1.0299999818274663,1.0299999841111651,1.029999983053154,1.0281268653264404,1.0281519153420096,1.0271930003899024,1.0272185219691061,1.026652188864264,1.0267950074057954,1.0264017110305872,1.0265447180954645,1.027443445792129,1.0275856688029237,1.0270260627851628,1.0271686154059672,1.026786322440185,1.0269290643934266,1.0281473672973274,1.0282355248128185,1.027992096288743,1.028080324661001,1.027917504028384,1.028005772413497,1.0277683236511923,1.0278566639921303,1.0280543058590819,1.0281361012959147,1.0276040282850458,1.027686094773831,1.0275089571338292,1.0276264249701526,1.02737750967021,1.0274950719873577,1.0278323297298615,1.0279495651436257,1.0275065538978807,1.0276240208022238,1.0272483666419747,1.0273660170174803,1.0273754636930026,1.027534084783001,1.0267353409088946,1.026894807917872,1.0269669396120125,1.0271261041069786,1.0264520108930864,1.0266118603328165,1.0255156548746482,1.02578311452996,1.0252397019521635,1.0255074536408801,1.0238901335637949,1.02415927613343,1.0236312700674026,1.0239006792957122,1.0271724640057085,1.0274381831760222,1.0266814064459728,1.0269474859009544,1.0264314886826242,1.0266977514225075,1.0282914634813776,1.028372654074111,1.027897077205573,1.0279784560133465,1.0272940308837646,1.0275334380637908,1.0265307700534458,1.0267708880990134,1.0282442945103154,1.0284852034477476,1.0282311108994404,1.0284723276841352,1.0271592166343297,1.0273824597270294,1.026217068274189,1.0264411785250482,1.0276132812548904,1.0277372268440887,1.0272725211799572,1.0273967003845528,1.0268606395019213,1.0268901488641367,1.0244180626849977,1.0244508415377005,1.0298553384195828,1.0298544069462827,1.0296310454709408,1.0296119433364201,1.0296113199571764,1.0296034827320204,1.0298970270900654,1.0298943308458284,1.0299380890595011,1.029948438698523,1.0299351983453835,1.0244654698798281,1.0245199647944983,1.0244989220432335,1.0242707234775879,1.024325234658057,1.024304202639077,1.0277497583397737,1.0278035299668813,1.0277836834477174,1.0276821451386384,1.0277359286114551,1.027716082336231,1.0298023880748601,1.0298566097671829,1.0298356724625808,1.0298016634936722,1.0298553384718578,1.0298355276173026,1.0298048465333023,1.0298597419290623,1.02983741629782,1.0298247383161707,1.0298732838973956,1.0298487889541998,1.0242452927904862,1.024340646044058,1.0243128111299258,1.0237680092634294,1.0238634810090192,1.0238356824425676,1.025176616953753,1.0252679186122493,1.0252479369512844,1.024939452330571,1.0250308469674765,1.0250108897816235,1.0295397845984477,1.029634571832202,1.0296069584712775,1.0295203979815604,1.0296113200376373,1.0295914209834822,1.0295663383125708,1.0296636785323605,1.0296310455860307,1.029540168148821,1.0296350358129425,1.0296073419961271,1.029607213493735,1.029699953105721,1.0296729257803003,1.0296279001575483,1.0297150660481396,1.0296922753566957,1.0296685180967244,1.0297467936893288,1.0297284405921334,1.0297738101301919,1.0298414080907263,1.0298134380893,1.0298234409529219,1.0298722217389293,1.0298478541429237,1.0297748911676976,1.0298424706931566,1.029814373352131,1.029938087537511,1.029948437428724,1.029935197170473,1.0264270209015918,1.0264262255458576,1.0264069328101042,1.0262781236539142,1.0262773323349759,1.0262580344263488,1.0270019414303853,1.0269989230736125,1.0269779417375426,1.0268928078170756,1.026889792194928,1.0268688066638174,1.0235976912680507,1.023594662658659,1.0235736091542709,1.023277409925833,1.0232743905459134,1.023253319560266,1.0299209635365367,1.029917953128743,1.029897027202765,1.029919492097519,1.0299164817042472,1.0298955557262042,1.029921801887066,1.0299192945721583,1.0298991421003727,1.0299232355478973,1.0299224427183056,1.0299032118964162],\"type\":\"scatter\",\"xaxis\":\"x\",\"yaxis\":\"y\"},{\"mode\":\"markers\",\"name\":\"est\",\"x\":[\"P1UDM3853.1\",\"P1UDM3853.2\",\"P1UDM3854.1\",\"P1UDM3854.2\",\"P1UDM3856.1\",\"P1UDM3856.2\",\"P1UDM3883.1\",\"P1UDM3883.2\",\"P1UDM3884.1\",\"P1UDM3884.2\",\"P1UDM3885.1\",\"P1UDM3885.2\",\"P1UDM3887.1\",\"P1UDM3887.2\",\"P1UDM3888.1\",\"P1UDM3888.2\",\"P1UDM3889.1\",\"P1UDM3889.2\",\"P1UDT1425-P1UDT881X.1\",\"P1UDT1425-P1UDT881X.2\",\"P1UDT1425-P1UDT881X.3\",\"P1UDT1425.1\",\"P1UDT1425.2\",\"P1UDT1425.3\",\"P1UDT1425LV.1\",\"P1UDT1425LV.2\",\"P1UDT1425LV.3\",\"P1UDT1431-P1UDT895X.1\",\"P1UDT1431-P1UDT895X.2\",\"P1UDT1431-P1UDT895X.3\",\"P1UDT1431.1\",\"P1UDT1431.2\",\"P1UDT1431.3\",\"P1UDT1431LV.1\",\"P1UDT1431LV.2\",\"P1UDT1432-P1UDT881X.2\",\"P1UDT1432.2\",\"P1UDT1432LV.1\",\"P1UDT1432LV.2\",\"P1UDT1433-P1UDT882X.3\",\"P1UDT1433.1\",\"P1UDT1433.2\",\"P1UDT1433.3\",\"P1UDT1433LV.1\",\"P1UDT1433LV.2\",\"P1UDT881.1\",\"P1UDT881.2\",\"P1UDT881.3\",\"P1UDT881LV.1\",\"P1UDT881LV.2\",\"P1UDT881LV.3\",\"P1UDT882.3\",\"P1UDT882LV.1\",\"P1UDT882LV.2\",\"P1UDT883.1\",\"P1UDT883.2\",\"P1UDT883.3\",\"P1UDT883LV.1\",\"P1UDT883LV.2\",\"P1UDT884.1\",\"P1UDT884.2\",\"P1UDT884.3\",\"P1UDT884LV.1\",\"P1UDT884LV.2\",\"P1UDT892.1\",\"P1UDT892.2\",\"P1UDT892.3\",\"P1UDT892LV.1\",\"P1UDT892LV.2\",\"P1UDT892LV.3\",\"P1UDT893.1\",\"P1UDT893.2\",\"P1UDT893.3\",\"P1UDT893LV.1\",\"P1UDT893LV.2\",\"P1UDT894-P1UDT895X.1\",\"P1UDT894-P1UDT895X.2\",\"P1UDT894-P1UDT895X.3\",\"P1UDT894-P1UDT942X.1\",\"P1UDT894-P1UDT942X.2\",\"P1UDT894-P1UDT942X.3\",\"P1UDT894.1\",\"P1UDT894.2\",\"P1UDT894.3\",\"P1UDT894LV.1\",\"P1UDT894LV.2\",\"P1UDT895.1\",\"P1UDT895.2\",\"P1UDT895.3\",\"P1UDT895LV.1\",\"P1UDT895LV.2\",\"P1UDT896-P1UDT938X.3\",\"P1UDT896.3\",\"P1UDT896LV.1\",\"P1UDT896LV.2\",\"P1UDT907.1\",\"P1UDT907.2\",\"P1UDT907.3\",\"P1UDT907LV.1\",\"P1UDT907LV.2\",\"P1UDT907LV.3\",\"P1UDT908-P1UDT909X.2\",\"P1UDT908.1\",\"P1UDT908.2\",\"P1UDT908.3\",\"P1UDT908LV.1\",\"P1UDT908LV.2\",\"P1UDT908LV.3\",\"P1UDT909.2\",\"P1UDT909LV.1\",\"P1UDT909LV.2\",\"P1UDT938.1\",\"P1UDT938.2\",\"P1UDT938.3\",\"P1UDT938LV.1\",\"P1UDT938LV.2\",\"P1UDT938LV.3\",\"P1UDT939.1\",\"P1UDT939.2\",\"P1UDT939.3\",\"P1UDT939LV.1\",\"P1UDT939LV.2\",\"P1UDT939LV.3\",\"P1UDT942-P1UHS0_1247X.1\",\"P1UDT942-P1UHS0_1247X.2\",\"P1UDT942-P1UHS0_1247X.3\",\"P1UDT942.1\",\"P1UDT942.2\",\"P1UDT942.3\",\"P1UDT942LV.1\",\"P1UDT942LV.2\",\"P1UDT943.1\",\"P1UDT943.2\",\"P1UDT943.3\",\"P1UDT943LV.1\",\"P1UDT943LV.2\",\"P1ULV4108.1\",\"P1ULV4108.2\",\"P1ULV4108.3\",\"P1ULV4109.1\",\"P1ULV4109.2\",\"P1ULV4110.1\",\"P1ULV4110.2\",\"P1ULV4111.1\",\"P1ULV4111.2\",\"P1ULV4112.1\",\"P1ULV4112.2\",\"P1ULV4113.1\",\"P1ULV4113.2\",\"P1ULV4132.1\",\"P1ULV4132.2\",\"P1ULV4132.3\",\"P1ULV4136.1\",\"P1ULV4136.2\",\"P1ULV4137.1\",\"P1ULV4137.2\",\"P1ULV4138.1\",\"P1ULV4138.2\",\"P1ULV4139.1\",\"P1ULV4139.2\",\"P1ULV4140.1\",\"P1ULV4140.2\",\"P1ULV4153.1\",\"P1ULV4153.2\",\"P1ULV4153.3\",\"P1ULV4154.1\",\"P1ULV4154.2\",\"P1ULV4154.3\",\"P1ULV4155.1\",\"P1ULV4155.2\",\"P1ULV4188.1\",\"P1ULV4188.2\",\"P1ULV4188.3\",\"P1ULV4189.1\",\"P1ULV4189.2\",\"P1ULV4189.3\",\"P1ULV4193.1\",\"P1ULV4193.2\",\"P1ULV4196.1\",\"P1ULV4196.2\",\"P1ULV4197.1\",\"P1ULV4197.2\",\"P1ULV7531.1\",\"P1ULV7531.2\",\"P1ULV7531.3\",\"P1ULV7543.1\",\"P1ULV7543.2\",\"P1ULV7544.1\",\"P1ULV7544.2\",\"P1ULV7546.1\",\"P1ULV7546.2\",\"P1ULV7547.1\",\"P1ULV7547.2\",\"P1ULV7633.1\",\"P1ULV7633.2\"],\"y\":[1.0248922258873396,1.0263378840066157,1.0261601707527788,1.0264481602546773,1.0290755729725405,1.0284030575902194,1.0286698378549757,1.0283885077612709,1.028948796023711,1.0277187671690244,1.0241130347853193,1.0262659220638024,1.0279382486285296,1.0269382000530765,1.0278105912785653,1.027863780965554,1.028129888242524,1.0245338865643396,1.0299909967977123,1.0298013492994582,1.0295275597616786,1.0299911655793867,1.0298013961238992,1.0295277696911003,1.029754539311547,1.024936546409647,1.0246380810622704,1.0300134990046441,1.0299433340529789,1.029690393986853,1.0299992699025644,1.0298810338489268,1.029622131297545,1.026589197515972,1.0261927180610222,1.0298007711938537,1.0297967881161771,1.0271148867942885,1.026531726160298,1.0295469048734132,1.0299903518708078,1.029821849694237,1.0295469558932908,1.0245111885368032,1.0276036806751632,1.0299847150570107,1.0298008000354477,1.0295137235984817,1.0180427104172103,1.0295738717469352,1.016780323550726,1.0295348902364212,1.0281078467569023,1.0285071478985293,1.0299915908021464,1.029848397694387,1.0295789512692588,1.0258321494344242,1.02722538450921,1.0299941515547213,1.029859309602606,1.0295937855495252,1.0289052920861095,1.028819297766594,1.030063521918156,1.0299964966154034,1.0297740088243317,1.0295189710813746,1.0293722107910077,1.0137174879013189,1.0300222547367759,1.0299570056232947,1.0297031182038578,1.0280431362490727,1.0288113226109148,1.0300289029936476,1.0299617390877656,1.02971844345238,1.0300654508645324,1.0300040914440203,1.0297923543382086,1.0300294659072415,1.029962260777749,1.0297191313876115,1.0286687012537414,1.0283940783738597,1.0300138455487806,1.029943856227224,1.0296910823804115,1.024543747962598,1.0267430834403484,1.029774987857975,1.0297736699628717,1.0281398442142478,1.0281325757226771,1.030020966480262,1.029956010835111,1.0297002036658147,1.0244903024311396,1.0294061958123462,1.0241409918228943,1.0299546786046745,1.0300210712003666,1.0299547002789153,1.0296999782611407,1.0295448052888974,1.0215537765987952,1.0274318748729894,1.029954130065236,1.027673263956549,1.0259962175649164,1.030063108460106,1.0299967044098723,1.0297750265814556,1.0263413658183647,1.029859497414723,1.0296659803572508,1.0300638341293034,1.029997172941214,1.0297779533213212,1.029953426935339,1.0225379697566417,1.027821674445894,1.0300837200927557,1.0300296028910805,1.0298401307696494,1.030065939063092,1.0300045173558576,1.029792987995165,1.028470071053647,1.0277924865127184,1.0300633440146014,1.0299966797299602,1.029776094265341,1.0272374641743265,1.0267130679924308,1.0180310579608554,1.0297138116592555,1.0163888572909001,1.0261918624291757,1.0292764795354807,1.0245956052467147,1.0260520323812186,1.0263502722054028,1.0260000673781966,1.0289042332432465,1.0288202390041814,1.0291865102360989,1.0281311929345245,1.0297549736361122,1.0293151959820153,1.0133759390601953,1.0280439351615789,1.028810609718084,1.028670064248348,1.0283873717962158,1.0291712619796125,1.0271843430961998,1.0235577723709295,1.025669036234391,1.0278820363386516,1.0269631094851432,1.024320590182122,1.0296514265558439,1.023632144447634,1.029639669169666,1.0213679930879873,1.0273835239738915,1.0279911773975177,1.0252305049105044,1.026035622327308,1.0300265561097592,1.0296633080945876,1.0300467510605054,1.0223755020397745,1.0277346378648535,1.0290737789892421,1.0263834914129721,1.02644585313733,1.0270719397651558,1.0276660181723043,1.027714535384108,1.0302629936945347,1.0238741909179672,1.0243118772272588,1.0239401410503692,1.0261136588488233,1.024908904547493,1.026913270424873,1.026541663625492,1.0267724449107054,1.020021039466629,1.0293930252885573,1.028240224556801,1.0241069110057923],\"type\":\"scatter\",\"xaxis\":\"x\",\"yaxis\":\"y\"},{\"mode\":\"markers\",\"name\":\"error\",\"x\":[\"P1UDM3853.1\",\"P1UDM3853.2\",\"P1UDM3854.1\",\"P1UDM3854.2\",\"P1UDM3856.1\",\"P1UDM3856.2\",\"P1UDM3883.1\",\"P1UDM3883.2\",\"P1UDM3884.1\",\"P1UDM3884.2\",\"P1UDM3885.1\",\"P1UDM3885.2\",\"P1UDM3887.1\",\"P1UDM3887.2\",\"P1UDM3888.1\",\"P1UDM3888.2\",\"P1UDM3889.1\",\"P1UDM3889.2\",\"P1UDT1425-P1UDT881X.1\",\"P1UDT1425-P1UDT881X.2\",\"P1UDT1425-P1UDT881X.3\",\"P1UDT1425.1\",\"P1UDT1425.2\",\"P1UDT1425.3\",\"P1UDT1425LV.1\",\"P1UDT1425LV.2\",\"P1UDT1425LV.3\",\"P1UDT1431-P1UDT895X.1\",\"P1UDT1431-P1UDT895X.2\",\"P1UDT1431-P1UDT895X.3\",\"P1UDT1431.1\",\"P1UDT1431.2\",\"P1UDT1431.3\",\"P1UDT1431LV.1\",\"P1UDT1431LV.2\",\"P1UDT1432-P1UDT881X.2\",\"P1UDT1432.2\",\"P1UDT1432LV.1\",\"P1UDT1432LV.2\",\"P1UDT1433-P1UDT882X.3\",\"P1UDT1433.1\",\"P1UDT1433.2\",\"P1UDT1433.3\",\"P1UDT1433LV.1\",\"P1UDT1433LV.2\",\"P1UDT881.1\",\"P1UDT881.2\",\"P1UDT881.3\",\"P1UDT881LV.1\",\"P1UDT881LV.2\",\"P1UDT881LV.3\",\"P1UDT882.3\",\"P1UDT882LV.1\",\"P1UDT882LV.2\",\"P1UDT883.1\",\"P1UDT883.2\",\"P1UDT883.3\",\"P1UDT883LV.1\",\"P1UDT883LV.2\",\"P1UDT884.1\",\"P1UDT884.2\",\"P1UDT884.3\",\"P1UDT884LV.1\",\"P1UDT884LV.2\",\"P1UDT892.1\",\"P1UDT892.2\",\"P1UDT892.3\",\"P1UDT892LV.1\",\"P1UDT892LV.2\",\"P1UDT892LV.3\",\"P1UDT893.1\",\"P1UDT893.2\",\"P1UDT893.3\",\"P1UDT893LV.1\",\"P1UDT893LV.2\",\"P1UDT894-P1UDT895X.1\",\"P1UDT894-P1UDT895X.2\",\"P1UDT894-P1UDT895X.3\",\"P1UDT894-P1UDT942X.1\",\"P1UDT894-P1UDT942X.2\",\"P1UDT894-P1UDT942X.3\",\"P1UDT894.1\",\"P1UDT894.2\",\"P1UDT894.3\",\"P1UDT894LV.1\",\"P1UDT894LV.2\",\"P1UDT895.1\",\"P1UDT895.2\",\"P1UDT895.3\",\"P1UDT895LV.1\",\"P1UDT895LV.2\",\"P1UDT896-P1UDT938X.3\",\"P1UDT896.3\",\"P1UDT896LV.1\",\"P1UDT896LV.2\",\"P1UDT907.1\",\"P1UDT907.2\",\"P1UDT907.3\",\"P1UDT907LV.1\",\"P1UDT907LV.2\",\"P1UDT907LV.3\",\"P1UDT908-P1UDT909X.2\",\"P1UDT908.1\",\"P1UDT908.2\",\"P1UDT908.3\",\"P1UDT908LV.1\",\"P1UDT908LV.2\",\"P1UDT908LV.3\",\"P1UDT909.2\",\"P1UDT909LV.1\",\"P1UDT909LV.2\",\"P1UDT938.1\",\"P1UDT938.2\",\"P1UDT938.3\",\"P1UDT938LV.1\",\"P1UDT938LV.2\",\"P1UDT938LV.3\",\"P1UDT939.1\",\"P1UDT939.2\",\"P1UDT939.3\",\"P1UDT939LV.1\",\"P1UDT939LV.2\",\"P1UDT939LV.3\",\"P1UDT942-P1UHS0_1247X.1\",\"P1UDT942-P1UHS0_1247X.2\",\"P1UDT942-P1UHS0_1247X.3\",\"P1UDT942.1\",\"P1UDT942.2\",\"P1UDT942.3\",\"P1UDT942LV.1\",\"P1UDT942LV.2\",\"P1UDT943.1\",\"P1UDT943.2\",\"P1UDT943.3\",\"P1UDT943LV.1\",\"P1UDT943LV.2\",\"P1ULV4108.1\",\"P1ULV4108.2\",\"P1ULV4108.3\",\"P1ULV4109.1\",\"P1ULV4109.2\",\"P1ULV4110.1\",\"P1ULV4110.2\",\"P1ULV4111.1\",\"P1ULV4111.2\",\"P1ULV4112.1\",\"P1ULV4112.2\",\"P1ULV4113.1\",\"P1ULV4113.2\",\"P1ULV4132.1\",\"P1ULV4132.2\",\"P1ULV4132.3\",\"P1ULV4136.1\",\"P1ULV4136.2\",\"P1ULV4137.1\",\"P1ULV4137.2\",\"P1ULV4138.1\",\"P1ULV4138.2\",\"P1ULV4139.1\",\"P1ULV4139.2\",\"P1ULV4140.1\",\"P1ULV4140.2\",\"P1ULV4153.1\",\"P1ULV4153.2\",\"P1ULV4153.3\",\"P1ULV4154.1\",\"P1ULV4154.2\",\"P1ULV4154.3\",\"P1ULV4155.1\",\"P1ULV4155.2\",\"P1ULV4188.1\",\"P1ULV4188.2\",\"P1ULV4188.3\",\"P1ULV4189.1\",\"P1ULV4189.2\",\"P1ULV4189.3\",\"P1ULV4193.1\",\"P1ULV4193.2\",\"P1ULV4196.1\",\"P1ULV4196.2\",\"P1ULV4197.1\",\"P1ULV4197.2\",\"P1ULV7531.1\",\"P1ULV7531.2\",\"P1ULV7531.3\",\"P1ULV7543.1\",\"P1ULV7543.2\",\"P1ULV7544.1\",\"P1ULV7544.2\",\"P1ULV7546.1\",\"P1ULV7546.2\",\"P1ULV7547.1\",\"P1ULV7547.2\",\"P1ULV7633.1\",\"P1ULV7633.2\"],\"y\":[0.0017599629769242675,0.000457123399179693,0.0008658920323840746,0.0007204551512898227,0.0011580689441563763,0.00039728517672243946,0.0011608807211465066,0.0007620827911183348,0.0014422421258302176,9.474636680062432e-05,0.002853904826693121,0.000860182043176172,0.002422593753881319,0.0011550855231163837,0.0011291848325925002,0.0009162950645995593,0.0042397546787291684,0.00037461043090969426,0.00045121219926458345,0.00016677746725624054,7.939870959883244e-05,0.00045099743056575825,0.00016636031095673687,7.957230502686485e-05,0.005509246521060884,0.000595900365588875,0.0003252699323446073,0.0002396888744522485,0.00010192596225255812,0.00012304410244712294,0.0003307518058399683,0.00013424015959806468,0.00010630929458832483,0.0005700191183577452,0.0011897416660071602,0.00018945123667735153,0.00019330538415673892,0.0004983944606018476,0.0012055006837907722,8.414059752759329e-05,0.0004240135582369575,0.00015817116187655245,8.408969273987488e-05,0.0023494509651180717,0.0007135318110265132,0.00046431707545036005,0.00018947999781038227,7.769738500051915e-05,0.007133906536542778,0.004305953134685847,0.00846761340055835,7.705309999894716e-05,1.9018569538120644e-05,0.0003552325565197023,0.0003843773084113433,0.00014844458866614119,9.397451104153909e-05,0.00161129635770485,0.0003602842937135975,0.0003662513971729453,0.0001442435544665166,9.848980717053202e-05,0.0007579247887821161,0.0005837729537754299,0.00014402982063699277,8.001491115616766e-05,0.00012154690187249351,0.00592127981332391,0.005777548132348764,0.009856121252951988,0.00021740820347360135,9.72636942324634e-05,0.00013429809396225956,1.1169610009131858e-05,0.0006752213150000852,0.0002054620407256902,8.951734883622109e-05,0.00012941069054361876,0.0001273633270213459,5.5654015296280335e-05,0.00014284283226451144,0.00020472759107081906,8.897688035336415e-05,0.00012965756658833705,0.0008363715238799418,0.00044451323023397826,0.00023895438108301192,0.00010138553406746631,0.00012329097171948078,0.002831715730404527,0.0007910013426526419,0.00012203923209042067,0.00012066088295670241,0.0009673802085392591,0.0006943925466549317,0.00021857840540184803,9.940106792805103e-05,0.0001354687967660695,2.4832551311471107e-05,0.0048862310178479085,0.0003579302203391421,9.934018509172304e-05,0.00021940770669437448,9.936180705749642e-05,0.00013554935616189034,0.001795046949123691,0.006249753368086086,0.00035180857472805194,9.972311895323216e-05,0.0006181995248286665,0.0023764365091945017,0.0001421449235692318,7.875128112933005e-05,0.00012200062130940381,0.0006605756120205974,0.0028605743411105333,0.002688038619708122,0.0001405985814060262,7.47302229084923e-05,0.00012525857509504412,0.003526406033747209,0.003888255789215922,0.0014147416357896958,8.373826528940143e-05,2.9618779915363547e-05,0.00015985228350468006,0.00012785000359083476,5.607865733470163e-05,0.0001422103502184413,0.0011760401698823753,0.00025904844892754575,0.00014154212753547668,7.738515780197908e-05,0.00012304783503180872,0.0010068303359889175,0.0017721354553168478,0.006908394369715687,0.004682964691778979,0.008622032490723353,0.0010011379607266502,0.002057957566374613,0.0018061057838725247,0.0004926857142459884,0.00043605023478221483,0.0009289970152299709,0.0009121369545035396,0.0007399143431803257,0.0014181865849065556,0.0002745289423942143,0.006477563710279188,0.006040805436101859,0.009877380500070698,0.00043990687653305827,0.001124514944252919,0.0012925545781379277,0.0008922998088580769,0.0019228953376377866,0.00018167392128054516,0.0028942385221568667,0.0009428240984254987,0.0026423343864880877,0.001455655844263104,4.986670453410724e-05,0.005326191897786936,0.0006720581914430035,0.0019575240310276687,0.006367935523467816,0.00033255836233947456,9.410019194455721e-05,0.0027479511028420944,0.0008571854897676534,0.0031367639148311977,0.002794501430770202,0.0037686274065911185,0.003901830295201414,0.0014766034385047533,0.002543008935796287,0.00038739668604126365,0.0017852577621104704,0.001400387918979451,0.0012345294896800585,0.0010167839616004315,0.0064949844311052995,1.070990894791457e-05,0.00047619478469118626,0.002795199858525388,0.0007811490690485812,0.0013081637266958435,0.00047209189982466704,0.0007308575544651141,0.0006242554738473682,0.004397023218368767,0.0049421837508567545,0.004608954489398354,0.0002062317100801625],\"type\":\"scatter\",\"xaxis\":\"x2\",\"yaxis\":\"y2\"}],                        {\"template\":{\"data\":{\"barpolar\":[{\"marker\":{\"line\":{\"color\":\"white\",\"width\":0.5},\"pattern\":{\"fillmode\":\"overlay\",\"size\":10,\"solidity\":0.2}},\"type\":\"barpolar\"}],\"bar\":[{\"error_x\":{\"color\":\"#2a3f5f\"},\"error_y\":{\"color\":\"#2a3f5f\"},\"marker\":{\"line\":{\"color\":\"white\",\"width\":0.5},\"pattern\":{\"fillmode\":\"overlay\",\"size\":10,\"solidity\":0.2}},\"type\":\"bar\"}],\"carpet\":[{\"aaxis\":{\"endlinecolor\":\"#2a3f5f\",\"gridcolor\":\"#C8D4E3\",\"linecolor\":\"#C8D4E3\",\"minorgridcolor\":\"#C8D4E3\",\"startlinecolor\":\"#2a3f5f\"},\"baxis\":{\"endlinecolor\":\"#2a3f5f\",\"gridcolor\":\"#C8D4E3\",\"linecolor\":\"#C8D4E3\",\"minorgridcolor\":\"#C8D4E3\",\"startlinecolor\":\"#2a3f5f\"},\"type\":\"carpet\"}],\"choropleth\":[{\"colorbar\":{\"outlinewidth\":0,\"ticks\":\"\"},\"type\":\"choropleth\"}],\"contourcarpet\":[{\"colorbar\":{\"outlinewidth\":0,\"ticks\":\"\"},\"type\":\"contourcarpet\"}],\"contour\":[{\"colorbar\":{\"outlinewidth\":0,\"ticks\":\"\"},\"colorscale\":[[0.0,\"#0d0887\"],[0.1111111111111111,\"#46039f\"],[0.2222222222222222,\"#7201a8\"],[0.3333333333333333,\"#9c179e\"],[0.4444444444444444,\"#bd3786\"],[0.5555555555555556,\"#d8576b\"],[0.6666666666666666,\"#ed7953\"],[0.7777777777777778,\"#fb9f3a\"],[0.8888888888888888,\"#fdca26\"],[1.0,\"#f0f921\"]],\"type\":\"contour\"}],\"heatmapgl\":[{\"colorbar\":{\"outlinewidth\":0,\"ticks\":\"\"},\"colorscale\":[[0.0,\"#0d0887\"],[0.1111111111111111,\"#46039f\"],[0.2222222222222222,\"#7201a8\"],[0.3333333333333333,\"#9c179e\"],[0.4444444444444444,\"#bd3786\"],[0.5555555555555556,\"#d8576b\"],[0.6666666666666666,\"#ed7953\"],[0.7777777777777778,\"#fb9f3a\"],[0.8888888888888888,\"#fdca26\"],[1.0,\"#f0f921\"]],\"type\":\"heatmapgl\"}],\"heatmap\":[{\"colorbar\":{\"outlinewidth\":0,\"ticks\":\"\"},\"colorscale\":[[0.0,\"#0d0887\"],[0.1111111111111111,\"#46039f\"],[0.2222222222222222,\"#7201a8\"],[0.3333333333333333,\"#9c179e\"],[0.4444444444444444,\"#bd3786\"],[0.5555555555555556,\"#d8576b\"],[0.6666666666666666,\"#ed7953\"],[0.7777777777777778,\"#fb9f3a\"],[0.8888888888888888,\"#fdca26\"],[1.0,\"#f0f921\"]],\"type\":\"heatmap\"}],\"histogram2dcontour\":[{\"colorbar\":{\"outlinewidth\":0,\"ticks\":\"\"},\"colorscale\":[[0.0,\"#0d0887\"],[0.1111111111111111,\"#46039f\"],[0.2222222222222222,\"#7201a8\"],[0.3333333333333333,\"#9c179e\"],[0.4444444444444444,\"#bd3786\"],[0.5555555555555556,\"#d8576b\"],[0.6666666666666666,\"#ed7953\"],[0.7777777777777778,\"#fb9f3a\"],[0.8888888888888888,\"#fdca26\"],[1.0,\"#f0f921\"]],\"type\":\"histogram2dcontour\"}],\"histogram2d\":[{\"colorbar\":{\"outlinewidth\":0,\"ticks\":\"\"},\"colorscale\":[[0.0,\"#0d0887\"],[0.1111111111111111,\"#46039f\"],[0.2222222222222222,\"#7201a8\"],[0.3333333333333333,\"#9c179e\"],[0.4444444444444444,\"#bd3786\"],[0.5555555555555556,\"#d8576b\"],[0.6666666666666666,\"#ed7953\"],[0.7777777777777778,\"#fb9f3a\"],[0.8888888888888888,\"#fdca26\"],[1.0,\"#f0f921\"]],\"type\":\"histogram2d\"}],\"histogram\":[{\"marker\":{\"pattern\":{\"fillmode\":\"overlay\",\"size\":10,\"solidity\":0.2}},\"type\":\"histogram\"}],\"mesh3d\":[{\"colorbar\":{\"outlinewidth\":0,\"ticks\":\"\"},\"type\":\"mesh3d\"}],\"parcoords\":[{\"line\":{\"colorbar\":{\"outlinewidth\":0,\"ticks\":\"\"}},\"type\":\"parcoords\"}],\"pie\":[{\"automargin\":true,\"type\":\"pie\"}],\"scatter3d\":[{\"line\":{\"colorbar\":{\"outlinewidth\":0,\"ticks\":\"\"}},\"marker\":{\"colorbar\":{\"outlinewidth\":0,\"ticks\":\"\"}},\"type\":\"scatter3d\"}],\"scattercarpet\":[{\"marker\":{\"colorbar\":{\"outlinewidth\":0,\"ticks\":\"\"}},\"type\":\"scattercarpet\"}],\"scattergeo\":[{\"marker\":{\"colorbar\":{\"outlinewidth\":0,\"ticks\":\"\"}},\"type\":\"scattergeo\"}],\"scattergl\":[{\"marker\":{\"colorbar\":{\"outlinewidth\":0,\"ticks\":\"\"}},\"type\":\"scattergl\"}],\"scattermapbox\":[{\"marker\":{\"colorbar\":{\"outlinewidth\":0,\"ticks\":\"\"}},\"type\":\"scattermapbox\"}],\"scatterpolargl\":[{\"marker\":{\"colorbar\":{\"outlinewidth\":0,\"ticks\":\"\"}},\"type\":\"scatterpolargl\"}],\"scatterpolar\":[{\"marker\":{\"colorbar\":{\"outlinewidth\":0,\"ticks\":\"\"}},\"type\":\"scatterpolar\"}],\"scatter\":[{\"fillpattern\":{\"fillmode\":\"overlay\",\"size\":10,\"solidity\":0.2},\"type\":\"scatter\"}],\"scatterternary\":[{\"marker\":{\"colorbar\":{\"outlinewidth\":0,\"ticks\":\"\"}},\"type\":\"scatterternary\"}],\"surface\":[{\"colorbar\":{\"outlinewidth\":0,\"ticks\":\"\"},\"colorscale\":[[0.0,\"#0d0887\"],[0.1111111111111111,\"#46039f\"],[0.2222222222222222,\"#7201a8\"],[0.3333333333333333,\"#9c179e\"],[0.4444444444444444,\"#bd3786\"],[0.5555555555555556,\"#d8576b\"],[0.6666666666666666,\"#ed7953\"],[0.7777777777777778,\"#fb9f3a\"],[0.8888888888888888,\"#fdca26\"],[1.0,\"#f0f921\"]],\"type\":\"surface\"}],\"table\":[{\"cells\":{\"fill\":{\"color\":\"#EBF0F8\"},\"line\":{\"color\":\"white\"}},\"header\":{\"fill\":{\"color\":\"#C8D4E3\"},\"line\":{\"color\":\"white\"}},\"type\":\"table\"}]},\"layout\":{\"annotationdefaults\":{\"arrowcolor\":\"#2a3f5f\",\"arrowhead\":0,\"arrowwidth\":1},\"autotypenumbers\":\"strict\",\"coloraxis\":{\"colorbar\":{\"outlinewidth\":0,\"ticks\":\"\"}},\"colorscale\":{\"diverging\":[[0,\"#8e0152\"],[0.1,\"#c51b7d\"],[0.2,\"#de77ae\"],[0.3,\"#f1b6da\"],[0.4,\"#fde0ef\"],[0.5,\"#f7f7f7\"],[0.6,\"#e6f5d0\"],[0.7,\"#b8e186\"],[0.8,\"#7fbc41\"],[0.9,\"#4d9221\"],[1,\"#276419\"]],\"sequential\":[[0.0,\"#0d0887\"],[0.1111111111111111,\"#46039f\"],[0.2222222222222222,\"#7201a8\"],[0.3333333333333333,\"#9c179e\"],[0.4444444444444444,\"#bd3786\"],[0.5555555555555556,\"#d8576b\"],[0.6666666666666666,\"#ed7953\"],[0.7777777777777778,\"#fb9f3a\"],[0.8888888888888888,\"#fdca26\"],[1.0,\"#f0f921\"]],\"sequentialminus\":[[0.0,\"#0d0887\"],[0.1111111111111111,\"#46039f\"],[0.2222222222222222,\"#7201a8\"],[0.3333333333333333,\"#9c179e\"],[0.4444444444444444,\"#bd3786\"],[0.5555555555555556,\"#d8576b\"],[0.6666666666666666,\"#ed7953\"],[0.7777777777777778,\"#fb9f3a\"],[0.8888888888888888,\"#fdca26\"],[1.0,\"#f0f921\"]]},\"colorway\":[\"#636efa\",\"#EF553B\",\"#00cc96\",\"#ab63fa\",\"#FFA15A\",\"#19d3f3\",\"#FF6692\",\"#B6E880\",\"#FF97FF\",\"#FECB52\"],\"font\":{\"color\":\"#2a3f5f\"},\"geo\":{\"bgcolor\":\"white\",\"lakecolor\":\"white\",\"landcolor\":\"white\",\"showlakes\":true,\"showland\":true,\"subunitcolor\":\"#C8D4E3\"},\"hoverlabel\":{\"align\":\"left\"},\"hovermode\":\"closest\",\"mapbox\":{\"style\":\"light\"},\"paper_bgcolor\":\"white\",\"plot_bgcolor\":\"white\",\"polar\":{\"angularaxis\":{\"gridcolor\":\"#EBF0F8\",\"linecolor\":\"#EBF0F8\",\"ticks\":\"\"},\"bgcolor\":\"white\",\"radialaxis\":{\"gridcolor\":\"#EBF0F8\",\"linecolor\":\"#EBF0F8\",\"ticks\":\"\"}},\"scene\":{\"xaxis\":{\"backgroundcolor\":\"white\",\"gridcolor\":\"#DFE8F3\",\"gridwidth\":2,\"linecolor\":\"#EBF0F8\",\"showbackground\":true,\"ticks\":\"\",\"zerolinecolor\":\"#EBF0F8\"},\"yaxis\":{\"backgroundcolor\":\"white\",\"gridcolor\":\"#DFE8F3\",\"gridwidth\":2,\"linecolor\":\"#EBF0F8\",\"showbackground\":true,\"ticks\":\"\",\"zerolinecolor\":\"#EBF0F8\"},\"zaxis\":{\"backgroundcolor\":\"white\",\"gridcolor\":\"#DFE8F3\",\"gridwidth\":2,\"linecolor\":\"#EBF0F8\",\"showbackground\":true,\"ticks\":\"\",\"zerolinecolor\":\"#EBF0F8\"}},\"shapedefaults\":{\"line\":{\"color\":\"#2a3f5f\"}},\"ternary\":{\"aaxis\":{\"gridcolor\":\"#DFE8F3\",\"linecolor\":\"#A2B1C6\",\"ticks\":\"\"},\"baxis\":{\"gridcolor\":\"#DFE8F3\",\"linecolor\":\"#A2B1C6\",\"ticks\":\"\"},\"bgcolor\":\"white\",\"caxis\":{\"gridcolor\":\"#DFE8F3\",\"linecolor\":\"#A2B1C6\",\"ticks\":\"\"}},\"title\":{\"x\":0.05},\"xaxis\":{\"automargin\":true,\"gridcolor\":\"#EBF0F8\",\"linecolor\":\"#EBF0F8\",\"ticks\":\"\",\"title\":{\"standoff\":15},\"zerolinecolor\":\"#EBF0F8\",\"zerolinewidth\":2},\"yaxis\":{\"automargin\":true,\"gridcolor\":\"#EBF0F8\",\"linecolor\":\"#EBF0F8\",\"ticks\":\"\",\"title\":{\"standoff\":15},\"zerolinecolor\":\"#EBF0F8\",\"zerolinewidth\":2}}},\"xaxis\":{\"anchor\":\"y\",\"domain\":[0.0,0.45]},\"yaxis\":{\"anchor\":\"x\",\"domain\":[0.0,1.0]},\"xaxis2\":{\"anchor\":\"y2\",\"domain\":[0.55,1.0]},\"yaxis2\":{\"anchor\":\"x2\",\"domain\":[0.0,1.0]}},                        {\"responsive\": true}                    ).then(function(){\n",
       "                            \n",
       "var gd = document.getElementById('4ace5241-ab1a-473f-9598-e804ca505a3e');\n",
       "var x = new MutationObserver(function (mutations, observer) {{\n",
       "        var display = window.getComputedStyle(gd).display;\n",
       "        if (!display || display === 'none') {{\n",
       "            console.log([gd, 'removed!']);\n",
       "            Plotly.purge(gd);\n",
       "            observer.disconnect();\n",
       "        }}\n",
       "}});\n",
       "\n",
       "// Listen for the removal of the full notebook cells\n",
       "var notebookContainer = gd.closest('#notebook-container');\n",
       "if (notebookContainer) {{\n",
       "    x.observe(notebookContainer, {childList: true});\n",
       "}}\n",
       "\n",
       "// Listen for the clearing of the current output cell\n",
       "var outputEl = gd.closest('.output');\n",
       "if (outputEl) {{\n",
       "    x.observe(outputEl, {childList: true});\n",
       "}}\n",
       "\n",
       "                        })                };                });            </script>        </div>"
      ]
     },
     "metadata": {},
     "output_type": "display_data"
    }
   ],
   "source": [
    "ts = dt.datetime(2017, 5, 1, 12)\n",
    "true = true_voltages.loc[ts].abs() / base_voltages\n",
    "est = est_voltages.loc[ts].abs() / base_voltages\n",
    "\n",
    "error = (true - est).abs()\n",
    "print(\"MSRE: \", sum(error)/len(error))\n",
    "\n",
    "fig = make_subplots(rows=1, cols=2)\n",
    "fig.add_trace(\n",
    "    go.Scatter(name=\"true\", x=true.index, y=true.values, mode=\"markers\"), row=1, col=1\n",
    ")\n",
    "fig.add_trace(\n",
    "    go.Scatter(name=\"est\", x=est.index, y=est.values, mode=\"markers\"), row=1, col=1\n",
    ")\n",
    "fig.add_trace(\n",
    "    go.Scatter(name=\"error\", x=error.index, y=error.values, mode=\"markers\"),\n",
    "    row=1,\n",
    "    col=2,\n",
    ")\n",
    "fig.update_layout(template=\"plotly_white\")\n",
    "fig.show()"
   ]
  },
  {
   "cell_type": "code",
   "execution_count": 39,
   "id": "12334660-0ce7-4892-ac76-a362804ec1d5",
   "metadata": {},
   "outputs": [
    {
     "name": "stdout",
     "output_type": "stream",
     "text": [
      "time\n",
      "2017-05-01 04:01:12    1.024624\n",
      "2017-05-01 06:00:00    1.024310\n",
      "2017-05-01 08:00:00    1.023730\n",
      "2017-05-01 10:00:00    1.023796\n",
      "2017-05-01 12:00:00    1.023836\n",
      "2017-05-01 14:00:00    1.024401\n",
      "2017-05-01 16:00:00    1.024529\n",
      "2017-05-01 18:00:00    1.024490\n",
      "Name: P1ULV7531.3, dtype: float64\n",
      "time\n",
      "2017-05-01 06:00:00    1.023657\n",
      "2017-05-01 06:00:00    1.024222\n",
      "2017-05-01 10:00:00    1.024176\n",
      "2017-05-01 12:00:00    1.024312\n",
      "2017-05-01 14:00:00    1.024381\n",
      "2017-05-01 16:00:00    1.024486\n",
      "Name: P1ULV7531.3, dtype: float64\n"
     ]
    },
    {
     "data": {
      "application/vnd.plotly.v1+json": {
       "config": {
        "plotlyServerURL": "https://plot.ly"
       },
       "data": [
        {
         "mode": "markers",
         "name": "true",
         "type": "scatter",
         "x": [
          "2017-05-01T04:01:12",
          "2017-05-01T06:00:00",
          "2017-05-01T08:00:00",
          "2017-05-01T10:00:00",
          "2017-05-01T12:00:00",
          "2017-05-01T14:00:00",
          "2017-05-01T16:00:00",
          "2017-05-01T18:00:00"
         ],
         "xaxis": "x",
         "y": [
          1.0246239157117414,
          1.024309629820584,
          1.0237302673587585,
          1.0237958577500967,
          1.0238356824425676,
          1.0244010202448643,
          1.024528512293372,
          1.0244904770398016
         ],
         "yaxis": "y"
        },
        {
         "mode": "markers",
         "name": "est",
         "type": "scatter",
         "x": [
          "2017-05-01T06:00:00",
          "2017-05-01T06:00:00",
          "2017-05-01T10:00:00",
          "2017-05-01T12:00:00",
          "2017-05-01T14:00:00",
          "2017-05-01T16:00:00"
         ],
         "xaxis": "x",
         "y": [
          1.0236569314143265,
          1.0242224988697646,
          1.0241761592586593,
          1.0243118772272588,
          1.0243807918865637,
          1.0244860783612304
         ],
         "yaxis": "y"
        },
        {
         "mode": "markers",
         "name": "error",
         "type": "scatter",
         "x": [
          "2017-05-01T04:01:12",
          "2017-05-01T06:00:00",
          "2017-05-01T06:00:00",
          "2017-05-01T08:00:00",
          "2017-05-01T10:00:00",
          "2017-05-01T12:00:00",
          "2017-05-01T14:00:00",
          "2017-05-01T16:00:00",
          "2017-05-01T18:00:00"
         ],
         "xaxis": "x2",
         "y": [
          null,
          0.0006526984062575902,
          8.713095081946953e-05,
          null,
          0.00038030150856260825,
          0.00047619478469118626,
          2.0228358300622418e-05,
          4.243393214165003e-05,
          null
         ],
         "yaxis": "y2"
        }
       ],
       "layout": {
        "autosize": true,
        "template": {
         "data": {
          "bar": [
           {
            "error_x": {
             "color": "#2a3f5f"
            },
            "error_y": {
             "color": "#2a3f5f"
            },
            "marker": {
             "line": {
              "color": "white",
              "width": 0.5
             },
             "pattern": {
              "fillmode": "overlay",
              "size": 10,
              "solidity": 0.2
             }
            },
            "type": "bar"
           }
          ],
          "barpolar": [
           {
            "marker": {
             "line": {
              "color": "white",
              "width": 0.5
             },
             "pattern": {
              "fillmode": "overlay",
              "size": 10,
              "solidity": 0.2
             }
            },
            "type": "barpolar"
           }
          ],
          "carpet": [
           {
            "aaxis": {
             "endlinecolor": "#2a3f5f",
             "gridcolor": "#C8D4E3",
             "linecolor": "#C8D4E3",
             "minorgridcolor": "#C8D4E3",
             "startlinecolor": "#2a3f5f"
            },
            "baxis": {
             "endlinecolor": "#2a3f5f",
             "gridcolor": "#C8D4E3",
             "linecolor": "#C8D4E3",
             "minorgridcolor": "#C8D4E3",
             "startlinecolor": "#2a3f5f"
            },
            "type": "carpet"
           }
          ],
          "choropleth": [
           {
            "colorbar": {
             "outlinewidth": 0,
             "ticks": ""
            },
            "type": "choropleth"
           }
          ],
          "contour": [
           {
            "colorbar": {
             "outlinewidth": 0,
             "ticks": ""
            },
            "colorscale": [
             [
              0,
              "#0d0887"
             ],
             [
              0.1111111111111111,
              "#46039f"
             ],
             [
              0.2222222222222222,
              "#7201a8"
             ],
             [
              0.3333333333333333,
              "#9c179e"
             ],
             [
              0.4444444444444444,
              "#bd3786"
             ],
             [
              0.5555555555555556,
              "#d8576b"
             ],
             [
              0.6666666666666666,
              "#ed7953"
             ],
             [
              0.7777777777777778,
              "#fb9f3a"
             ],
             [
              0.8888888888888888,
              "#fdca26"
             ],
             [
              1,
              "#f0f921"
             ]
            ],
            "type": "contour"
           }
          ],
          "contourcarpet": [
           {
            "colorbar": {
             "outlinewidth": 0,
             "ticks": ""
            },
            "type": "contourcarpet"
           }
          ],
          "heatmap": [
           {
            "colorbar": {
             "outlinewidth": 0,
             "ticks": ""
            },
            "colorscale": [
             [
              0,
              "#0d0887"
             ],
             [
              0.1111111111111111,
              "#46039f"
             ],
             [
              0.2222222222222222,
              "#7201a8"
             ],
             [
              0.3333333333333333,
              "#9c179e"
             ],
             [
              0.4444444444444444,
              "#bd3786"
             ],
             [
              0.5555555555555556,
              "#d8576b"
             ],
             [
              0.6666666666666666,
              "#ed7953"
             ],
             [
              0.7777777777777778,
              "#fb9f3a"
             ],
             [
              0.8888888888888888,
              "#fdca26"
             ],
             [
              1,
              "#f0f921"
             ]
            ],
            "type": "heatmap"
           }
          ],
          "heatmapgl": [
           {
            "colorbar": {
             "outlinewidth": 0,
             "ticks": ""
            },
            "colorscale": [
             [
              0,
              "#0d0887"
             ],
             [
              0.1111111111111111,
              "#46039f"
             ],
             [
              0.2222222222222222,
              "#7201a8"
             ],
             [
              0.3333333333333333,
              "#9c179e"
             ],
             [
              0.4444444444444444,
              "#bd3786"
             ],
             [
              0.5555555555555556,
              "#d8576b"
             ],
             [
              0.6666666666666666,
              "#ed7953"
             ],
             [
              0.7777777777777778,
              "#fb9f3a"
             ],
             [
              0.8888888888888888,
              "#fdca26"
             ],
             [
              1,
              "#f0f921"
             ]
            ],
            "type": "heatmapgl"
           }
          ],
          "histogram": [
           {
            "marker": {
             "pattern": {
              "fillmode": "overlay",
              "size": 10,
              "solidity": 0.2
             }
            },
            "type": "histogram"
           }
          ],
          "histogram2d": [
           {
            "colorbar": {
             "outlinewidth": 0,
             "ticks": ""
            },
            "colorscale": [
             [
              0,
              "#0d0887"
             ],
             [
              0.1111111111111111,
              "#46039f"
             ],
             [
              0.2222222222222222,
              "#7201a8"
             ],
             [
              0.3333333333333333,
              "#9c179e"
             ],
             [
              0.4444444444444444,
              "#bd3786"
             ],
             [
              0.5555555555555556,
              "#d8576b"
             ],
             [
              0.6666666666666666,
              "#ed7953"
             ],
             [
              0.7777777777777778,
              "#fb9f3a"
             ],
             [
              0.8888888888888888,
              "#fdca26"
             ],
             [
              1,
              "#f0f921"
             ]
            ],
            "type": "histogram2d"
           }
          ],
          "histogram2dcontour": [
           {
            "colorbar": {
             "outlinewidth": 0,
             "ticks": ""
            },
            "colorscale": [
             [
              0,
              "#0d0887"
             ],
             [
              0.1111111111111111,
              "#46039f"
             ],
             [
              0.2222222222222222,
              "#7201a8"
             ],
             [
              0.3333333333333333,
              "#9c179e"
             ],
             [
              0.4444444444444444,
              "#bd3786"
             ],
             [
              0.5555555555555556,
              "#d8576b"
             ],
             [
              0.6666666666666666,
              "#ed7953"
             ],
             [
              0.7777777777777778,
              "#fb9f3a"
             ],
             [
              0.8888888888888888,
              "#fdca26"
             ],
             [
              1,
              "#f0f921"
             ]
            ],
            "type": "histogram2dcontour"
           }
          ],
          "mesh3d": [
           {
            "colorbar": {
             "outlinewidth": 0,
             "ticks": ""
            },
            "type": "mesh3d"
           }
          ],
          "parcoords": [
           {
            "line": {
             "colorbar": {
              "outlinewidth": 0,
              "ticks": ""
             }
            },
            "type": "parcoords"
           }
          ],
          "pie": [
           {
            "automargin": true,
            "type": "pie"
           }
          ],
          "scatter": [
           {
            "fillpattern": {
             "fillmode": "overlay",
             "size": 10,
             "solidity": 0.2
            },
            "type": "scatter"
           }
          ],
          "scatter3d": [
           {
            "line": {
             "colorbar": {
              "outlinewidth": 0,
              "ticks": ""
             }
            },
            "marker": {
             "colorbar": {
              "outlinewidth": 0,
              "ticks": ""
             }
            },
            "type": "scatter3d"
           }
          ],
          "scattercarpet": [
           {
            "marker": {
             "colorbar": {
              "outlinewidth": 0,
              "ticks": ""
             }
            },
            "type": "scattercarpet"
           }
          ],
          "scattergeo": [
           {
            "marker": {
             "colorbar": {
              "outlinewidth": 0,
              "ticks": ""
             }
            },
            "type": "scattergeo"
           }
          ],
          "scattergl": [
           {
            "marker": {
             "colorbar": {
              "outlinewidth": 0,
              "ticks": ""
             }
            },
            "type": "scattergl"
           }
          ],
          "scattermapbox": [
           {
            "marker": {
             "colorbar": {
              "outlinewidth": 0,
              "ticks": ""
             }
            },
            "type": "scattermapbox"
           }
          ],
          "scatterpolar": [
           {
            "marker": {
             "colorbar": {
              "outlinewidth": 0,
              "ticks": ""
             }
            },
            "type": "scatterpolar"
           }
          ],
          "scatterpolargl": [
           {
            "marker": {
             "colorbar": {
              "outlinewidth": 0,
              "ticks": ""
             }
            },
            "type": "scatterpolargl"
           }
          ],
          "scatterternary": [
           {
            "marker": {
             "colorbar": {
              "outlinewidth": 0,
              "ticks": ""
             }
            },
            "type": "scatterternary"
           }
          ],
          "surface": [
           {
            "colorbar": {
             "outlinewidth": 0,
             "ticks": ""
            },
            "colorscale": [
             [
              0,
              "#0d0887"
             ],
             [
              0.1111111111111111,
              "#46039f"
             ],
             [
              0.2222222222222222,
              "#7201a8"
             ],
             [
              0.3333333333333333,
              "#9c179e"
             ],
             [
              0.4444444444444444,
              "#bd3786"
             ],
             [
              0.5555555555555556,
              "#d8576b"
             ],
             [
              0.6666666666666666,
              "#ed7953"
             ],
             [
              0.7777777777777778,
              "#fb9f3a"
             ],
             [
              0.8888888888888888,
              "#fdca26"
             ],
             [
              1,
              "#f0f921"
             ]
            ],
            "type": "surface"
           }
          ],
          "table": [
           {
            "cells": {
             "fill": {
              "color": "#EBF0F8"
             },
             "line": {
              "color": "white"
             }
            },
            "header": {
             "fill": {
              "color": "#C8D4E3"
             },
             "line": {
              "color": "white"
             }
            },
            "type": "table"
           }
          ]
         },
         "layout": {
          "annotationdefaults": {
           "arrowcolor": "#2a3f5f",
           "arrowhead": 0,
           "arrowwidth": 1
          },
          "autotypenumbers": "strict",
          "coloraxis": {
           "colorbar": {
            "outlinewidth": 0,
            "ticks": ""
           }
          },
          "colorscale": {
           "diverging": [
            [
             0,
             "#8e0152"
            ],
            [
             0.1,
             "#c51b7d"
            ],
            [
             0.2,
             "#de77ae"
            ],
            [
             0.3,
             "#f1b6da"
            ],
            [
             0.4,
             "#fde0ef"
            ],
            [
             0.5,
             "#f7f7f7"
            ],
            [
             0.6,
             "#e6f5d0"
            ],
            [
             0.7,
             "#b8e186"
            ],
            [
             0.8,
             "#7fbc41"
            ],
            [
             0.9,
             "#4d9221"
            ],
            [
             1,
             "#276419"
            ]
           ],
           "sequential": [
            [
             0,
             "#0d0887"
            ],
            [
             0.1111111111111111,
             "#46039f"
            ],
            [
             0.2222222222222222,
             "#7201a8"
            ],
            [
             0.3333333333333333,
             "#9c179e"
            ],
            [
             0.4444444444444444,
             "#bd3786"
            ],
            [
             0.5555555555555556,
             "#d8576b"
            ],
            [
             0.6666666666666666,
             "#ed7953"
            ],
            [
             0.7777777777777778,
             "#fb9f3a"
            ],
            [
             0.8888888888888888,
             "#fdca26"
            ],
            [
             1,
             "#f0f921"
            ]
           ],
           "sequentialminus": [
            [
             0,
             "#0d0887"
            ],
            [
             0.1111111111111111,
             "#46039f"
            ],
            [
             0.2222222222222222,
             "#7201a8"
            ],
            [
             0.3333333333333333,
             "#9c179e"
            ],
            [
             0.4444444444444444,
             "#bd3786"
            ],
            [
             0.5555555555555556,
             "#d8576b"
            ],
            [
             0.6666666666666666,
             "#ed7953"
            ],
            [
             0.7777777777777778,
             "#fb9f3a"
            ],
            [
             0.8888888888888888,
             "#fdca26"
            ],
            [
             1,
             "#f0f921"
            ]
           ]
          },
          "colorway": [
           "#636efa",
           "#EF553B",
           "#00cc96",
           "#ab63fa",
           "#FFA15A",
           "#19d3f3",
           "#FF6692",
           "#B6E880",
           "#FF97FF",
           "#FECB52"
          ],
          "font": {
           "color": "#2a3f5f"
          },
          "geo": {
           "bgcolor": "white",
           "lakecolor": "white",
           "landcolor": "white",
           "showlakes": true,
           "showland": true,
           "subunitcolor": "#C8D4E3"
          },
          "hoverlabel": {
           "align": "left"
          },
          "hovermode": "closest",
          "mapbox": {
           "style": "light"
          },
          "paper_bgcolor": "white",
          "plot_bgcolor": "white",
          "polar": {
           "angularaxis": {
            "gridcolor": "#EBF0F8",
            "linecolor": "#EBF0F8",
            "ticks": ""
           },
           "bgcolor": "white",
           "radialaxis": {
            "gridcolor": "#EBF0F8",
            "linecolor": "#EBF0F8",
            "ticks": ""
           }
          },
          "scene": {
           "xaxis": {
            "backgroundcolor": "white",
            "gridcolor": "#DFE8F3",
            "gridwidth": 2,
            "linecolor": "#EBF0F8",
            "showbackground": true,
            "ticks": "",
            "zerolinecolor": "#EBF0F8"
           },
           "yaxis": {
            "backgroundcolor": "white",
            "gridcolor": "#DFE8F3",
            "gridwidth": 2,
            "linecolor": "#EBF0F8",
            "showbackground": true,
            "ticks": "",
            "zerolinecolor": "#EBF0F8"
           },
           "zaxis": {
            "backgroundcolor": "white",
            "gridcolor": "#DFE8F3",
            "gridwidth": 2,
            "linecolor": "#EBF0F8",
            "showbackground": true,
            "ticks": "",
            "zerolinecolor": "#EBF0F8"
           }
          },
          "shapedefaults": {
           "line": {
            "color": "#2a3f5f"
           }
          },
          "ternary": {
           "aaxis": {
            "gridcolor": "#DFE8F3",
            "linecolor": "#A2B1C6",
            "ticks": ""
           },
           "baxis": {
            "gridcolor": "#DFE8F3",
            "linecolor": "#A2B1C6",
            "ticks": ""
           },
           "bgcolor": "white",
           "caxis": {
            "gridcolor": "#DFE8F3",
            "linecolor": "#A2B1C6",
            "ticks": ""
           }
          },
          "title": {
           "x": 0.05
          },
          "xaxis": {
           "automargin": true,
           "gridcolor": "#EBF0F8",
           "linecolor": "#EBF0F8",
           "ticks": "",
           "title": {
            "standoff": 15
           },
           "zerolinecolor": "#EBF0F8",
           "zerolinewidth": 2
          },
          "yaxis": {
           "automargin": true,
           "gridcolor": "#EBF0F8",
           "linecolor": "#EBF0F8",
           "ticks": "",
           "title": {
            "standoff": 15
           },
           "zerolinecolor": "#EBF0F8",
           "zerolinewidth": 2
          }
         }
        },
        "xaxis": {
         "anchor": "y",
         "autorange": true,
         "domain": [
          0,
          0.45
         ],
         "range": [
          "2017-05-01 02:58:57.1148",
          "2017-05-01 19:02:14.8852"
         ],
         "type": "date"
        },
        "xaxis2": {
         "anchor": "y2",
         "autorange": true,
         "domain": [
          0.55,
          1
         ],
         "range": [
          "2017-05-01 02:58:57.1148",
          "2017-05-01 19:02:14.8852"
         ],
         "type": "date"
        },
        "yaxis": {
         "anchor": "x",
         "autorange": true,
         "domain": [
          0,
          1
         ],
         "range": [
          1.023577131739297,
          1.0247037153867709
         ],
         "type": "linear"
        },
        "yaxis2": {
         "anchor": "x2",
         "autorange": true,
         "domain": [
          0,
          1
         ],
         "range": [
          -3.196577187058366e-05,
          0.0007048925364287963
         ],
         "type": "linear"
        }
       }
      },
      "image/png": "[encoded data removed]",
      "text/html": [
       "<div>                            <div id=\"281864c9-3173-4b16-8412-686d3b8e3398\" class=\"plotly-graph-div\" style=\"height:525px; width:100%;\"></div>            <script type=\"text/javascript\">                require([\"plotly\"], function(Plotly) {                    window.PLOTLYENV=window.PLOTLYENV || {};                                    if (document.getElementById(\"281864c9-3173-4b16-8412-686d3b8e3398\")) {                    Plotly.newPlot(                        \"281864c9-3173-4b16-8412-686d3b8e3398\",                        [{\"mode\":\"markers\",\"name\":\"true\",\"x\":[\"2017-05-01T04:01:12\",\"2017-05-01T06:00:00\",\"2017-05-01T08:00:00\",\"2017-05-01T10:00:00\",\"2017-05-01T12:00:00\",\"2017-05-01T14:00:00\",\"2017-05-01T16:00:00\",\"2017-05-01T18:00:00\"],\"y\":[1.0246239157117414,1.024309629820584,1.0237302673587585,1.0237958577500967,1.0238356824425676,1.0244010202448643,1.024528512293372,1.0244904770398016],\"type\":\"scatter\",\"xaxis\":\"x\",\"yaxis\":\"y\"},{\"mode\":\"markers\",\"name\":\"est\",\"x\":[\"2017-05-01T06:00:00\",\"2017-05-01T06:00:00\",\"2017-05-01T10:00:00\",\"2017-05-01T12:00:00\",\"2017-05-01T14:00:00\",\"2017-05-01T16:00:00\"],\"y\":[1.0236569314143265,1.0242224988697646,1.0241761592586593,1.0243118772272588,1.0243807918865637,1.0244860783612304],\"type\":\"scatter\",\"xaxis\":\"x\",\"yaxis\":\"y\"},{\"mode\":\"markers\",\"name\":\"error\",\"x\":[\"2017-05-01T04:01:12\",\"2017-05-01T06:00:00\",\"2017-05-01T06:00:00\",\"2017-05-01T08:00:00\",\"2017-05-01T10:00:00\",\"2017-05-01T12:00:00\",\"2017-05-01T14:00:00\",\"2017-05-01T16:00:00\",\"2017-05-01T18:00:00\"],\"y\":[null,0.0006526984062575902,8.713095081946953e-05,null,0.00038030150856260825,0.00047619478469118626,2.0228358300622418e-05,4.243393214165003e-05,null],\"type\":\"scatter\",\"xaxis\":\"x2\",\"yaxis\":\"y2\"}],                        {\"template\":{\"data\":{\"barpolar\":[{\"marker\":{\"line\":{\"color\":\"white\",\"width\":0.5},\"pattern\":{\"fillmode\":\"overlay\",\"size\":10,\"solidity\":0.2}},\"type\":\"barpolar\"}],\"bar\":[{\"error_x\":{\"color\":\"#2a3f5f\"},\"error_y\":{\"color\":\"#2a3f5f\"},\"marker\":{\"line\":{\"color\":\"white\",\"width\":0.5},\"pattern\":{\"fillmode\":\"overlay\",\"size\":10,\"solidity\":0.2}},\"type\":\"bar\"}],\"carpet\":[{\"aaxis\":{\"endlinecolor\":\"#2a3f5f\",\"gridcolor\":\"#C8D4E3\",\"linecolor\":\"#C8D4E3\",\"minorgridcolor\":\"#C8D4E3\",\"startlinecolor\":\"#2a3f5f\"},\"baxis\":{\"endlinecolor\":\"#2a3f5f\",\"gridcolor\":\"#C8D4E3\",\"linecolor\":\"#C8D4E3\",\"minorgridcolor\":\"#C8D4E3\",\"startlinecolor\":\"#2a3f5f\"},\"type\":\"carpet\"}],\"choropleth\":[{\"colorbar\":{\"outlinewidth\":0,\"ticks\":\"\"},\"type\":\"choropleth\"}],\"contourcarpet\":[{\"colorbar\":{\"outlinewidth\":0,\"ticks\":\"\"},\"type\":\"contourcarpet\"}],\"contour\":[{\"colorbar\":{\"outlinewidth\":0,\"ticks\":\"\"},\"colorscale\":[[0.0,\"#0d0887\"],[0.1111111111111111,\"#46039f\"],[0.2222222222222222,\"#7201a8\"],[0.3333333333333333,\"#9c179e\"],[0.4444444444444444,\"#bd3786\"],[0.5555555555555556,\"#d8576b\"],[0.6666666666666666,\"#ed7953\"],[0.7777777777777778,\"#fb9f3a\"],[0.8888888888888888,\"#fdca26\"],[1.0,\"#f0f921\"]],\"type\":\"contour\"}],\"heatmapgl\":[{\"colorbar\":{\"outlinewidth\":0,\"ticks\":\"\"},\"colorscale\":[[0.0,\"#0d0887\"],[0.1111111111111111,\"#46039f\"],[0.2222222222222222,\"#7201a8\"],[0.3333333333333333,\"#9c179e\"],[0.4444444444444444,\"#bd3786\"],[0.5555555555555556,\"#d8576b\"],[0.6666666666666666,\"#ed7953\"],[0.7777777777777778,\"#fb9f3a\"],[0.8888888888888888,\"#fdca26\"],[1.0,\"#f0f921\"]],\"type\":\"heatmapgl\"}],\"heatmap\":[{\"colorbar\":{\"outlinewidth\":0,\"ticks\":\"\"},\"colorscale\":[[0.0,\"#0d0887\"],[0.1111111111111111,\"#46039f\"],[0.2222222222222222,\"#7201a8\"],[0.3333333333333333,\"#9c179e\"],[0.4444444444444444,\"#bd3786\"],[0.5555555555555556,\"#d8576b\"],[0.6666666666666666,\"#ed7953\"],[0.7777777777777778,\"#fb9f3a\"],[0.8888888888888888,\"#fdca26\"],[1.0,\"#f0f921\"]],\"type\":\"heatmap\"}],\"histogram2dcontour\":[{\"colorbar\":{\"outlinewidth\":0,\"ticks\":\"\"},\"colorscale\":[[0.0,\"#0d0887\"],[0.1111111111111111,\"#46039f\"],[0.2222222222222222,\"#7201a8\"],[0.3333333333333333,\"#9c179e\"],[0.4444444444444444,\"#bd3786\"],[0.5555555555555556,\"#d8576b\"],[0.6666666666666666,\"#ed7953\"],[0.7777777777777778,\"#fb9f3a\"],[0.8888888888888888,\"#fdca26\"],[1.0,\"#f0f921\"]],\"type\":\"histogram2dcontour\"}],\"histogram2d\":[{\"colorbar\":{\"outlinewidth\":0,\"ticks\":\"\"},\"colorscale\":[[0.0,\"#0d0887\"],[0.1111111111111111,\"#46039f\"],[0.2222222222222222,\"#7201a8\"],[0.3333333333333333,\"#9c179e\"],[0.4444444444444444,\"#bd3786\"],[0.5555555555555556,\"#d8576b\"],[0.6666666666666666,\"#ed7953\"],[0.7777777777777778,\"#fb9f3a\"],[0.8888888888888888,\"#fdca26\"],[1.0,\"#f0f921\"]],\"type\":\"histogram2d\"}],\"histogram\":[{\"marker\":{\"pattern\":{\"fillmode\":\"overlay\",\"size\":10,\"solidity\":0.2}},\"type\":\"histogram\"}],\"mesh3d\":[{\"colorbar\":{\"outlinewidth\":0,\"ticks\":\"\"},\"type\":\"mesh3d\"}],\"parcoords\":[{\"line\":{\"colorbar\":{\"outlinewidth\":0,\"ticks\":\"\"}},\"type\":\"parcoords\"}],\"pie\":[{\"automargin\":true,\"type\":\"pie\"}],\"scatter3d\":[{\"line\":{\"colorbar\":{\"outlinewidth\":0,\"ticks\":\"\"}},\"marker\":{\"colorbar\":{\"outlinewidth\":0,\"ticks\":\"\"}},\"type\":\"scatter3d\"}],\"scattercarpet\":[{\"marker\":{\"colorbar\":{\"outlinewidth\":0,\"ticks\":\"\"}},\"type\":\"scattercarpet\"}],\"scattergeo\":[{\"marker\":{\"colorbar\":{\"outlinewidth\":0,\"ticks\":\"\"}},\"type\":\"scattergeo\"}],\"scattergl\":[{\"marker\":{\"colorbar\":{\"outlinewidth\":0,\"ticks\":\"\"}},\"type\":\"scattergl\"}],\"scattermapbox\":[{\"marker\":{\"colorbar\":{\"outlinewidth\":0,\"ticks\":\"\"}},\"type\":\"scattermapbox\"}],\"scatterpolargl\":[{\"marker\":{\"colorbar\":{\"outlinewidth\":0,\"ticks\":\"\"}},\"type\":\"scatterpolargl\"}],\"scatterpolar\":[{\"marker\":{\"colorbar\":{\"outlinewidth\":0,\"ticks\":\"\"}},\"type\":\"scatterpolar\"}],\"scatter\":[{\"fillpattern\":{\"fillmode\":\"overlay\",\"size\":10,\"solidity\":0.2},\"type\":\"scatter\"}],\"scatterternary\":[{\"marker\":{\"colorbar\":{\"outlinewidth\":0,\"ticks\":\"\"}},\"type\":\"scatterternary\"}],\"surface\":[{\"colorbar\":{\"outlinewidth\":0,\"ticks\":\"\"},\"colorscale\":[[0.0,\"#0d0887\"],[0.1111111111111111,\"#46039f\"],[0.2222222222222222,\"#7201a8\"],[0.3333333333333333,\"#9c179e\"],[0.4444444444444444,\"#bd3786\"],[0.5555555555555556,\"#d8576b\"],[0.6666666666666666,\"#ed7953\"],[0.7777777777777778,\"#fb9f3a\"],[0.8888888888888888,\"#fdca26\"],[1.0,\"#f0f921\"]],\"type\":\"surface\"}],\"table\":[{\"cells\":{\"fill\":{\"color\":\"#EBF0F8\"},\"line\":{\"color\":\"white\"}},\"header\":{\"fill\":{\"color\":\"#C8D4E3\"},\"line\":{\"color\":\"white\"}},\"type\":\"table\"}]},\"layout\":{\"annotationdefaults\":{\"arrowcolor\":\"#2a3f5f\",\"arrowhead\":0,\"arrowwidth\":1},\"autotypenumbers\":\"strict\",\"coloraxis\":{\"colorbar\":{\"outlinewidth\":0,\"ticks\":\"\"}},\"colorscale\":{\"diverging\":[[0,\"#8e0152\"],[0.1,\"#c51b7d\"],[0.2,\"#de77ae\"],[0.3,\"#f1b6da\"],[0.4,\"#fde0ef\"],[0.5,\"#f7f7f7\"],[0.6,\"#e6f5d0\"],[0.7,\"#b8e186\"],[0.8,\"#7fbc41\"],[0.9,\"#4d9221\"],[1,\"#276419\"]],\"sequential\":[[0.0,\"#0d0887\"],[0.1111111111111111,\"#46039f\"],[0.2222222222222222,\"#7201a8\"],[0.3333333333333333,\"#9c179e\"],[0.4444444444444444,\"#bd3786\"],[0.5555555555555556,\"#d8576b\"],[0.6666666666666666,\"#ed7953\"],[0.7777777777777778,\"#fb9f3a\"],[0.8888888888888888,\"#fdca26\"],[1.0,\"#f0f921\"]],\"sequentialminus\":[[0.0,\"#0d0887\"],[0.1111111111111111,\"#46039f\"],[0.2222222222222222,\"#7201a8\"],[0.3333333333333333,\"#9c179e\"],[0.4444444444444444,\"#bd3786\"],[0.5555555555555556,\"#d8576b\"],[0.6666666666666666,\"#ed7953\"],[0.7777777777777778,\"#fb9f3a\"],[0.8888888888888888,\"#fdca26\"],[1.0,\"#f0f921\"]]},\"colorway\":[\"#636efa\",\"#EF553B\",\"#00cc96\",\"#ab63fa\",\"#FFA15A\",\"#19d3f3\",\"#FF6692\",\"#B6E880\",\"#FF97FF\",\"#FECB52\"],\"font\":{\"color\":\"#2a3f5f\"},\"geo\":{\"bgcolor\":\"white\",\"lakecolor\":\"white\",\"landcolor\":\"white\",\"showlakes\":true,\"showland\":true,\"subunitcolor\":\"#C8D4E3\"},\"hoverlabel\":{\"align\":\"left\"},\"hovermode\":\"closest\",\"mapbox\":{\"style\":\"light\"},\"paper_bgcolor\":\"white\",\"plot_bgcolor\":\"white\",\"polar\":{\"angularaxis\":{\"gridcolor\":\"#EBF0F8\",\"linecolor\":\"#EBF0F8\",\"ticks\":\"\"},\"bgcolor\":\"white\",\"radialaxis\":{\"gridcolor\":\"#EBF0F8\",\"linecolor\":\"#EBF0F8\",\"ticks\":\"\"}},\"scene\":{\"xaxis\":{\"backgroundcolor\":\"white\",\"gridcolor\":\"#DFE8F3\",\"gridwidth\":2,\"linecolor\":\"#EBF0F8\",\"showbackground\":true,\"ticks\":\"\",\"zerolinecolor\":\"#EBF0F8\"},\"yaxis\":{\"backgroundcolor\":\"white\",\"gridcolor\":\"#DFE8F3\",\"gridwidth\":2,\"linecolor\":\"#EBF0F8\",\"showbackground\":true,\"ticks\":\"\",\"zerolinecolor\":\"#EBF0F8\"},\"zaxis\":{\"backgroundcolor\":\"white\",\"gridcolor\":\"#DFE8F3\",\"gridwidth\":2,\"linecolor\":\"#EBF0F8\",\"showbackground\":true,\"ticks\":\"\",\"zerolinecolor\":\"#EBF0F8\"}},\"shapedefaults\":{\"line\":{\"color\":\"#2a3f5f\"}},\"ternary\":{\"aaxis\":{\"gridcolor\":\"#DFE8F3\",\"linecolor\":\"#A2B1C6\",\"ticks\":\"\"},\"baxis\":{\"gridcolor\":\"#DFE8F3\",\"linecolor\":\"#A2B1C6\",\"ticks\":\"\"},\"bgcolor\":\"white\",\"caxis\":{\"gridcolor\":\"#DFE8F3\",\"linecolor\":\"#A2B1C6\",\"ticks\":\"\"}},\"title\":{\"x\":0.05},\"xaxis\":{\"automargin\":true,\"gridcolor\":\"#EBF0F8\",\"linecolor\":\"#EBF0F8\",\"ticks\":\"\",\"title\":{\"standoff\":15},\"zerolinecolor\":\"#EBF0F8\",\"zerolinewidth\":2},\"yaxis\":{\"automargin\":true,\"gridcolor\":\"#EBF0F8\",\"linecolor\":\"#EBF0F8\",\"ticks\":\"\",\"title\":{\"standoff\":15},\"zerolinecolor\":\"#EBF0F8\",\"zerolinewidth\":2}}},\"xaxis\":{\"anchor\":\"y\",\"domain\":[0.0,0.45]},\"yaxis\":{\"anchor\":\"x\",\"domain\":[0.0,1.0]},\"xaxis2\":{\"anchor\":\"y2\",\"domain\":[0.55,1.0]},\"yaxis2\":{\"anchor\":\"x2\",\"domain\":[0.0,1.0]}},                        {\"responsive\": true}                    ).then(function(){\n",
       "                            \n",
       "var gd = document.getElementById('281864c9-3173-4b16-8412-686d3b8e3398');\n",
       "var x = new MutationObserver(function (mutations, observer) {{\n",
       "        var display = window.getComputedStyle(gd).display;\n",
       "        if (!display || display === 'none') {{\n",
       "            console.log([gd, 'removed!']);\n",
       "            Plotly.purge(gd);\n",
       "            observer.disconnect();\n",
       "        }}\n",
       "}});\n",
       "\n",
       "// Listen for the removal of the full notebook cells\n",
       "var notebookContainer = gd.closest('#notebook-container');\n",
       "if (notebookContainer) {{\n",
       "    x.observe(notebookContainer, {childList: true});\n",
       "}}\n",
       "\n",
       "// Listen for the clearing of the current output cell\n",
       "var outputEl = gd.closest('.output');\n",
       "if (outputEl) {{\n",
       "    x.observe(outputEl, {childList: true});\n",
       "}}\n",
       "\n",
       "                        })                };                });            </script>        </div>"
      ]
     },
     "metadata": {},
     "output_type": "display_data"
    }
   ],
   "source": [
    "true = true_voltages.abs() / base_voltages\n",
    "est = est_voltages.abs() / base_voltages\n",
    "\n",
    "node = random.choice(true.columns)\n",
    "true = true.loc[:,node]\n",
    "est = est.loc[:,node]\n",
    "\n",
    "error = (true - est).abs()\n",
    "\n",
    "fig = make_subplots(rows=1, cols=2)\n",
    "fig.add_trace(\n",
    "    go.Scatter(name=\"true\", x=true.index, y=true.values, mode=\"markers\"), row=1, col=1\n",
    ")\n",
    "fig.add_trace(\n",
    "    go.Scatter(name=\"est\", x=est.index, y=est.values, mode=\"markers\"), row=1, col=1\n",
    ")\n",
    "fig.add_trace(\n",
    "    go.Scatter(name=\"error\", x=error.index, y=error.values, mode=\"markers\"),\n",
    "    row=1,\n",
    "    col=2,\n",
    ")\n",
    "fig.update_layout(template=\"plotly_white\")\n",
    "fig.show()"
   ]
  },
  {
   "cell_type": "code",
   "execution_count": null,
   "id": "5228e217-067e-4ed0-92d2-fe159d69d0d9",
   "metadata": {},
   "outputs": [],
   "source": []
  },
  {
   "cell_type": "code",
   "execution_count": null,
   "id": "c8357fc8-3a1c-4e74-8db1-d306b3071603",
   "metadata": {},
   "outputs": [],
   "source": []
  }
 ],
 "metadata": {
  "kernelspec": {
   "display_name": "Python 3 (ipykernel)",
   "language": "python",
   "name": "python3"
  },
  "language_info": {
   "codemirror_mode": {
    "name": "ipython",
    "version": 3
   },
   "file_extension": ".py",
   "mimetype": "text/x-python",
   "name": "python",
   "nbconvert_exporter": "python",
   "pygments_lexer": "ipython3",
   "version": "3.12.3"
  }
 },
 "nbformat": 4,
 "nbformat_minor": 5
}
