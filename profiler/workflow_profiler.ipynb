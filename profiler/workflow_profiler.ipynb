{
 "cells": [
  {
   "cell_type": "markdown",
   "id": "f64aec67-d35d-473b-8ce8-a325734af4f5",
   "metadata": {},
   "source": [
    "# Time Series Profiler"
   ]
  },
  {
   "cell_type": "code",
   "execution_count": 9,
   "id": "cd424eb2-f684-42df-8a32-e0bc23c061be",
   "metadata": {},
   "outputs": [],
   "source": [
    "import os\n",
    "import pandas as pd\n",
    "import tsfel\n",
    "import tensorflow as tf\n",
    "from tensorflow.keras import layers, models\n",
    "from sklearn.preprocessing import MinMaxScaler\n",
    "import matplotlib.pyplot as plt\n",
    "\n",
    "ROOT = os.getcwd()\n",
    "BUILDS = f\"{ROOT}/../builds\"\n",
    "SCENARIOS = f\"{ROOT}/../scenarios\""
   ]
  },
  {
   "cell_type": "markdown",
   "id": "0250fbe5-6447-4d92-b3d1-2c6f1edc91ff",
   "metadata": {},
   "source": [
    "## Select a scenario\n",
    "Set the SCENARIOS index value from the available scenarios"
   ]
  },
  {
   "cell_type": "code",
   "execution_count": 10,
   "id": "9e7012fb-820f-4d4f-a216-78a64406f067",
   "metadata": {},
   "outputs": [
    {
     "name": "stdout",
     "output_type": "stream",
     "text": [
      "0 /home/tylor/dev/oedisi_dopf/profiler/../scenarios/lindistflow/ieee123/\n",
      "1 /home/tylor/dev/oedisi_dopf/profiler/../scenarios/lindistflow/SFO/P9U/low/\n",
      "2 /home/tylor/dev/oedisi_dopf/profiler/../scenarios/lindistflow/SFO/P9U/high/\n",
      "3 /home/tylor/dev/oedisi_dopf/profiler/../scenarios/lindistflow/SFO/P9U/extreme/\n",
      "4 /home/tylor/dev/oedisi_dopf/profiler/../scenarios/lindistflow/SFO/P9U/medium/\n",
      "5 /home/tylor/dev/oedisi_dopf/profiler/../scenarios/lindistflow/SFO/P1U/low/\n",
      "6 /home/tylor/dev/oedisi_dopf/profiler/../scenarios/lindistflow/SFO/P1U/high/\n",
      "7 /home/tylor/dev/oedisi_dopf/profiler/../scenarios/lindistflow/SFO/P1U/extreme/\n",
      "8 /home/tylor/dev/oedisi_dopf/profiler/../scenarios/lindistflow/SFO/P1U/medium/\n",
      "9 /home/tylor/dev/oedisi_dopf/profiler/../scenarios/lindistflow/SFO/P6U/low/\n",
      "10 /home/tylor/dev/oedisi_dopf/profiler/../scenarios/lindistflow/SFO/P6U/high/\n",
      "11 /home/tylor/dev/oedisi_dopf/profiler/../scenarios/lindistflow/SFO/P6U/extreme/\n",
      "12 /home/tylor/dev/oedisi_dopf/profiler/../scenarios/lindistflow/SFO/P6U/medium/\n"
     ]
    }
   ],
   "source": [
    "dir = []\n",
    "def list_files(path=\".\"):\n",
    "    with os.scandir(path) as entries:\n",
    "        for entry in entries:\n",
    "            if entry.is_file():\n",
    "                if \"system.json\" in entry.path:\n",
    "                    path, _ = entry.path.split(\"system.json\", 1)\n",
    "                    dir.append(path)\n",
    "            elif entry.is_dir():\n",
    "                list_files(entry.path)\n",
    "\n",
    "    \n",
    "\n",
    "# Specify the directory path you want to start from\n",
    "directory_path = f\"{SCENARIOS}/lindistflow\"\n",
    "list_files(directory_path)\n",
    "for i, d in enumerate(dir):\n",
    "    print(i, d)"
   ]
  },
  {
   "cell_type": "code",
   "execution_count": 11,
   "id": "9813bc79-02d5-4960-b0b2-5479bed1d5d0",
   "metadata": {},
   "outputs": [],
   "source": [
    "index = 0\n",
    "path = dir[index]\n",
    "_, scenario = path.split(SCENARIOS, 1)\n",
    "build = f\"{BUILDS}{scenario}\"\n",
    "profiles_dir = f\"{build}feeder/profiles/load_profiles\"\n",
    "files = [e.name for e in os.scandir(profiles_dir) if e.is_file()]\n",
    "profiles = [pd.read_csv(f\"{profiles_dir}/{f}\") for f in files]"
   ]
  },
  {
   "cell_type": "code",
   "execution_count": 12,
   "id": "0bcbc37e-e1f6-4df5-9e80-e9fa226685fe",
   "metadata": {},
   "outputs": [
    {
     "name": "stderr",
     "output_type": "stream",
     "text": [
      "/tmp/ipykernel_371136/2771920099.py:8: UserWarning: Using default sampling frequency set in configuration file.\n",
      "  features = tsfel.time_series_features_extractor(feature_extraction_settings, data, verbose=False)\n"
     ]
    },
    {
     "data": {
      "text/html": [
       "\n",
       "              <p>\n",
       "                  Progress: 0% Complete\n",
       "              <p/>\n",
       "              <progress\n",
       "                  value='0'\n",
       "                  max='91',\n",
       "                  style='width: 25%',\n",
       "              >\n",
       "                  0\n",
       "              </progress>\n",
       "\n",
       "    "
      ],
      "text/plain": [
       "<IPython.core.display.HTML object>"
      ]
     },
     "metadata": {},
     "output_type": "display_data"
    }
   ],
   "source": [
    "# Step 2: Extract features from time-series using TSFEL\n",
    "def extract_features(data):\n",
    "    \"\"\"Extract relevant features from time-series data using TSFEL.\"\"\"\n",
    "    # Load TSFEL feature configuration\n",
    "    feature_extraction_settings = tsfel.get_features_by_domain()\n",
    "    \n",
    "    # Extract features\n",
    "    features = tsfel.time_series_features_extractor(feature_extraction_settings, data, verbose=False)\n",
    "    return features\n",
    "\n",
    "feat = extract_features(profiles)"
   ]
  },
  {
   "cell_type": "code",
   "execution_count": 13,
   "id": "8e00f39f-b6c8-4adf-9469-daf1dbba0089",
   "metadata": {},
   "outputs": [],
   "source": [
    "## Normalize features\n",
    "scaler = MinMaxScaler()\n",
    "scaled_features = scaler.fit_transform(feat.values)"
   ]
  },
  {
   "cell_type": "code",
   "execution_count": 15,
   "id": "06554418-ab5b-44c9-b551-6102857d9caa",
   "metadata": {},
   "outputs": [
    {
     "name": "stdout",
     "output_type": "stream",
     "text": [
      "[[0.09962453 0.39817115 0.         ... 0.16096923 0.17098166 0.        ]\n",
      " [0.04438223 0.74061328 0.         ... 0.01915905 0.01348837 0.        ]\n",
      " [0.13207229 0.85670968 0.         ... 0.08826608 0.07556419 0.        ]\n",
      " ...\n",
      " [0.0553712  0.77800274 0.         ... 0.02521237 0.01662457 0.        ]\n",
      " [0.12403801 0.63428798 0.         ... 0.11934039 0.11973058 0.        ]\n",
      " [0.20064312 0.36586103 0.         ... 0.28011924 0.28959903 0.        ]]\n"
     ]
    }
   ],
   "source": [
    "print(scaled_features)"
   ]
  },
  {
   "cell_type": "code",
   "execution_count": 14,
   "id": "14398e46-5de0-4fb1-bf61-ccc868ddb830",
   "metadata": {},
   "outputs": [
    {
     "name": "stderr",
     "output_type": "stream",
     "text": [
      "/home/tylor/.cache/pypoetry/virtualenvs/profilier-6WcZE0tj-py3.12/lib/python3.12/site-packages/keras/src/layers/core/dense.py:93: UserWarning: Do not pass an `input_shape`/`input_dim` argument to a layer. When using Sequential models, prefer using an `Input(shape)` object as the first layer in the model instead.\n",
      "  super().__init__(activity_regularizer=activity_regularizer, **kwargs)\n"
     ]
    },
    {
     "ename": "ValueError",
     "evalue": "Invalid dtype: ndarray",
     "output_type": "error",
     "traceback": [
      "\u001b[31m---------------------------------------------------------------------------\u001b[39m",
      "\u001b[31mValueError\u001b[39m                                Traceback (most recent call last)",
      "\u001b[36mCell\u001b[39m\u001b[36m \u001b[39m\u001b[32mIn[14]\u001b[39m\u001b[32m, line 21\u001b[39m\n\u001b[32m     18\u001b[39m     discriminator.compile(optimizer=tf.keras.optimizers.Adam(learning_rate=\u001b[32m0.0001\u001b[39m), loss=\u001b[33m\"\u001b[39m\u001b[33mbinary_crossentropy\u001b[39m\u001b[33m\"\u001b[39m, metrics=[\u001b[33m\"\u001b[39m\u001b[33maccuracy\u001b[39m\u001b[33m\"\u001b[39m])\n\u001b[32m     19\u001b[39m     \u001b[38;5;28;01mreturn\u001b[39;00m generator, discriminator\n\u001b[32m---> \u001b[39m\u001b[32m21\u001b[39m generator, discriminator = \u001b[43mbuild_gan\u001b[49m\u001b[43m(\u001b[49m\u001b[43mscaled_features\u001b[49m\u001b[43m)\u001b[49m\n",
      "\u001b[36mCell\u001b[39m\u001b[36m \u001b[39m\u001b[32mIn[14]\u001b[39m\u001b[32m, line 5\u001b[39m, in \u001b[36mbuild_gan\u001b[39m\u001b[34m(input_dim)\u001b[39m\n\u001b[32m      3\u001b[39m \u001b[38;5;250m\u001b[39m\u001b[33;03m\"\"\"Build GAN model.\"\"\"\u001b[39;00m\n\u001b[32m      4\u001b[39m \u001b[38;5;66;03m# Generator\u001b[39;00m\n\u001b[32m----> \u001b[39m\u001b[32m5\u001b[39m generator = \u001b[43mmodels\u001b[49m\u001b[43m.\u001b[49m\u001b[43mSequential\u001b[49m\u001b[43m(\u001b[49m\u001b[43m[\u001b[49m\n\u001b[32m      6\u001b[39m \u001b[43m    \u001b[49m\u001b[43mlayers\u001b[49m\u001b[43m.\u001b[49m\u001b[43mDense\u001b[49m\u001b[43m(\u001b[49m\u001b[32;43m128\u001b[39;49m\u001b[43m,\u001b[49m\u001b[43m \u001b[49m\u001b[43mactivation\u001b[49m\u001b[43m=\u001b[49m\u001b[33;43m\"\u001b[39;49m\u001b[33;43mrelu\u001b[39;49m\u001b[33;43m\"\u001b[39;49m\u001b[43m,\u001b[49m\u001b[43m \u001b[49m\u001b[43minput_dim\u001b[49m\u001b[43m=\u001b[49m\u001b[43minput_dim\u001b[49m\u001b[43m)\u001b[49m\u001b[43m,\u001b[49m\n\u001b[32m      7\u001b[39m \u001b[43m    \u001b[49m\u001b[43mlayers\u001b[49m\u001b[43m.\u001b[49m\u001b[43mDense\u001b[49m\u001b[43m(\u001b[49m\u001b[32;43m256\u001b[39;49m\u001b[43m,\u001b[49m\u001b[43m \u001b[49m\u001b[43mactivation\u001b[49m\u001b[43m=\u001b[49m\u001b[33;43m\"\u001b[39;49m\u001b[33;43mrelu\u001b[39;49m\u001b[33;43m\"\u001b[39;49m\u001b[43m)\u001b[49m\u001b[43m,\u001b[49m\n\u001b[32m      8\u001b[39m \u001b[43m    \u001b[49m\u001b[43mlayers\u001b[49m\u001b[43m.\u001b[49m\u001b[43mDense\u001b[49m\u001b[43m(\u001b[49m\u001b[43minput_dim\u001b[49m\u001b[43m,\u001b[49m\u001b[43m \u001b[49m\u001b[43mactivation\u001b[49m\u001b[43m=\u001b[49m\u001b[33;43m\"\u001b[39;49m\u001b[33;43mtanh\u001b[39;49m\u001b[33;43m\"\u001b[39;49m\u001b[43m)\u001b[49m\u001b[43m  \u001b[49m\u001b[38;5;66;43;03m# Output shape matches the input_dim\u001b[39;49;00m\n\u001b[32m      9\u001b[39m \u001b[43m\u001b[49m\u001b[43m]\u001b[49m\u001b[43m)\u001b[49m\n\u001b[32m     11\u001b[39m \u001b[38;5;66;03m# Discriminator\u001b[39;00m\n\u001b[32m     12\u001b[39m discriminator = models.Sequential([\n\u001b[32m     13\u001b[39m     layers.Dense(\u001b[32m256\u001b[39m, activation=\u001b[33m\"\u001b[39m\u001b[33mrelu\u001b[39m\u001b[33m\"\u001b[39m, input_dim=input_dim),\n\u001b[32m     14\u001b[39m     layers.Dense(\u001b[32m128\u001b[39m, activation=\u001b[33m\"\u001b[39m\u001b[33mrelu\u001b[39m\u001b[33m\"\u001b[39m),\n\u001b[32m     15\u001b[39m     layers.Dense(\u001b[32m1\u001b[39m, activation=\u001b[33m\"\u001b[39m\u001b[33msigmoid\u001b[39m\u001b[33m\"\u001b[39m)  \u001b[38;5;66;03m# Binary classification output\u001b[39;00m\n\u001b[32m     16\u001b[39m ])\n",
      "\u001b[36mFile \u001b[39m\u001b[32m~/.cache/pypoetry/virtualenvs/profilier-6WcZE0tj-py3.12/lib/python3.12/site-packages/keras/src/models/sequential.py:75\u001b[39m, in \u001b[36mSequential.__init__\u001b[39m\u001b[34m(self, layers, trainable, name)\u001b[39m\n\u001b[32m     73\u001b[39m \u001b[38;5;28;01mif\u001b[39;00m layers:\n\u001b[32m     74\u001b[39m     \u001b[38;5;28;01mfor\u001b[39;00m layer \u001b[38;5;129;01min\u001b[39;00m layers:\n\u001b[32m---> \u001b[39m\u001b[32m75\u001b[39m         \u001b[38;5;28;43mself\u001b[39;49m\u001b[43m.\u001b[49m\u001b[43madd\u001b[49m\u001b[43m(\u001b[49m\u001b[43mlayer\u001b[49m\u001b[43m,\u001b[49m\u001b[43m \u001b[49m\u001b[43mrebuild\u001b[49m\u001b[43m=\u001b[49m\u001b[38;5;28;43;01mFalse\u001b[39;49;00m\u001b[43m)\u001b[49m\n\u001b[32m     76\u001b[39m     \u001b[38;5;28mself\u001b[39m._maybe_rebuild()\n",
      "\u001b[36mFile \u001b[39m\u001b[32m~/.cache/pypoetry/virtualenvs/profilier-6WcZE0tj-py3.12/lib/python3.12/site-packages/keras/src/models/sequential.py:88\u001b[39m, in \u001b[36mSequential.add\u001b[39m\u001b[34m(self, layer, rebuild)\u001b[39m\n\u001b[32m     86\u001b[39m \u001b[38;5;28;01mif\u001b[39;00m \u001b[38;5;129;01mnot\u001b[39;00m \u001b[38;5;28mself\u001b[39m._layers:\n\u001b[32m     87\u001b[39m     \u001b[38;5;28;01mif\u001b[39;00m \u001b[38;5;28mgetattr\u001b[39m(layer, \u001b[33m\"\u001b[39m\u001b[33m_input_shape_arg\u001b[39m\u001b[33m\"\u001b[39m, \u001b[38;5;28;01mNone\u001b[39;00m) \u001b[38;5;129;01mis\u001b[39;00m \u001b[38;5;129;01mnot\u001b[39;00m \u001b[38;5;28;01mNone\u001b[39;00m:\n\u001b[32m---> \u001b[39m\u001b[32m88\u001b[39m         \u001b[38;5;28mself\u001b[39m.add(\u001b[43mInputLayer\u001b[49m\u001b[43m(\u001b[49m\u001b[43mshape\u001b[49m\u001b[43m=\u001b[49m\u001b[43mlayer\u001b[49m\u001b[43m.\u001b[49m\u001b[43m_input_shape_arg\u001b[49m\u001b[43m)\u001b[49m)\n\u001b[32m     90\u001b[39m \u001b[38;5;66;03m# If we are passed a Keras tensor created by keras.Input(), we\u001b[39;00m\n\u001b[32m     91\u001b[39m \u001b[38;5;66;03m# extract the input layer from its keras history and use that.\u001b[39;00m\n\u001b[32m     92\u001b[39m \u001b[38;5;28;01mif\u001b[39;00m \u001b[38;5;28mhasattr\u001b[39m(layer, \u001b[33m\"\u001b[39m\u001b[33m_keras_history\u001b[39m\u001b[33m\"\u001b[39m):\n",
      "\u001b[36mFile \u001b[39m\u001b[32m~/.cache/pypoetry/virtualenvs/profilier-6WcZE0tj-py3.12/lib/python3.12/site-packages/keras/src/layers/core/input_layer.py:92\u001b[39m, in \u001b[36mInputLayer.__init__\u001b[39m\u001b[34m(self, shape, batch_size, dtype, sparse, ragged, batch_shape, input_tensor, optional, name, **kwargs)\u001b[39m\n\u001b[32m     89\u001b[39m         \u001b[38;5;28;01mraise\u001b[39;00m \u001b[38;5;167;01mValueError\u001b[39;00m(\u001b[33m\"\u001b[39m\u001b[33mYou must pass a `shape` argument.\u001b[39m\u001b[33m\"\u001b[39m)\n\u001b[32m     91\u001b[39m     \u001b[38;5;28;01mif\u001b[39;00m shape \u001b[38;5;129;01mis\u001b[39;00m \u001b[38;5;129;01mnot\u001b[39;00m \u001b[38;5;28;01mNone\u001b[39;00m:\n\u001b[32m---> \u001b[39m\u001b[32m92\u001b[39m         shape = \u001b[43mbackend\u001b[49m\u001b[43m.\u001b[49m\u001b[43mstandardize_shape\u001b[49m\u001b[43m(\u001b[49m\u001b[43mshape\u001b[49m\u001b[43m)\u001b[49m\n\u001b[32m     93\u001b[39m         batch_shape = (batch_size,) + shape\n\u001b[32m     95\u001b[39m \u001b[38;5;28mself\u001b[39m._batch_shape = backend.standardize_shape(batch_shape)\n",
      "\u001b[36mFile \u001b[39m\u001b[32m~/.cache/pypoetry/virtualenvs/profilier-6WcZE0tj-py3.12/lib/python3.12/site-packages/keras/src/backend/common/variables.py:606\u001b[39m, in \u001b[36mstandardize_shape\u001b[39m\u001b[34m(shape)\u001b[39m\n\u001b[32m    603\u001b[39m \u001b[38;5;28;01mif\u001b[39;00m config.backend() == \u001b[33m\"\u001b[39m\u001b[33mjax\u001b[39m\u001b[33m\"\u001b[39m \u001b[38;5;129;01mand\u001b[39;00m \u001b[33m\"\u001b[39m\u001b[33m_DimExpr\u001b[39m\u001b[33m\"\u001b[39m \u001b[38;5;129;01min\u001b[39;00m \u001b[38;5;28mstr\u001b[39m(\u001b[38;5;28mtype\u001b[39m(e)):\n\u001b[32m    604\u001b[39m     \u001b[38;5;66;03m# JAX2TF tracing uses JAX-native dimension expressions\u001b[39;00m\n\u001b[32m    605\u001b[39m     \u001b[38;5;28;01mcontinue\u001b[39;00m\n\u001b[32m--> \u001b[39m\u001b[32m606\u001b[39m \u001b[38;5;28;01mif\u001b[39;00m \u001b[38;5;129;01mnot\u001b[39;00m \u001b[43mis_int_dtype\u001b[49m\u001b[43m(\u001b[49m\u001b[38;5;28;43mtype\u001b[39;49m\u001b[43m(\u001b[49m\u001b[43me\u001b[49m\u001b[43m)\u001b[49m\u001b[43m)\u001b[49m:\n\u001b[32m    607\u001b[39m     \u001b[38;5;28;01mraise\u001b[39;00m \u001b[38;5;167;01mValueError\u001b[39;00m(\n\u001b[32m    608\u001b[39m         \u001b[33mf\u001b[39m\u001b[33m\"\u001b[39m\u001b[33mCannot convert \u001b[39m\u001b[33m'\u001b[39m\u001b[38;5;132;01m{\u001b[39;00mshape\u001b[38;5;132;01m}\u001b[39;00m\u001b[33m'\u001b[39m\u001b[33m to a shape. \u001b[39m\u001b[33m\"\u001b[39m\n\u001b[32m    609\u001b[39m         \u001b[33mf\u001b[39m\u001b[33m\"\u001b[39m\u001b[33mFound invalid entry \u001b[39m\u001b[33m'\u001b[39m\u001b[38;5;132;01m{\u001b[39;00me\u001b[38;5;132;01m}\u001b[39;00m\u001b[33m'\u001b[39m\u001b[33m of type \u001b[39m\u001b[33m'\u001b[39m\u001b[38;5;132;01m{\u001b[39;00m\u001b[38;5;28mtype\u001b[39m(e)\u001b[38;5;132;01m}\u001b[39;00m\u001b[33m'\u001b[39m\u001b[33m. \u001b[39m\u001b[33m\"\u001b[39m\n\u001b[32m    610\u001b[39m     )\n\u001b[32m    611\u001b[39m \u001b[38;5;28;01mif\u001b[39;00m e < \u001b[32m0\u001b[39m:\n",
      "\u001b[36mFile \u001b[39m\u001b[32m~/.cache/pypoetry/virtualenvs/profilier-6WcZE0tj-py3.12/lib/python3.12/site-packages/keras/src/backend/common/variables.py:637\u001b[39m, in \u001b[36mis_int_dtype\u001b[39m\u001b[34m(dtype)\u001b[39m\n\u001b[32m    635\u001b[39m \u001b[38;5;129m@keras_export\u001b[39m(\u001b[33m\"\u001b[39m\u001b[33mkeras.backend.is_int_dtype\u001b[39m\u001b[33m\"\u001b[39m)\n\u001b[32m    636\u001b[39m \u001b[38;5;28;01mdef\u001b[39;00m\u001b[38;5;250m \u001b[39m\u001b[34mis_int_dtype\u001b[39m(dtype):\n\u001b[32m--> \u001b[39m\u001b[32m637\u001b[39m     dtype = \u001b[43mstandardize_dtype\u001b[49m\u001b[43m(\u001b[49m\u001b[43mdtype\u001b[49m\u001b[43m)\u001b[49m\n\u001b[32m    638\u001b[39m     \u001b[38;5;28;01mreturn\u001b[39;00m dtype.startswith(\u001b[33m\"\u001b[39m\u001b[33mint\u001b[39m\u001b[33m\"\u001b[39m) \u001b[38;5;129;01mor\u001b[39;00m dtype.startswith(\u001b[33m\"\u001b[39m\u001b[33muint\u001b[39m\u001b[33m\"\u001b[39m)\n",
      "\u001b[36mFile \u001b[39m\u001b[32m~/.cache/pypoetry/virtualenvs/profilier-6WcZE0tj-py3.12/lib/python3.12/site-packages/keras/src/backend/common/variables.py:578\u001b[39m, in \u001b[36mstandardize_dtype\u001b[39m\u001b[34m(dtype)\u001b[39m\n\u001b[32m    575\u001b[39m     dtype = \u001b[38;5;28mstr\u001b[39m(dtype).split(\u001b[33m\"\u001b[39m\u001b[33m.\u001b[39m\u001b[33m\"\u001b[39m)[-\u001b[32m1\u001b[39m]\n\u001b[32m    577\u001b[39m \u001b[38;5;28;01mif\u001b[39;00m dtype \u001b[38;5;129;01mnot\u001b[39;00m \u001b[38;5;129;01min\u001b[39;00m dtypes.ALLOWED_DTYPES:\n\u001b[32m--> \u001b[39m\u001b[32m578\u001b[39m     \u001b[38;5;28;01mraise\u001b[39;00m \u001b[38;5;167;01mValueError\u001b[39;00m(\u001b[33mf\u001b[39m\u001b[33m\"\u001b[39m\u001b[33mInvalid dtype: \u001b[39m\u001b[38;5;132;01m{\u001b[39;00mdtype\u001b[38;5;132;01m}\u001b[39;00m\u001b[33m\"\u001b[39m)\n\u001b[32m    579\u001b[39m \u001b[38;5;28;01mreturn\u001b[39;00m dtype\n",
      "\u001b[31mValueError\u001b[39m: Invalid dtype: ndarray"
     ]
    }
   ],
   "source": [
    "# Step 3: Build GAN model\n",
    "def build_gan(input_dim):\n",
    "    \"\"\"Build GAN model.\"\"\"\n",
    "    # Generator\n",
    "    generator = models.Sequential([\n",
    "        layers.Dense(128, activation=\"relu\", input_dim=input_dim),\n",
    "        layers.Dense(256, activation=\"relu\"),\n",
    "        layers.Dense(input_dim, activation=\"tanh\")  # Output shape matches the input_dim\n",
    "    ])\n",
    "    \n",
    "    # Discriminator\n",
    "    discriminator = models.Sequential([\n",
    "        layers.Dense(256, activation=\"relu\", input_dim=input_dim),\n",
    "        layers.Dense(128, activation=\"relu\"),\n",
    "        layers.Dense(1, activation=\"sigmoid\")  # Binary classification output\n",
    "    ])\n",
    "    \n",
    "    discriminator.compile(optimizer=tf.keras.optimizers.Adam(learning_rate=0.0001), loss=\"binary_crossentropy\", metrics=[\"accuracy\"])\n",
    "    return generator, discriminator\n",
    "\n",
    "generator, discriminator = build_gan(scaled_features)"
   ]
  },
  {
   "cell_type": "code",
   "execution_count": null,
   "id": "e88be3fe-868e-46e0-999e-2e597a5c8b20",
   "metadata": {},
   "outputs": [],
   "source": [
    "# Step 4: Train GAN\n",
    "def train_gan(generator, discriminator, data, epochs=1000, batch_size=32):\n",
    "    \"\"\"Train the GAN to create synthetic data.\"\"\"\n",
    "    # Get input dimension\n",
    "    input_dim = data.shape[1]\n",
    "    \n",
    "    # Combine generator and discriminator to form GAN\n",
    "    discriminator.trainable = False\n",
    "    gan = models.Sequential([generator, discriminator])\n",
    "    gan.compile(optimizer=tf.keras.optimizers.Adam(learning_rate=0.0001), loss=\"binary_crossentropy\")\n",
    "    \n",
    "    # Training loop\n",
    "    for epoch in range(epochs):\n",
    "        # ---------------------------\n",
    "        # Train Discriminator\n",
    "        # ---------------------------\n",
    "        idx = np.random.randint(0, data.shape[0], batch_size)\n",
    "        real_samples = data[idx]\n",
    "        \n",
    "        noise = np.random.normal(0, 1, (batch_size, input_dim))\n",
    "        fake_samples = generator.predict(noise)\n",
    "        \n",
    "        labels_real = np.ones((batch_size, 1))\n",
    "        labels_fake = np.zeros((batch_size, 1))\n",
    "        \n",
    "        d_loss_real = discriminator.train_on_batch(real_samples, labels_real)\n",
    "        d_loss_fake = discriminator.train_on_batch(fake_samples, labels_fake)\n",
    "        d_loss = 0.5 * np.add(d_loss_real, d_loss_fake)\n",
    "        \n",
    "        # ---------------------------\n",
    "        # Train Generator (via GAN)\n",
    "        # ---------------------------\n",
    "        noise = np.random.normal(0, 1, (batch_size, input_dim))\n",
    "        labels_gan = np.ones((batch_size, 1))\n",
    "        g_loss = gan.train_on_batch(noise, labels_gan)\n",
    "        \n",
    "        # Print progress\n",
    "        if epoch % 100 == 0 or epoch == epochs - 1:\n",
    "            print(f\"Epoch {epoch}/{epochs}, Discriminator Loss: {d_loss[0]}, Generator Loss: {g_loss}\")\n",
    "    \n",
    "    return generator\n",
    "\n",
    "trained_generator = train_gan(generator, discriminator, scaled_features)"
   ]
  },
  {
   "cell_type": "code",
   "execution_count": null,
   "id": "f197450d-9938-469e-ac1c-e62804c3b1b4",
   "metadata": {},
   "outputs": [],
   "source": [
    "# Step 5: Generate synthetic data\n",
    "def generate_synthetic_data(generator, n_samples=100):\n",
    "    \"\"\"Generate synthetic data using the trained generator.\"\"\"\n",
    "    noise = np.random.normal(0, 1, (n_samples, generator.input_shape[1]))\n",
    "    synthetic_data = generator.predict(noise)\n",
    "    return synthetic_data\n",
    "\n",
    "\n",
    "# Generate synthetic features\n",
    "synthetic_features = generate_synthetic_data(trained_generator)"
   ]
  },
  {
   "cell_type": "code",
   "execution_count": null,
   "id": "27499916-814d-4dc9-a9e9-3a1cd4ea60eb",
   "metadata": {},
   "outputs": [],
   "source": [
    "# Revert normalization to original scale if needed\n",
    "synthetic_features_original_scale = scaler.inverse_transform(synthetic_features)\n",
    "\n",
    "# Visualize results\n",
    "plt.figure(figsize=(10, 6))\n",
    "plt.plot(profiles[0], label=\"Original Time Series\")\n",
    "plt.plot(synthetic_features_original_scale[0], label=\"Synthetic Time Series\")\n",
    "plt.legend()\n",
    "plt.title(\"Original vs. Synthetic Time Series\")\n",
    "plt.show()"
   ]
  },
  {
   "cell_type": "code",
   "execution_count": null,
   "id": "fe6d382a-40c8-4eae-a9fa-f63ea5390a20",
   "metadata": {},
   "outputs": [],
   "source": []
  },
  {
   "cell_type": "code",
   "execution_count": null,
   "id": "0fb714bc-05bd-4e98-9b1a-c1dc2dcf32dd",
   "metadata": {},
   "outputs": [],
   "source": []
  }
 ],
 "metadata": {
  "kernelspec": {
   "display_name": "Python 3 (ipykernel)",
   "language": "python",
   "name": "python3"
  },
  "language_info": {
   "codemirror_mode": {
    "name": "ipython",
    "version": 3
   },
   "file_extension": ".py",
   "mimetype": "text/x-python",
   "name": "python",
   "nbconvert_exporter": "python",
   "pygments_lexer": "ipython3",
   "version": "3.12.3"
  }
 },
 "nbformat": 4,
 "nbformat_minor": 5
}
