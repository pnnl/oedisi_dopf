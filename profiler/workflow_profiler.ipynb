{
 "cells": [
  {
   "cell_type": "markdown",
   "id": "f64aec67-d35d-473b-8ce8-a325734af4f5",
   "metadata": {},
   "source": [
    "# Time Series Profiler"
   ]
  },
  {
   "cell_type": "code",
   "execution_count": 2,
   "id": "cd424eb2-f684-42df-8a32-e0bc23c061be",
   "metadata": {},
   "outputs": [
    {
     "name": "stderr",
     "output_type": "stream",
     "text": [
      "2025-06-20 06:21:19.018314: I tensorflow/core/util/port.cc:113] oneDNN custom operations are on. You may see slightly different numerical results due to floating-point round-off errors from different computation orders. To turn them off, set the environment variable `TF_ENABLE_ONEDNN_OPTS=0`.\n",
      "2025-06-20 06:21:19.079533: I external/local_tsl/tsl/cuda/cudart_stub.cc:31] Could not find cuda drivers on your machine, GPU will not be used.\n",
      "2025-06-20 06:21:19.418858: E external/local_xla/xla/stream_executor/cuda/cuda_dnn.cc:9261] Unable to register cuDNN factory: Attempting to register factory for plugin cuDNN when one has already been registered\n",
      "2025-06-20 06:21:19.418990: E external/local_xla/xla/stream_executor/cuda/cuda_fft.cc:607] Unable to register cuFFT factory: Attempting to register factory for plugin cuFFT when one has already been registered\n",
      "2025-06-20 06:21:19.487169: E external/local_xla/xla/stream_executor/cuda/cuda_blas.cc:1515] Unable to register cuBLAS factory: Attempting to register factory for plugin cuBLAS when one has already been registered\n",
      "2025-06-20 06:21:19.616813: I external/local_tsl/tsl/cuda/cudart_stub.cc:31] Could not find cuda drivers on your machine, GPU will not be used.\n",
      "2025-06-20 06:21:19.618974: I tensorflow/core/platform/cpu_feature_guard.cc:182] This TensorFlow binary is optimized to use available CPU instructions in performance-critical operations.\n",
      "To enable the following instructions: AVX2 AVX_VNNI FMA, in other operations, rebuild TensorFlow with the appropriate compiler flags.\n",
      "2025-06-20 06:21:20.905288: W tensorflow/compiler/tf2tensorrt/utils/py_utils.cc:38] TF-TRT Warning: Could not find TensorRT\n",
      "2025-06-20 06:21:25.032797: I external/local_xla/xla/stream_executor/cuda/cuda_executor.cc:887] could not open file to read NUMA node: /sys/bus/pci/devices/0000:01:00.0/numa_node\n",
      "Your kernel may have been built without NUMA support.\n",
      "2025-06-20 06:21:25.035229: W tensorflow/core/common_runtime/gpu/gpu_device.cc:2256] Cannot dlopen some GPU libraries. Please make sure the missing libraries mentioned above are installed properly if you would like to use GPU. Follow the guide at https://www.tensorflow.org/install/gpu for how to download and setup the required libraries for your platform.\n",
      "Skipping registering GPU devices...\n"
     ]
    }
   ],
   "source": [
    "import os\n",
    "import tsgm\n",
    "import keras\n",
    "import numpy as np\n",
    "import pandas as pd\n",
    "import numpy as np\n",
    "import matplotlib.pyplot as plt\n",
    "import seaborn as sns"
   ]
  },
  {
   "cell_type": "markdown",
   "id": "0250fbe5-6447-4d92-b3d1-2c6f1edc91ff",
   "metadata": {},
   "source": [
    "## Select a scenario\n",
    "Set the SCENARIOS index value from the available scenarios"
   ]
  },
  {
   "cell_type": "code",
   "execution_count": 3,
   "id": "9e7012fb-820f-4d4f-a216-78a64406f067",
   "metadata": {},
   "outputs": [],
   "source": [
    "data = tsgm.utils.get_energy_data()\n",
    "data = data[0]\n",
    "\n",
    "n, m = data.shape\n",
    "window = 24*6  # hourly\n",
    "pop = n % window\n",
    "data = data[pop:]\n",
    "n, m = data.shape\n",
    "windowed = np.array(np.split(data, n/window))\n",
    "\n",
    "scaler = tsgm.utils.TSFeatureWiseScaler()\n",
    "scaled_data = scaler.fit_transform(windowed)"
   ]
  },
  {
   "cell_type": "code",
   "execution_count": null,
   "id": "9813bc79-02d5-4960-b0b2-5479bed1d5d0",
   "metadata": {},
   "outputs": [
    {
     "name": "stdout",
     "output_type": "stream",
     "text": [
      "Model: \"Autoencoder\"\n",
      "_________________________________________________________________\n",
      " Layer (type)                Output Shape              Param #   \n",
      "=================================================================\n",
      " RealData (InputLayer)       [(256, 144, 28)]          0         \n",
      "                                                                 \n",
      " Embedder (Sequential)       (256, 144, 144)           346608    \n",
      "                                                                 \n",
      " Recovery (Sequential)       (256, 144, 28)            379900    \n",
      "                                                                 \n",
      "=================================================================\n",
      "Total params: 726508 (2.77 MB)\n",
      "Trainable params: 726508 (2.77 MB)\n",
      "Non-trainable params: 0 (0.00 Byte)\n",
      "_________________________________________________________________\n",
      "Model: \"AdversarialSupervised\"\n",
      "_________________________________________________________________\n",
      " Layer (type)                Output Shape              Param #   \n",
      "=================================================================\n",
      " RandomNoise (InputLayer)    [(256, 144, 28)]          0         \n",
      "                                                                 \n",
      " Generator (Sequential)      (256, 144, 144)           346608    \n",
      "                                                                 \n",
      " Supervisor (Sequential)     (256, 144, 144)           396720    \n",
      "                                                                 \n",
      " Discriminator (Sequential)  (256, 144, 1)             375985    \n",
      "                                                                 \n",
      "=================================================================\n",
      "Total params: 1119313 (4.27 MB)\n",
      "Trainable params: 1119313 (4.27 MB)\n",
      "Non-trainable params: 0 (0.00 Byte)\n",
      "_________________________________________________________________\n",
      "Model: \"AdversarialEmbedded\"\n",
      "_________________________________________________________________\n",
      " Layer (type)                Output Shape              Param #   \n",
      "=================================================================\n",
      " RandomNoise (InputLayer)    [(256, 144, 28)]          0         \n",
      "                                                                 \n",
      " Generator (Sequential)      (256, 144, 144)           346608    \n",
      "                                                                 \n",
      " Discriminator (Sequential)  (256, 144, 1)             375985    \n",
      "                                                                 \n",
      "=================================================================\n",
      "Total params: 722593 (2.76 MB)\n",
      "Trainable params: 722593 (2.76 MB)\n",
      "Non-trainable params: 0 (0.00 Byte)\n",
      "_________________________________________________________________\n",
      "Model: \"FinalGenerator\"\n",
      "_________________________________________________________________\n",
      " Layer (type)                Output Shape              Param #   \n",
      "=================================================================\n",
      " RandomNoise (InputLayer)    [(256, 144, 28)]          0         \n",
      "                                                                 \n",
      " Generator (Sequential)      (256, 144, 144)           346608    \n",
      "                                                                 \n",
      " Supervisor (Sequential)     (256, 144, 144)           396720    \n",
      "                                                                 \n",
      " Recovery (Sequential)       (256, 144, 28)            379900    \n",
      "                                                                 \n",
      "=================================================================\n",
      "Total params: 1123228 (4.28 MB)\n",
      "Trainable params: 1123228 (4.28 MB)\n",
      "Non-trainable params: 0 (0.00 Byte)\n",
      "_________________________________________________________________\n",
      "Model: \"FinalDiscriminator\"\n",
      "_________________________________________________________________\n",
      " Layer (type)                Output Shape              Param #   \n",
      "=================================================================\n",
      " RealData (InputLayer)       [(256, 144, 28)]          0         \n",
      "                                                                 \n",
      " Embedder (Sequential)       (256, 144, 144)           346608    \n",
      "                                                                 \n",
      " Discriminator (Sequential)  (256, 144, 1)             375985    \n",
      "                                                                 \n",
      "=================================================================\n",
      "Total params: 722593 (2.76 MB)\n",
      "Trainable params: 722593 (2.76 MB)\n",
      "Non-trainable params: 0 (0.00 Byte)\n",
      "_________________________________________________________________\n"
     ]
    },
    {
     "name": "stderr",
     "output_type": "stream",
     "text": [
      "INFO:models:Start Embedding Network Training\n",
      "Autoencoder - training: 100%|███████████████████████████████████████████████████████████████████████| 100/100 [00:37<00:00,  2.65it/s]\n",
      "INFO:models:Finished Embedding Network Training\n",
      "INFO:models:Start Training with Supervised Loss Only\n",
      "Adversarial Supervised - training: 100%|████████████████████████████████████████████████████████████| 100/100 [00:27<00:00,  3.63it/s]\n",
      "INFO:models:Finished Training with Supervised Loss Only\n",
      "INFO:models:Start Joint Training\n",
      "GAN with embedding - training:   0%|                                                                          | 0/100 [00:00<?, ?it/s]INFO:models:Train Discriminator (discriminator does not work well yet)\n",
      "GAN with embedding - training:   1%|▋                                                               | 1/100 [00:36<1:00:54, 36.91s/it]INFO:models:Train Discriminator (discriminator does not work well yet)\n",
      "GAN with embedding - training:   2%|█▎                                                                | 2/100 [00:52<39:52, 24.41s/it]INFO:models:Train Discriminator (discriminator does not work well yet)\n",
      "GAN with embedding - training:   3%|█▉                                                                | 3/100 [01:07<32:46, 20.27s/it]INFO:models:Train Discriminator (discriminator does not work well yet)\n",
      "GAN with embedding - training:   4%|██▋                                                               | 4/100 [01:23<29:24, 18.39s/it]INFO:models:Train Discriminator (discriminator does not work well yet)\n",
      "GAN with embedding - training:   5%|███▎                                                              | 5/100 [01:38<27:16, 17.22s/it]INFO:models:Train Discriminator (discriminator does not work well yet)\n",
      "GAN with embedding - training:   6%|███▉                                                              | 6/100 [01:53<25:50, 16.50s/it]INFO:models:Train Discriminator (discriminator does not work well yet)\n",
      "GAN with embedding - training:   7%|████▌                                                             | 7/100 [02:09<25:07, 16.21s/it]INFO:models:Train Discriminator (discriminator does not work well yet)\n",
      "GAN with embedding - training:   8%|█████▎                                                            | 8/100 [02:25<24:42, 16.11s/it]INFO:models:Train Discriminator (discriminator does not work well yet)\n",
      "GAN with embedding - training:   9%|█████▉                                                            | 9/100 [02:41<24:18, 16.03s/it]INFO:models:Train Discriminator (discriminator does not work well yet)\n",
      "GAN with embedding - training:  10%|██████▌                                                          | 10/100 [02:57<24:06, 16.07s/it]INFO:models:Train Discriminator (discriminator does not work well yet)\n",
      "GAN with embedding - training:  11%|███████▏                                                         | 11/100 [03:12<23:24, 15.78s/it]INFO:models:Train Discriminator (discriminator does not work well yet)\n",
      "GAN with embedding - training:  12%|███████▊                                                         | 12/100 [03:27<22:45, 15.52s/it]INFO:models:Train Discriminator (discriminator does not work well yet)\n",
      "GAN with embedding - training:  13%|████████▍                                                        | 13/100 [03:45<23:43, 16.36s/it]INFO:models:Train Discriminator (discriminator does not work well yet)\n",
      "GAN with embedding - training:  14%|█████████                                                        | 14/100 [04:02<23:53, 16.67s/it]INFO:models:Train Discriminator (discriminator does not work well yet)\n",
      "GAN with embedding - training:  15%|█████████▊                                                       | 15/100 [04:19<23:42, 16.74s/it]INFO:models:Train Discriminator (discriminator does not work well yet)\n",
      "GAN with embedding - training:  16%|██████████▍                                                      | 16/100 [04:35<23:00, 16.44s/it]INFO:models:Train Discriminator (discriminator does not work well yet)\n",
      "GAN with embedding - training:  17%|███████████                                                      | 17/100 [04:50<22:19, 16.14s/it]INFO:models:Train Discriminator (discriminator does not work well yet)\n",
      "GAN with embedding - training:  18%|███████████▋                                                     | 18/100 [05:07<22:00, 16.10s/it]INFO:models:Train Discriminator (discriminator does not work well yet)\n",
      "GAN with embedding - training:  19%|████████████▎                                                    | 19/100 [05:21<21:15, 15.75s/it]INFO:models:Train Discriminator (discriminator does not work well yet)\n",
      "GAN with embedding - training:  20%|█████████████                                                    | 20/100 [05:37<20:54, 15.68s/it]INFO:models:Train Discriminator (discriminator does not work well yet)\n",
      "GAN with embedding - training:  21%|█████████████▋                                                   | 21/100 [05:52<20:28, 15.55s/it]INFO:models:Train Discriminator (discriminator does not work well yet)\n",
      "GAN with embedding - training:  22%|██████████████▎                                                  | 22/100 [06:11<21:19, 16.41s/it]INFO:models:Train Discriminator (discriminator does not work well yet)\n",
      "GAN with embedding - training:  23%|██████████████▉                                                  | 23/100 [06:26<20:44, 16.17s/it]INFO:models:Train Discriminator (discriminator does not work well yet)\n",
      "GAN with embedding - training:  24%|███████████████▌                                                 | 24/100 [06:40<19:40, 15.53s/it]INFO:models:Train Discriminator (discriminator does not work well yet)\n",
      "GAN with embedding - training:  25%|████████████████▎                                                | 25/100 [06:54<18:55, 15.14s/it]INFO:models:Train Discriminator (discriminator does not work well yet)\n",
      "GAN with embedding - training:  26%|████████████████▉                                                | 26/100 [07:11<19:19, 15.67s/it]INFO:models:Train Discriminator (discriminator does not work well yet)\n",
      "GAN with embedding - training:  27%|█████████████████▌                                               | 27/100 [07:26<18:40, 15.35s/it]INFO:models:Train Discriminator (discriminator does not work well yet)\n",
      "GAN with embedding - training:  28%|██████████████████▏                                              | 28/100 [07:42<18:44, 15.62s/it]INFO:models:Train Discriminator (discriminator does not work well yet)\n",
      "GAN with embedding - training:  29%|██████████████████▊                                              | 29/100 [07:58<18:33, 15.68s/it]INFO:models:Train Discriminator (discriminator does not work well yet)\n",
      "GAN with embedding - training:  30%|███████████████████▌                                             | 30/100 [08:16<19:00, 16.30s/it]INFO:models:Train Discriminator (discriminator does not work well yet)\n",
      "GAN with embedding - training:  31%|████████████████████▏                                            | 31/100 [08:33<18:58, 16.50s/it]INFO:models:Train Discriminator (discriminator does not work well yet)\n",
      "GAN with embedding - training:  32%|████████████████████▊                                            | 32/100 [08:49<18:44, 16.53s/it]INFO:models:Train Discriminator (discriminator does not work well yet)\n",
      "GAN with embedding - training:  33%|█████████████████████▍                                           | 33/100 [09:05<18:10, 16.28s/it]INFO:models:Train Discriminator (discriminator does not work well yet)\n",
      "GAN with embedding - training:  34%|██████████████████████                                           | 34/100 [09:25<19:09, 17.42s/it]INFO:models:Train Discriminator (discriminator does not work well yet)\n",
      "GAN with embedding - training:  35%|██████████████████████▊                                          | 35/100 [09:42<18:33, 17.14s/it]INFO:models:Train Discriminator (discriminator does not work well yet)\n",
      "GAN with embedding - training:  36%|███████████████████████▍                                         | 36/100 [10:02<19:16, 18.07s/it]INFO:models:Train Discriminator (discriminator does not work well yet)\n",
      "GAN with embedding - training:  37%|████████████████████████                                         | 37/100 [10:18<18:16, 17.40s/it]INFO:models:Train Discriminator (discriminator does not work well yet)\n",
      "GAN with embedding - training:  38%|████████████████████████▋                                        | 38/100 [10:36<18:10, 17.59s/it]"
     ]
    }
   ],
   "source": [
    "model = tsgm.models.timeGAN.TimeGAN(\n",
    "    seq_len=window,\n",
    "    module=\"gru\",\n",
    "    hidden_dim=window,\n",
    "    n_features=m,\n",
    "    n_layers=3,\n",
    "    batch_size=256,\n",
    "    gamma=1.0,\n",
    ")\n",
    "# .compile() sets all optimizers to Adam by default\n",
    "model.compile()\n",
    "\n",
    "model.fit(\n",
    "    data=scaled_data,\n",
    "    epochs=100,\n",
    ")\n",
    "\n",
    "model.save_weights(path)"
   ]
  },
  {
   "cell_type": "code",
   "execution_count": null,
   "id": "3dc77c98-7adc-4b44-b73d-dbb32ef9ad4a",
   "metadata": {},
   "outputs": [],
   "source": [
    "new_data = model.generate(n_samples=len(windowed))"
   ]
  },
  {
   "cell_type": "code",
   "execution_count": null,
   "id": "7768eb39-71da-4be7-a8bf-e9040d78e2df",
   "metadata": {},
   "outputs": [],
   "source": [
    "print(new_data[0][:,0])\n",
    "synth = scaler.inverse_transform(new_data[0])"
   ]
  },
  {
   "cell_type": "code",
   "execution_count": null,
   "id": "0fb714bc-05bd-4e98-9b1a-c1dc2dcf32dd",
   "metadata": {},
   "outputs": [],
   "source": [
    "cols = [\"Appliances\", \"lights\", \"T1\", \"RH_1\", \"T2\", \"RH_2\",\n",
    "        \"T3\", \"RH_3\",\"T4\", \"RH_4\", \"T5\", \"RH_5\", \"T6\",\n",
    "        \"RH_6\", \"T7\", \"RH_7\", \"T8\", \"RH_8\", \"T9\", \"RH_9\",\n",
    "        \"T_out\", \"Press_mm_hg\", \"RH_out\", \"Windspeed\",\n",
    "        \"Visibility\", \"Tdewpoint\", \"rv1\", \"rv2\"\n",
    "]\n",
    "\n",
    "# Plotting some generated samples. Both Synthetic and Original data are still standardized with values between [0, 1]\n",
    "fig, axes = plt.subplots(nrows=7, ncols=4, figsize=(15, 10))\n",
    "axes=axes.flatten()\n",
    "\n",
    "time = range(window)\n",
    "for j, col in enumerate(cols):\n",
    "    df = pd.DataFrame({'Real': windowed[0][:, j],\n",
    "                   'Synthetic': synth[:, j]})\n",
    "    df.plot(ax=axes[j],\n",
    "            title = col,\n",
    "            secondary_y='Synthetic data', style=['-', '--'])\n",
    "fig.tight_layout()\n",
    "\n",
    "if not os.path.exists(\"./img\"):\n",
    "    os.makedirs(\"./img\")\n",
    "plt.savefig('img/comparison_gan_outputs.png', dpi=400)"
   ]
  },
  {
   "cell_type": "code",
   "execution_count": null,
   "id": "1bb7d2a8-2dc8-4a9e-bfe1-89714bef8d35",
   "metadata": {},
   "outputs": [],
   "source": [
    "tsgm.utils.visualize_tsne_unlabeled(scaled_data, new_data, perplexity=10, markersize=100, alpha=0.5)"
   ]
  },
  {
   "cell_type": "code",
   "execution_count": null,
   "id": "a252e849-982f-4eff-a306-54f2ce05baf8",
   "metadata": {},
   "outputs": [],
   "source": []
  }
 ],
 "metadata": {
  "kernelspec": {
   "display_name": "Python 3 (ipykernel)",
   "language": "python",
   "name": "python3"
  },
  "language_info": {
   "codemirror_mode": {
    "name": "ipython",
    "version": 3
   },
   "file_extension": ".py",
   "mimetype": "text/x-python",
   "name": "python",
   "nbconvert_exporter": "python",
   "pygments_lexer": "ipython3",
   "version": "3.11.13"
  }
 },
 "nbformat": 4,
 "nbformat_minor": 5
}
